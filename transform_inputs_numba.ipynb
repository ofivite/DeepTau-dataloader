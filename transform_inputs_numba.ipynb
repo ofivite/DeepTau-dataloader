{
 "cells": [
  {
   "cell_type": "code",
   "execution_count": null,
   "metadata": {},
   "outputs": [],
   "source": [
    "import uproot\n",
    "import awkward as ak\n",
    "import numpy as np\n",
    "import pandas as pd\n",
    "import numba as nb\n",
    "import matplotlib.pyplot as plt\n",
    "\n",
    "import time\n",
    "import gc\n",
    "# from memory_profiler import profile"
   ]
  },
  {
   "cell_type": "code",
   "execution_count": null,
   "metadata": {},
   "outputs": [],
   "source": [
    "%load_ext memory_profiler\n",
    "%load_ext line_profiler\n",
    "%load_ext autoreload\n",
    "%autoreload 2"
   ]
  },
  {
   "cell_type": "markdown",
   "metadata": {},
   "source": [
    "### import global vars"
   ]
  },
  {
   "cell_type": "code",
   "execution_count": null,
   "metadata": {},
   "outputs": [],
   "source": [
    "from utils import add_vars_to_taus, get_batch_yielder"
   ]
  },
  {
   "cell_type": "code",
   "execution_count": null,
   "metadata": {},
   "outputs": [],
   "source": [
    "from transform_inputs import fill_branches, constituent_types\n",
    "from transform_inputs import grid_types, grid_dim, n_cells, cell_size\n",
    "from transform_inputs import fill_feature_tensor, sort_constituents_by_var"
   ]
  },
  {
   "cell_type": "code",
   "execution_count": 5,
   "metadata": {},
   "outputs": [
    {
     "data": {
      "text/plain": [
       "182"
      ]
     },
     "execution_count": 5,
     "metadata": {},
     "output_type": "execute_result"
    }
   ],
   "source": [
    "len(fill_branches['ele']) + len(fill_branches['muon']) + len(fill_branches['pfCand'])"
   ]
  },
  {
   "cell_type": "code",
   "execution_count": 6,
   "metadata": {},
   "outputs": [],
   "source": [
    "grid_size, grid_left, grid_right = {}, {}, {}\n",
    "for grid_type in grid_types:\n",
    "    grid_size[grid_type] = cell_size[grid_type] * n_cells[grid_type]\n",
    "    grid_left[grid_type], grid_right[grid_type] = - grid_size[grid_type] / 2, grid_size[grid_type] / 2"
   ]
  },
  {
   "cell_type": "markdown",
   "metadata": {},
   "source": [
    "### fetch data batch for tests"
   ]
  },
  {
   "cell_type": "code",
   "execution_count": 7,
   "metadata": {},
   "outputs": [],
   "source": [
    "batch_size = 500\n",
    "batch_yielder = get_batch_yielder('data/ShuffleMergeSpectral_1.root', 'taus', batch_size)"
   ]
  },
  {
   "cell_type": "code",
   "execution_count": 8,
   "metadata": {},
   "outputs": [],
   "source": [
    "for taus in batch_yielder:\n",
    "    break"
   ]
  },
  {
   "cell_type": "code",
   "execution_count": 9,
   "metadata": {},
   "outputs": [
    {
     "data": {
      "text/plain": [
       "<Array [{run: 1, lumi: 4444, ... ] type='500 * {\"run\": uint32, \"lumi\": uint32, \"...'>"
      ]
     },
     "execution_count": 9,
     "metadata": {},
     "output_type": "execute_result"
    }
   ],
   "source": [
    "taus"
   ]
  },
  {
   "cell_type": "code",
   "execution_count": null,
   "metadata": {},
   "outputs": [],
   "source": []
  },
  {
   "cell_type": "markdown",
   "metadata": {},
   "source": [
    "### tests"
   ]
  },
  {
   "cell_type": "code",
   "execution_count": 10,
   "metadata": {},
   "outputs": [],
   "source": [
    "c_type = 'pfCand'\n",
    "grid_type = 'inner'"
   ]
  },
  {
   "cell_type": "code",
   "execution_count": 11,
   "metadata": {},
   "outputs": [],
   "source": [
    "# %%timeit\n",
    "c_deta = taus[c_type]['eta'] - taus['tau_eta']\n",
    "c_dphi = taus[c_type]['phi'] - taus['tau_phi']"
   ]
  },
  {
   "cell_type": "code",
   "execution_count": 12,
   "metadata": {},
   "outputs": [],
   "source": [
    "branches = taus[c_type].fields[:40]"
   ]
  },
  {
   "cell_type": "code",
   "execution_count": 13,
   "metadata": {},
   "outputs": [],
   "source": [
    "feature_tensor = np.zeros((len(taus), n_cells[grid_type], n_cells[grid_type], len(branches)))"
   ]
  },
  {
   "cell_type": "code",
   "execution_count": 14,
   "metadata": {},
   "outputs": [],
   "source": [
    "# fill_feature_tensor(feature_tensor, 0, taus[c_type, 'pt'], c_deta, c_dphi, \n",
    "#                     grid_left[grid_type], grid_right[grid_type], cell_size[grid_type])"
   ]
  },
  {
   "cell_type": "code",
   "execution_count": 15,
   "metadata": {},
   "outputs": [],
   "source": [
    "# %%timeit\n",
    "# for i_feature, branch in enumerate(5*branches):\n",
    "#     fill_feature_tensor(feature_tensor, i_feature, taus[c_type, branch], c_deta, c_dphi, \n",
    "#                     grid_left[grid_type], grid_right[grid_type], cell_size[grid_type])"
   ]
  },
  {
   "cell_type": "code",
   "execution_count": 16,
   "metadata": {},
   "outputs": [],
   "source": [
    "fill_feature_tensor(feature_tensor, 0, taus[c_type, 'pt'], c_deta, c_dphi, grid_type,\n",
    "                    grid_left['inner'], grid_right['inner'], cell_size['inner'], \n",
    "                    grid_left['outer'], grid_right['outer'], cell_size['outer'])"
   ]
  },
  {
   "cell_type": "code",
   "execution_count": 17,
   "metadata": {},
   "outputs": [
    {
     "name": "stdout",
     "output_type": "stream",
     "text": [
      "212 ms ± 488 µs per loop (mean ± std. dev. of 7 runs, 1 loop each)\n"
     ]
    }
   ],
   "source": [
    "%%timeit\n",
    "is_inner_grid = grid_type == 'inner'\n",
    "for i_feature, branch in enumerate(5*branches):\n",
    "    fill_feature_tensor(feature_tensor, i_feature, taus[c_type, branch], c_deta, c_dphi, grid_type,\n",
    "                    grid_left['inner'], grid_right['inner'], cell_size['inner'], \n",
    "                    grid_left['outer'], grid_right['outer'], cell_size['outer'])"
   ]
  },
  {
   "cell_type": "markdown",
   "metadata": {},
   "source": [
    "### full scale"
   ]
  },
  {
   "cell_type": "code",
   "execution_count": 92,
   "metadata": {},
   "outputs": [],
   "source": [
    "batch_size = 300\n",
    "n_batches = 20\n",
    "batch_yielder = get_batch_yielder('data/ShuffleMergeSpectral_1.root', 'taus', batch_size)"
   ]
  },
  {
   "cell_type": "code",
   "execution_count": 93,
   "metadata": {},
   "outputs": [],
   "source": [
    "# dictionaries to store timing\n",
    "preprocess_times = {c_key: [] for c_key in constituent_types} \n",
    "# get_mask_times = {key: {c_key: [] for c_key in constituent_types} for key in grid_types}\n",
    "# get_fill_indices_times = {key: {c_key: [] for c_key in constituent_types} for key in grid_types}\n",
    "fill_feature_times = {key: {c_key: [] for c_key in constituent_types} for key in grid_types}\n",
    "# fill_tensor_times = {key: {c_key: [] for c_key in constituent_types} for key in grid_types}"
   ]
  },
  {
   "cell_type": "code",
   "execution_count": 94,
   "metadata": {},
   "outputs": [],
   "source": [
    "# initialize tensors to be filled \n",
    "grid_tensors = {key: {} for key in grid_types}\n",
    "for c_type in constituent_types:\n",
    "    for grid_type in grid_types:\n",
    "        grid_tensors[grid_type][c_type] = np.zeros((batch_size, n_cells[grid_type], n_cells[grid_type], len(fill_branches[c_type])))"
   ]
  },
  {
   "cell_type": "code",
   "execution_count": 95,
   "metadata": {},
   "outputs": [
    {
     "name": "stdout",
     "output_type": "stream",
     "text": [
      "returned 0th batch, time passed: 2.8568787574768066\n",
      "returned 1th batch, time passed: 0.8293776512145996\n",
      "returned 2th batch, time passed: 0.8478269577026367\n",
      "returned 3th batch, time passed: 0.8546798229217529\n",
      "returned 4th batch, time passed: 0.9080038070678711\n",
      "returned 5th batch, time passed: 0.947324275970459\n",
      "returned 6th batch, time passed: 0.8456006050109863\n",
      "returned 7th batch, time passed: 0.8417618274688721\n",
      "returned 8th batch, time passed: 0.853661298751831\n",
      "returned 9th batch, time passed: 0.8483364582061768\n",
      "returned 10th batch, time passed: 0.8479163646697998\n",
      "returned 11th batch, time passed: 0.9036984443664551\n",
      "returned 12th batch, time passed: 0.8166933059692383\n",
      "returned 13th batch, time passed: 0.8725607395172119\n",
      "returned 14th batch, time passed: 0.8176915645599365\n",
      "returned 15th batch, time passed: 0.8397336006164551\n",
      "returned 16th batch, time passed: 0.8869116306304932\n",
      "returned 17th batch, time passed: 0.8836534023284912\n",
      "returned 18th batch, time passed: 0.8472628593444824\n",
      "returned 19th batch, time passed: 0.8490605354309082\n"
     ]
    }
   ],
   "source": [
    "# %%timeit\n",
    "program_starts = time.time()\n",
    "batch_done = program_starts\n",
    "for i_batch, taus in enumerate(batch_yielder):\n",
    "    for c_type in constituent_types:\n",
    "        before_preprocessing = time.time()\n",
    "        add_vars_to_taus(taus, c_type)\n",
    "        sort_constituents_by_var(taus, c_type, 'pt', ascending=True)\n",
    "        after_preprocessing = time.time()\n",
    "        preprocess_times[c_type].append(after_preprocessing - before_preprocessing)  \n",
    "        for grid_type in grid_types:\n",
    "            is_inner_grid = grid_type == 'inner'\n",
    "            for i_feature, feature in enumerate(fill_branches[c_type]):\n",
    "                before_fill_feature = time.time()\n",
    "                fill_feature_tensor(grid_tensors[grid_type][c_type], i_feature, taus[c_type, feature],\n",
    "                                    taus[c_type, 'deta'], taus[c_type, 'dphi'], grid_type,\n",
    "                                    grid_left['inner'], grid_right['inner'], cell_size['inner'],\n",
    "                                    grid_left['outer'], grid_right['outer'], cell_size['outer'])\n",
    "#                 fill_feature_tensor(grid_tensors[grid_type][c_type], i_feature, taus[c_type, feature], \n",
    "#                                     taus[c_type, 'deta'], taus[c_type, 'dphi'], \n",
    "#                                     grid_left[grid_type], grid_right[grid_type], cell_size[grid_type])\n",
    "                after_fill_feature = time.time()\n",
    "                fill_feature_times[grid_type][c_type].append(after_fill_feature - before_fill_feature) \n",
    "#             grid_tensors[grid_type][c_type][:, 8:13, 8:13, :] = 0 \n",
    "    print(f'returned {i_batch}th batch, time passed: {after_fill_feature - batch_done}')\n",
    "    batch_done = after_fill_feature\n",
    "    if i_batch == n_batches - 1:\n",
    "        break\n",
    "program_ends = time.time()"
   ]
  },
  {
   "cell_type": "code",
   "execution_count": 96,
   "metadata": {},
   "outputs": [
    {
     "name": "stdout",
     "output_type": "stream",
     "text": [
      "Processed 20*300 taus in 19.199117183685303 seconds\n",
      "\n",
      "=== ele\n",
      "median preprocess time: 0.005929708480834961\n",
      "\n",
      "------- inner cell\n",
      "median fill_feature_tensor() time: 0.001167893409729004\n",
      "\n",
      "------- outer cell\n",
      "median fill_feature_tensor() time: 0.0011589527130126953\n",
      "\n",
      "\n",
      "=== muon\n",
      "median preprocess time: 0.005738019943237305\n",
      "\n",
      "------- inner cell\n",
      "median fill_feature_tensor() time: 0.0011625289916992188\n",
      "\n",
      "------- outer cell\n",
      "median fill_feature_tensor() time: 0.001165628433227539\n",
      "\n",
      "\n",
      "=== pfCand\n",
      "median preprocess time: 0.00626981258392334\n",
      "\n",
      "------- inner cell\n",
      "median fill_feature_tensor() time: 0.0017087459564208984\n",
      "\n",
      "------- outer cell\n",
      "median fill_feature_tensor() time: 0.002232193946838379\n",
      "\n",
      "\n"
     ]
    }
   ],
   "source": [
    "print(f'Processed {n_batches}*{batch_size} taus in {program_ends - program_starts} seconds\\n')\n",
    "for c_type in constituent_types:\n",
    "    print(f'=== {c_type}')\n",
    "    print(f'median preprocess time: {np.median(preprocess_times[c_type])}\\n')\n",
    "    for grid_type in grid_types:\n",
    "        print(f'------- {grid_type} cell')\n",
    "#         print(f'median get_grid_mask() time: {np.median(get_mask_times[grid_type][c_type])}')\n",
    "#         print(f'median get_fill_indices() time: {np.median(get_fill_indices_times[grid_type][c_type])}')\n",
    "        print(f'median fill_feature_tensor() time: {np.median(fill_feature_times[grid_type][c_type])}')\n",
    "#         print(f'median fill tensor time: {np.median(fill_tensor_times[grid_type][c_type])}')\n",
    "        print()\n",
    "    print()"
   ]
  },
  {
   "cell_type": "code",
   "execution_count": 91,
   "metadata": {},
   "outputs": [
    {
     "data": {
      "image/png": "[encoded data removed]",
      "text/plain": [
       "<Figure size 1440x720 with 6 Axes>"
      ]
     },
     "metadata": {
      "needs_background": "light"
     },
     "output_type": "display_data"
    }
   ],
   "source": [
    "f, ax = plt.subplots(len(grid_types), len(constituent_types), figsize=(20,10))\n",
    "for i, grid_type in enumerate(grid_types):\n",
    "    for j, c_type in enumerate(constituent_types):\n",
    "        ax[i,j].hist(fill_feature_times[grid_type][c_type], histtype='step', bins=100, label='fill_feature')\n",
    "        ax[i,j].set_xlabel('time per feature, s')\n",
    "        ax[i,j].set_xscale('log')\n",
    "        ax[i,j].set_xlim((1e-5, 1e0))\n",
    "        ax[i,j].set_title(f'{c_type}: {grid_type} grid')\n",
    "        ax[i,j].legend()"
   ]
  },
  {
   "cell_type": "markdown",
   "metadata": {},
   "source": [
    "* non-linear scaling with the batch_size, ~between `O(N)` and `O(log(N))`\n",
    "* ~linear with the number of batches\n",
    "* sizeable fraction of time is the uploading of a batch in between baskets"
   ]
  },
  {
   "cell_type": "code",
   "execution_count": null,
   "metadata": {},
   "outputs": [],
   "source": []
  },
  {
   "cell_type": "markdown",
   "metadata": {},
   "source": [
    "### validation"
   ]
  },
  {
   "cell_type": "code",
   "execution_count": 124,
   "metadata": {},
   "outputs": [],
   "source": [
    "# note: rerun filling step once again for 1 single batch, otherwise will get multiple fills"
   ]
  },
  {
   "cell_type": "code",
   "execution_count": 48,
   "metadata": {},
   "outputs": [],
   "source": [
    "from utils import derive_cell_indices, _derive_grid_mask"
   ]
  },
  {
   "cell_type": "code",
   "execution_count": 49,
   "metadata": {},
   "outputs": [],
   "source": [
    "grid_type = 'outer'\n",
    "c_type = 'pfCand'\n",
    "tau_i = 20\n",
    "branches = taus[c_type].fields[:50]"
   ]
  },
  {
   "cell_type": "code",
   "execution_count": 50,
   "metadata": {},
   "outputs": [],
   "source": [
    "for dim in grid_dim:\n",
    "    taus[c_type, f'{grid_type}_grid_indices_{dim}'] = derive_cell_indices(taus, c_type, grid_left[grid_type], cell_size[grid_type], dim)"
   ]
  },
  {
   "cell_type": "code",
   "execution_count": 52,
   "metadata": {},
   "outputs": [],
   "source": [
    "grid_mask = _derive_grid_mask(taus, c_type, grid_left[grid_type], grid_right[grid_type])\n",
    "# grid_mask = derive_grid_mask(taus['pfCand', 'deta'], taus['pfCand', 'dphi'], \n",
    "#                              grid_type, grid_left['inner'], grid_right['inner'], grid_left['outer'], grid_right['outer'])"
   ]
  },
  {
   "cell_type": "code",
   "execution_count": 53,
   "metadata": {},
   "outputs": [],
   "source": [
    "indices_eta = ak.values_astype(taus[c_type, f'{grid_type}_grid_indices_eta'], 'int32')[grid_mask]\n",
    "indices_phi = ak.values_astype(taus[c_type, f'{grid_type}_grid_indices_phi'], 'int32')[grid_mask]"
   ]
  },
  {
   "cell_type": "code",
   "execution_count": 54,
   "metadata": {},
   "outputs": [
    {
     "data": {
      "text/html": [
       "<div>\n",
       "<style scoped>\n",
       "    .dataframe tbody tr th:only-of-type {\n",
       "        vertical-align: middle;\n",
       "    }\n",
       "\n",
       "    .dataframe tbody tr th {\n",
       "        vertical-align: top;\n",
       "    }\n",
       "\n",
       "    .dataframe thead th {\n",
       "        text-align: right;\n",
       "    }\n",
       "</style>\n",
       "<table border=\"1\" class=\"dataframe\">\n",
       "  <thead>\n",
       "    <tr style=\"text-align: right;\">\n",
       "      <th></th>\n",
       "      <th>deta</th>\n",
       "      <th>dphi</th>\n",
       "    </tr>\n",
       "    <tr>\n",
       "      <th>entry</th>\n",
       "      <th></th>\n",
       "      <th></th>\n",
       "    </tr>\n",
       "  </thead>\n",
       "  <tbody>\n",
       "    <tr>\n",
       "      <th>0</th>\n",
       "      <td>0.135319</td>\n",
       "      <td>-0.133990</td>\n",
       "    </tr>\n",
       "    <tr>\n",
       "      <th>1</th>\n",
       "      <td>0.082949</td>\n",
       "      <td>-0.047562</td>\n",
       "    </tr>\n",
       "    <tr>\n",
       "      <th>2</th>\n",
       "      <td>-0.088443</td>\n",
       "      <td>0.004299</td>\n",
       "    </tr>\n",
       "    <tr>\n",
       "      <th>3</th>\n",
       "      <td>-0.106387</td>\n",
       "      <td>0.374525</td>\n",
       "    </tr>\n",
       "    <tr>\n",
       "      <th>4</th>\n",
       "      <td>-0.271371</td>\n",
       "      <td>0.392299</td>\n",
       "    </tr>\n",
       "    <tr>\n",
       "      <th>5</th>\n",
       "      <td>-0.314768</td>\n",
       "      <td>0.344251</td>\n",
       "    </tr>\n",
       "    <tr>\n",
       "      <th>6</th>\n",
       "      <td>0.079104</td>\n",
       "      <td>0.351960</td>\n",
       "    </tr>\n",
       "    <tr>\n",
       "      <th>7</th>\n",
       "      <td>0.188238</td>\n",
       "      <td>0.267395</td>\n",
       "    </tr>\n",
       "    <tr>\n",
       "      <th>8</th>\n",
       "      <td>-0.194464</td>\n",
       "      <td>-0.073435</td>\n",
       "    </tr>\n",
       "    <tr>\n",
       "      <th>9</th>\n",
       "      <td>0.046510</td>\n",
       "      <td>0.486923</td>\n",
       "    </tr>\n",
       "    <tr>\n",
       "      <th>10</th>\n",
       "      <td>0.408155</td>\n",
       "      <td>0.272366</td>\n",
       "    </tr>\n",
       "    <tr>\n",
       "      <th>11</th>\n",
       "      <td>0.295175</td>\n",
       "      <td>0.382440</td>\n",
       "    </tr>\n",
       "    <tr>\n",
       "      <th>12</th>\n",
       "      <td>-0.300851</td>\n",
       "      <td>0.317301</td>\n",
       "    </tr>\n",
       "    <tr>\n",
       "      <th>13</th>\n",
       "      <td>0.289865</td>\n",
       "      <td>0.143077</td>\n",
       "    </tr>\n",
       "    <tr>\n",
       "      <th>14</th>\n",
       "      <td>0.416578</td>\n",
       "      <td>-0.134679</td>\n",
       "    </tr>\n",
       "    <tr>\n",
       "      <th>15</th>\n",
       "      <td>0.002380</td>\n",
       "      <td>0.459089</td>\n",
       "    </tr>\n",
       "    <tr>\n",
       "      <th>16</th>\n",
       "      <td>-0.409619</td>\n",
       "      <td>0.213296</td>\n",
       "    </tr>\n",
       "    <tr>\n",
       "      <th>17</th>\n",
       "      <td>-0.218268</td>\n",
       "      <td>0.144055</td>\n",
       "    </tr>\n",
       "    <tr>\n",
       "      <th>18</th>\n",
       "      <td>0.293344</td>\n",
       "      <td>0.013485</td>\n",
       "    </tr>\n",
       "    <tr>\n",
       "      <th>19</th>\n",
       "      <td>0.085330</td>\n",
       "      <td>-0.043547</td>\n",
       "    </tr>\n",
       "    <tr>\n",
       "      <th>20</th>\n",
       "      <td>0.246284</td>\n",
       "      <td>0.200306</td>\n",
       "    </tr>\n",
       "    <tr>\n",
       "      <th>21</th>\n",
       "      <td>0.025086</td>\n",
       "      <td>0.498848</td>\n",
       "    </tr>\n",
       "    <tr>\n",
       "      <th>22</th>\n",
       "      <td>-0.302133</td>\n",
       "      <td>0.141220</td>\n",
       "    </tr>\n",
       "    <tr>\n",
       "      <th>23</th>\n",
       "      <td>-0.218268</td>\n",
       "      <td>0.318566</td>\n",
       "    </tr>\n",
       "    <tr>\n",
       "      <th>24</th>\n",
       "      <td>0.000000</td>\n",
       "      <td>0.000000</td>\n",
       "    </tr>\n",
       "  </tbody>\n",
       "</table>\n",
       "</div>"
      ],
      "text/plain": [
       "           deta      dphi\n",
       "entry                    \n",
       "0      0.135319 -0.133990\n",
       "1      0.082949 -0.047562\n",
       "2     -0.088443  0.004299\n",
       "3     -0.106387  0.374525\n",
       "4     -0.271371  0.392299\n",
       "5     -0.314768  0.344251\n",
       "6      0.079104  0.351960\n",
       "7      0.188238  0.267395\n",
       "8     -0.194464 -0.073435\n",
       "9      0.046510  0.486923\n",
       "10     0.408155  0.272366\n",
       "11     0.295175  0.382440\n",
       "12    -0.300851  0.317301\n",
       "13     0.289865  0.143077\n",
       "14     0.416578 -0.134679\n",
       "15     0.002380  0.459089\n",
       "16    -0.409619  0.213296\n",
       "17    -0.218268  0.144055\n",
       "18     0.293344  0.013485\n",
       "19     0.085330 -0.043547\n",
       "20     0.246284  0.200306\n",
       "21     0.025086  0.498848\n",
       "22    -0.302133  0.141220\n",
       "23    -0.218268  0.318566\n",
       "24     0.000000  0.000000"
      ]
     },
     "execution_count": 54,
     "metadata": {},
     "output_type": "execute_result"
    }
   ],
   "source": [
    "grid_coord = ak.to_pandas(taus[c_type, ['deta', 'dphi']][grid_mask][tau_i])\n",
    "grid_coord"
   ]
  },
  {
   "cell_type": "code",
   "execution_count": 55,
   "metadata": {},
   "outputs": [],
   "source": [
    "feature_i = 5"
   ]
  },
  {
   "cell_type": "code",
   "execution_count": 56,
   "metadata": {},
   "outputs": [
    {
     "name": "stdout",
     "output_type": "stream",
     "text": [
      "2 14 0.8915677070617676\n",
      "4 13 0.999053955078125\n",
      "4 16 1.000335693359375\n",
      "4 17 0.9864192605018616\n",
      "5 18 1.0298166275024414\n",
      "6 9 1.1067231893539429\n",
      "6 13 1.0829187631607056\n",
      "6 16 1.0829187631607056\n",
      "8 10 1.2127444744110107\n",
      "8 17 1.1947996616363525\n",
      "10 10 1.3011871576309204\n",
      "10 19 1.30356764793396\n",
      "11 20 1.3262734413146973\n",
      "11 20 1.347697377204895\n",
      "12 9 1.384136438369751\n",
      "12 9 1.3865169286727905\n",
      "12 17 1.3802911043167114\n",
      "13 7 1.4365062713623047\n",
      "14 15 1.4894253015518188\n",
      "15 14 1.547471523284912\n",
      "16 10 1.5945310592651367\n",
      "16 13 1.5910519361495972\n",
      "16 18 1.5963622331619263\n",
      "18 7 1.7177648544311523\n",
      "18 15 1.7093417644500732\n"
     ]
    }
   ],
   "source": [
    "# eta_indices = taus[c_type, f\"{grid_type}_grid_indices_eta\"][grid_mask][tau_i].tolist()\n",
    "# phi_indices = taus[c_type, f\"{grid_type}_grid_indices_phi\"][grid_mask][tau_i].tolist()\n",
    "vals = taus[c_type, fill_branches[c_type][feature_i]][grid_mask][tau_i]\n",
    "for x,y,v in sorted(zip(indices_eta[tau_i], indices_phi[tau_i], vals)):\n",
    "    print(x,y,v)"
   ]
  },
  {
   "cell_type": "code",
   "execution_count": 57,
   "metadata": {},
   "outputs": [
    {
     "data": {
      "text/plain": [
       "(25, 25, 25)"
      ]
     },
     "execution_count": 57,
     "metadata": {},
     "output_type": "execute_result"
    }
   ],
   "source": [
    "len(vals), len(indices_eta[tau_i]), len(indices_phi[tau_i])"
   ]
  },
  {
   "cell_type": "code",
   "execution_count": 58,
   "metadata": {},
   "outputs": [
    {
     "name": "stdout",
     "output_type": "stream",
     "text": [
      "2 14 0.8915677070617676\n",
      "4 13 0.999053955078125\n",
      "4 16 1.000335693359375\n",
      "4 17 0.9864192605018616\n",
      "5 18 1.0298166275024414\n",
      "6 9 1.1067231893539429\n",
      "6 13 1.0829187631607056\n",
      "6 16 1.0829187631607056\n",
      "8 10 1.2127444744110107\n",
      "8 17 1.1947996616363525\n",
      "10 10 1.3011871576309204\n",
      "10 19 1.30356764793396\n",
      "11 20 1.3262734413146973\n",
      "12 9 1.3865169286727905\n",
      "12 17 1.3802911043167114\n",
      "13 7 1.4365062713623047\n",
      "14 15 1.4894253015518188\n",
      "15 14 1.547471523284912\n",
      "16 10 1.5945310592651367\n",
      "16 13 1.5910519361495972\n",
      "16 18 1.5963622331619263\n",
      "18 7 1.7177648544311523\n",
      "18 15 1.7093417644500732\n"
     ]
    }
   ],
   "source": [
    "nonzero_idx_eta = np.argwhere(grid_tensors[grid_type][c_type][tau_i, :, :, feature_i])[:, 0]\n",
    "nonzero_idx_phi = np.argwhere(grid_tensors[grid_type][c_type][tau_i, :, :, feature_i])[:, 1]\n",
    "nonzero_vals = grid_tensors[grid_type][c_type][tau_i, nonzero_idx_eta, nonzero_idx_phi, feature_i]\n",
    "for x,y,v in sorted(zip(nonzero_idx_eta, nonzero_idx_phi, nonzero_vals)):\n",
    "    print(x,y,v)"
   ]
  },
  {
   "cell_type": "code",
   "execution_count": 60,
   "metadata": {},
   "outputs": [
    {
     "data": {
      "text/plain": [
       "(23, 23, 23)"
      ]
     },
     "execution_count": 60,
     "metadata": {},
     "output_type": "execute_result"
    }
   ],
   "source": [
    "len(nonzero_idx_eta), len(nonzero_idx_phi), len(nonzero_vals)"
   ]
  },
  {
   "cell_type": "code",
   "execution_count": null,
   "metadata": {},
   "outputs": [],
   "source": []
  },
  {
   "cell_type": "markdown",
   "metadata": {},
   "source": [
    "### [dev] numbatise feature/grid/c_type loops"
   ]
  },
  {
   "cell_type": "markdown",
   "metadata": {},
   "source": [
    "* try type specification in `nb.vectorize/nb.njit` in order to be able to pass strings around"
   ]
  },
  {
   "cell_type": "code",
   "execution_count": null,
   "metadata": {},
   "outputs": [],
   "source": []
  },
  {
   "cell_type": "markdown",
   "metadata": {},
   "source": [
    "### [dev] parallelising numba"
   ]
  },
  {
   "cell_type": "code",
   "execution_count": 122,
   "metadata": {},
   "outputs": [],
   "source": [
    "from numba import prange"
   ]
  },
  {
   "cell_type": "code",
   "execution_count": null,
   "metadata": {},
   "outputs": [],
   "source": []
  },
  {
   "cell_type": "markdown",
   "metadata": {},
   "source": [
    "### [dev] masking inner grid"
   ]
  },
  {
   "cell_type": "code",
   "execution_count": 104,
   "metadata": {},
   "outputs": [
    {
     "name": "stdout",
     "output_type": "stream",
     "text": [
      "4.26 ms ± 97.9 µs per loop (mean ± std. dev. of 7 runs, 100 loops each)\n"
     ]
    }
   ],
   "source": [
    "%%timeit\n",
    "grid_tensors['outer']['ele'][:, 5:15, 5:15, :] = 0"
   ]
  },
  {
   "cell_type": "code",
   "execution_count": 111,
   "metadata": {},
   "outputs": [],
   "source": [
    "@nb.njit\n",
    "def mask_inner_grid(grid_tensor):\n",
    "    for i_tau in range(grid_tensor.shape[0]):\n",
    "        for i_feature in range(grid_tensor.shape[-1]):\n",
    "            grid_tensor[i_tau, 5:15, 5:15, i_feature] = 0"
   ]
  },
  {
   "cell_type": "code",
   "execution_count": 112,
   "metadata": {},
   "outputs": [],
   "source": [
    "mask_inner_grid(grid_tensors['outer']['ele'])"
   ]
  },
  {
   "cell_type": "code",
   "execution_count": 113,
   "metadata": {},
   "outputs": [
    {
     "name": "stdout",
     "output_type": "stream",
     "text": [
      "5.85 ms ± 365 µs per loop (mean ± std. dev. of 7 runs, 100 loops each)\n"
     ]
    }
   ],
   "source": [
    "%%timeit\n",
    "mask_inner_grid(grid_tensors['outer']['ele'])"
   ]
  },
  {
   "cell_type": "code",
   "execution_count": null,
   "metadata": {},
   "outputs": [],
   "source": []
  },
  {
   "cell_type": "markdown",
   "metadata": {},
   "source": [
    "### [dev] speed up loading"
   ]
  },
  {
   "cell_type": "code",
   "execution_count": 69,
   "metadata": {},
   "outputs": [
    {
     "data": {
      "text/plain": [
       "generator"
      ]
     },
     "execution_count": 69,
     "metadata": {},
     "output_type": "execute_result"
    }
   ],
   "source": [
    "type(batch_yielder)"
   ]
  },
  {
   "cell_type": "code",
   "execution_count": 76,
   "metadata": {},
   "outputs": [],
   "source": [
    "import concurrent.futures"
   ]
  },
  {
   "cell_type": "code",
   "execution_count": null,
   "metadata": {},
   "outputs": [],
   "source": []
  },
  {
   "cell_type": "code",
   "execution_count": 104,
   "metadata": {},
   "outputs": [
    {
     "name": "stdout",
     "output_type": "stream",
     "text": [
      "377 µs ± 9.62 µs per loop (mean ± std. dev. of 7 runs, 1000 loops each)\n"
     ]
    }
   ],
   "source": [
    "%%timeit\n",
    "f = uproot.open('data/ShuffleMergeSpectral_1.root')"
   ]
  },
  {
   "cell_type": "code",
   "execution_count": 105,
   "metadata": {},
   "outputs": [
    {
     "name": "stdout",
     "output_type": "stream",
     "text": [
      "9.11 µs ± 29.1 ns per loop (mean ± std. dev. of 7 runs, 100000 loops each)\n"
     ]
    }
   ],
   "source": [
    "%%timeit\n",
    "t = f['taus']"
   ]
  },
  {
   "cell_type": "code",
   "execution_count": 106,
   "metadata": {},
   "outputs": [],
   "source": [
    "f = uproot.open('data/ShuffleMergeSpectral_1.root')\n",
    "t = f['taus']"
   ]
  },
  {
   "cell_type": "code",
   "execution_count": 147,
   "metadata": {},
   "outputs": [
    {
     "name": "stdout",
     "output_type": "stream",
     "text": [
      "431 ns ± 5.64 ns per loop (mean ± std. dev. of 7 runs, 1000000 loops each)\n"
     ]
    }
   ],
   "source": [
    "%%timeit\n",
    "batch_yielder = t.iterate('pfCand_pt', library=\"ak\", step_size=1000)"
   ]
  },
  {
   "cell_type": "code",
   "execution_count": 148,
   "metadata": {},
   "outputs": [
    {
     "name": "stdout",
     "output_type": "stream",
     "text": [
      "25.8 ns ± 0.351 ns per loop (mean ± std. dev. of 7 runs, 10000000 loops each)\n"
     ]
    }
   ],
   "source": [
    "%%timeit\n",
    "for taus_c in batch_yielder:\n",
    "    break"
   ]
  },
  {
   "cell_type": "code",
   "execution_count": 149,
   "metadata": {},
   "outputs": [
    {
     "data": {
      "text/plain": [
       "<Array [{pfCand: [{pt: 0.778}, ... pt: 1.56}]}] type='1000 * {\"pfCand\": var * {\"...'>"
      ]
     },
     "execution_count": 149,
     "metadata": {},
     "output_type": "execute_result"
    }
   ],
   "source": [
    "taus_c"
   ]
  },
  {
   "cell_type": "code",
   "execution_count": null,
   "metadata": {},
   "outputs": [],
   "source": []
  },
  {
   "cell_type": "code",
   "execution_count": 140,
   "metadata": {},
   "outputs": [
    {
     "name": "stdout",
     "output_type": "stream",
     "text": [
      "2.04 ms ± 98.4 µs per loop (mean ± std. dev. of 7 runs, 100 loops each)\n"
     ]
    }
   ],
   "source": [
    "%%timeit\n",
    "taus['pfCand', 'dummy'] = taus['pfCand', 'pt']*taus['pfCand', 'eta']"
   ]
  },
  {
   "cell_type": "code",
   "execution_count": 141,
   "metadata": {},
   "outputs": [
    {
     "ename": "KeyInFileError",
     "evalue": "not found: 'pfCand'\n\n    Available keys: 'pfCand_pt', 'pfCand_dz', 'pfCand_eta', 'pfCand_phi', 'pfCand_dxy', 'pfCand_mass', 'pfCand_time', 'pfCand_pdgId', 'run', 'npv', 'npu', 'pv_ndof', 'pfCand_tauIso', 'pfCand_fromPV', 'pfCand_charge', 'pv_x'...\n\nin file data/ShuffleMergeSpectral_1.root\nin object /taus;30",
     "output_type": "error",
     "traceback": [
      "\u001b[0;31m---------------------------------------------------------------------------\u001b[0m",
      "\u001b[0;31mKeyInFileError\u001b[0m                            Traceback (most recent call last)",
      "\u001b[0;32m<ipython-input-141-34985fa3bea5>\u001b[0m in \u001b[0;36m<module>\u001b[0;34m\u001b[0m\n\u001b[0;32m----> 1\u001b[0;31m \u001b[0mb\u001b[0m \u001b[0;34m=\u001b[0m \u001b[0mf\u001b[0m\u001b[0;34m[\u001b[0m\u001b[0;34m'taus'\u001b[0m\u001b[0;34m]\u001b[0m\u001b[0;34m[\u001b[0m\u001b[0;34m'pfCand'\u001b[0m\u001b[0;34m]\u001b[0m\u001b[0;34m\u001b[0m\u001b[0;34m\u001b[0m\u001b[0m\n\u001b[0m",
      "\u001b[0;32m/nfs/dust/cms/user/filatovo/miniconda3/envs/tau-dev/lib/python3.8/site-packages/uproot/behaviors/TBranch.py\u001b[0m in \u001b[0;36m__getitem__\u001b[0;34m(self, where)\u001b[0m\n\u001b[1;32m   1887\u001b[0m                 \u001b[0;32mreturn\u001b[0m \u001b[0mgot\u001b[0m\u001b[0;34m\u001b[0m\u001b[0;34m\u001b[0m\u001b[0m\n\u001b[1;32m   1888\u001b[0m             \u001b[0;32melse\u001b[0m\u001b[0;34m:\u001b[0m\u001b[0;34m\u001b[0m\u001b[0;34m\u001b[0m\u001b[0m\n\u001b[0;32m-> 1889\u001b[0;31m                 raise uproot.KeyInFileError(\n\u001b[0m\u001b[1;32m   1890\u001b[0m                     \u001b[0moriginal_where\u001b[0m\u001b[0;34m,\u001b[0m\u001b[0;34m\u001b[0m\u001b[0;34m\u001b[0m\u001b[0m\n\u001b[1;32m   1891\u001b[0m                     \u001b[0mkeys\u001b[0m\u001b[0;34m=\u001b[0m\u001b[0mself\u001b[0m\u001b[0;34m.\u001b[0m\u001b[0mkeys\u001b[0m\u001b[0;34m(\u001b[0m\u001b[0mrecursive\u001b[0m\u001b[0;34m=\u001b[0m\u001b[0mrecursive\u001b[0m\u001b[0;34m)\u001b[0m\u001b[0;34m,\u001b[0m\u001b[0;34m\u001b[0m\u001b[0;34m\u001b[0m\u001b[0m\n",
      "\u001b[0;31mKeyInFileError\u001b[0m: not found: 'pfCand'\n\n    Available keys: 'pfCand_pt', 'pfCand_dz', 'pfCand_eta', 'pfCand_phi', 'pfCand_dxy', 'pfCand_mass', 'pfCand_time', 'pfCand_pdgId', 'run', 'npv', 'npu', 'pv_ndof', 'pfCand_tauIso', 'pfCand_fromPV', 'pfCand_charge', 'pv_x'...\n\nin file data/ShuffleMergeSpectral_1.root\nin object /taus;30"
     ]
    }
   ],
   "source": [
    "b = f['taus'].array(['pfCand'])"
   ]
  },
  {
   "cell_type": "code",
   "execution_count": null,
   "metadata": {},
   "outputs": [],
   "source": []
  },
  {
   "cell_type": "markdown",
   "metadata": {},
   "source": [
    "### [dev] filling multiple"
   ]
  },
  {
   "cell_type": "code",
   "execution_count": 130,
   "metadata": {},
   "outputs": [],
   "source": [
    "@nb.njit\n",
    "def fill_multiple_features_tensor(tensor_to_fill, i_feature, taus_feature, c_deta, c_dphi, grid_left, grid_right, cell_size):\n",
    "    for k in range(200):\n",
    "        for i_tau in range(len(taus_feature)):\n",
    "            for i_const in range(len(taus_feature[i_tau])):\n",
    "                eta_mask = (c_deta[i_tau][i_const] > grid_left) & (c_deta[i_tau][i_const] < grid_right)\n",
    "                phi_mask = (c_dphi[i_tau][i_const] > grid_left) & (c_dphi[i_tau][i_const] < grid_right)\n",
    "                if eta_mask*phi_mask:\n",
    "                    i_eta = np.int(np.floor((c_deta[i_tau][i_const] - grid_left) / cell_size))\n",
    "                    i_phi = np.int(np.floor((c_dphi[i_tau][i_const] - grid_left) / cell_size))\n",
    "                    tensor_to_fill[i_tau, i_eta, i_phi, i_feature] = taus_feature[i_tau][i_const]"
   ]
  },
  {
   "cell_type": "code",
   "execution_count": 131,
   "metadata": {},
   "outputs": [
    {
     "ename": "NameError",
     "evalue": "name 'feature_tensor' is not defined",
     "output_type": "error",
     "traceback": [
      "\u001b[0;31m---------------------------------------------------------------------------\u001b[0m",
      "\u001b[0;31mNameError\u001b[0m                                 Traceback (most recent call last)",
      "\u001b[0;32m<ipython-input-131-0ed45482dae0>\u001b[0m in \u001b[0;36m<module>\u001b[0;34m\u001b[0m\n\u001b[0;32m----> 1\u001b[0;31m fill_multiple_features_tensor(feature_tensor, 0, taus[c_type, 'pt'], c_deta, c_dphi, \n\u001b[0m\u001b[1;32m      2\u001b[0m                     grid_left[grid_type], grid_right[grid_type], cell_size[grid_type])\n",
      "\u001b[0;31mNameError\u001b[0m: name 'feature_tensor' is not defined"
     ]
    }
   ],
   "source": [
    "fill_multiple_features_tensor(feature_tensor, 0, taus[c_type, 'pt'], c_deta, c_dphi, \n",
    "                    grid_left[grid_type], grid_right[grid_type], cell_size[grid_type])"
   ]
  },
  {
   "cell_type": "code",
   "execution_count": 50,
   "metadata": {},
   "outputs": [
    {
     "name": "stdout",
     "output_type": "stream",
     "text": [
      "11.5 ms ± 52.1 µs per loop (mean ± std. dev. of 7 runs, 100 loops each)\n"
     ]
    }
   ],
   "source": [
    "%%timeit\n",
    "fill_multiple_features_tensor(feature_tensor, 0, taus[c_type, 'pt'], c_deta, c_dphi, \n",
    "                    grid_left[grid_type], grid_right[grid_type], cell_size[grid_type])"
   ]
  },
  {
   "cell_type": "code",
   "execution_count": null,
   "metadata": {},
   "outputs": [],
   "source": []
  },
  {
   "cell_type": "code",
   "execution_count": 241,
   "metadata": {},
   "outputs": [],
   "source": [
    "@nb.njit\n",
    "def fill_tensor(taus, n_features, n_grid_cells, grid_mask, indices_eta, indices_phi):\n",
    "    grid_tensor = np.empty((len(taus), n_grid_cells, n_grid_cells, n_features))\n",
    "    for i_tau in range(len(taus)):\n",
    "        for i_const in range(len(taus[i_tau])):\n",
    "            for i_feature in range(n_features): \n",
    "                if grid_mask[i_tau][i_const]: # if mask_value = True\n",
    "                    i_eta = indices_eta[i_tau][i_const]\n",
    "                    i_phi = indices_phi[i_tau][i_const]\n",
    "                    grid_tensor[i_tau, i_eta, i_phi, i_feature] = taus[i_tau][i_const][\"0\"]\n",
    "    return grid_tensor"
   ]
  },
  {
   "cell_type": "code",
   "execution_count": 242,
   "metadata": {},
   "outputs": [
    {
     "data": {
      "text/plain": [
       "(300, 21, 21, 42)"
      ]
     },
     "execution_count": 242,
     "metadata": {},
     "output_type": "execute_result"
    }
   ],
   "source": [
    "fill_tensor(taus[c_type][branches], len(branches), n_cells[grid_type], grid_mask, indices_eta, indices_phi).shape"
   ]
  },
  {
   "cell_type": "code",
   "execution_count": 243,
   "metadata": {},
   "outputs": [
    {
     "name": "stdout",
     "output_type": "stream",
     "text": [
      "19.7 ms ± 1.59 ms per loop (mean ± std. dev. of 7 runs, 10 loops each)\n"
     ]
    }
   ],
   "source": [
    "%%timeit\n",
    "fill_tensor(taus[c_type][branches], len(branches), n_cells[grid_type], grid_mask, indices_eta, indices_phi)"
   ]
  },
  {
   "cell_type": "code",
   "execution_count": null,
   "metadata": {},
   "outputs": [],
   "source": []
  },
  {
   "cell_type": "markdown",
   "metadata": {},
   "source": [
    "### [dev] StringLiterals"
   ]
  },
  {
   "cell_type": "code",
   "execution_count": 64,
   "metadata": {},
   "outputs": [],
   "source": [
    "@nb.njit\n",
    "def test_func(ak_array, branch):\n",
    "    return ak_array[nb.literally(branch)]"
   ]
  },
  {
   "cell_type": "code",
   "execution_count": 65,
   "metadata": {},
   "outputs": [
    {
     "name": "stdout",
     "output_type": "stream",
     "text": [
      "50.6 µs ± 459 ns per loop (mean ± std. dev. of 7 runs, 10000 loops each)\n"
     ]
    }
   ],
   "source": [
    "%%timeit\n",
    "taus[c_type]['pt']"
   ]
  },
  {
   "cell_type": "code",
   "execution_count": 68,
   "metadata": {},
   "outputs": [
    {
     "name": "stdout",
     "output_type": "stream",
     "text": [
      "5.18 ms ± 102 µs per loop (mean ± std. dev. of 7 runs, 100 loops each)\n"
     ]
    }
   ],
   "source": [
    "%%timeit\n",
    "test_func(taus[c_type], \"pt\")"
   ]
  },
  {
   "cell_type": "code",
   "execution_count": null,
   "metadata": {},
   "outputs": [],
   "source": []
  },
  {
   "cell_type": "code",
   "execution_count": null,
   "metadata": {},
   "outputs": [],
   "source": []
  },
  {
   "cell_type": "markdown",
   "metadata": {},
   "source": [
    "### [dev] multithreading"
   ]
  },
  {
   "cell_type": "markdown",
   "metadata": {},
   "source": [
    "* use it explicitly\n",
    "* find out whether it can be set also implicitly (e.g. in uproot/awkward) "
   ]
  },
  {
   "cell_type": "code",
   "execution_count": null,
   "metadata": {},
   "outputs": [],
   "source": []
  },
  {
   "cell_type": "markdown",
   "metadata": {},
   "source": [
    "### some ideas"
   ]
  },
  {
   "cell_type": "markdown",
   "metadata": {},
   "source": [
    "-> can also try on GPU since awkward supports it, might be faster   \n",
    "    * CuPy"
   ]
  },
  {
   "cell_type": "code",
   "execution_count": null,
   "metadata": {},
   "outputs": [],
   "source": []
  }
 ],
 "metadata": {
  "kernelspec": {
   "display_name": "tau-dev",
   "language": "python",
   "name": "tau-dev"
  },
  "language_info": {
   "codemirror_mode": {
    "name": "ipython",
    "version": 3
   },
   "file_extension": ".py",
   "mimetype": "text/x-python",
   "name": "python",
   "nbconvert_exporter": "python",
   "pygments_lexer": "ipython3",
   "version": "3.8.5"
  }
 },
 "nbformat": 4,
 "nbformat_minor": 4
}
