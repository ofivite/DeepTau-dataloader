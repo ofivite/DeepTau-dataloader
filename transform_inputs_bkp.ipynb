{
 "cells": [
  {
   "cell_type": "code",
   "execution_count": 1,
   "metadata": {},
   "outputs": [],
   "source": [
    "import uproot\n",
    "import awkward as ak\n",
    "import numpy as np\n",
    "import pandas as pd\n",
    "import numba as nb\n",
    "import matplotlib.pyplot as plt\n",
    "\n",
    "import yaml\n",
    "import time\n",
    "import glob\n",
    "import gc\n",
    "# from memory_profiler import profile"
   ]
  },
  {
   "cell_type": "code",
   "execution_count": 2,
   "metadata": {},
   "outputs": [],
   "source": [
    "%load_ext memory_profiler\n",
    "%load_ext line_profiler\n",
    "%load_ext autoreload\n",
    "%autoreload 2"
   ]
  },
  {
   "cell_type": "markdown",
   "metadata": {},
   "source": [
    "### download data"
   ]
  },
  {
   "cell_type": "code",
   "execution_count": 3,
   "metadata": {},
   "outputs": [],
   "source": [
    "from transform_inputs import get_data"
   ]
  },
  {
   "cell_type": "code",
   "execution_count": 4,
   "metadata": {},
   "outputs": [],
   "source": [
    "# %%memit\n",
    "taus = get_data('data/ShuffleMergeSpectral_1.root', 'taus', step_size='1000 MB')\n",
    "n_taus = len(taus)"
   ]
  },
  {
   "cell_type": "code",
   "execution_count": 5,
   "metadata": {},
   "outputs": [],
   "source": [
    "tau_i = 7 # random tau index for illustrative purposes"
   ]
  },
  {
   "cell_type": "code",
   "execution_count": 6,
   "metadata": {},
   "outputs": [],
   "source": [
    "# taus\n",
    "# taus.fields"
   ]
  },
  {
   "cell_type": "code",
   "execution_count": 7,
   "metadata": {},
   "outputs": [
    {
     "data": {
      "text/plain": [
       "(<Array [28, 31, 58, 28, 37, ... 54, 40, 42, 54] type='191700 * int64'>,\n",
       " <Array [0, 0, 0, 2, 0, 0, ... 0, 0, 0, 0, 1, 0] type='191700 * int64'>,\n",
       " <Array [1, 3, 3, 0, 1, 0, ... 0, 0, 1, 0, 0, 1] type='191700 * int64'>)"
      ]
     },
     "execution_count": 7,
     "metadata": {},
     "output_type": "execute_result"
    }
   ],
   "source": [
    "ak.num(taus.pfCand_pt), ak.num(taus.ele_pt), ak.num(taus.muon_pt)"
   ]
  },
  {
   "cell_type": "markdown",
   "metadata": {},
   "source": [
    "### define the grid"
   ]
  },
  {
   "cell_type": "code",
   "execution_count": 1,
   "metadata": {},
   "outputs": [],
   "source": [
    "grid_types = ['inner', 'outer']\n",
    "grid_dim = ['eta', 'phi']\n",
    "grid_size, grid_left, grid_right = {}, {}, {}"
   ]
  },
  {
   "cell_type": "code",
   "execution_count": 2,
   "metadata": {},
   "outputs": [],
   "source": [
    "n_cells = {'inner': 11, 'outer': 21}\n",
    "cell_size = {'inner': 0.02, 'outer': 0.05}"
   ]
  },
  {
   "cell_type": "code",
   "execution_count": 10,
   "metadata": {},
   "outputs": [],
   "source": [
    "for grid_type in grid_types:\n",
    "    grid_size[grid_type] = cell_size[grid_type] * n_cells[grid_type]\n",
    "    grid_left[grid_type], grid_right[grid_type] = - grid_size[grid_type] / 2, grid_size[grid_type] / 2"
   ]
  },
  {
   "cell_type": "markdown",
   "metadata": {},
   "source": [
    "### derive constituents' features"
   ]
  },
  {
   "cell_type": "code",
   "execution_count": 11,
   "metadata": {},
   "outputs": [],
   "source": [
    "from transform_inputs import add_vars_to_taus"
   ]
  },
  {
   "cell_type": "code",
   "execution_count": 12,
   "metadata": {},
   "outputs": [],
   "source": [
    "constituent_types = ['ele', 'muon', 'pfCand']"
   ]
  },
  {
   "cell_type": "code",
   "execution_count": 13,
   "metadata": {},
   "outputs": [],
   "source": [
    "# taus.fields"
   ]
  },
  {
   "cell_type": "code",
   "execution_count": 14,
   "metadata": {},
   "outputs": [],
   "source": [
    "fill_branches = {'ele': ['ele_pt', 'ele_deta', 'ele_dphi', 'ele_mass',],\n",
    "                 'muon': ['muon_pt', 'muon_deta', 'muon_dphi', 'muon_mass',],\n",
    "                 'pfCand': [ \n",
    "                     'pfCand_jetDaughter',\n",
    "                     'pfCand_tauSignal',\n",
    "                     'pfCand_leadChargedHadrCand',\n",
    "                     'pfCand_tauIso',\n",
    "                     'pfCand_pt',\n",
    "                     'pfCand_eta',\n",
    "                     'pfCand_phi',\n",
    "                     'pfCand_mass',\n",
    "                     'pfCand_pvAssociationQuality',\n",
    "                     'pfCand_fromPV',\n",
    "                     'pfCand_puppiWeight',\n",
    "                     'pfCand_puppiWeightNoLep',\n",
    "                     'pfCand_pdgId',\n",
    "                     'pfCand_charge',\n",
    "                     'pfCand_lostInnerHits',\n",
    "                     'pfCand_numberOfPixelHits',\n",
    "                     'pfCand_numberOfHits',\n",
    "                     'pfCand_vertex_x',\n",
    "                     'pfCand_vertex_y',\n",
    "                     'pfCand_vertex_z',\n",
    "                     'pfCand_vertex_t',\n",
    "                     'pfCand_time',\n",
    "                     'pfCand_timeError',\n",
    "                     'pfCand_hasTrackDetails',\n",
    "                     'pfCand_dxy',\n",
    "                     'pfCand_dxy_error',\n",
    "                     'pfCand_dz',\n",
    "                     'pfCand_dz_error',\n",
    "                     'pfCand_track_chi2',\n",
    "                     'pfCand_track_ndof',\n",
    "                     'pfCand_caloFraction',\n",
    "                     'pfCand_hcalFraction',\n",
    "                     'pfCand_rawCaloFraction',\n",
    "                     'pfCand_rawHcalFraction',]\n",
    "                 \n",
    "                 } # branches to be stored"
   ]
  },
  {
   "cell_type": "code",
   "execution_count": 15,
   "metadata": {},
   "outputs": [],
   "source": [
    "# more features to be put here"
   ]
  },
  {
   "cell_type": "code",
   "execution_count": 16,
   "metadata": {},
   "outputs": [],
   "source": [
    "# %%timeit\n",
    "for c_type in constituent_types: \n",
    "    add_vars_to_taus(taus, c_type)"
   ]
  },
  {
   "cell_type": "code",
   "execution_count": 17,
   "metadata": {},
   "outputs": [
    {
     "data": {
      "text/plain": [
       "(0, 0, 55)"
      ]
     },
     "execution_count": 17,
     "metadata": {},
     "output_type": "execute_result"
    }
   ],
   "source": [
    "taus[tau_i]['n_ele'],  taus[tau_i]['n_muon'], taus[tau_i]['n_pfCand'],"
   ]
  },
  {
   "cell_type": "code",
   "execution_count": 18,
   "metadata": {},
   "outputs": [
    {
     "data": {
      "image/png": "[encoded data removed]",
      "text/plain": [
       "<Figure size 432x288 with 1 Axes>"
      ]
     },
     "metadata": {
      "needs_background": "light"
     },
     "output_type": "display_data"
    }
   ],
   "source": [
    "plt.hist(taus[tau_i].pfCand_deta)\n",
    "plt.show()"
   ]
  },
  {
   "cell_type": "markdown",
   "metadata": {},
   "source": [
    "### derive inner/outer grid masks"
   ]
  },
  {
   "cell_type": "code",
   "execution_count": 19,
   "metadata": {},
   "outputs": [],
   "source": [
    "from transform_inputs import derive_grid_mask"
   ]
  },
  {
   "cell_type": "code",
   "execution_count": 20,
   "metadata": {},
   "outputs": [],
   "source": [
    "# grid masks placeholder\n",
    "grid_mask_dict = {key: {} for key in grid_types}"
   ]
  },
  {
   "cell_type": "code",
   "execution_count": 21,
   "metadata": {},
   "outputs": [],
   "source": [
    "# %%timeit\n",
    "for c_type in constituent_types:\n",
    "    for grid_type in grid_types:\n",
    "        grid_mask_dict[grid_type][c_type] = derive_grid_mask(taus, c_type, grid_type)\n",
    "    taus[f'inner_grid_{c_type}_mask'] = grid_mask_dict['inner'][c_type]\n",
    "    taus[f'outer_grid_{c_type}_mask'] = grid_mask_dict['outer'][c_type] * (~grid_mask_dict['inner'][c_type])"
   ]
  },
  {
   "cell_type": "code",
   "execution_count": 22,
   "metadata": {},
   "outputs": [
    {
     "name": "stdout",
     "output_type": "stream",
     "text": [
      "ele: total 0 constituents in the inner cone for tau with i=7\n",
      "ele: total 0 constituents in the outer cone for tau with i=7\n",
      "\n",
      "muon: total 0 constituents in the inner cone for tau with i=7\n",
      "muon: total 0 constituents in the outer cone for tau with i=7\n",
      "\n",
      "pfCand: total 13 constituents in the inner cone for tau with i=7\n",
      "pfCand: total 42 constituents in the outer cone for tau with i=7\n",
      "\n"
     ]
    }
   ],
   "source": [
    "for c_type in constituent_types:  \n",
    "    for grid_type in grid_types:\n",
    "        print(f'{c_type}: total {sum(taus[f\"{grid_type}_grid_{c_type}_mask\"][tau_i])} constituents in the {grid_type} cone for tau with i={tau_i}')\n",
    "    print()"
   ]
  },
  {
   "cell_type": "code",
   "execution_count": 23,
   "metadata": {},
   "outputs": [
    {
     "name": "stdout",
     "output_type": "stream",
     "text": [
      "***************\n",
      "\n",
      "ele: total count of constituents per tau in the inner cone\n",
      "[0, 0, 0, 1, 0, 0, 1, 0, 0, 0, 1, 0, 1, 1, ... 0, 0, 0, 0, 0, 0, 0, 0, 0, 0, 0, 1, 0]\n",
      "\n",
      "ele: total count of constituents per tau in the outer cone\n",
      "[0, 0, 0, 1, 0, 0, 0, 0, 0, 1, 0, 0, 0, 0, ... 0, 0, 0, 0, 0, 0, 0, 0, 0, 0, 0, 0, 0]\n",
      "\n",
      "***************\n",
      "\n",
      "muon: total count of constituents per tau in the inner cone\n",
      "[1, 3, 2, 0, 1, 0, 0, 0, 0, 0, 0, 1, 0, 0, ... 0, 1, 1, 0, 0, 0, 0, 0, 0, 1, 0, 0, 1]\n",
      "\n",
      "muon: total count of constituents per tau in the outer cone\n",
      "[0, 0, 1, 0, 0, 0, 0, 0, 1, 0, 0, 0, 0, 0, ... 0, 0, 0, 0, 0, 0, 0, 0, 0, 0, 0, 0, 0]\n",
      "\n",
      "***************\n",
      "\n",
      "pfCand: total count of constituents per tau in the inner cone\n",
      "[1, 5, 14, 1, 3, 18, 3, 13, 1, 15, 2, 2, ... 5, 2, 7, 4, 13, 9, 9, 11, 10, 6, 3, 6]\n",
      "\n",
      "pfCand: total count of constituents per tau in the outer cone\n",
      "[27, 26, 44, 27, 34, 28, 28, 42, 27, 61, ... 24, 35, 40, 45, 36, 31, 44, 34, 39, 48]\n",
      "\n",
      "***************\n"
     ]
    }
   ],
   "source": [
    "print(15*'*')\n",
    "for c_type in constituent_types: \n",
    "    print()\n",
    "    for grid_type in grid_types:  \n",
    "        grid_mask = taus[f\"{grid_type}_grid_{c_type}_mask\"]\n",
    "        print(f'{c_type}: total count of constituents per tau in the {grid_type} cone\\n{ak.sum(grid_mask, axis=1)}')\n",
    "        print()\n",
    "    print(15*'*')"
   ]
  },
  {
   "cell_type": "markdown",
   "metadata": {},
   "source": [
    "### derive cell indices "
   ]
  },
  {
   "cell_type": "code",
   "execution_count": 24,
   "metadata": {},
   "outputs": [],
   "source": [
    "from transform_inputs import derive_cell_indices"
   ]
  },
  {
   "cell_type": "code",
   "execution_count": 25,
   "metadata": {},
   "outputs": [],
   "source": [
    "# %%timeit\n",
    "for c_type in constituent_types: \n",
    "    for grid_type in grid_types:\n",
    "        for dim in grid_dim:\n",
    "            taus[f'{grid_type}_grid_{c_type}_indices_{dim}'] = derive_cell_indices(taus, c_type, grid_type, dim)"
   ]
  },
  {
   "cell_type": "code",
   "execution_count": 26,
   "metadata": {},
   "outputs": [
    {
     "name": "stdout",
     "output_type": "stream",
     "text": [
      "***************\n",
      "\n",
      "ele: eta indices of constituents for tau with i=7 in the inner cone\n",
      "[]\n",
      "\n",
      "ele: eta indices of constituents for tau with i=7 in the outer cone\n",
      "[]\n",
      "***************\n",
      "\n",
      "muon: eta indices of constituents for tau with i=7 in the inner cone\n",
      "[]\n",
      "\n",
      "muon: eta indices of constituents for tau with i=7 in the outer cone\n",
      "[]\n",
      "***************\n",
      "\n",
      "pfCand: eta indices of constituents for tau with i=7 in the inner cone\n",
      "[5, 8, 6, 5, 5, 5, 5, 4, 4, 3, 0, 7, 9]\n",
      "\n",
      "pfCand: eta indices of constituents for tau with i=7 in the outer cone\n",
      "[15, 12, 9, 5, 10, 10, 12, 10, 18, 19, 16, ... 16, 13, 12, 11, 10, 10, 7, 6, 5, 3]\n",
      "***************\n"
     ]
    }
   ],
   "source": [
    "print(15*'*')\n",
    "for c_type in constituent_types: \n",
    "    for grid_type in grid_types:      \n",
    "        grid_mask = taus[f\"{grid_type}_grid_{c_type}_mask\"]\n",
    "        print()\n",
    "        print(f'{c_type}: eta indices of constituents for tau with i={tau_i} in the {grid_type} cone\\n{taus[f\"{grid_type}_grid_{c_type}_indices_eta\"][grid_mask][tau_i]}')\n",
    "    print(15*'*')"
   ]
  },
  {
   "cell_type": "markdown",
   "metadata": {},
   "source": [
    "### validating indices"
   ]
  },
  {
   "cell_type": "code",
   "execution_count": 27,
   "metadata": {},
   "outputs": [],
   "source": [
    "grid_type = 'outer'\n",
    "c_type = 'pfCand'\n",
    "tau_i = 10"
   ]
  },
  {
   "cell_type": "code",
   "execution_count": 28,
   "metadata": {},
   "outputs": [
    {
     "data": {
      "text/html": [
       "<div>\n",
       "<style scoped>\n",
       "    .dataframe tbody tr th:only-of-type {\n",
       "        vertical-align: middle;\n",
       "    }\n",
       "\n",
       "    .dataframe tbody tr th {\n",
       "        vertical-align: top;\n",
       "    }\n",
       "\n",
       "    .dataframe thead th {\n",
       "        text-align: right;\n",
       "    }\n",
       "</style>\n",
       "<table border=\"1\" class=\"dataframe\">\n",
       "  <thead>\n",
       "    <tr style=\"text-align: right;\">\n",
       "      <th></th>\n",
       "      <th>pfCand_deta</th>\n",
       "      <th>pfCand_dphi</th>\n",
       "    </tr>\n",
       "    <tr>\n",
       "      <th>entry</th>\n",
       "      <th></th>\n",
       "      <th></th>\n",
       "    </tr>\n",
       "  </thead>\n",
       "  <tbody>\n",
       "    <tr>\n",
       "      <th>0</th>\n",
       "      <td>0.448764</td>\n",
       "      <td>-0.175213</td>\n",
       "    </tr>\n",
       "    <tr>\n",
       "      <th>1</th>\n",
       "      <td>0.486302</td>\n",
       "      <td>-0.060366</td>\n",
       "    </tr>\n",
       "    <tr>\n",
       "      <th>2</th>\n",
       "      <td>-0.096724</td>\n",
       "      <td>-0.242806</td>\n",
       "    </tr>\n",
       "    <tr>\n",
       "      <th>3</th>\n",
       "      <td>0.156519</td>\n",
       "      <td>0.374124</td>\n",
       "    </tr>\n",
       "    <tr>\n",
       "      <th>4</th>\n",
       "      <td>0.202663</td>\n",
       "      <td>-0.382540</td>\n",
       "    </tr>\n",
       "    <tr>\n",
       "      <th>5</th>\n",
       "      <td>-0.104415</td>\n",
       "      <td>0.112392</td>\n",
       "    </tr>\n",
       "    <tr>\n",
       "      <th>6</th>\n",
       "      <td>-0.258228</td>\n",
       "      <td>0.230261</td>\n",
       "    </tr>\n",
       "    <tr>\n",
       "      <th>7</th>\n",
       "      <td>0.000508</td>\n",
       "      <td>-0.485674</td>\n",
       "    </tr>\n",
       "    <tr>\n",
       "      <th>8</th>\n",
       "      <td>0.218593</td>\n",
       "      <td>0.333297</td>\n",
       "    </tr>\n",
       "    <tr>\n",
       "      <th>9</th>\n",
       "      <td>0.184718</td>\n",
       "      <td>0.385057</td>\n",
       "    </tr>\n",
       "    <tr>\n",
       "      <th>10</th>\n",
       "      <td>0.040975</td>\n",
       "      <td>0.315912</td>\n",
       "    </tr>\n",
       "    <tr>\n",
       "      <th>11</th>\n",
       "      <td>-0.150192</td>\n",
       "      <td>0.126348</td>\n",
       "    </tr>\n",
       "  </tbody>\n",
       "</table>\n",
       "</div>"
      ],
      "text/plain": [
       "       pfCand_deta  pfCand_dphi\n",
       "entry                          \n",
       "0         0.448764    -0.175213\n",
       "1         0.486302    -0.060366\n",
       "2        -0.096724    -0.242806\n",
       "3         0.156519     0.374124\n",
       "4         0.202663    -0.382540\n",
       "5        -0.104415     0.112392\n",
       "6        -0.258228     0.230261\n",
       "7         0.000508    -0.485674\n",
       "8         0.218593     0.333297\n",
       "9         0.184718     0.385057\n",
       "10        0.040975     0.315912\n",
       "11       -0.150192     0.126348"
      ]
     },
     "execution_count": 28,
     "metadata": {},
     "output_type": "execute_result"
    }
   ],
   "source": [
    "grid_mask = taus[f'{grid_type}_grid_{c_type}_mask']\n",
    "grid_coord = ak.to_pandas(taus[[f'{c_type}_deta', f'{c_type}_dphi', ]][grid_mask][tau_i])\n",
    "grid_coord"
   ]
  },
  {
   "cell_type": "code",
   "execution_count": 29,
   "metadata": {},
   "outputs": [
    {
     "name": "stdout",
     "output_type": "stream",
     "text": [
      "19.0 6.0\n",
      "20.0 9.0\n",
      "8.0 5.0\n",
      "13.0 17.0\n",
      "14.0 2.0\n",
      "8.0 12.0\n",
      "5.0 15.0\n",
      "10.0 0.0\n",
      "14.0 17.0\n",
      "14.0 18.0\n",
      "11.0 16.0\n",
      "7.0 13.0\n"
     ]
    }
   ],
   "source": [
    "eta_indices = taus[f\"{grid_type}_grid_{c_type}_indices_eta\"][grid_mask][tau_i].tolist()\n",
    "phi_indices = taus[f\"{grid_type}_grid_{c_type}_indices_phi\"][grid_mask][tau_i].tolist()\n",
    "for i,j in zip(eta_indices, phi_indices):\n",
    "    print(i,j)"
   ]
  },
  {
   "cell_type": "code",
   "execution_count": 30,
   "metadata": {},
   "outputs": [
    {
     "data": {
      "image/png": "[encoded data removed]",
      "text/plain": [
       "<Figure size 720x720 with 1 Axes>"
      ]
     },
     "metadata": {
      "needs_background": "light"
     },
     "output_type": "display_data"
    }
   ],
   "source": [
    "fig, ax = plt.subplots(1, figsize=(10, 10))\n",
    "\n",
    "if grid_type != 'inner':\n",
    "    ax.plot([grid_left['inner'], grid_right['inner']], [grid_right['inner'], grid_right['inner']], 'r')\n",
    "    ax.plot([grid_left['inner'], grid_left['inner']], [grid_left['inner'], grid_right['inner']], 'r')\n",
    "    ax.plot([grid_left['inner'], grid_right['inner']], [grid_left['inner'], grid_left['inner']], 'r')\n",
    "    ax.plot([grid_right['inner'], grid_right['inner']], [grid_left['inner'], grid_right['inner']], 'r')\n",
    "\n",
    "ax.scatter(x=grid_coord[f'{c_type}_deta'], y=grid_coord[f'{c_type}_dphi'])\n",
    "\n",
    "ax.set_xlim(grid_left[grid_type], grid_right[grid_type])\n",
    "ax.set_ylim(grid_left[grid_type], grid_right[grid_type])\n",
    "ax.set_xticks(np.arange(grid_left[grid_type], grid_right[grid_type], cell_size[grid_type]))\n",
    "ax.set_yticks(np.arange(grid_left[grid_type], grid_right[grid_type], cell_size[grid_type]))\n",
    "\n",
    "ax.set_xlabel('eta')\n",
    "ax.set_ylabel('phi')\n",
    "ax.set_title(f'{grid_type} grid')\n",
    "\n",
    "plt.grid(b=True, which='major', color='#666666', linestyle='-') \n",
    "\n",
    "plt.show()"
   ]
  },
  {
   "cell_type": "code",
   "execution_count": null,
   "metadata": {},
   "outputs": [],
   "source": []
  },
  {
   "cell_type": "markdown",
   "metadata": {},
   "source": [
    "### fill final tensor"
   ]
  },
  {
   "cell_type": "code",
   "execution_count": 31,
   "metadata": {},
   "outputs": [],
   "source": [
    "from transform_inputs import get_grid_mask, get_fill_indices, get_fill_values"
   ]
  },
  {
   "cell_type": "code",
   "execution_count": 56,
   "metadata": {
    "collapsed": true,
    "jupyter": {
     "outputs_hidden": true
    }
   },
   "outputs": [
    {
     "data": {
      "text/plain": [
       "['run',\n",
       " 'lumi',\n",
       " 'evt',\n",
       " 'npv',\n",
       " 'rho',\n",
       " 'genEventWeight',\n",
       " 'trainingWeight',\n",
       " 'sampleType',\n",
       " 'tauType',\n",
       " 'dataset_id',\n",
       " 'dataset_group_id',\n",
       " 'npu',\n",
       " 'pv_x',\n",
       " 'pv_y',\n",
       " 'pv_z',\n",
       " 'pv_t',\n",
       " 'pv_xE',\n",
       " 'pv_yE',\n",
       " 'pv_zE',\n",
       " 'pv_tE',\n",
       " 'pv_chi2',\n",
       " 'pv_ndof',\n",
       " 'jet_index',\n",
       " 'jet_pt',\n",
       " 'jet_eta',\n",
       " 'jet_phi',\n",
       " 'jet_mass',\n",
       " 'jet_neutralHadronEnergyFraction',\n",
       " 'jet_neutralEmEnergyFraction',\n",
       " 'jet_nConstituents',\n",
       " 'jet_chargedMultiplicity',\n",
       " 'jet_neutralMultiplicity',\n",
       " 'jet_partonFlavour',\n",
       " 'jet_hadronFlavour',\n",
       " 'jet_has_gen_match',\n",
       " 'jet_gen_pt',\n",
       " 'jet_gen_eta',\n",
       " 'jet_gen_phi',\n",
       " 'jet_gen_mass',\n",
       " 'jet_gen_n_b',\n",
       " 'jet_gen_n_c',\n",
       " 'jetTauMatch',\n",
       " 'tau_index',\n",
       " 'tau_pt',\n",
       " 'tau_eta',\n",
       " 'tau_phi',\n",
       " 'tau_mass',\n",
       " 'tau_charge',\n",
       " 'lepton_gen_match',\n",
       " 'lepton_gen_charge',\n",
       " 'lepton_gen_pt',\n",
       " 'lepton_gen_eta',\n",
       " 'lepton_gen_phi',\n",
       " 'lepton_gen_mass',\n",
       " 'lepton_gen_firstCopy_pt',\n",
       " 'lepton_gen_firstCopy_eta',\n",
       " 'lepton_gen_firstCopy_phi',\n",
       " 'lepton_gen_firstCopy_mass',\n",
       " 'lepton_gen_vis_pdg',\n",
       " 'lepton_gen_vis_pt',\n",
       " 'lepton_gen_vis_eta',\n",
       " 'lepton_gen_vis_phi',\n",
       " 'lepton_gen_vis_mass',\n",
       " 'lepton_gen_vis_rad_pdg',\n",
       " 'lepton_gen_vis_rad_pt',\n",
       " 'lepton_gen_vis_rad_eta',\n",
       " 'lepton_gen_vis_rad_phi',\n",
       " 'lepton_gen_vis_rad_mass',\n",
       " 'qcd_gen_match',\n",
       " 'qcd_gen_charge',\n",
       " 'qcd_gen_pt',\n",
       " 'qcd_gen_eta',\n",
       " 'qcd_gen_phi',\n",
       " 'qcd_gen_mass',\n",
       " 'tau_decayMode',\n",
       " 'tau_decayModeFinding',\n",
       " 'tau_decayModeFindingNewDMs',\n",
       " 'chargedIsoPtSum',\n",
       " 'chargedIsoPtSumdR03',\n",
       " 'footprintCorrection',\n",
       " 'footprintCorrectiondR03',\n",
       " 'neutralIsoPtSum',\n",
       " 'neutralIsoPtSumWeight',\n",
       " 'neutralIsoPtSumWeightdR03',\n",
       " 'neutralIsoPtSumdR03',\n",
       " 'photonPtSumOutsideSignalCone',\n",
       " 'photonPtSumOutsideSignalConedR03',\n",
       " 'puCorrPtSum',\n",
       " 'byCombinedIsolationDeltaBetaCorr3Hits',\n",
       " 'byCombinedIsolationDeltaBetaCorr3Hitsraw',\n",
       " 'byDeepTau2017v2p1VSe',\n",
       " 'byDeepTau2017v2p1VSeraw',\n",
       " 'byDeepTau2017v2p1VSmu',\n",
       " 'byDeepTau2017v2p1VSmuraw',\n",
       " 'byDeepTau2017v2p1VSjet',\n",
       " 'byDeepTau2017v2p1VSjetraw',\n",
       " 'byIsolationMVArun2017v2DBoldDMwLT2017',\n",
       " 'byIsolationMVArun2017v2DBoldDMwLT2017raw',\n",
       " 'byIsolationMVArun2017v2DBnewDMwLT2017',\n",
       " 'byIsolationMVArun2017v2DBnewDMwLT2017raw',\n",
       " 'byIsolationMVArun2017v2DBoldDMdR0p3wLT2017',\n",
       " 'byIsolationMVArun2017v2DBoldDMdR0p3wLT2017raw',\n",
       " 'byIsolationMVADBnewDMwLTPhase2',\n",
       " 'byIsolationMVADBnewDMwLTPhase2raw',\n",
       " 'tau_dxy_pca_x',\n",
       " 'tau_dxy_pca_y',\n",
       " 'tau_dxy_pca_z',\n",
       " 'tau_dxy',\n",
       " 'tau_dxy_error',\n",
       " 'tau_ip3d',\n",
       " 'tau_ip3d_error',\n",
       " 'tau_dz',\n",
       " 'tau_dz_error',\n",
       " 'tau_hasSecondaryVertex',\n",
       " 'tau_sv_x',\n",
       " 'tau_sv_y',\n",
       " 'tau_sv_z',\n",
       " 'tau_flightLength_x',\n",
       " 'tau_flightLength_y',\n",
       " 'tau_flightLength_z',\n",
       " 'tau_flightLength_sig',\n",
       " 'tau_pt_weighted_deta_strip',\n",
       " 'tau_pt_weighted_dphi_strip',\n",
       " 'tau_pt_weighted_dr_signal',\n",
       " 'tau_pt_weighted_dr_iso',\n",
       " 'tau_leadingTrackNormChi2',\n",
       " 'tau_e_ratio',\n",
       " 'tau_gj_angle_diff',\n",
       " 'tau_n_photons',\n",
       " 'tau_emFraction',\n",
       " 'tau_inside_ecal_crack',\n",
       " 'leadChargedCand_etaAtEcalEntrance',\n",
       " 'pfCand_jetDaughter',\n",
       " 'pfCand_tauSignal',\n",
       " 'pfCand_leadChargedHadrCand',\n",
       " 'pfCand_tauIso',\n",
       " 'pfCand_pt',\n",
       " 'pfCand_eta',\n",
       " 'pfCand_phi',\n",
       " 'pfCand_mass',\n",
       " 'pfCand_pvAssociationQuality',\n",
       " 'pfCand_fromPV',\n",
       " 'pfCand_puppiWeight',\n",
       " 'pfCand_puppiWeightNoLep',\n",
       " 'pfCand_pdgId',\n",
       " 'pfCand_charge',\n",
       " 'pfCand_lostInnerHits',\n",
       " 'pfCand_numberOfPixelHits',\n",
       " 'pfCand_numberOfHits',\n",
       " 'pfCand_vertex_x',\n",
       " 'pfCand_vertex_y',\n",
       " 'pfCand_vertex_z',\n",
       " 'pfCand_vertex_t',\n",
       " 'pfCand_time',\n",
       " 'pfCand_timeError',\n",
       " 'pfCand_hasTrackDetails',\n",
       " 'pfCand_dxy',\n",
       " 'pfCand_dxy_error',\n",
       " 'pfCand_dz',\n",
       " 'pfCand_dz_error',\n",
       " 'pfCand_track_chi2',\n",
       " 'pfCand_track_ndof',\n",
       " 'pfCand_caloFraction',\n",
       " 'pfCand_hcalFraction',\n",
       " 'pfCand_rawCaloFraction',\n",
       " 'pfCand_rawHcalFraction',\n",
       " 'ele_pt',\n",
       " 'ele_eta',\n",
       " 'ele_phi',\n",
       " 'ele_mass',\n",
       " 'ele_cc_ele_energy',\n",
       " 'ele_cc_gamma_energy',\n",
       " 'ele_cc_n_gamma',\n",
       " 'ele_dxy',\n",
       " 'ele_dxy_error',\n",
       " 'ele_ip3d',\n",
       " 'ele_trackMomentumAtVtx',\n",
       " 'ele_trackMomentumAtCalo',\n",
       " 'ele_trackMomentumOut',\n",
       " 'ele_trackMomentumAtEleClus',\n",
       " 'ele_trackMomentumAtVtxWithConstraint',\n",
       " 'ele_ecalEnergy',\n",
       " 'ele_ecalEnergy_error',\n",
       " 'ele_eSuperClusterOverP',\n",
       " 'ele_eSeedClusterOverP',\n",
       " 'ele_eSeedClusterOverPout',\n",
       " 'ele_eEleClusterOverPout',\n",
       " 'ele_deltaEtaSuperClusterTrackAtVtx',\n",
       " 'ele_deltaEtaSeedClusterTrackAtCalo',\n",
       " 'ele_deltaEtaEleClusterTrackAtCalo',\n",
       " 'ele_deltaEtaSeedClusterTrackAtVtx',\n",
       " 'ele_deltaPhiEleClusterTrackAtCalo',\n",
       " 'ele_deltaPhiSuperClusterTrackAtVtx',\n",
       " 'ele_deltaPhiSeedClusterTrackAtCalo',\n",
       " 'ele_mvaInput_earlyBrem',\n",
       " 'ele_mvaInput_lateBrem',\n",
       " 'ele_mvaInput_sigmaEtaEta',\n",
       " 'ele_mvaInput_hadEnergy',\n",
       " 'ele_mvaInput_deltaEta',\n",
       " 'ele_gsfTrack_normalizedChi2',\n",
       " 'ele_gsfTrack_numberOfValidHits',\n",
       " 'ele_gsfTrack_pt',\n",
       " 'ele_gsfTrack_pt_error',\n",
       " 'ele_closestCtfTrack_normalizedChi2',\n",
       " 'ele_closestCtfTrack_numberOfValidHits',\n",
       " 'ele_sigmaEtaEta',\n",
       " 'ele_sigmaIetaIeta',\n",
       " 'ele_sigmaIphiIphi',\n",
       " 'ele_sigmaIetaIphi',\n",
       " 'ele_e1x5',\n",
       " 'ele_e2x5Max',\n",
       " 'ele_e5x5',\n",
       " 'ele_r9',\n",
       " 'ele_hcalDepth1OverEcal',\n",
       " 'ele_hcalDepth2OverEcal',\n",
       " 'ele_hcalDepth1OverEcalBc',\n",
       " 'ele_hcalDepth2OverEcalBc',\n",
       " 'ele_eLeft',\n",
       " 'ele_eRight',\n",
       " 'ele_eBottom',\n",
       " 'ele_eTop',\n",
       " 'ele_full5x5_sigmaEtaEta',\n",
       " 'ele_full5x5_sigmaIetaIeta',\n",
       " 'ele_full5x5_sigmaIphiIphi',\n",
       " 'ele_full5x5_sigmaIetaIphi',\n",
       " 'ele_full5x5_e1x5',\n",
       " 'ele_full5x5_e2x5Max',\n",
       " 'ele_full5x5_e5x5',\n",
       " 'ele_full5x5_r9',\n",
       " 'ele_full5x5_hcalDepth1OverEcal',\n",
       " 'ele_full5x5_hcalDepth2OverEcal',\n",
       " 'ele_full5x5_hcalDepth1OverEcalBc',\n",
       " 'ele_full5x5_hcalDepth2OverEcalBc',\n",
       " 'ele_full5x5_eLeft',\n",
       " 'ele_full5x5_eRight',\n",
       " 'ele_full5x5_eBottom',\n",
       " 'ele_full5x5_eTop',\n",
       " 'ele_full5x5_e2x5Left',\n",
       " 'ele_full5x5_e2x5Right',\n",
       " 'ele_full5x5_e2x5Bottom',\n",
       " 'ele_full5x5_e2x5Top',\n",
       " 'ele_hgcal_sigmaUU',\n",
       " 'ele_hgcal_sigmaVV',\n",
       " 'ele_hgcal_sigmaEE',\n",
       " 'ele_hgcal_sigmaPP',\n",
       " 'ele_hgcal_nLayers',\n",
       " 'ele_hgcal_firstLayer',\n",
       " 'ele_hgcal_lastLayer',\n",
       " 'ele_hgcal_layerEfrac10',\n",
       " 'ele_hgcal_layerEfrac90',\n",
       " 'ele_hgcal_e4oEtot',\n",
       " 'ele_hgcal_ecEnergy',\n",
       " 'ele_hgcal_ecEnergyEE',\n",
       " 'ele_hgcal_ecEnergyFH',\n",
       " 'ele_hgcal_ecEnergyBH',\n",
       " 'ele_hgcal_ecEt',\n",
       " 'ele_hgcal_ecOrigEnergy',\n",
       " 'ele_hgcal_ecOrigEt',\n",
       " 'ele_hgcal_caloIsoRing0',\n",
       " 'ele_hgcal_caloIsoRing1',\n",
       " 'ele_hgcal_caloIsoRing2',\n",
       " 'ele_hgcal_caloIsoRing3',\n",
       " 'ele_hgcal_caloIsoRing4',\n",
       " 'ele_hgcal_depthCompatibility',\n",
       " 'ele_hgcal_expectedDepth',\n",
       " 'ele_hgcal_expectedSigma',\n",
       " 'ele_hgcal_measuredDepth',\n",
       " 'ele_hgcal_pcaAxisX',\n",
       " 'ele_hgcal_pcaAxisY',\n",
       " 'ele_hgcal_pcaAxisZ',\n",
       " 'ele_hgcal_pcaPositionX',\n",
       " 'ele_hgcal_pcaPositionY',\n",
       " 'ele_hgcal_pcaPositionZ',\n",
       " 'ele_hgcal_pcaEig1',\n",
       " 'ele_hgcal_pcaEig2',\n",
       " 'ele_hgcal_pcaEig3',\n",
       " 'ele_hgcal_pcaSig1',\n",
       " 'ele_hgcal_pcaSig2',\n",
       " 'ele_hgcal_pcaSig3',\n",
       " 'muon_pt',\n",
       " 'muon_eta',\n",
       " 'muon_phi',\n",
       " 'muon_mass',\n",
       " 'muon_dxy',\n",
       " 'muon_dxy_error',\n",
       " 'muon_normalizedChi2',\n",
       " 'muon_numberOfValidHits',\n",
       " 'muon_segmentCompatibility',\n",
       " 'muon_caloCompatibility',\n",
       " 'muon_pfEcalEnergy',\n",
       " 'muon_type',\n",
       " 'muon_n_matches_DT_1',\n",
       " 'muon_n_matches_DT_2',\n",
       " 'muon_n_matches_DT_3',\n",
       " 'muon_n_matches_DT_4',\n",
       " 'muon_n_matches_CSC_1',\n",
       " 'muon_n_matches_CSC_2',\n",
       " 'muon_n_matches_CSC_3',\n",
       " 'muon_n_matches_CSC_4',\n",
       " 'muon_n_matches_RPC_1',\n",
       " 'muon_n_matches_RPC_2',\n",
       " 'muon_n_matches_RPC_3',\n",
       " 'muon_n_matches_RPC_4',\n",
       " 'muon_n_matches_GEM_1',\n",
       " 'muon_n_matches_GEM_2',\n",
       " 'muon_n_matches_GEM_3',\n",
       " 'muon_n_matches_GEM_4',\n",
       " 'muon_n_matches_ME0_1',\n",
       " 'muon_n_matches_ME0_2',\n",
       " 'muon_n_matches_ME0_3',\n",
       " 'muon_n_matches_ME0_4',\n",
       " 'muon_n_hits_DT_1',\n",
       " 'muon_n_hits_DT_2',\n",
       " 'muon_n_hits_DT_3',\n",
       " 'muon_n_hits_DT_4',\n",
       " 'muon_n_hits_CSC_1',\n",
       " 'muon_n_hits_CSC_2',\n",
       " 'muon_n_hits_CSC_3',\n",
       " 'muon_n_hits_CSC_4',\n",
       " 'muon_n_hits_RPC_1',\n",
       " 'muon_n_hits_RPC_2',\n",
       " 'muon_n_hits_RPC_3',\n",
       " 'muon_n_hits_RPC_4',\n",
       " 'muon_n_hits_GEM_1',\n",
       " 'muon_n_hits_GEM_2',\n",
       " 'muon_n_hits_GEM_3',\n",
       " 'muon_n_hits_GEM_4',\n",
       " 'muon_n_hits_ME0_1',\n",
       " 'muon_n_hits_ME0_2',\n",
       " 'muon_n_hits_ME0_3',\n",
       " 'muon_n_hits_ME0_4',\n",
       " 'track_pt',\n",
       " 'track_eta',\n",
       " 'track_phi',\n",
       " 'track_fromPV',\n",
       " 'track_charge',\n",
       " 'track_dxy',\n",
       " 'track_dxy_error',\n",
       " 'track_dz',\n",
       " 'track_dz_error',\n",
       " 'track_isHighPurityTrack',\n",
       " 'track_isTightTrack',\n",
       " 'track_isLooseTrack',\n",
       " 'track_dEdxStrip',\n",
       " 'track_dEdxPixel',\n",
       " 'track_deltaEta',\n",
       " 'track_deltaPhi',\n",
       " 'track_n_ValidHits',\n",
       " 'track_n_BadHits',\n",
       " 'track_n_TimingHits',\n",
       " 'track_n_ValidTimingHits',\n",
       " 'track_n_LostTimingHits',\n",
       " 'track_n_MuonHits',\n",
       " 'track_n_ValidMuonHits',\n",
       " 'track_n_LostMuonHits',\n",
       " 'track_n_BadMuonHits',\n",
       " 'track_n_ValidMuonDTHits',\n",
       " 'track_n_LostMuonDTHits',\n",
       " 'track_n_BadMuonDTHits',\n",
       " 'track_n_ValidMuonCSCHits',\n",
       " 'track_n_LostMuonCSCHits',\n",
       " 'track_n_BadMuonCSCHits',\n",
       " 'track_n_ValidMuonRPCHits',\n",
       " 'track_n_LostMuonRPCHits',\n",
       " 'track_n_BadMuonRPCHits',\n",
       " 'track_n_ValidMuonGEMHits',\n",
       " 'track_n_LostMuonGEMHits',\n",
       " 'track_n_BadMuonGEMHits',\n",
       " 'track_n_ValidMuonME0Hits',\n",
       " 'track_n_LostMuonME0Hits',\n",
       " 'track_n_BadMuonME0Hits',\n",
       " 'track_n_InactiveHits',\n",
       " 'track_n_AllHits_TRACK',\n",
       " 'track_n_AllHits_MISSING_INNER',\n",
       " 'track_n_AllHits_MISSING_OUTER',\n",
       " 'track_n_LostHits_TRACK',\n",
       " 'track_n_LostHits_MISSING_INNER',\n",
       " 'track_n_LostHits_MISSING_OUTER',\n",
       " 'track_n_ValidPixelHits',\n",
       " 'track_n_ValidStripHits',\n",
       " 'track_n_LostPixelHits_TRACK',\n",
       " 'track_n_LostPixelHits_MISSING_INNER',\n",
       " 'track_n_LostPixelHits_MISSING_OUTER',\n",
       " 'track_n_LostStripHits_TRACK',\n",
       " 'track_n_LostStripHits_MISSING_INNER',\n",
       " 'track_n_LostStripHits_MISSING_OUTER',\n",
       " 'n_ele',\n",
       " 'ele_dphi',\n",
       " 'ele_deta',\n",
       " 'n_muon',\n",
       " 'muon_dphi',\n",
       " 'muon_deta',\n",
       " 'n_pfCand',\n",
       " 'pfCand_dphi',\n",
       " 'pfCand_deta',\n",
       " 'inner_grid_ele_mask',\n",
       " 'outer_grid_ele_mask',\n",
       " 'inner_grid_muon_mask',\n",
       " 'outer_grid_muon_mask',\n",
       " 'inner_grid_pfCand_mask',\n",
       " 'outer_grid_pfCand_mask',\n",
       " 'inner_grid_ele_indices_eta',\n",
       " 'inner_grid_ele_indices_phi',\n",
       " 'outer_grid_ele_indices_eta',\n",
       " 'outer_grid_ele_indices_phi',\n",
       " 'inner_grid_muon_indices_eta',\n",
       " 'inner_grid_muon_indices_phi',\n",
       " 'outer_grid_muon_indices_eta',\n",
       " 'outer_grid_muon_indices_phi',\n",
       " 'inner_grid_pfCand_indices_eta',\n",
       " 'inner_grid_pfCand_indices_phi',\n",
       " 'outer_grid_pfCand_indices_eta',\n",
       " 'outer_grid_pfCand_indices_phi']"
      ]
     },
     "execution_count": 56,
     "metadata": {},
     "output_type": "execute_result"
    }
   ],
   "source": [
    "taus.fields"
   ]
  },
  {
   "cell_type": "code",
   "execution_count": 32,
   "metadata": {},
   "outputs": [],
   "source": [
    "fill_branches = {'ele': ['ele_pt', 'ele_deta', 'ele_dphi', 'ele_mass',\n",
    "                        ],\n",
    "                 'muon': ['muon_pt', 'muon_deta', 'muon_dphi', 'muon_mass',\n",
    "                         ],\n",
    "                 'pfCand': [ \n",
    "                     'pfCand_jetDaughter',\n",
    "                     'pfCand_tauSignal',\n",
    "                     'pfCand_leadChargedHadrCand',\n",
    "                     'pfCand_tauIso',\n",
    "#                      'pfCand_pt',\n",
    "#                      'pfCand_eta',\n",
    "#                      'pfCand_phi',\n",
    "#                      'pfCand_mass',\n",
    "#                      'pfCand_pvAssociationQuality',\n",
    "#                      'pfCand_fromPV',\n",
    "#                      'pfCand_puppiWeight',\n",
    "#                      'pfCand_puppiWeightNoLep',\n",
    "#                      'pfCand_pdgId',\n",
    "#                      'pfCand_charge',\n",
    "#                      'pfCand_lostInnerHits',\n",
    "#                      'pfCand_numberOfPixelHits',\n",
    "#                      'pfCand_numberOfHits',\n",
    "#                      'pfCand_vertex_x',\n",
    "#                      'pfCand_vertex_y',\n",
    "#                      'pfCand_vertex_z',\n",
    "#                      'pfCand_vertex_t',\n",
    "#                      'pfCand_time',\n",
    "#                      'pfCand_timeError',\n",
    "#                      'pfCand_hasTrackDetails',\n",
    "#                      'pfCand_dxy',\n",
    "#                      'pfCand_dxy_error',\n",
    "#                      'pfCand_dz',\n",
    "#                      'pfCand_dz_error',\n",
    "#                      'pfCand_track_chi2',\n",
    "#                      'pfCand_track_ndof',\n",
    "#                      'pfCand_caloFraction',\n",
    "#                      'pfCand_hcalFraction',\n",
    "#                      'pfCand_rawCaloFraction',\n",
    "#                      'pfCand_rawHcalFraction',\n",
    "                 ]\n",
    "                 \n",
    "                 } # branches to be stored"
   ]
  },
  {
   "cell_type": "code",
   "execution_count": 33,
   "metadata": {},
   "outputs": [],
   "source": [
    "# initialize tensors to be filled \n",
    "grid_tensors = {key: {} for key in grid_types}\n",
    "for c_type in constituent_types:\n",
    "    for grid_type in grid_types:\n",
    "        grid_tensors[grid_type][c_type] = np.zeros((n_taus, n_cells[grid_type], n_cells[grid_type], len(fill_branches[c_type])))"
   ]
  },
  {
   "cell_type": "code",
   "execution_count": 34,
   "metadata": {},
   "outputs": [],
   "source": [
    "# override limit with this value\n",
    "n_taus = 1000 "
   ]
  },
  {
   "cell_type": "code",
   "execution_count": 35,
   "metadata": {},
   "outputs": [
    {
     "name": "stdout",
     "output_type": "stream",
     "text": [
      "---> processing 0th tau\n",
      "---> processing 10th tau\n",
      "---> processing 20th tau\n",
      "---> processing 30th tau\n",
      "---> processing 40th tau\n",
      "---> processing 50th tau\n",
      "---> processing 60th tau\n",
      "---> processing 70th tau\n",
      "---> processing 80th tau\n",
      "---> processing 90th tau\n",
      "---> processing 100th tau\n",
      "---> processing 110th tau\n",
      "---> processing 120th tau\n",
      "---> processing 130th tau\n",
      "---> processing 140th tau\n",
      "---> processing 150th tau\n",
      "---> processing 160th tau\n",
      "---> processing 170th tau\n",
      "---> processing 180th tau\n",
      "---> processing 190th tau\n",
      "---> processing 200th tau\n",
      "---> processing 210th tau\n",
      "---> processing 220th tau\n",
      "---> processing 230th tau\n",
      "---> processing 240th tau\n",
      "---> processing 250th tau\n",
      "---> processing 260th tau\n",
      "---> processing 270th tau\n",
      "---> processing 280th tau\n",
      "---> processing 290th tau\n",
      "---> processing 300th tau\n",
      "---> processing 310th tau\n",
      "---> processing 320th tau\n",
      "---> processing 330th tau\n",
      "---> processing 340th tau\n",
      "---> processing 350th tau\n",
      "---> processing 360th tau\n",
      "---> processing 370th tau\n",
      "---> processing 380th tau\n",
      "---> processing 390th tau\n",
      "---> processing 400th tau\n",
      "---> processing 410th tau\n",
      "---> processing 420th tau\n",
      "---> processing 430th tau\n",
      "---> processing 440th tau\n",
      "---> processing 450th tau\n",
      "---> processing 460th tau\n",
      "---> processing 470th tau\n",
      "---> processing 480th tau\n",
      "---> processing 490th tau\n",
      "---> processing 500th tau\n",
      "---> processing 510th tau\n",
      "---> processing 520th tau\n",
      "---> processing 530th tau\n",
      "---> processing 540th tau\n",
      "---> processing 550th tau\n",
      "---> processing 560th tau\n",
      "---> processing 570th tau\n",
      "---> processing 580th tau\n",
      "---> processing 590th tau\n",
      "---> processing 600th tau\n",
      "---> processing 610th tau\n",
      "---> processing 620th tau\n",
      "---> processing 630th tau\n",
      "---> processing 640th tau\n",
      "---> processing 650th tau\n",
      "---> processing 660th tau\n",
      "---> processing 670th tau\n",
      "---> processing 680th tau\n",
      "---> processing 690th tau\n",
      "---> processing 700th tau\n",
      "---> processing 710th tau\n",
      "---> processing 720th tau\n",
      "---> processing 730th tau\n",
      "---> processing 740th tau\n",
      "---> processing 750th tau\n",
      "---> processing 760th tau\n",
      "---> processing 770th tau\n",
      "---> processing 780th tau\n",
      "---> processing 790th tau\n",
      "---> processing 800th tau\n",
      "---> processing 810th tau\n",
      "---> processing 820th tau\n",
      "---> processing 830th tau\n",
      "---> processing 840th tau\n",
      "---> processing 850th tau\n",
      "---> processing 860th tau\n",
      "---> processing 870th tau\n",
      "---> processing 880th tau\n",
      "---> processing 890th tau\n",
      "---> processing 900th tau\n",
      "---> processing 910th tau\n",
      "---> processing 920th tau\n",
      "---> processing 930th tau\n",
      "---> processing 940th tau\n",
      "---> processing 950th tau\n",
      "---> processing 960th tau\n",
      "---> processing 970th tau\n",
      "---> processing 980th tau\n",
      "---> processing 990th tau\n",
      "---> processing 1000th tau\n"
     ]
    }
   ],
   "source": [
    "# dictionaries to store timing\n",
    "get_mask_times = {key: {c_key: [] for c_key in constituent_types} for key in grid_types}\n",
    "get_fill_indices_times = {key: {c_key: [] for c_key in constituent_types} for key in grid_types}\n",
    "get_fill_values_times = {key: {c_key: [] for c_key in constituent_types} for key in grid_types}\n",
    "fill_tensor_times = {key: {c_key: [] for c_key in constituent_types} for key in grid_types}\n",
    "\n",
    "program_starts = time.time()\n",
    "for i_tau, tau in enumerate(taus):\n",
    "    if i_tau%10 == 0:\n",
    "        print(f'---> processing {i_tau}th tau')\n",
    "    if i_tau == n_taus:\n",
    "        break\n",
    "    for c_type in constituent_types:\n",
    "        for grid_type in grid_types:        \n",
    "            begin_iter = time.time()\n",
    "            # get mask\n",
    "            grid_mask = get_grid_mask(tau, c_type, grid_type)\n",
    "            if ak.sum(grid_mask) == 0:\n",
    "                continue\n",
    "            after_get_mask = time.time()\n",
    "            get_mask_times[grid_type][c_type].append(after_get_mask - begin_iter)\n",
    "\n",
    "            # get indices\n",
    "            indices_eta, indices_phi = get_fill_indices(tau, c_type, grid_type, grid_mask)\n",
    "            after_get_fill_indices = time.time()\n",
    "            get_fill_indices_times[grid_type][c_type].append(after_get_fill_indices - after_get_mask)\n",
    "\n",
    "            # get values\n",
    "#             values_to_fill = get_fill_values(tau, fill_branches[c_type], grid_mask)\n",
    "            values_to_fill = np.ones((len(indices_eta), len(fill_branches[c_type])))\n",
    "            after_get_fill_values = time.time()\n",
    "            get_fill_values_times[grid_type][c_type].append(after_get_fill_values - after_get_fill_indices)\n",
    "\n",
    "            # put them in the tensor\n",
    "            grid_tensors[grid_type][c_type][i_tau, indices_eta, indices_phi, :] = values_to_fill\n",
    "            after_put = time.time()\n",
    "            fill_tensor_times[grid_type][c_type].append(after_put - after_get_fill_values)       \n",
    "program_ends = time.time()"
   ]
  },
  {
   "cell_type": "code",
   "execution_count": 36,
   "metadata": {},
   "outputs": [],
   "source": [
    "# # release memory\n",
    "#     for grid_type in grid_types:\n",
    "#         del grid_tensors[grid_type]\n",
    "# gc.collect()"
   ]
  },
  {
   "cell_type": "code",
   "execution_count": 37,
   "metadata": {},
   "outputs": [
    {
     "name": "stdout",
     "output_type": "stream",
     "text": [
      "Processed 1000 taus in 2.0884931087493896 seconds\n",
      "\n",
      "=== ele\n",
      "\n",
      "------- inner cell\n",
      "median get_grid_mask() time: 5.3882598876953125e-05\n",
      "median get_fill_indices() time: 0.00040721893310546875\n",
      "median get_fill_values() time: 8.106231689453125e-06\n",
      "median fill tensor time: 0.0001671314239501953\n",
      "\n",
      "------- outer cell\n",
      "median get_grid_mask() time: 5.3882598876953125e-05\n",
      "median get_fill_indices() time: 0.00041103363037109375\n",
      "median get_fill_values() time: 8.344650268554688e-06\n",
      "median fill tensor time: 0.00016891956329345703\n",
      "\n",
      "\n",
      "=== muon\n",
      "\n",
      "------- inner cell\n",
      "median get_grid_mask() time: 4.696846008300781e-05\n",
      "median get_fill_indices() time: 0.0004062652587890625\n",
      "median get_fill_values() time: 8.106231689453125e-06\n",
      "median fill tensor time: 0.0001666545867919922\n",
      "\n",
      "------- outer cell\n",
      "median get_grid_mask() time: 5.53131103515625e-05\n",
      "median get_fill_indices() time: 0.00040650367736816406\n",
      "median get_fill_values() time: 8.106231689453125e-06\n",
      "median fill tensor time: 0.0001672506332397461\n",
      "\n",
      "\n",
      "=== pfCand\n",
      "\n",
      "------- inner cell\n",
      "median get_grid_mask() time: 4.792213439941406e-05\n",
      "median get_fill_indices() time: 0.0004049539566040039\n",
      "median get_fill_values() time: 8.106231689453125e-06\n",
      "median fill tensor time: 0.00016677379608154297\n",
      "\n",
      "------- outer cell\n",
      "median get_grid_mask() time: 5.650520324707031e-05\n",
      "median get_fill_indices() time: 0.00040411949157714844\n",
      "median get_fill_values() time: 8.344650268554688e-06\n",
      "median fill tensor time: 0.0001709461212158203\n",
      "\n",
      "\n"
     ]
    }
   ],
   "source": [
    "print(f'Processed {n_taus} taus in {program_ends - program_starts} seconds\\n')\n",
    "for c_type in constituent_types:\n",
    "    print(f'=== {c_type}\\n')\n",
    "    for grid_type in grid_types:\n",
    "        print(f'------- {grid_type} cell')\n",
    "        print(f'median get_grid_mask() time: {np.median(get_mask_times[grid_type][c_type])}')\n",
    "        print(f'median get_fill_indices() time: {np.median(get_fill_indices_times[grid_type][c_type])}')\n",
    "        print(f'median get_fill_values() time: {np.median(get_fill_values_times[grid_type][c_type])}')\n",
    "        print(f'median fill tensor time: {np.median(fill_tensor_times[grid_type][c_type])}')\n",
    "        print()\n",
    "    print()"
   ]
  },
  {
   "cell_type": "code",
   "execution_count": 161,
   "metadata": {},
   "outputs": [
    {
     "data": {
      "image/png": "[encoded data removed]",
      "text/plain": [
       "<Figure size 1440x720 with 6 Axes>"
      ]
     },
     "metadata": {
      "needs_background": "light"
     },
     "output_type": "display_data"
    }
   ],
   "source": [
    "f, ax = plt.subplots(len(grid_types), len(constituent_types), figsize=(20,10))\n",
    "for i, grid_type in enumerate(grid_types):\n",
    "    for j, c_type in enumerate(constituent_types):\n",
    "        ax[i,j].hist(get_mask_times[grid_type][c_type], histtype='step', bins=100, label='get_grid_mask()')\n",
    "        ax[i,j].hist(get_fill_indices_times[grid_type][c_type], histtype='step', bins=100, label='get_fill_indices()')\n",
    "        ax[i,j].hist(get_fill_values_times[grid_type][c_type], histtype='step', bins=100, label='get_fill_values()')\n",
    "        ax[i,j].hist(fill_tensor_times[grid_type][c_type], histtype='step', bins=100, label='fill tensor')\n",
    "        ax[i,j].set_xlabel('time per tau, s')\n",
    "        ax[i,j].set_xscale('log')\n",
    "        ax[i,j].set_xlim((1e-6, 1e-2))\n",
    "        ax[i,j].set_title(f'{c_type}: {grid_type} grid')\n",
    "        ax[i,j].legend()"
   ]
  },
  {
   "cell_type": "code",
   "execution_count": 172,
   "metadata": {},
   "outputs": [
    {
     "data": {
      "image/png": "[encoded data removed]",
      "text/plain": [
       "<Figure size 1440x720 with 6 Axes>"
      ]
     },
     "metadata": {
      "needs_background": "light"
     },
     "output_type": "display_data"
    }
   ],
   "source": [
    "f, ax = plt.subplots(len(grid_types), len(constituent_types), figsize=(20,10))\n",
    "for i, grid_type in enumerate(grid_types):\n",
    "    for j, c_type in enumerate(constituent_types):\n",
    "        ax[i,j].hist(get_mask_times[grid_type][c_type], histtype='step', bins=100, label='get_grid_mask()')\n",
    "        ax[i,j].hist(get_fill_indices_times[grid_type][c_type], histtype='step', bins=100, label='get_fill_indices()')\n",
    "        ax[i,j].hist(get_fill_values_times[grid_type][c_type], histtype='step', bins=100, label='get_fill_values()')\n",
    "        ax[i,j].hist(fill_tensor_times[grid_type][c_type], histtype='step', bins=100, label='fill tensor')\n",
    "        ax[i,j].set_xlabel('time per tau, s')\n",
    "        ax[i,j].set_xscale('log')\n",
    "        ax[i,j].set_xlim((1e-6, 1e-2))\n",
    "        ax[i,j].set_title(f'{c_type}: {grid_type} grid')\n",
    "        ax[i,j].legend()"
   ]
  },
  {
   "cell_type": "code",
   "execution_count": null,
   "metadata": {},
   "outputs": [],
   "source": []
  },
  {
   "cell_type": "markdown",
   "metadata": {},
   "source": [
    "### validating final tensor"
   ]
  },
  {
   "cell_type": "code",
   "execution_count": 200,
   "metadata": {},
   "outputs": [],
   "source": [
    "grid_type = 'inner'\n",
    "c_type = 'pfCand'\n",
    "tau_i = 10"
   ]
  },
  {
   "cell_type": "code",
   "execution_count": 201,
   "metadata": {},
   "outputs": [
    {
     "data": {
      "text/html": [
       "<div>\n",
       "<style scoped>\n",
       "    .dataframe tbody tr th:only-of-type {\n",
       "        vertical-align: middle;\n",
       "    }\n",
       "\n",
       "    .dataframe tbody tr th {\n",
       "        vertical-align: top;\n",
       "    }\n",
       "\n",
       "    .dataframe thead th {\n",
       "        text-align: right;\n",
       "    }\n",
       "</style>\n",
       "<table border=\"1\" class=\"dataframe\">\n",
       "  <thead>\n",
       "    <tr style=\"text-align: right;\">\n",
       "      <th></th>\n",
       "      <th>pfCand_deta</th>\n",
       "      <th>pfCand_dphi</th>\n",
       "    </tr>\n",
       "    <tr>\n",
       "      <th>entry</th>\n",
       "      <th></th>\n",
       "      <th></th>\n",
       "    </tr>\n",
       "  </thead>\n",
       "  <tbody>\n",
       "    <tr>\n",
       "      <th>0</th>\n",
       "      <td>-0.063398</td>\n",
       "      <td>0.010041</td>\n",
       "    </tr>\n",
       "    <tr>\n",
       "      <th>1</th>\n",
       "      <td>0.076316</td>\n",
       "      <td>-0.012617</td>\n",
       "    </tr>\n",
       "  </tbody>\n",
       "</table>\n",
       "</div>"
      ],
      "text/plain": [
       "       pfCand_deta  pfCand_dphi\n",
       "entry                          \n",
       "0        -0.063398     0.010041\n",
       "1         0.076316    -0.012617"
      ]
     },
     "execution_count": 201,
     "metadata": {},
     "output_type": "execute_result"
    }
   ],
   "source": [
    "grid_mask = taus[f'{grid_type}_grid_{c_type}_mask']\n",
    "grid_coord = ak.to_pandas(taus[[f'{c_type}_deta', f'{c_type}_dphi', ]][grid_mask][tau_i])\n",
    "grid_coord"
   ]
  },
  {
   "cell_type": "code",
   "execution_count": 202,
   "metadata": {},
   "outputs": [],
   "source": [
    "feature_i = 2"
   ]
  },
  {
   "cell_type": "code",
   "execution_count": 51,
   "metadata": {},
   "outputs": [
    {
     "name": "stdout",
     "output_type": "stream",
     "text": [
      "2.0 6.0 0.010040640830993652\n",
      "9.0 4.0 -0.012616664171218872\n"
     ]
    }
   ],
   "source": [
    "eta_indices = taus[f\"{grid_type}_grid_{c_type}_indices_eta\"][grid_mask][tau_i].tolist()\n",
    "phi_indices = taus[f\"{grid_type}_grid_{c_type}_indices_phi\"][grid_mask][tau_i].tolist()\n",
    "vals = taus[fill_branches[c_type][feature_i]][grid_mask][tau_i]\n",
    "for x,y,v in sorted(zip(eta_indices, phi_indices, vals)):\n",
    "    print(x,y,v)"
   ]
  },
  {
   "cell_type": "code",
   "execution_count": 52,
   "metadata": {},
   "outputs": [
    {
     "name": "stdout",
     "output_type": "stream",
     "text": [
      "2 6 0.010040640830993652\n",
      "9 4 -0.012616664171218872\n"
     ]
    }
   ],
   "source": [
    "nonzero_idx_eta = np.argwhere(grid_tensors[grid_type][c_type][tau_i, :, :, feature_i])[:, 0]\n",
    "nonzero_idx_phi = np.argwhere(grid_tensors[grid_type][c_type][tau_i, :, :, feature_i])[:, 1]\n",
    "nonzero_vals = grid_tensors[grid_type][c_type][tau_i, nonzero_idx_eta, nonzero_idx_phi, feature_i]\n",
    "for x,y,v in sorted(zip(nonzero_idx_eta, nonzero_idx_phi, nonzero_vals)):\n",
    "    print(x,y,v)"
   ]
  },
  {
   "cell_type": "code",
   "execution_count": null,
   "metadata": {},
   "outputs": [],
   "source": []
  }
 ],
 "metadata": {
  "kernelspec": {
   "display_name": "tau-dev",
   "language": "python",
   "name": "tau-dev"
  },
  "language_info": {
   "codemirror_mode": {
    "name": "ipython",
    "version": 3
   },
   "file_extension": ".py",
   "mimetype": "text/x-python",
   "name": "python",
   "nbconvert_exporter": "python",
   "pygments_lexer": "ipython3",
   "version": "3.8.5"
  }
 },
 "nbformat": 4,
 "nbformat_minor": 4
}
