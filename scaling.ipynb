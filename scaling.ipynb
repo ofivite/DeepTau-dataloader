{
 "cells": [
  {
   "cell_type": "code",
   "execution_count": 1,
   "metadata": {},
   "outputs": [],
   "source": [
    "import uproot\n",
    "import awkward as ak\n",
    "import numpy as np\n",
    "import matplotlib.pyplot as plt\n",
    "\n",
    "import time\n",
    "import gc\n",
    "import yaml\n",
    "import json\n",
    "from glob import glob\n",
    "# from memory_profiler import profile"
   ]
  },
  {
   "cell_type": "code",
   "execution_count": 2,
   "metadata": {},
   "outputs": [],
   "source": [
    "%load_ext memory_profiler\n",
    "%load_ext line_profiler\n",
    "%load_ext autoreload\n",
    "%autoreload 2"
   ]
  },
  {
   "cell_type": "markdown",
   "metadata": {},
   "source": [
    "### loading data"
   ]
  },
  {
   "cell_type": "code",
   "execution_count": 3,
   "metadata": {},
   "outputs": [],
   "source": [
    "file_name = 'data/ShuffleMergeSpectral_2.root'\n",
    "tree_name = 'taus'"
   ]
  },
  {
   "cell_type": "code",
   "execution_count": 5,
   "metadata": {},
   "outputs": [],
   "source": [
    "cache = uproot.LRUArrayCache(\"1 GB\")\n",
    "taus_lazy = uproot.lazy(f'{file_name}:{tree_name}', array_cache=cache)"
   ]
  },
  {
   "cell_type": "code",
   "execution_count": 6,
   "metadata": {},
   "outputs": [
    {
     "data": {
      "text/plain": [
       "<Array [{run: 1, lumi: 118, ... 1]}] type='44436 * {\"run\": uint32, \"lumi\": uint3...'>"
      ]
     },
     "execution_count": 6,
     "metadata": {},
     "output_type": "execute_result"
    }
   ],
   "source": [
    "taus_lazy"
   ]
  },
  {
   "cell_type": "code",
   "execution_count": 7,
   "metadata": {},
   "outputs": [
    {
     "data": {
      "text/plain": [
       "<LRUArrayCache (1368636/1000000000 bytes full) at 0x2b67c659a970>"
      ]
     },
     "execution_count": 7,
     "metadata": {},
     "output_type": "execute_result"
    }
   ],
   "source": [
    "cache"
   ]
  },
  {
   "cell_type": "code",
   "execution_count": 8,
   "metadata": {},
   "outputs": [],
   "source": [
    "cache.clear()"
   ]
  },
  {
   "cell_type": "code",
   "execution_count": 9,
   "metadata": {},
   "outputs": [
    {
     "data": {
      "text/plain": [
       "<LRUArrayCache (0/1000000000 bytes full) at 0x2b67c659a970>"
      ]
     },
     "execution_count": 9,
     "metadata": {},
     "output_type": "execute_result"
    }
   ],
   "source": [
    "cache"
   ]
  },
  {
   "cell_type": "markdown",
   "metadata": {},
   "source": [
    "### loading data [2]"
   ]
  },
  {
   "cell_type": "code",
   "execution_count": 9,
   "metadata": {},
   "outputs": [],
   "source": [
    "t = uproot.open(f'{file_name}:{tree_name}')\n",
    "taus_zip = t.arrays(how='zip')"
   ]
  },
  {
   "cell_type": "code",
   "execution_count": 10,
   "metadata": {},
   "outputs": [],
   "source": [
    "# for taus in batch_yielder:\n",
    "#     break"
   ]
  },
  {
   "cell_type": "code",
   "execution_count": 11,
   "metadata": {},
   "outputs": [],
   "source": [
    "# taus"
   ]
  },
  {
   "cell_type": "markdown",
   "metadata": {},
   "source": [
    "### loading data [3]"
   ]
  },
  {
   "cell_type": "code",
   "execution_count": 12,
   "metadata": {},
   "outputs": [],
   "source": [
    "taus_r = R.RDataFrame(tree_name, file_name)"
   ]
  },
  {
   "cell_type": "markdown",
   "metadata": {},
   "source": [
    "### benchmark means/std"
   ]
  },
  {
   "cell_type": "markdown",
   "metadata": {},
   "source": [
    "#### RDataFrame"
   ]
  },
  {
   "cell_type": "code",
   "execution_count": 13,
   "metadata": {},
   "outputs": [
    {
     "name": "stdout",
     "output_type": "stream",
     "text": [
      "658 ms ± 18.9 ms per loop (mean ± std. dev. of 7 runs, 1 loop each)\n"
     ]
    }
   ],
   "source": [
    "%%timeit\n",
    "pt_mean = taus_r.Mean('pfCand_pt')\n",
    "pt_mean.GetValue()"
   ]
  },
  {
   "cell_type": "code",
   "execution_count": 14,
   "metadata": {},
   "outputs": [
    {
     "name": "stdout",
     "output_type": "stream",
     "text": [
      "656 ms ± 10.8 ms per loop (mean ± std. dev. of 7 runs, 1 loop each)\n"
     ]
    }
   ],
   "source": [
    "%%timeit\n",
    "pt_std = taus_r.StdDev('pfCand_pt')\n",
    "pt_std.GetValue()"
   ]
  },
  {
   "cell_type": "markdown",
   "metadata": {},
   "source": [
    "#### lazy awkward"
   ]
  },
  {
   "cell_type": "code",
   "execution_count": 15,
   "metadata": {},
   "outputs": [
    {
     "name": "stdout",
     "output_type": "stream",
     "text": [
      "657 µs ± 41.4 µs per loop (mean ± std. dev. of 7 runs, 1 loop each)\n"
     ]
    }
   ],
   "source": [
    "%%timeit\n",
    "ak.mean(taus_lazy['pfCand_pt'])"
   ]
  },
  {
   "cell_type": "code",
   "execution_count": 16,
   "metadata": {},
   "outputs": [
    {
     "name": "stdout",
     "output_type": "stream",
     "text": [
      "17.5 ms ± 194 µs per loop (mean ± std. dev. of 7 runs, 100 loops each)\n"
     ]
    }
   ],
   "source": [
    "%%timeit\n",
    "ak.std(taus_lazy['pfCand_pt'])"
   ]
  },
  {
   "cell_type": "markdown",
   "metadata": {},
   "source": [
    "#### zip awkward"
   ]
  },
  {
   "cell_type": "code",
   "execution_count": 17,
   "metadata": {},
   "outputs": [
    {
     "name": "stdout",
     "output_type": "stream",
     "text": [
      "508 µs ± 1.26 µs per loop (mean ± std. dev. of 7 runs, 1000 loops each)\n"
     ]
    }
   ],
   "source": [
    "%%timeit\n",
    "ak.mean(taus_zip['pfCand', 'pt'])"
   ]
  },
  {
   "cell_type": "code",
   "execution_count": 18,
   "metadata": {},
   "outputs": [
    {
     "name": "stdout",
     "output_type": "stream",
     "text": [
      "17.5 ms ± 157 µs per loop (mean ± std. dev. of 7 runs, 100 loops each)\n"
     ]
    }
   ],
   "source": [
    "%%timeit\n",
    "ak.std(taus_zip['pfCand', 'pt'])"
   ]
  },
  {
   "cell_type": "code",
   "execution_count": 19,
   "metadata": {},
   "outputs": [
    {
     "name": "stdout",
     "output_type": "stream",
     "text": [
      "16.7 ms ± 210 µs per loop (mean ± std. dev. of 7 runs, 100 loops each)\n"
     ]
    }
   ],
   "source": [
    "%%timeit\n",
    "ak.std(ak.flatten(taus_zip['pfCand', 'pt']))"
   ]
  },
  {
   "cell_type": "markdown",
   "metadata": {},
   "source": [
    "#### self-made awkward"
   ]
  },
  {
   "cell_type": "code",
   "execution_count": 20,
   "metadata": {},
   "outputs": [
    {
     "name": "stdout",
     "output_type": "stream",
     "text": [
      "17.7 ms ± 117 µs per loop (mean ± std. dev. of 7 runs, 100 loops each)\n"
     ]
    }
   ],
   "source": [
    "%%timeit\n",
    "pt_mean = ak.mean(taus_lazy['pfCand_pt'])\n",
    "pt_std = np.sqrt(ak.sum((taus_lazy['pfCand_pt'] - pt_mean)**2) / ak.count(taus_lazy['pfCand_pt']))"
   ]
  },
  {
   "cell_type": "code",
   "execution_count": null,
   "metadata": {},
   "outputs": [],
   "source": []
  },
  {
   "cell_type": "markdown",
   "metadata": {},
   "source": [
    "### compare S&M files"
   ]
  },
  {
   "cell_type": "code",
   "execution_count": 5,
   "metadata": {},
   "outputs": [],
   "source": [
    "taus_1 = uproot.open(f'data/ShuffleMergeSpectral_1.root:{tree_name}').arrays(how='zip')"
   ]
  },
  {
   "cell_type": "code",
   "execution_count": 6,
   "metadata": {},
   "outputs": [],
   "source": [
    "taus_3 = uproot.open(f'data/ShuffleMergeSpectral_3.root:{tree_name}').arrays(how='zip')"
   ]
  },
  {
   "cell_type": "code",
   "execution_count": 18,
   "metadata": {},
   "outputs": [
    {
     "data": {
      "text/plain": [
       "(296449347, 283203975)"
      ]
     },
     "execution_count": 18,
     "metadata": {},
     "output_type": "execute_result"
    }
   ],
   "source": [
    "ak.count(taus_1), ak.count(taus_3)"
   ]
  },
  {
   "cell_type": "code",
   "execution_count": 20,
   "metadata": {},
   "outputs": [
    {
     "data": {
      "text/plain": [
       "(191700, 183251)"
      ]
     },
     "execution_count": 20,
     "metadata": {},
     "output_type": "execute_result"
    }
   ],
   "source": [
    "len(taus_1), len(taus_3)"
   ]
  },
  {
   "cell_type": "code",
   "execution_count": 15,
   "metadata": {},
   "outputs": [
    {
     "data": {
      "text/plain": [
       "(6.531693611959568, 6.531911499813611)"
      ]
     },
     "execution_count": 15,
     "metadata": {},
     "output_type": "execute_result"
    }
   ],
   "source": [
    "ak.mean(taus_1['pfCand', 'pt']), ak.mean(taus_3['pfCand', 'pt'])"
   ]
  },
  {
   "cell_type": "code",
   "execution_count": 16,
   "metadata": {},
   "outputs": [
    {
     "data": {
      "text/plain": [
       "(35.57811990694886, 35.44534597127814)"
      ]
     },
     "execution_count": 16,
     "metadata": {},
     "output_type": "execute_result"
    }
   ],
   "source": [
    "ak.std(taus_1['pfCand', 'pt']), ak.std(taus_3['pfCand', 'pt'])"
   ]
  },
  {
   "cell_type": "code",
   "execution_count": 21,
   "metadata": {},
   "outputs": [
    {
     "data": {
      "text/plain": [
       "(-0.0028388169881038566, -0.0022471090837211266)"
      ]
     },
     "execution_count": 21,
     "metadata": {},
     "output_type": "execute_result"
    }
   ],
   "source": [
    "ak.mean(taus_1['pfCand', 'eta']), ak.mean(taus_3['pfCand', 'eta'])"
   ]
  },
  {
   "cell_type": "code",
   "execution_count": 22,
   "metadata": {},
   "outputs": [
    {
     "data": {
      "text/plain": [
       "(1.259707597657328, 1.2584580628293074)"
      ]
     },
     "execution_count": 22,
     "metadata": {},
     "output_type": "execute_result"
    }
   ],
   "source": [
    "ak.std(taus_1['pfCand', 'eta']), ak.std(taus_3['pfCand', 'eta'])"
   ]
  },
  {
   "cell_type": "code",
   "execution_count": null,
   "metadata": {},
   "outputs": [],
   "source": []
  },
  {
   "cell_type": "markdown",
   "metadata": {},
   "source": [
    "### full scale"
   ]
  },
  {
   "cell_type": "code",
   "execution_count": 4,
   "metadata": {},
   "outputs": [],
   "source": [
    "from scaling import nested_dict, compute_mean, compute_std, compute_scaling"
   ]
  },
  {
   "cell_type": "code",
   "execution_count": 5,
   "metadata": {},
   "outputs": [],
   "source": [
    "with open('scaling_definitions.yml') as f:\n",
    "    scaling_dict = yaml.load(f, Loader=yaml.FullLoader)"
   ]
  },
  {
   "cell_type": "code",
   "execution_count": 6,
   "metadata": {},
   "outputs": [
    {
     "name": "stdout",
     "output_type": "stream",
     "text": [
      "\n",
      "[INFO] will process 5 input files from data/ShuffleMergeSpectral*.root\n",
      "[INFO] will dump means & stds to json after every 10 files:\n",
      "\n"
     ]
    }
   ],
   "source": [
    "file_path = scaling_dict.pop('file_path')\n",
    "file_range = scaling_dict.pop('file_range')\n",
    "tree_name = scaling_dict.pop('tree_name')\n",
    "log_step = scaling_dict.pop('log_step')\n",
    "version = scaling_dict.pop('version')\n",
    "selection_dict = scaling_dict.pop('selection')\n",
    "grid_selection_dict = scaling_dict.pop('grid_selection')\n",
    "assert log_step > 0 and type(log_step) == int\n",
    "assert len(file_range)==2 and file_range[0]<=file_range[1]\n",
    "file_names = sorted(glob(file_path))[file_range[0]:file_range[1]]\n",
    "print(f'\\n[INFO] will process {len(file_names)} input files from {file_path}')\n",
    "print(f'[INFO] will dump means & stds to json after every {log_step} files:\\n')"
   ]
  },
  {
   "cell_type": "code",
   "execution_count": 7,
   "metadata": {},
   "outputs": [
    {
     "data": {
      "text/plain": [
       "['data/ShuffleMergeSpectral_1.root',\n",
       " 'data/ShuffleMergeSpectral_2.root',\n",
       " 'data/ShuffleMergeSpectral_3.root',\n",
       " 'data/ShuffleMergeSpectral_4.root',\n",
       " 'data/ShuffleMergeSpectral_5.root']"
      ]
     },
     "execution_count": 7,
     "metadata": {},
     "output_type": "execute_result"
    }
   ],
   "source": [
    "file_names"
   ]
  },
  {
   "cell_type": "code",
   "execution_count": 8,
   "metadata": {},
   "outputs": [],
   "source": [
    "sums, sums2, counts, means_stds = nested_dict(), nested_dict(), nested_dict(), nested_dict()\n",
    "for var_type, var_dict in scaling_dict.items():\n",
    "    for var in var_dict.keys():\n",
    "        for grid_type in grid_selection_dict[var_type].keys():\n",
    "            sums[var_type][var][grid_type] = np.zeros(len(file_names), dtype='float64')\n",
    "            sums2[var_type][var][grid_type] = np.zeros(len(file_names), dtype='float64')\n",
    "            counts[var_type][var][grid_type] = np.zeros(len(file_names), dtype='int64')"
   ]
  },
  {
   "cell_type": "code",
   "execution_count": 9,
   "metadata": {},
   "outputs": [
    {
     "data": {
      "text/plain": [
       "[None, {'ele_rel_pt': 'ele_pt/tau_pt'}]"
      ]
     },
     "execution_count": 9,
     "metadata": {},
     "output_type": "execute_result"
    }
   ],
   "source": [
    "scaling_dict['ele']['ele_rel_pt']"
   ]
  },
  {
   "cell_type": "code",
   "execution_count": 10,
   "metadata": {},
   "outputs": [
    {
     "data": {
      "text/plain": [
       "['(tau_dxy > -10) & (tau_dxy_error > 0)', None]"
      ]
     },
     "execution_count": 10,
     "metadata": {},
     "output_type": "execute_result"
    }
   ],
   "source": [
    "scaling_dict['global']['tau_dxy']"
   ]
  },
  {
   "cell_type": "code",
   "execution_count": 11,
   "metadata": {},
   "outputs": [
    {
     "data": {
      "text/plain": [
       "NoneType"
      ]
     },
     "execution_count": 11,
     "metadata": {},
     "output_type": "execute_result"
    }
   ],
   "source": [
    "type(scaling_dict['ele']['ele_rel_pt'][0])"
   ]
  },
  {
   "cell_type": "markdown",
   "metadata": {},
   "source": [
    "#### compute sums"
   ]
  },
  {
   "cell_type": "code",
   "execution_count": 12,
   "metadata": {},
   "outputs": [
    {
     "name": "stdout",
     "output_type": "stream",
     "text": [
      "[INFO] starting to accumulate sums & counts:\n",
      "\n"
     ]
    },
    {
     "name": "stderr",
     "output_type": "stream",
     "text": [
      "/nfs/dust/cms/user/filatovo/Tau/DeepTau-dev/scaling.py:26: RuntimeWarning: invalid value encountered in double_scalars\n",
      "  return sums.sum()/counts.sum()\n",
      "/nfs/dust/cms/user/filatovo/Tau/DeepTau-dev/scaling.py:40: RuntimeWarning: invalid value encountered in double_scalars\n",
      "  return np.sqrt(sums2.sum()/counts.sum() - (sums.sum()/counts.sum())**2)\n"
     ]
    },
    {
     "name": "stdout",
     "output_type": "stream",
     "text": [
      "---> processed data/ShuffleMergeSpectral_1.root in 13.21 s\n",
      "---> processed data/ShuffleMergeSpectral_2.root in 3.60 s\n",
      "---> processed data/ShuffleMergeSpectral_3.root in 12.40 s\n",
      "---> processed data/ShuffleMergeSpectral_4.root in 18.86 s\n",
      "---> processed data/ShuffleMergeSpectral_5.root in 15.88 s\n"
     ]
    }
   ],
   "source": [
    "print('[INFO] starting to accumulate sums & counts:\\n')\n",
    "program_starts = time.time()\n",
    "last_file_done = program_starts\n",
    "for file_i, file_name in enumerate(file_names):\n",
    "    compute_scaling(file_name, file_i, tree_name, scaling_dict, grid_selection_dict, sums, sums2, counts, means_stds, log_step, version)\n",
    "    gc.collect()\n",
    "    processed_file = time.time()\n",
    "    print(f'---> processed {file_name} in {processed_file - last_file_done:.2f} s')\n",
    "    last_file_done = processed_file\n",
    "for var_type, var_dict in scaling_dict.items():\n",
    "    for var in var_dict.keys():\n",
    "        for grid_type in grid_selection_dict[var_type].keys():\n",
    "            mean = compute_mean(sums[var_type][var][grid_type], counts[var_type][var][grid_type], aggregate=True)\n",
    "            std = compute_std(sums[var_type][var][grid_type], sums2[var_type][var][grid_type], counts[var_type][var][grid_type], aggregate=True)\n",
    "            means_stds[var_type][var][grid_type] = {'mean': mean, 'std': std}"
   ]
  },
  {
   "cell_type": "code",
   "execution_count": 13,
   "metadata": {},
   "outputs": [
    {
     "data": {
      "text/plain": [
       "defaultdict(<function scaling.nested_dict()>,\n",
       "            {'inner': {'mean': 28.951920238477335, 'std': 9.490252281368086},\n",
       "             'outer': {'mean': 28.951920238477335, 'std': 9.490252281368086}})"
      ]
     },
     "execution_count": 13,
     "metadata": {},
     "output_type": "execute_result"
    }
   ],
   "source": [
    "means_stds['global']['npv']"
   ]
  },
  {
   "cell_type": "code",
   "execution_count": 14,
   "metadata": {},
   "outputs": [
    {
     "data": {
      "text/plain": [
       "defaultdict(<function scaling.nested_dict()>,\n",
       "            {'inner': {'mean': 0.9702073845641698, 'std': 0.6239547663973649},\n",
       "             'outer': {'mean': 0.3759259109226752, 'std': 1.3595947142965477}})"
      ]
     },
     "execution_count": 14,
     "metadata": {},
     "output_type": "execute_result"
    }
   ],
   "source": [
    "means_stds['ele']['ele_rel_pt']"
   ]
  },
  {
   "cell_type": "code",
   "execution_count": 15,
   "metadata": {},
   "outputs": [
    {
     "data": {
      "text/plain": [
       "defaultdict(<function scaling.nested_dict()>,\n",
       "            {'inner': array([55984.50390625, 13103.36132812, 53713.3046875 , 82421.8203125 ,\n",
       "                    68188.2421875 ]),\n",
       "             'outer': array([2145.63818359,  467.59317017, 1827.57531738, 3198.37402344,\n",
       "                    2652.54296875])})"
      ]
     },
     "execution_count": 15,
     "metadata": {},
     "output_type": "execute_result"
    }
   ],
   "source": [
    "sums['ele']['ele_rel_pt']"
   ]
  },
  {
   "cell_type": "code",
   "execution_count": 16,
   "metadata": {},
   "outputs": [
    {
     "data": {
      "text/plain": [
       "defaultdict(<function scaling.nested_dict()>,\n",
       "            {'inner': array([57799, 13551, 55563, 84645, 70249]),\n",
       "             'outer': array([5670, 1255, 5411, 8179, 6862])})"
      ]
     },
     "execution_count": 16,
     "metadata": {},
     "output_type": "execute_result"
    }
   ],
   "source": [
    "counts['ele']['ele_rel_pt']"
   ]
  },
  {
   "cell_type": "markdown",
   "metadata": {},
   "source": [
    "#### dependance on files number"
   ]
  },
  {
   "cell_type": "code",
   "execution_count": 17,
   "metadata": {},
   "outputs": [],
   "source": [
    "grid_type = 'outer'"
   ]
  },
  {
   "cell_type": "code",
   "execution_count": 18,
   "metadata": {},
   "outputs": [
    {
     "data": {
      "text/plain": [
       "0.3759259109226752"
      ]
     },
     "execution_count": 18,
     "metadata": {},
     "output_type": "execute_result"
    }
   ],
   "source": [
    "compute_mean(sums['ele']['ele_rel_pt'][grid_type], counts['ele']['ele_rel_pt'][grid_type], True)"
   ]
  },
  {
   "cell_type": "code",
   "execution_count": 19,
   "metadata": {},
   "outputs": [
    {
     "data": {
      "text/plain": [
       "array([0.37841943, 0.3725842 , 0.33775186, 0.39104707, 0.38655537])"
      ]
     },
     "execution_count": 19,
     "metadata": {},
     "output_type": "execute_result"
    }
   ],
   "source": [
    "compute_mean(sums['ele']['ele_rel_pt'][grid_type], counts['ele']['ele_rel_pt'][grid_type], False)"
   ]
  },
  {
   "cell_type": "code",
   "execution_count": 20,
   "metadata": {},
   "outputs": [
    {
     "data": {
      "text/plain": [
       "0.3759259109226752"
      ]
     },
     "execution_count": 20,
     "metadata": {},
     "output_type": "execute_result"
    }
   ],
   "source": [
    "compute_mean(sums['ele']['ele_rel_pt'][grid_type], counts['ele']['ele_rel_pt'][grid_type], True, 0, 5)"
   ]
  },
  {
   "cell_type": "code",
   "execution_count": null,
   "metadata": {},
   "outputs": [],
   "source": []
  },
  {
   "cell_type": "code",
   "execution_count": 21,
   "metadata": {},
   "outputs": [
    {
     "data": {
      "text/plain": [
       "9.490252281368086"
      ]
     },
     "execution_count": 21,
     "metadata": {},
     "output_type": "execute_result"
    }
   ],
   "source": [
    "compute_std(sums['global']['npv'][grid_type], sums2['global']['npv'][grid_type], counts['global']['npv'][grid_type], True)"
   ]
  },
  {
   "cell_type": "code",
   "execution_count": 22,
   "metadata": {},
   "outputs": [
    {
     "data": {
      "text/plain": [
       "array([9.49278462, 9.45873812, 9.4706287 , 9.4973786 , 9.50097665])"
      ]
     },
     "execution_count": 22,
     "metadata": {},
     "output_type": "execute_result"
    }
   ],
   "source": [
    "compute_std(sums['global']['npv'][grid_type], sums2['global']['npv'][grid_type], counts['global']['npv'][grid_type], False)"
   ]
  },
  {
   "cell_type": "code",
   "execution_count": 23,
   "metadata": {},
   "outputs": [
    {
     "data": {
      "text/plain": [
       "9.490252281368086"
      ]
     },
     "execution_count": 23,
     "metadata": {},
     "output_type": "execute_result"
    }
   ],
   "source": [
    "compute_std(sums['global']['npv'][grid_type], sums2['global']['npv'][grid_type], counts['global']['npv'][grid_type], True, 0, 5)"
   ]
  },
  {
   "cell_type": "markdown",
   "metadata": {},
   "source": [
    "#### validate [one array]"
   ]
  },
  {
   "cell_type": "code",
   "execution_count": 24,
   "metadata": {},
   "outputs": [],
   "source": [
    "file_id = 2"
   ]
  },
  {
   "cell_type": "code",
   "execution_count": 25,
   "metadata": {},
   "outputs": [],
   "source": [
    "t = uproot.open(f'{file_names[file_id]}:{tree_name}')\n",
    "taus = t.arrays(how='zip')"
   ]
  },
  {
   "cell_type": "code",
   "execution_count": 26,
   "metadata": {},
   "outputs": [],
   "source": [
    "taus['ele', 'rel_pt'] = taus['ele', 'pt'] / taus['tau_pt']"
   ]
  },
  {
   "cell_type": "code",
   "execution_count": 27,
   "metadata": {},
   "outputs": [],
   "source": [
    "grid_type = 'inner'\n",
    "mask = (abs(taus['ele', 'eta'] - taus['tau_eta']) < 0.11) & (abs(taus['ele', 'phi'] - taus['tau_phi']) < 0.11)"
   ]
  },
  {
   "cell_type": "code",
   "execution_count": 28,
   "metadata": {},
   "outputs": [],
   "source": [
    "var_type = 'ele'\n",
    "var = 'ele_rel_pt'"
   ]
  },
  {
   "cell_type": "code",
   "execution_count": 29,
   "metadata": {},
   "outputs": [
    {
     "data": {
      "text/plain": [
       "(0.9667099452423376, 0.5659782783184839)"
      ]
     },
     "execution_count": 29,
     "metadata": {},
     "output_type": "execute_result"
    }
   ],
   "source": [
    "ak.mean(taus[var_type, 'rel_pt'][mask]), ak.std(taus[var_type, 'rel_pt'][mask])"
   ]
  },
  {
   "cell_type": "code",
   "execution_count": 30,
   "metadata": {},
   "outputs": [
    {
     "data": {
      "text/plain": [
       "0.9667099452423376"
      ]
     },
     "execution_count": 30,
     "metadata": {},
     "output_type": "execute_result"
    }
   ],
   "source": [
    "compute_mean(sums[var_type][var][grid_type], counts[var_type][var][grid_type], False)[file_id]"
   ]
  },
  {
   "cell_type": "code",
   "execution_count": 31,
   "metadata": {},
   "outputs": [
    {
     "data": {
      "text/plain": [
       "0.5659783669268011"
      ]
     },
     "execution_count": 31,
     "metadata": {},
     "output_type": "execute_result"
    }
   ],
   "source": [
    "compute_std(sums[var_type][var][grid_type], sums2[var_type][var][grid_type], counts[var_type][var][grid_type], False)[file_id]"
   ]
  },
  {
   "cell_type": "markdown",
   "metadata": {},
   "source": [
    "#### validate [all array]"
   ]
  },
  {
   "cell_type": "code",
   "execution_count": 32,
   "metadata": {},
   "outputs": [],
   "source": [
    "cache = uproot.LRUArrayCache(\"1 GB\")\n",
    "taus_lazy = uproot.lazy(file_names, array_cache=cache)"
   ]
  },
  {
   "cell_type": "code",
   "execution_count": 33,
   "metadata": {},
   "outputs": [],
   "source": [
    "var_type = 'global'\n",
    "var = 'npv'\n",
    "grid_type = 'inner'"
   ]
  },
  {
   "cell_type": "code",
   "execution_count": 34,
   "metadata": {},
   "outputs": [
    {
     "data": {
      "text/plain": [
       "(28.951920238477335, 9.490252281368088)"
      ]
     },
     "execution_count": 34,
     "metadata": {},
     "output_type": "execute_result"
    }
   ],
   "source": [
    "ak.mean(taus_lazy[var]), ak.std(taus_lazy[var])"
   ]
  },
  {
   "cell_type": "code",
   "execution_count": 35,
   "metadata": {},
   "outputs": [
    {
     "data": {
      "text/plain": [
       "{'mean': 28.951920238477335, 'std': 9.490252281368086}"
      ]
     },
     "execution_count": 35,
     "metadata": {},
     "output_type": "execute_result"
    }
   ],
   "source": [
    "means_stds[var_type][var][grid_type]"
   ]
  },
  {
   "cell_type": "code",
   "execution_count": null,
   "metadata": {},
   "outputs": [],
   "source": []
  },
  {
   "cell_type": "markdown",
   "metadata": {},
   "source": [
    "#### write to json"
   ]
  },
  {
   "cell_type": "code",
   "execution_count": 142,
   "metadata": {},
   "outputs": [],
   "source": [
    "with open(f'output/means_stds_v{version}_dev.json', 'w') as fout:\n",
    "    json.dump(means_stds, fout)"
   ]
  },
  {
   "cell_type": "code",
   "execution_count": null,
   "metadata": {},
   "outputs": [],
   "source": []
  }
 ],
 "metadata": {
  "kernelspec": {
   "display_name": "tau-dev",
   "language": "python",
   "name": "tau-dev"
  },
  "language_info": {
   "codemirror_mode": {
    "name": "ipython",
    "version": 3
   },
   "file_extension": ".py",
   "mimetype": "text/x-python",
   "name": "python",
   "nbconvert_exporter": "python",
   "pygments_lexer": "ipython3",
   "version": "3.8.8"
  }
 },
 "nbformat": 4,
 "nbformat_minor": 4
}
