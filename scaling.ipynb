{
 "cells": [
  {
   "cell_type": "code",
   "execution_count": null,
   "metadata": {},
   "outputs": [],
   "source": [
    "import ROOT as R\n",
    "\n",
    "import uproot\n",
    "import awkward as ak\n",
    "import numpy as np\n",
    "import pandas as pd\n",
    "import numba as nb\n",
    "import matplotlib.pyplot as plt\n",
    "\n",
    "import time\n",
    "import gc\n",
    "import yaml\n",
    "import json\n",
    "from glob import glob\n",
    "# from memory_profiler import profile"
   ]
  },
  {
   "cell_type": "code",
   "execution_count": 2,
   "metadata": {},
   "outputs": [],
   "source": [
    "%load_ext memory_profiler\n",
    "%load_ext line_profiler\n",
    "%load_ext autoreload\n",
    "%autoreload 2"
   ]
  },
  {
   "cell_type": "markdown",
   "metadata": {},
   "source": [
    "### loading data"
   ]
  },
  {
   "cell_type": "code",
   "execution_count": 3,
   "metadata": {},
   "outputs": [],
   "source": [
    "file_name = 'data/ShuffleMergeSpectral_2.root'\n",
    "tree_name = 'taus'"
   ]
  },
  {
   "cell_type": "code",
   "execution_count": 4,
   "metadata": {},
   "outputs": [],
   "source": [
    "cache = uproot.LRUArrayCache(\"1 GB\")\n",
    "taus_lazy = uproot.lazy(f'{file_name}:{tree_name}', array_cache=cache)"
   ]
  },
  {
   "cell_type": "code",
   "execution_count": 5,
   "metadata": {},
   "outputs": [
    {
     "data": {
      "text/plain": [
       "<Array [{run: 1, lumi: 118, ... 1]}] type='44436 * {\"run\": uint32, \"lumi\": uint3...'>"
      ]
     },
     "execution_count": 5,
     "metadata": {},
     "output_type": "execute_result"
    }
   ],
   "source": [
    "taus_lazy"
   ]
  },
  {
   "cell_type": "code",
   "execution_count": 6,
   "metadata": {},
   "outputs": [
    {
     "data": {
      "text/plain": [
       "<LRUArrayCache (1368636/1000000000 bytes full) at 0x2ae2451558e0>"
      ]
     },
     "execution_count": 6,
     "metadata": {},
     "output_type": "execute_result"
    }
   ],
   "source": [
    "cache"
   ]
  },
  {
   "cell_type": "code",
   "execution_count": 7,
   "metadata": {},
   "outputs": [],
   "source": [
    "cache.clear()"
   ]
  },
  {
   "cell_type": "code",
   "execution_count": 8,
   "metadata": {},
   "outputs": [
    {
     "data": {
      "text/plain": [
       "<LRUArrayCache (0/1000000000 bytes full) at 0x2ae2451558e0>"
      ]
     },
     "execution_count": 8,
     "metadata": {},
     "output_type": "execute_result"
    }
   ],
   "source": [
    "cache"
   ]
  },
  {
   "cell_type": "markdown",
   "metadata": {},
   "source": [
    "### loading data [2]"
   ]
  },
  {
   "cell_type": "code",
   "execution_count": 9,
   "metadata": {},
   "outputs": [],
   "source": [
    "t = uproot.open(f'{file_name}:{tree_name}')\n",
    "taus_zip = t.arrays(how='zip')"
   ]
  },
  {
   "cell_type": "code",
   "execution_count": 10,
   "metadata": {},
   "outputs": [],
   "source": [
    "# for taus in batch_yielder:\n",
    "#     break"
   ]
  },
  {
   "cell_type": "code",
   "execution_count": 11,
   "metadata": {},
   "outputs": [],
   "source": [
    "# taus"
   ]
  },
  {
   "cell_type": "markdown",
   "metadata": {},
   "source": [
    "### loading data [3]"
   ]
  },
  {
   "cell_type": "code",
   "execution_count": 12,
   "metadata": {},
   "outputs": [],
   "source": [
    "taus_r = R.RDataFrame(tree_name, file_name)"
   ]
  },
  {
   "cell_type": "markdown",
   "metadata": {},
   "source": [
    "### benchmark means/std"
   ]
  },
  {
   "cell_type": "markdown",
   "metadata": {},
   "source": [
    "#### RDataFrame"
   ]
  },
  {
   "cell_type": "code",
   "execution_count": 13,
   "metadata": {},
   "outputs": [
    {
     "name": "stdout",
     "output_type": "stream",
     "text": [
      "658 ms ± 18.9 ms per loop (mean ± std. dev. of 7 runs, 1 loop each)\n"
     ]
    }
   ],
   "source": [
    "%%timeit\n",
    "pt_mean = taus_r.Mean('pfCand_pt')\n",
    "pt_mean.GetValue()"
   ]
  },
  {
   "cell_type": "code",
   "execution_count": 14,
   "metadata": {},
   "outputs": [
    {
     "name": "stdout",
     "output_type": "stream",
     "text": [
      "656 ms ± 10.8 ms per loop (mean ± std. dev. of 7 runs, 1 loop each)\n"
     ]
    }
   ],
   "source": [
    "%%timeit\n",
    "pt_std = taus_r.StdDev('pfCand_pt')\n",
    "pt_std.GetValue()"
   ]
  },
  {
   "cell_type": "markdown",
   "metadata": {},
   "source": [
    "#### lazy awkward"
   ]
  },
  {
   "cell_type": "code",
   "execution_count": 15,
   "metadata": {},
   "outputs": [
    {
     "name": "stdout",
     "output_type": "stream",
     "text": [
      "657 µs ± 41.4 µs per loop (mean ± std. dev. of 7 runs, 1 loop each)\n"
     ]
    }
   ],
   "source": [
    "%%timeit\n",
    "ak.mean(taus_lazy['pfCand_pt'])"
   ]
  },
  {
   "cell_type": "code",
   "execution_count": 16,
   "metadata": {},
   "outputs": [
    {
     "name": "stdout",
     "output_type": "stream",
     "text": [
      "17.5 ms ± 194 µs per loop (mean ± std. dev. of 7 runs, 100 loops each)\n"
     ]
    }
   ],
   "source": [
    "%%timeit\n",
    "ak.std(taus_lazy['pfCand_pt'])"
   ]
  },
  {
   "cell_type": "markdown",
   "metadata": {},
   "source": [
    "#### zip awkward"
   ]
  },
  {
   "cell_type": "code",
   "execution_count": 17,
   "metadata": {},
   "outputs": [
    {
     "name": "stdout",
     "output_type": "stream",
     "text": [
      "508 µs ± 1.26 µs per loop (mean ± std. dev. of 7 runs, 1000 loops each)\n"
     ]
    }
   ],
   "source": [
    "%%timeit\n",
    "ak.mean(taus_zip['pfCand', 'pt'])"
   ]
  },
  {
   "cell_type": "code",
   "execution_count": 18,
   "metadata": {},
   "outputs": [
    {
     "name": "stdout",
     "output_type": "stream",
     "text": [
      "17.5 ms ± 157 µs per loop (mean ± std. dev. of 7 runs, 100 loops each)\n"
     ]
    }
   ],
   "source": [
    "%%timeit\n",
    "ak.std(taus_zip['pfCand', 'pt'])"
   ]
  },
  {
   "cell_type": "code",
   "execution_count": 19,
   "metadata": {},
   "outputs": [
    {
     "name": "stdout",
     "output_type": "stream",
     "text": [
      "16.7 ms ± 210 µs per loop (mean ± std. dev. of 7 runs, 100 loops each)\n"
     ]
    }
   ],
   "source": [
    "%%timeit\n",
    "ak.std(ak.flatten(taus_zip['pfCand', 'pt']))"
   ]
  },
  {
   "cell_type": "markdown",
   "metadata": {},
   "source": [
    "#### self-made awkward"
   ]
  },
  {
   "cell_type": "code",
   "execution_count": 20,
   "metadata": {},
   "outputs": [
    {
     "name": "stdout",
     "output_type": "stream",
     "text": [
      "17.7 ms ± 117 µs per loop (mean ± std. dev. of 7 runs, 100 loops each)\n"
     ]
    }
   ],
   "source": [
    "%%timeit\n",
    "pt_mean = ak.mean(taus_lazy['pfCand_pt'])\n",
    "pt_std = np.sqrt(ak.sum((taus_lazy['pfCand_pt'] - pt_mean)**2) / ak.count(taus_lazy['pfCand_pt']))"
   ]
  },
  {
   "cell_type": "code",
   "execution_count": null,
   "metadata": {},
   "outputs": [],
   "source": []
  },
  {
   "cell_type": "markdown",
   "metadata": {},
   "source": [
    "### compare S&M files"
   ]
  },
  {
   "cell_type": "code",
   "execution_count": 5,
   "metadata": {},
   "outputs": [],
   "source": [
    "taus_1 = uproot.open(f'data/ShuffleMergeSpectral_1.root:{tree_name}').arrays(how='zip')"
   ]
  },
  {
   "cell_type": "code",
   "execution_count": 6,
   "metadata": {},
   "outputs": [],
   "source": [
    "taus_3 = uproot.open(f'data/ShuffleMergeSpectral_3.root:{tree_name}').arrays(how='zip')"
   ]
  },
  {
   "cell_type": "code",
   "execution_count": 18,
   "metadata": {},
   "outputs": [
    {
     "data": {
      "text/plain": [
       "(296449347, 283203975)"
      ]
     },
     "execution_count": 18,
     "metadata": {},
     "output_type": "execute_result"
    }
   ],
   "source": [
    "ak.count(taus_1), ak.count(taus_3)"
   ]
  },
  {
   "cell_type": "code",
   "execution_count": 20,
   "metadata": {},
   "outputs": [
    {
     "data": {
      "text/plain": [
       "(191700, 183251)"
      ]
     },
     "execution_count": 20,
     "metadata": {},
     "output_type": "execute_result"
    }
   ],
   "source": [
    "len(taus_1), len(taus_3)"
   ]
  },
  {
   "cell_type": "code",
   "execution_count": 15,
   "metadata": {},
   "outputs": [
    {
     "data": {
      "text/plain": [
       "(6.531693611959568, 6.531911499813611)"
      ]
     },
     "execution_count": 15,
     "metadata": {},
     "output_type": "execute_result"
    }
   ],
   "source": [
    "ak.mean(taus_1['pfCand', 'pt']), ak.mean(taus_3['pfCand', 'pt'])"
   ]
  },
  {
   "cell_type": "code",
   "execution_count": 16,
   "metadata": {},
   "outputs": [
    {
     "data": {
      "text/plain": [
       "(35.57811990694886, 35.44534597127814)"
      ]
     },
     "execution_count": 16,
     "metadata": {},
     "output_type": "execute_result"
    }
   ],
   "source": [
    "ak.std(taus_1['pfCand', 'pt']), ak.std(taus_3['pfCand', 'pt'])"
   ]
  },
  {
   "cell_type": "code",
   "execution_count": 21,
   "metadata": {},
   "outputs": [
    {
     "data": {
      "text/plain": [
       "(-0.0028388169881038566, -0.0022471090837211266)"
      ]
     },
     "execution_count": 21,
     "metadata": {},
     "output_type": "execute_result"
    }
   ],
   "source": [
    "ak.mean(taus_1['pfCand', 'eta']), ak.mean(taus_3['pfCand', 'eta'])"
   ]
  },
  {
   "cell_type": "code",
   "execution_count": 22,
   "metadata": {},
   "outputs": [
    {
     "data": {
      "text/plain": [
       "(1.259707597657328, 1.2584580628293074)"
      ]
     },
     "execution_count": 22,
     "metadata": {},
     "output_type": "execute_result"
    }
   ],
   "source": [
    "ak.std(taus_1['pfCand', 'eta']), ak.std(taus_3['pfCand', 'eta'])"
   ]
  },
  {
   "cell_type": "code",
   "execution_count": null,
   "metadata": {},
   "outputs": [],
   "source": []
  },
  {
   "cell_type": "markdown",
   "metadata": {},
   "source": [
    "### dev"
   ]
  },
  {
   "cell_type": "code",
   "execution_count": 21,
   "metadata": {},
   "outputs": [],
   "source": [
    "tree_name = 'taus'\n",
    "var_structure = {}"
   ]
  },
  {
   "cell_type": "code",
   "execution_count": 22,
   "metadata": {},
   "outputs": [
    {
     "data": {
      "text/plain": [
       "['data/ShuffleMergeSpectral_5.root',\n",
       " 'data/ShuffleMergeSpectral_4.root',\n",
       " 'data/ShuffleMergeSpectral_3.root',\n",
       " 'data/ShuffleMergeSpectral_1.root',\n",
       " 'data/ShuffleMergeSpectral_2.root']"
      ]
     },
     "execution_count": 22,
     "metadata": {},
     "output_type": "execute_result"
    }
   ],
   "source": [
    "file_names = glob('data/ShuffleMergeSpectral*.root')\n",
    "file_names"
   ]
  },
  {
   "cell_type": "markdown",
   "metadata": {},
   "source": [
    "#### global vars"
   ]
  },
  {
   "cell_type": "code",
   "execution_count": 23,
   "metadata": {},
   "outputs": [],
   "source": [
    "tau_dxy_valid = '(tau_dxy > -10) & (tau_dxy_error > 0)'\n",
    "tau_dz_sig_valid = 'tau_dz_error > 0'\n",
    "tau_ip3d_valid = '(tau_ip3d > - 10) & (tau_ip3d_error > 0)'"
   ]
  },
  {
   "cell_type": "code",
   "execution_count": 24,
   "metadata": {},
   "outputs": [],
   "source": [
    "var_structure['global'] = {\n",
    "###  \"pt\": (\"pt > 50\", {\"pt\": \"sqrt(px**2 + py**2)\"} ) <--- var_name: (selection, aliases) ###\n",
    "    'npv': (None, None), 'rho': (None, None),\n",
    "    'pv_x': (None, None), 'pv_y': (None, None), 'pv_z': (None, None), 'pv_chi2': (None, None), 'pv_ndof': (None, None),\n",
    "    'tau_mass': (None, None),  'chargedIsoPtSum': (None, None), 'footprintCorrection': (None, None), 'neutralIsoPtSum': (None, None), \n",
    "    'photonPtSumOutsideSignalCone': (None, None), 'puCorrPtSum': (None, None), \n",
    "    \n",
    "    'tau_dxy_pca_x': (None, None), 'tau_dxy_pca_y': (None, None), 'tau_dxy_pca_z': (None, None), \n",
    "    'tau_dxy': (tau_dxy_valid, None), 'tau_dxy_sig': (tau_dxy_valid, {'tau_dxy_sig': 'abs(tau_dxy)/tau_dxy_error'}),\n",
    "    'tau_dz': (None, None), 'tau_dz_sig': (tau_dz_sig_valid, {'tau_dz_sig': 'abs(tau_dz)/tau_dz_error'}),\n",
    "    'tau_ip3d': (tau_ip3d_valid, None), 'tau_ip3d_sig': (tau_ip3d_valid, {'tau_ip3d_sig': 'abs(tau_ip3d)/tau_ip3d_error'}),\n",
    "    \n",
    "    'tau_flightLength_x': (None, None), 'tau_flightLength_y': (None, None), 'tau_flightLength_z': (None, None), 'tau_flightLength_sig': (None, None),\n",
    "    'tau_pt_weighted_dr_signal': (None, None), 'tau_leadingTrackNormChi2': (None, None),\n",
    "    'tau_n_photons': (None, None),\n",
    "    'leadChargedCand_etaAtEcalEntrance_minus_tau_eta': (None, {'leadChargedCand_etaAtEcalEntrance_minus_tau_eta': 'leadChargedCand_etaAtEcalEntrance - tau_eta'}),\n",
    "}"
   ]
  },
  {
   "cell_type": "markdown",
   "metadata": {},
   "source": [
    "#### ele vars"
   ]
  },
  {
   "cell_type": "code",
   "execution_count": 25,
   "metadata": {},
   "outputs": [],
   "source": [
    "cc_valid = 'ele_cc_ele_energy >= 0'\n",
    "has_closestCtfTrack = 'ele_closestCtfTrack_normalizedChi2 >= 0'"
   ]
  },
  {
   "cell_type": "code",
   "execution_count": 26,
   "metadata": {},
   "outputs": [],
   "source": [
    "var_structure['ele'] = {\n",
    "###  \"pt\": (\"pt > 50 and abs(eta) < 2.1\", {\"pt\": \"sqrt(px**2 + py**2)\"} ) <--- var_name: (selection, aliases) ###\n",
    "\n",
    "    'ele_rel_pt': (None, {'ele_rel_pt': 'ele_pt/tau_pt'}),\n",
    "    'ele_cc_ele_rel_energy': (cc_valid, {'ele_cc_ele_rel_energy': 'ele_cc_ele_energy/ele_pt'}),\n",
    "    'ele_cc_gamma_rel_energy': (cc_valid, {'ele_cc_gamma_rel_energy': 'ele_cc_gamma_energy/ele_cc_ele_energy'}),\n",
    "    'ele_cc_n_gamma': (None, None),\n",
    "    'ele_rel_trackMomentumAtVtx': (None, {'ele_rel_trackMomentumAtVtx': 'ele_trackMomentumAtVtx/ele_pt'}),\n",
    "    'ele_rel_trackMomentumAtCalo': (None, {'ele_rel_trackMomentumAtCalo': 'ele_trackMomentumAtCalo/ele_pt'}),\n",
    "    'ele_rel_trackMomentumOut': (None, {'ele_rel_trackMomentumOut': 'ele_trackMomentumOut/ele_pt'}),\n",
    "    'ele_rel_trackMomentumAtEleClus': (None, {'ele_rel_trackMomentumAtEleClus': 'ele_trackMomentumAtEleClus/ele_pt'}),\n",
    "    'ele_rel_trackMomentumAtVtxWithConstraint': (None, {'ele_rel_trackMomentumAtVtxWithConstraint': 'ele_trackMomentumAtVtxWithConstraint/ele_pt'}),\n",
    "    'ele_rel_ecalEnergy': (None, {'ele_rel_ecalEnergy': 'ele_ecalEnergy/ele_pt'}),\n",
    "    'ele_ecalEnergy_sig': (None, {'ele_ecalEnergy_sig': 'ele_ecalEnergy/ele_ecalEnergy_error'}),\n",
    "\n",
    "    'ele_eSuperClusterOverP': (None, None), 'ele_eSeedClusterOverP': (None, None), \n",
    "    'ele_eSeedClusterOverPout': (None, None), 'ele_eEleClusterOverPout': (None, None),\n",
    "    'ele_deltaEtaSuperClusterTrackAtVtx': (None, None), 'ele_deltaEtaSeedClusterTrackAtCalo': (None, None),\n",
    "    'ele_deltaEtaEleClusterTrackAtCalo': (None, None), 'ele_deltaPhiEleClusterTrackAtCalo': (None, None),\n",
    "    'ele_deltaPhiSuperClusterTrackAtVtx': (None, None), 'ele_deltaPhiSeedClusterTrackAtCalo': (None, None),\n",
    "    \n",
    "    'ele_mvaInput_sigmaEtaEta': (None, None), 'ele_mvaInput_hadEnergy': (None, None),\n",
    "    'ele_gsfTrack_normalizedChi2': (None, None), 'ele_gsfTrack_numberOfValidHits': (None, None), 'ele_mvaInput_sigmaEtaEta': (None, None),\n",
    "    \n",
    "    'ele_rel_gsfTrack_pt': (None, {'ele_rel_gsfTrack_pt': 'ele_gsfTrack_pt/ele_pt'}),\n",
    "    'ele_gsfTrack_pt_sig': (None, {'ele_gsfTrack_pt_sig': 'ele_gsfTrack_pt/ele_gsfTrack_pt_error'}),\n",
    "    \n",
    "    'ele_closestCtfTrack_normalizedChi2': (has_closestCtfTrack, None), 'ele_closestCtfTrack_numberOfValidHits': (has_closestCtfTrack, None), \n",
    "}"
   ]
  },
  {
   "cell_type": "markdown",
   "metadata": {},
   "source": [
    "#### neutralHadron vars"
   ]
  },
  {
   "cell_type": "code",
   "execution_count": 27,
   "metadata": {},
   "outputs": [],
   "source": [
    "is_neutralHadron = 'abs(pfCand_pdgId) == 130'"
   ]
  },
  {
   "cell_type": "code",
   "execution_count": 28,
   "metadata": {},
   "outputs": [],
   "source": [
    "var_structure['PfCand_neutralHadron'] = {\n",
    "###  \"pt\": (\"pt > 50\", {\"pt\": \"sqrt(px**2 + py**2)\"} ) <--- var_name: (selection, aliases) ###\n",
    "\n",
    "    'pfCand_nHad_rel_pt': (is_neutralHadron, {'pfCand_nHad_rel_pt': 'pfCand_pt/tau_pt'}),\n",
    "}"
   ]
  },
  {
   "cell_type": "markdown",
   "metadata": {},
   "source": [
    "#### compute sums"
   ]
  },
  {
   "cell_type": "code",
   "execution_count": 29,
   "metadata": {},
   "outputs": [
    {
     "name": "stdout",
     "output_type": "stream",
     "text": [
      "processed data/ShuffleMergeSpectral_5.root in 6.99 s\n",
      "processed data/ShuffleMergeSpectral_4.root in 8.28 s\n",
      "processed data/ShuffleMergeSpectral_3.root in 5.55 s\n",
      "processed data/ShuffleMergeSpectral_1.root in 5.88 s\n",
      "processed data/ShuffleMergeSpectral_2.root in 2.01 s\n"
     ]
    }
   ],
   "source": [
    "# %%timeit\n",
    "sums = {var_type: {var: np.zeros(len(file_names), dtype='float64') for var in var_dict.keys()} for var_type, var_dict in var_structure.items()}\n",
    "sums2 = {var_type: {var: np.zeros(len(file_names), dtype='float64') for var in var_dict.keys()} for var_type, var_dict in var_structure.items()}\n",
    "counts = {var_type: {var: np.zeros(len(file_names), dtype='int64') for var in var_dict.keys()} for var_type, var_dict in var_structure.items()}\n",
    "program_starts = time.time()\n",
    "last_file_done = program_starts\n",
    "for i, file_name in enumerate(file_names):\n",
    "    with uproot.open(file_name, array_cache='10 GB') as f:\n",
    "        for var_type, var_dict in var_structure.items():\n",
    "            for var, (selection, aliases) in var_dict.items():\n",
    "                taus_batches = f[tree_name].iterate(var, cut=selection, aliases=aliases, step_size='1 GB') # , how='zip'\n",
    "                for batch in taus_batches:\n",
    "                    sums[var_type][var][i] += ak.sum(batch[var])\n",
    "                    sums2[var_type][var][i] += ak.sum(batch[var]**2)\n",
    "                    counts[var_type][var][i] += ak.count(batch[var])\n",
    "    processed_file = time.time()\n",
    "    print(f'processed {file_name} in {processed_file - last_file_done:.2f} s')\n",
    "    last_file_done = processed_file"
   ]
  },
  {
   "cell_type": "code",
   "execution_count": 30,
   "metadata": {},
   "outputs": [
    {
     "data": {
      "text/plain": [
       "{'npv': array([6736688., 8099652., 5300815., 5546621., 1287167.]),\n",
       " 'rho': array([4952134.5, 5951399. , 3892448. , 4074656.5,  946514.5]),\n",
       " 'pv_x': array([2603.8046875 , 3152.41967773, 2048.78613281, 2153.41918945,\n",
       "         498.01062012]),\n",
       " 'pv_y': array([ 9588.64355469, 11516.95117188,  7544.53417969,  7892.27441406,\n",
       "         1826.89196777]),\n",
       " 'pv_z': array([5541.16162109, 8135.78027344, 6629.40185547, 7491.61523438,\n",
       "        1687.21313477]),\n",
       " 'pv_chi2': array([19925870. , 23958688. , 15674731. , 16422384. ,  3781319.5]),\n",
       " 'pv_ndof': array([26618356. , 32036432. , 20954744. , 21958678. ,  5054356.5]),\n",
       " 'tau_mass': array([151784.        , 182567.15625   , 119485.3359375 , 124684.2734375 ,\n",
       "         28979.16601562]),\n",
       " 'chargedIsoPtSum': array([5934923.5 , 7082429.  , 4658769.5 , 4883036.5 , 1087270.75]),\n",
       " 'footprintCorrection': array([1337027.75   , 1581763.375  , 1042740.     , 1099172.     ,\n",
       "         253387.46875]),\n",
       " 'neutralIsoPtSum': array([6453830.5, 7659388.5, 5006643. , 5291715. , 1236205. ]),\n",
       " 'photonPtSumOutsideSignalCone': array([314584.1875  , 379288.375   , 245784.609375, 258333.828125,\n",
       "         59252.875   ]),\n",
       " 'puCorrPtSum': array([5475415.5  , 6559009.5  , 4312854.5  , 4489421.   , 1059137.625]),\n",
       " 'tau_dxy_pca_x': array([2593.47924805, 3118.2487793 , 2048.22949219, 2138.48583984,\n",
       "         499.59887695]),\n",
       " 'tau_dxy_pca_y': array([ 9529.859375  , 11464.21777344,  7506.67480469,  7863.55615234,\n",
       "         1817.55578613]),\n",
       " 'tau_dxy_pca_z': array([5903.10839844, 7943.88232422, 6258.35693359, 7273.03369141,\n",
       "        1227.80895996]),\n",
       " 'tau_dxy': array([230.26158142, 284.23062134, 187.55578613, 186.93235779,\n",
       "         45.24571991]),\n",
       " 'tau_dxy_sig': array([420213.25    , 506066.03125 , 333691.65625 , 346122.6875  ,\n",
       "         79761.296875]),\n",
       " 'tau_dz': array([ 431.98153687,  -40.96928406, -330.35205078, -106.07777405,\n",
       "        -426.54541016]),\n",
       " 'tau_dz_sig': array([6087727.5  , 7752727.5  , 5144786.   , 5185612.   , 1251488.125]),\n",
       " 'tau_ip3d': array([379.12838745, 478.61618042, 294.33627319, 318.02670288,\n",
       "         69.31733704]),\n",
       " 'tau_ip3d_sig': array([598456.75    , 716287.8125  , 472739.03125 , 492086.25    ,\n",
       "        114137.515625]),\n",
       " 'tau_flightLength_x': array([-113.1252594 , -123.8838501 ,   96.37410736,  381.92840576,\n",
       "          82.72401428]),\n",
       " 'tau_flightLength_y': array([-538.67468262,  -37.2122879 , -299.95596313, -681.91680908,\n",
       "         -15.29410553]),\n",
       " 'tau_flightLength_z': array([ 279.23599243,  175.11502075, -525.96350098, -734.6138916 ,\n",
       "         347.35333252]),\n",
       " 'tau_flightLength_sig': array([-1316875.375  , -1588575.75   , -1034730.     , -1084786.125  ,\n",
       "         -254948.40625]),\n",
       " 'tau_pt_weighted_dr_signal': array([ 989.64440918, 1209.09082031,  787.79455566,  826.23168945,\n",
       "         193.67993164]),\n",
       " 'tau_leadingTrackNormChi2': array([235822., 285086., 184267., 190214.,  45099.]),\n",
       " 'tau_n_photons': array([544831., 651503., 426813., 446295., 102472.]),\n",
       " 'leadChargedCand_etaAtEcalEntrance_minus_tau_eta': array([-23025638. , -27679874. , -18141930. , -18978204. ,  -4398846.5])}"
      ]
     },
     "execution_count": 30,
     "metadata": {},
     "output_type": "execute_result"
    }
   ],
   "source": [
    "sums['global']"
   ]
  },
  {
   "cell_type": "markdown",
   "metadata": {},
   "source": [
    "#### compute mean/std"
   ]
  },
  {
   "cell_type": "code",
   "execution_count": 78,
   "metadata": {},
   "outputs": [],
   "source": [
    "def compute_mean(sums, counts, var_type, var, aggregate=True, *files_range):\n",
    "    if aggregate:\n",
    "        if files_range:\n",
    "            if len(files_range) == 2:\n",
    "                return sums[var_type][var][files_range[0]:files_range[1]].sum()/counts[var_type][var][files_range[0]:files_range[1]].sum()\n",
    "            else:\n",
    "                raise ValueError(\"window should have 2 values\")\n",
    "        else:\n",
    "            return sums[var_type][var].sum()/counts[var_type][var].sum()\n",
    "    else:\n",
    "        return sums[var_type][var]/counts[var_type][var]"
   ]
  },
  {
   "cell_type": "code",
   "execution_count": 72,
   "metadata": {},
   "outputs": [],
   "source": [
    "def compute_std(sums2, counts, means, var_type, var, aggregate=True):\n",
    "    if aggregate:\n",
    "        return np.sqrt(sums2[var_type][var].sum()/counts[var_type][var].sum() - means[var_type][var]**2)\n",
    "    else:\n",
    "        return np.sqrt(sums2[var_type][var]/counts[var_type][var] - means[var_type][var]**2)"
   ]
  },
  {
   "cell_type": "code",
   "execution_count": 73,
   "metadata": {},
   "outputs": [],
   "source": [
    "var_type = 'ele'\n",
    "means, stds = {}, {}\n",
    "means[var_type] = {var: compute_mean(sums, counts, var_type, var, True) for var in var_structure[var_type].keys()}\n",
    "stds[var_type] = {var: compute_std(sums2, counts, means, var_type, var, True) for var in var_structure[var_type].keys()}"
   ]
  },
  {
   "cell_type": "code",
   "execution_count": 74,
   "metadata": {},
   "outputs": [
    {
     "data": {
      "text/plain": [
       "{'ele_rel_pt': 0.916113256701234,\n",
       " 'ele_cc_ele_rel_energy': 1.8027933535761105,\n",
       " 'ele_cc_gamma_rel_energy': 0.11879583984841108,\n",
       " 'ele_cc_n_gamma': -12.331005388542257,\n",
       " 'ele_rel_trackMomentumAtVtx': 1.9692697477323486,\n",
       " 'ele_rel_trackMomentumAtCalo': 1.9693049342969273,\n",
       " 'ele_rel_trackMomentumOut': 0.8856736523810138,\n",
       " 'ele_rel_trackMomentumAtEleClus': 0.8856774228196869,\n",
       " 'ele_rel_trackMomentumAtVtxWithConstraint': 1.713368243273185,\n",
       " 'ele_rel_ecalEnergy': 2.0425174555574177,\n",
       " 'ele_ecalEnergy_sig': 71.1713875496313,\n",
       " 'ele_eSuperClusterOverP': 2.567563566952315,\n",
       " 'ele_eSeedClusterOverP': 2.1962159953011398,\n",
       " 'ele_eSeedClusterOverPout': 6.795766402906332,\n",
       " 'ele_eEleClusterOverPout': 4.282800449703179,\n",
       " 'ele_deltaEtaSuperClusterTrackAtVtx': 7.846321923490073e-05,\n",
       " 'ele_deltaEtaSeedClusterTrackAtCalo': -0.0002575860463610282,\n",
       " 'ele_deltaEtaEleClusterTrackAtCalo': -0.00026019224681400843,\n",
       " 'ele_deltaPhiEleClusterTrackAtCalo': 2.2400793527392578e-05,\n",
       " 'ele_deltaPhiSuperClusterTrackAtVtx': -0.0002474935837418497,\n",
       " 'ele_deltaPhiSeedClusterTrackAtCalo': -2.686946144211208e-05,\n",
       " 'ele_mvaInput_sigmaEtaEta': 0.0006884820857264656,\n",
       " 'ele_mvaInput_hadEnergy': 27.12814757982906,\n",
       " 'ele_gsfTrack_normalizedChi2': 3.0185294715111444,\n",
       " 'ele_gsfTrack_numberOfValidHits': 16.452789021811995,\n",
       " 'ele_rel_gsfTrack_pt': 9.52156699733393,\n",
       " 'ele_gsfTrack_pt_sig': 4.886204333756059,\n",
       " 'ele_closestCtfTrack_normalizedChi2': 2.698689409663914,\n",
       " 'ele_closestCtfTrack_numberOfValidHits': 15.260791828832211}"
      ]
     },
     "execution_count": 74,
     "metadata": {},
     "output_type": "execute_result"
    }
   ],
   "source": [
    "means[var_type]"
   ]
  },
  {
   "cell_type": "code",
   "execution_count": 75,
   "metadata": {},
   "outputs": [
    {
     "data": {
      "text/plain": [
       "{'ele_rel_pt': 0.7443117810719942,\n",
       " 'ele_cc_ele_rel_energy': 1.3071761376004307,\n",
       " 'ele_cc_gamma_rel_energy': 0.28672307489626236,\n",
       " 'ele_cc_n_gamma': 118.31283353581435,\n",
       " 'ele_rel_trackMomentumAtVtx': 91.06625562185117,\n",
       " 'ele_rel_trackMomentumAtCalo': 91.06625494278842,\n",
       " 'ele_rel_trackMomentumOut': 12.725610212405734,\n",
       " 'ele_rel_trackMomentumAtEleClus': 12.725610029133072,\n",
       " 'ele_rel_trackMomentumAtVtxWithConstraint': 7.802024362485641,\n",
       " 'ele_rel_ecalEnergy': 1.3705716876132157,\n",
       " 'ele_ecalEnergy_sig': 54.990134165503086,\n",
       " 'ele_eSuperClusterOverP': 13.974667084820739,\n",
       " 'ele_eSeedClusterOverP': 12.79989999732592,\n",
       " 'ele_eSeedClusterOverPout': 32.436279192279365,\n",
       " 'ele_eEleClusterOverPout': 16.40539400357059,\n",
       " 'ele_deltaEtaSuperClusterTrackAtVtx': 0.044193842817713214,\n",
       " 'ele_deltaEtaSeedClusterTrackAtCalo': 0.04895207792574902,\n",
       " 'ele_deltaEtaEleClusterTrackAtCalo': 0.050599550377552406,\n",
       " 'ele_deltaPhiEleClusterTrackAtCalo': 0.053579564561007105,\n",
       " 'ele_deltaPhiSuperClusterTrackAtVtx': 0.052433538987894435,\n",
       " 'ele_deltaPhiSeedClusterTrackAtCalo': 0.07505673674178022,\n",
       " 'ele_mvaInput_sigmaEtaEta': 0.00571433481658258,\n",
       " 'ele_mvaInput_hadEnergy': 85.13551536971723,\n",
       " 'ele_gsfTrack_normalizedChi2': 13.147234042803214,\n",
       " 'ele_gsfTrack_numberOfValidHits': 2.8269707818279306,\n",
       " 'ele_rel_gsfTrack_pt': 3453.74256374174,\n",
       " 'ele_gsfTrack_pt_sig': 2.7810235443530122,\n",
       " 'ele_closestCtfTrack_normalizedChi2': 8.719739019799112,\n",
       " 'ele_closestCtfTrack_numberOfValidHits': 5.184368919922248}"
      ]
     },
     "execution_count": 75,
     "metadata": {},
     "output_type": "execute_result"
    }
   ],
   "source": [
    "stds[var_type]"
   ]
  },
  {
   "cell_type": "markdown",
   "metadata": {},
   "source": [
    "#### dependance on files number"
   ]
  },
  {
   "cell_type": "code",
   "execution_count": 86,
   "metadata": {},
   "outputs": [
    {
     "data": {
      "text/plain": [
       "array([0.91678451, 0.92106623, 0.91003978, 0.91399554, 0.91564447])"
      ]
     },
     "execution_count": 86,
     "metadata": {},
     "output_type": "execute_result"
    }
   ],
   "source": [
    "# sums['global']['npv']/counts['global']['npv']\n",
    "sums['ele']['ele_rel_pt']/counts['ele']['ele_rel_pt']"
   ]
  },
  {
   "cell_type": "code",
   "execution_count": 84,
   "metadata": {},
   "outputs": [
    {
     "data": {
      "text/plain": [
       "0.9161368333869275"
      ]
     },
     "execution_count": 84,
     "metadata": {},
     "output_type": "execute_result"
    }
   ],
   "source": [
    "compute_mean(sums, counts, 'ele', 'ele_rel_pt', True, 0, -1)"
   ]
  },
  {
   "cell_type": "code",
   "execution_count": 85,
   "metadata": {},
   "outputs": [
    {
     "data": {
      "text/plain": [
       "0.916113256701234"
      ]
     },
     "execution_count": 85,
     "metadata": {},
     "output_type": "execute_result"
    }
   ],
   "source": [
    "compute_mean(sums, counts, 'ele', 'ele_rel_pt', True)"
   ]
  },
  {
   "cell_type": "markdown",
   "metadata": {},
   "source": [
    "#### validate"
   ]
  },
  {
   "cell_type": "code",
   "execution_count": 50,
   "metadata": {},
   "outputs": [],
   "source": [
    "# t = uproot.open(f'{file_names[0]}:{tree_name}')\n",
    "# taus = t.arrays(how='zip')"
   ]
  },
  {
   "cell_type": "code",
   "execution_count": 51,
   "metadata": {},
   "outputs": [],
   "source": [
    "cache = uproot.LRUArrayCache(\"1 GB\")\n",
    "taus = uproot.lazy(file_names, array_cache=cache)"
   ]
  },
  {
   "cell_type": "code",
   "execution_count": 55,
   "metadata": {},
   "outputs": [],
   "source": [
    "var_type = 'ele'\n",
    "var = 'ele_eSeedClusterOverP'"
   ]
  },
  {
   "cell_type": "code",
   "execution_count": 56,
   "metadata": {},
   "outputs": [
    {
     "data": {
      "text/plain": [
       "(2.196216096014026, 12.799899045004858)"
      ]
     },
     "execution_count": 56,
     "metadata": {},
     "output_type": "execute_result"
    }
   ],
   "source": [
    "ak.mean(taus[var]), ak.std(taus[var])"
   ]
  },
  {
   "cell_type": "code",
   "execution_count": 57,
   "metadata": {},
   "outputs": [
    {
     "data": {
      "text/plain": [
       "(2.1962159953011398, 12.79989999732592)"
      ]
     },
     "execution_count": 57,
     "metadata": {},
     "output_type": "execute_result"
    }
   ],
   "source": [
    "means[var_type][var], stds[var_type][var]"
   ]
  },
  {
   "cell_type": "code",
   "execution_count": null,
   "metadata": {},
   "outputs": [],
   "source": []
  },
  {
   "cell_type": "markdown",
   "metadata": {},
   "source": [
    "#### write to json"
   ]
  },
  {
   "cell_type": "code",
   "execution_count": 47,
   "metadata": {},
   "outputs": [],
   "source": [
    "means_dict = {}\n",
    "stds_dict = {}\n",
    "for var_type in var_structure.keys():\n",
    "    means_dict[var_type] = {var: compute_mean(sums, counts, var_type, var, True) for var in var_structure[var_type].keys()}\n",
    "    stds_dict[var_type] = {var: compute_std(sums2, counts, means_dict, var_type, var, True) for var in var_structure[var_type].keys()}"
   ]
  },
  {
   "cell_type": "code",
   "execution_count": 48,
   "metadata": {},
   "outputs": [],
   "source": [
    "with open('means.json', 'w') as fout:    \n",
    "    json.dump(means_dict, fout)"
   ]
  },
  {
   "cell_type": "code",
   "execution_count": 49,
   "metadata": {},
   "outputs": [],
   "source": [
    "with open('stds.json', 'w') as fout:    \n",
    "    json.dump(stds_dict, fout)"
   ]
  }
 ],
 "metadata": {
  "kernelspec": {
   "display_name": "tau-dev",
   "language": "python",
   "name": "tau-dev"
  },
  "language_info": {
   "codemirror_mode": {
    "name": "ipython",
    "version": 3
   },
   "file_extension": ".py",
   "mimetype": "text/x-python",
   "name": "python",
   "nbconvert_exporter": "python",
   "pygments_lexer": "ipython3",
   "version": "3.8.5"
  }
 },
 "nbformat": 4,
 "nbformat_minor": 4
}
