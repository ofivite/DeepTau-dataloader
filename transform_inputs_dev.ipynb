{
 "cells": [
  {
   "cell_type": "code",
   "execution_count": 1,
   "metadata": {},
   "outputs": [],
   "source": [
    "import uproot\n",
    "import awkward as ak\n",
    "import numpy as np\n",
    "import pandas as pd\n",
    "import numba as nb\n",
    "import matplotlib.pyplot as plt\n",
    "\n",
    "import yaml\n",
    "import time\n",
    "import glob\n",
    "import gc\n",
    "# from memory_profiler import profile"
   ]
  },
  {
   "cell_type": "code",
   "execution_count": 2,
   "metadata": {},
   "outputs": [],
   "source": [
    "%load_ext memory_profiler\n",
    "%load_ext line_profiler\n",
    "%load_ext autoreload\n",
    "%autoreload 2"
   ]
  },
  {
   "cell_type": "markdown",
   "metadata": {},
   "source": [
    "### uploading differently"
   ]
  },
  {
   "cell_type": "code",
   "execution_count": 5,
   "metadata": {},
   "outputs": [],
   "source": [
    "from transform_inputs import get_batch_yielder"
   ]
  },
  {
   "cell_type": "code",
   "execution_count": 6,
   "metadata": {},
   "outputs": [],
   "source": [
    "batch_size = 300\n",
    "batch_yielder = get_batch_yielder('data/ShuffleMergeSpectral_1.root', 'taus', batch_size)"
   ]
  },
  {
   "cell_type": "code",
   "execution_count": 7,
   "metadata": {},
   "outputs": [],
   "source": [
    "# getting one batch for tests\n",
    "for taus in batch_yielder:\n",
    "    break"
   ]
  },
  {
   "cell_type": "code",
   "execution_count": 8,
   "metadata": {},
   "outputs": [
    {
     "data": {
      "text/plain": [
       "<Array [{run: 1, lumi: 4444, ... ] type='300 * {\"run\": uint32, \"lumi\": uint32, \"...'>"
      ]
     },
     "execution_count": 8,
     "metadata": {},
     "output_type": "execute_result"
    }
   ],
   "source": [
    "taus"
   ]
  },
  {
   "cell_type": "code",
   "execution_count": 20,
   "metadata": {},
   "outputs": [],
   "source": [
    "i_tau = 7 # for tests"
   ]
  },
  {
   "cell_type": "markdown",
   "metadata": {},
   "source": [
    "### define the grid"
   ]
  },
  {
   "cell_type": "code",
   "execution_count": 12,
   "metadata": {},
   "outputs": [],
   "source": [
    "grid_types = ['inner', 'outer']\n",
    "grid_dim = ['eta', 'phi']\n",
    "grid_size, grid_left, grid_right = {}, {}, {}"
   ]
  },
  {
   "cell_type": "code",
   "execution_count": 13,
   "metadata": {},
   "outputs": [],
   "source": [
    "n_cells = {'inner': 11, 'outer': 21}\n",
    "cell_size = {'inner': 0.02, 'outer': 0.05}"
   ]
  },
  {
   "cell_type": "code",
   "execution_count": 14,
   "metadata": {},
   "outputs": [],
   "source": [
    "for grid_type in grid_types:\n",
    "    grid_size[grid_type] = cell_size[grid_type] * n_cells[grid_type]\n",
    "    grid_left[grid_type], grid_right[grid_type] = - grid_size[grid_type] / 2, grid_size[grid_type] / 2"
   ]
  },
  {
   "cell_type": "markdown",
   "metadata": {},
   "source": [
    "### derive constituents' features"
   ]
  },
  {
   "cell_type": "code",
   "execution_count": 21,
   "metadata": {},
   "outputs": [],
   "source": [
    "from transform_inputs import add_vars_to_taus"
   ]
  },
  {
   "cell_type": "code",
   "execution_count": 22,
   "metadata": {},
   "outputs": [],
   "source": [
    "constituent_types = ['ele', 'muon', 'pfCand']"
   ]
  },
  {
   "cell_type": "code",
   "execution_count": 23,
   "metadata": {},
   "outputs": [],
   "source": [
    "# %%timeit\n",
    "for c_type in constituent_types: \n",
    "    add_vars_to_taus(taus, c_type)"
   ]
  },
  {
   "cell_type": "code",
   "execution_count": 24,
   "metadata": {},
   "outputs": [
    {
     "data": {
      "text/plain": [
       "(0, 0, 55)"
      ]
     },
     "execution_count": 24,
     "metadata": {},
     "output_type": "execute_result"
    }
   ],
   "source": [
    "taus[tau_i]['n_ele'],  taus[tau_i]['n_muon'], taus[tau_i]['n_pfCand'],"
   ]
  },
  {
   "cell_type": "code",
   "execution_count": 25,
   "metadata": {},
   "outputs": [
    {
     "data": {
      "image/png": "[encoded data removed]",
      "text/plain": [
       "<Figure size 432x288 with 1 Axes>"
      ]
     },
     "metadata": {
      "needs_background": "light"
     },
     "output_type": "display_data"
    }
   ],
   "source": [
    "plt.hist(taus[tau_i]['pfCand', 'deta'])\n",
    "plt.show()"
   ]
  },
  {
   "cell_type": "markdown",
   "metadata": {},
   "source": [
    "### derive inner/outer grid masks"
   ]
  },
  {
   "cell_type": "code",
   "execution_count": 26,
   "metadata": {},
   "outputs": [],
   "source": [
    "from transform_inputs import derive_grid_mask"
   ]
  },
  {
   "cell_type": "code",
   "execution_count": 28,
   "metadata": {},
   "outputs": [],
   "source": [
    "# grid masks placeholder\n",
    "grid_mask_dict = {key: {} for key in grid_types}"
   ]
  },
  {
   "cell_type": "code",
   "execution_count": 29,
   "metadata": {},
   "outputs": [],
   "source": [
    "# %%timeit\n",
    "for c_type in constituent_types:\n",
    "    for grid_type in grid_types:\n",
    "        grid_mask_dict[grid_type][c_type] = derive_grid_mask(taus, c_type, grid_type)\n",
    "    taus[c_type, 'inner_grid_mask'] = grid_mask_dict['inner'][c_type]\n",
    "    taus[c_type, 'outer_grid_mask'] = grid_mask_dict['outer'][c_type] * (~grid_mask_dict['inner'][c_type])"
   ]
  },
  {
   "cell_type": "code",
   "execution_count": 30,
   "metadata": {},
   "outputs": [
    {
     "name": "stdout",
     "output_type": "stream",
     "text": [
      "ele: total 0 constituents in the inner cone for tau with i=7\n",
      "ele: total 0 constituents in the outer cone for tau with i=7\n",
      "\n",
      "muon: total 0 constituents in the inner cone for tau with i=7\n",
      "muon: total 0 constituents in the outer cone for tau with i=7\n",
      "\n",
      "pfCand: total 13 constituents in the inner cone for tau with i=7\n",
      "pfCand: total 42 constituents in the outer cone for tau with i=7\n",
      "\n"
     ]
    }
   ],
   "source": [
    "for c_type in constituent_types:  \n",
    "    for grid_type in grid_types:\n",
    "        print(f'{c_type}: total {sum(taus[tau_i][c_type, f\"{grid_type}_grid_mask\"])} constituents in the {grid_type} cone for tau with i={tau_i}')\n",
    "    print()"
   ]
  },
  {
   "cell_type": "code",
   "execution_count": 31,
   "metadata": {},
   "outputs": [
    {
     "name": "stdout",
     "output_type": "stream",
     "text": [
      "***************\n",
      "\n",
      "ele: total count of constituents per tau in the inner cone\n",
      "[0, 0, 0, 1, 0, 0, 1, 0, 0, 0, 1, 0, 1, 1, ... 1, 1, 0, 0, 0, 0, 1, 0, 1, 0, 0, 0, 0]\n",
      "\n",
      "ele: total count of constituents per tau in the outer cone\n",
      "[0, 0, 0, 1, 0, 0, 0, 0, 0, 1, 0, 0, 0, 0, ... 0, 0, 0, 0, 0, 0, 0, 0, 0, 0, 0, 0, 0]\n",
      "\n",
      "***************\n",
      "\n",
      "muon: total count of constituents per tau in the inner cone\n",
      "[1, 3, 2, 0, 1, 0, 0, 0, 0, 0, 0, 1, 0, 0, ... 0, 0, 1, 0, 1, 1, 0, 1, 0, 0, 0, 1, 0]\n",
      "\n",
      "muon: total count of constituents per tau in the outer cone\n",
      "[0, 0, 1, 0, 0, 0, 0, 0, 1, 0, 0, 0, 0, 0, ... 0, 0, 0, 0, 0, 0, 0, 0, 0, 0, 0, 0, 0]\n",
      "\n",
      "***************\n",
      "\n",
      "pfCand: total count of constituents per tau in the inner cone\n",
      "[1, 5, 14, 1, 3, 18, 3, 13, 1, 15, 2, 2, 4, ... 3, 3, 6, 2, 2, 3, 3, 2, 6, 4, 2, 3]\n",
      "\n",
      "pfCand: total count of constituents per tau in the outer cone\n",
      "[27, 26, 44, 27, 34, 28, 28, 42, 27, 61, ... 41, 16, 32, 13, 15, 12, 23, 44, 25, 23]\n",
      "\n",
      "***************\n"
     ]
    }
   ],
   "source": [
    "print(15*'*')\n",
    "for c_type in constituent_types: \n",
    "    print()\n",
    "    for grid_type in grid_types:  \n",
    "        grid_mask = taus[c_type, f\"{grid_type}_grid_mask\"]\n",
    "        print(f'{c_type}: total count of constituents per tau in the {grid_type} cone\\n{ak.sum(grid_mask, axis=1)}')\n",
    "        print()\n",
    "    print(15*'*')"
   ]
  },
  {
   "cell_type": "markdown",
   "metadata": {},
   "source": [
    "### derive cell indices "
   ]
  },
  {
   "cell_type": "code",
   "execution_count": 33,
   "metadata": {},
   "outputs": [],
   "source": [
    "from transform_inputs import derive_cell_indices"
   ]
  },
  {
   "cell_type": "code",
   "execution_count": 34,
   "metadata": {},
   "outputs": [],
   "source": [
    "# %%timeit\n",
    "for c_type in constituent_types: \n",
    "    for grid_type in grid_types:\n",
    "        for dim in grid_dim:\n",
    "            taus[c_type, f'{grid_type}_grid_indices_{dim}'] = derive_cell_indices(taus, c_type, grid_type, dim)"
   ]
  },
  {
   "cell_type": "code",
   "execution_count": 36,
   "metadata": {},
   "outputs": [
    {
     "name": "stdout",
     "output_type": "stream",
     "text": [
      "***************\n",
      "\n",
      "ele: eta indices of constituents for tau with i=7 in the inner cone\n",
      "[]\n",
      "\n",
      "ele: eta indices of constituents for tau with i=7 in the outer cone\n",
      "[]\n",
      "***************\n",
      "\n",
      "muon: eta indices of constituents for tau with i=7 in the inner cone\n",
      "[]\n",
      "\n",
      "muon: eta indices of constituents for tau with i=7 in the outer cone\n",
      "[]\n",
      "***************\n",
      "\n",
      "pfCand: eta indices of constituents for tau with i=7 in the inner cone\n",
      "[5, 8, 6, 5, 5, 5, 5, 4, 4, 3, 0, 7, 9]\n",
      "\n",
      "pfCand: eta indices of constituents for tau with i=7 in the outer cone\n",
      "[15, 12, 9, 5, 10, 10, 12, 10, 18, 19, 16, ... 16, 13, 12, 11, 10, 10, 7, 6, 5, 3]\n",
      "***************\n"
     ]
    }
   ],
   "source": [
    "print(15*'*')\n",
    "for c_type in constituent_types: \n",
    "    for grid_type in grid_types:      \n",
    "        grid_mask = taus[c_type, f\"{grid_type}_grid_mask\"]\n",
    "        print()\n",
    "        print(f'{c_type}: eta indices of constituents for tau with i={tau_i} in the {grid_type} cone\\n{taus[c_type, f\"{grid_type}_grid_indices_eta\"][grid_mask][tau_i]}')\n",
    "    print(15*'*')"
   ]
  },
  {
   "cell_type": "code",
   "execution_count": null,
   "metadata": {},
   "outputs": [],
   "source": []
  },
  {
   "cell_type": "markdown",
   "metadata": {},
   "source": [
    "### validating indices"
   ]
  },
  {
   "cell_type": "code",
   "execution_count": 37,
   "metadata": {},
   "outputs": [],
   "source": [
    "grid_type = 'outer'\n",
    "c_type = 'pfCand'\n",
    "tau_i = 10"
   ]
  },
  {
   "cell_type": "code",
   "execution_count": 38,
   "metadata": {},
   "outputs": [
    {
     "data": {
      "text/html": [
       "<div>\n",
       "<style scoped>\n",
       "    .dataframe tbody tr th:only-of-type {\n",
       "        vertical-align: middle;\n",
       "    }\n",
       "\n",
       "    .dataframe tbody tr th {\n",
       "        vertical-align: top;\n",
       "    }\n",
       "\n",
       "    .dataframe thead th {\n",
       "        text-align: right;\n",
       "    }\n",
       "</style>\n",
       "<table border=\"1\" class=\"dataframe\">\n",
       "  <thead>\n",
       "    <tr style=\"text-align: right;\">\n",
       "      <th></th>\n",
       "      <th>deta</th>\n",
       "      <th>dphi</th>\n",
       "    </tr>\n",
       "    <tr>\n",
       "      <th>entry</th>\n",
       "      <th></th>\n",
       "      <th></th>\n",
       "    </tr>\n",
       "  </thead>\n",
       "  <tbody>\n",
       "    <tr>\n",
       "      <th>0</th>\n",
       "      <td>0.448764</td>\n",
       "      <td>-0.175213</td>\n",
       "    </tr>\n",
       "    <tr>\n",
       "      <th>1</th>\n",
       "      <td>0.486302</td>\n",
       "      <td>-0.060366</td>\n",
       "    </tr>\n",
       "    <tr>\n",
       "      <th>2</th>\n",
       "      <td>-0.096724</td>\n",
       "      <td>-0.242806</td>\n",
       "    </tr>\n",
       "    <tr>\n",
       "      <th>3</th>\n",
       "      <td>0.156519</td>\n",
       "      <td>0.374124</td>\n",
       "    </tr>\n",
       "    <tr>\n",
       "      <th>4</th>\n",
       "      <td>0.202663</td>\n",
       "      <td>-0.382540</td>\n",
       "    </tr>\n",
       "    <tr>\n",
       "      <th>5</th>\n",
       "      <td>-0.104415</td>\n",
       "      <td>0.112392</td>\n",
       "    </tr>\n",
       "    <tr>\n",
       "      <th>6</th>\n",
       "      <td>-0.258228</td>\n",
       "      <td>0.230261</td>\n",
       "    </tr>\n",
       "    <tr>\n",
       "      <th>7</th>\n",
       "      <td>0.000508</td>\n",
       "      <td>-0.485674</td>\n",
       "    </tr>\n",
       "    <tr>\n",
       "      <th>8</th>\n",
       "      <td>0.218593</td>\n",
       "      <td>0.333297</td>\n",
       "    </tr>\n",
       "    <tr>\n",
       "      <th>9</th>\n",
       "      <td>0.184718</td>\n",
       "      <td>0.385057</td>\n",
       "    </tr>\n",
       "    <tr>\n",
       "      <th>10</th>\n",
       "      <td>0.040975</td>\n",
       "      <td>0.315912</td>\n",
       "    </tr>\n",
       "    <tr>\n",
       "      <th>11</th>\n",
       "      <td>-0.150192</td>\n",
       "      <td>0.126348</td>\n",
       "    </tr>\n",
       "  </tbody>\n",
       "</table>\n",
       "</div>"
      ],
      "text/plain": [
       "           deta      dphi\n",
       "entry                    \n",
       "0      0.448764 -0.175213\n",
       "1      0.486302 -0.060366\n",
       "2     -0.096724 -0.242806\n",
       "3      0.156519  0.374124\n",
       "4      0.202663 -0.382540\n",
       "5     -0.104415  0.112392\n",
       "6     -0.258228  0.230261\n",
       "7      0.000508 -0.485674\n",
       "8      0.218593  0.333297\n",
       "9      0.184718  0.385057\n",
       "10     0.040975  0.315912\n",
       "11    -0.150192  0.126348"
      ]
     },
     "execution_count": 38,
     "metadata": {},
     "output_type": "execute_result"
    }
   ],
   "source": [
    "grid_mask = taus[c_type, f'{grid_type}_grid_mask']\n",
    "grid_coord = ak.to_pandas(taus[c_type, ['deta', 'dphi',]][grid_mask][tau_i])\n",
    "grid_coord"
   ]
  },
  {
   "cell_type": "code",
   "execution_count": 39,
   "metadata": {},
   "outputs": [
    {
     "name": "stdout",
     "output_type": "stream",
     "text": [
      "19.0 6.0\n",
      "20.0 9.0\n",
      "8.0 5.0\n",
      "13.0 17.0\n",
      "14.0 2.0\n",
      "8.0 12.0\n",
      "5.0 15.0\n",
      "10.0 0.0\n",
      "14.0 17.0\n",
      "14.0 18.0\n",
      "11.0 16.0\n",
      "7.0 13.0\n"
     ]
    }
   ],
   "source": [
    "eta_indices = taus[c_type, f\"{grid_type}_grid_indices_eta\"][grid_mask][tau_i].tolist()\n",
    "phi_indices = taus[c_type, f\"{grid_type}_grid_indices_phi\"][grid_mask][tau_i].tolist()\n",
    "for i,j in zip(eta_indices, phi_indices):\n",
    "    print(i,j)"
   ]
  },
  {
   "cell_type": "code",
   "execution_count": 41,
   "metadata": {},
   "outputs": [
    {
     "data": {
      "image/png": "[encoded data removed]",
      "text/plain": [
       "<Figure size 720x720 with 1 Axes>"
      ]
     },
     "metadata": {
      "needs_background": "light"
     },
     "output_type": "display_data"
    }
   ],
   "source": [
    "fig, ax = plt.subplots(1, figsize=(10, 10))\n",
    "\n",
    "if grid_type != 'inner':\n",
    "    ax.plot([grid_left['inner'], grid_right['inner']], [grid_right['inner'], grid_right['inner']], 'r')\n",
    "    ax.plot([grid_left['inner'], grid_left['inner']], [grid_left['inner'], grid_right['inner']], 'r')\n",
    "    ax.plot([grid_left['inner'], grid_right['inner']], [grid_left['inner'], grid_left['inner']], 'r')\n",
    "    ax.plot([grid_right['inner'], grid_right['inner']], [grid_left['inner'], grid_right['inner']], 'r')\n",
    "\n",
    "ax.scatter(x=grid_coord['deta'], y=grid_coord['dphi'])\n",
    "\n",
    "ax.set_xlim(grid_left[grid_type], grid_right[grid_type])\n",
    "ax.set_ylim(grid_left[grid_type], grid_right[grid_type])\n",
    "ax.set_xticks(np.arange(grid_left[grid_type], grid_right[grid_type], cell_size[grid_type]))\n",
    "ax.set_yticks(np.arange(grid_left[grid_type], grid_right[grid_type], cell_size[grid_type]))\n",
    "\n",
    "ax.set_xlabel('eta')\n",
    "ax.set_ylabel('phi')\n",
    "ax.set_title(f'{grid_type} grid')\n",
    "\n",
    "plt.grid(b=True, which='major', color='#666666', linestyle='-') \n",
    "\n",
    "plt.show()"
   ]
  },
  {
   "cell_type": "code",
   "execution_count": null,
   "metadata": {},
   "outputs": [],
   "source": []
  },
  {
   "cell_type": "markdown",
   "metadata": {},
   "source": [
    "### fill final tensor"
   ]
  },
  {
   "cell_type": "code",
   "execution_count": 43,
   "metadata": {},
   "outputs": [],
   "source": [
    "from transform_inputs import get_grid_mask, get_fill_indices, get_fill_values"
   ]
  },
  {
   "cell_type": "code",
   "execution_count": 42,
   "metadata": {},
   "outputs": [],
   "source": [
    "fill_branches = {'ele': taus['ele'].fields[:37],\n",
    "                 'muon': taus['muon'].fields[:37],\n",
    "                 'pfCand': taus['pfCand'].fields[:37]                \n",
    "                 } # branches to be stored"
   ]
  },
  {
   "cell_type": "code",
   "execution_count": 45,
   "metadata": {},
   "outputs": [],
   "source": [
    "# initialize tensors to be filled \n",
    "grid_tensors = {key: {} for key in grid_types}\n",
    "for c_type in constituent_types:\n",
    "    for grid_type in grid_types:\n",
    "        grid_tensors[grid_type][c_type] = np.zeros((batch_size, n_cells[grid_type], n_cells[grid_type], len(fill_branches[c_type])))"
   ]
  },
  {
   "cell_type": "code",
   "execution_count": 103,
   "metadata": {},
   "outputs": [],
   "source": [
    "# dictionaries to store timing\n",
    "get_mask_times = {key: {c_key: [] for c_key in constituent_types} for key in grid_types}\n",
    "get_fill_indices_times = {key: {c_key: [] for c_key in constituent_types} for key in grid_types}\n",
    "get_fill_values_times = {key: {c_key: [] for c_key in constituent_types} for key in grid_types}\n",
    "fill_tensor_times = {key: {c_key: [] for c_key in constituent_types} for key in grid_types}"
   ]
  },
  {
   "cell_type": "code",
   "execution_count": 104,
   "metadata": {},
   "outputs": [
    {
     "name": "stdout",
     "output_type": "stream",
     "text": [
      "        - 0th tau\n",
      "        - 100th tau\n",
      "        - 200th tau\n",
      "        - 0th tau\n",
      "        - 100th tau\n",
      "        - 200th tau\n",
      "        - 0th tau\n",
      "        - 100th tau\n",
      "        - 200th tau\n",
      "        - 0th tau\n",
      "        - 100th tau\n",
      "        - 200th tau\n",
      "        - 0th tau\n",
      "        - 100th tau\n",
      "        - 200th tau\n",
      "        - 0th tau\n",
      "        - 100th tau\n",
      "        - 200th tau\n"
     ]
    }
   ],
   "source": [
    "program_starts = time.time()\n",
    "for c_type in constituent_types:\n",
    "    # looping over grids\n",
    "    for grid_type in grid_types:\n",
    "        begin_iter = time.time()\n",
    "        \n",
    "        # fetch grid_mask\n",
    "        grid_mask = get_grid_mask(taus, c_type, grid_type)\n",
    "        after_get_mask = time.time()\n",
    "        get_mask_times[grid_type][c_type].append(after_get_mask - begin_iter)\n",
    "        \n",
    "        # fetch grid indices to be filled\n",
    "        indices_eta, indices_phi = get_fill_indices(taus, c_type, grid_type, grid_mask)\n",
    "        after_get_fill_indices = time.time()\n",
    "        get_fill_indices_times[grid_type][c_type].append(after_get_fill_indices - after_get_mask)\n",
    "            \n",
    "        # loop over taus in the batch\n",
    "        for i_tau, tau in enumerate(taus):\n",
    "            if i_tau%100 == 0:\n",
    "                print(f'        - {i_tau}th tau')\n",
    "            if ak.sum(grid_mask[i_tau]) == 0:\n",
    "                continue\n",
    "                \n",
    "            # fetch indices\n",
    "            i_eta, i_phi = indices_eta[i_tau], indices_phi[i_tau]\n",
    "            # fetch values to be filled\n",
    "            values_to_fill = get_fill_values(tau, c_type, fill_branches[c_type], grid_mask[i_tau])\n",
    "            after_get_fill_values = time.time()\n",
    "            get_fill_values_times[grid_type][c_type].append(after_get_fill_values - after_get_fill_indices)\n",
    "            \n",
    "            # put them in the tensor\n",
    "            grid_tensors[grid_type][c_type][i_tau, i_eta, i_phi, :] = values_to_fill\n",
    "            after_put = time.time()\n",
    "            fill_tensor_times[grid_type][c_type].append(after_put - after_get_fill_values)       \n",
    "program_ends = time.time()"
   ]
  },
  {
   "cell_type": "code",
   "execution_count": 105,
   "metadata": {},
   "outputs": [],
   "source": [
    "# # release memory\n",
    "#     for grid_type in grid_types:\n",
    "#         del grid_tensors[grid_type]\n",
    "# gc.collect()"
   ]
  },
  {
   "cell_type": "code",
   "execution_count": 106,
   "metadata": {},
   "outputs": [
    {
     "name": "stdout",
     "output_type": "stream",
     "text": [
      "Processed 300 taus in 1.5949733257293701 seconds\n",
      "\n",
      "=== ele\n",
      "\n",
      "------- inner cell\n",
      "median get_grid_mask() time: 0.00015282630920410156\n",
      "median get_fill_indices() time: 0.0006120204925537109\n",
      "median get_fill_values() time: 0.08937335014343262\n",
      "median fill tensor time: 0.0001862049102783203\n",
      "\n",
      "------- outer cell\n",
      "median get_grid_mask() time: 4.696846008300781e-05\n",
      "median get_fill_indices() time: 0.0005009174346923828\n",
      "median get_fill_values() time: 0.026046037673950195\n",
      "median fill tensor time: 0.00019550323486328125\n",
      "\n",
      "\n",
      "=== muon\n",
      "\n",
      "------- inner cell\n",
      "median get_grid_mask() time: 6.508827209472656e-05\n",
      "median get_fill_indices() time: 0.0005519390106201172\n",
      "median get_fill_values() time: 0.08167052268981934\n",
      "median fill tensor time: 0.00018644332885742188\n",
      "\n",
      "------- outer cell\n",
      "median get_grid_mask() time: 4.792213439941406e-05\n",
      "median get_fill_indices() time: 0.0005056858062744141\n",
      "median get_fill_values() time: 0.030802607536315918\n",
      "median fill tensor time: 0.00019371509552001953\n",
      "\n",
      "\n",
      "=== pfCand\n",
      "\n",
      "------- inner cell\n",
      "median get_grid_mask() time: 5.125999450683594e-05\n",
      "median get_fill_indices() time: 0.0006008148193359375\n",
      "median get_fill_values() time: 0.22844111919403076\n",
      "median fill tensor time: 0.00020241737365722656\n",
      "\n",
      "------- outer cell\n",
      "median get_grid_mask() time: 5.435943603515625e-05\n",
      "median get_fill_indices() time: 0.0007009506225585938\n",
      "median get_fill_values() time: 0.34466731548309326\n",
      "median fill tensor time: 0.00032806396484375\n",
      "\n",
      "\n"
     ]
    }
   ],
   "source": [
    "print(f'Processed {batch_size} taus in {program_ends - program_starts} seconds\\n')\n",
    "for c_type in constituent_types:\n",
    "    print(f'=== {c_type}\\n')\n",
    "    for grid_type in grid_types:\n",
    "        print(f'------- {grid_type} cell')\n",
    "        print(f'median get_grid_mask() time: {np.median(get_mask_times[grid_type][c_type])}')\n",
    "        print(f'median get_fill_indices() time: {np.median(get_fill_indices_times[grid_type][c_type])}')\n",
    "        print(f'median get_fill_values() time: {np.median(get_fill_values_times[grid_type][c_type])}')\n",
    "        print(f'median fill tensor time: {np.median(fill_tensor_times[grid_type][c_type])}')\n",
    "        print()\n",
    "    print()"
   ]
  },
  {
   "cell_type": "code",
   "execution_count": 107,
   "metadata": {},
   "outputs": [
    {
     "data": {
      "image/png": "[encoded data removed]",
      "text/plain": [
       "<Figure size 1440x720 with 6 Axes>"
      ]
     },
     "metadata": {
      "needs_background": "light"
     },
     "output_type": "display_data"
    }
   ],
   "source": [
    "f, ax = plt.subplots(len(grid_types), len(constituent_types), figsize=(20,10))\n",
    "for i, grid_type in enumerate(grid_types):\n",
    "    for j, c_type in enumerate(constituent_types):\n",
    "        ax[i,j].hist(get_fill_values_times[grid_type][c_type], histtype='step', bins=100, label='get_fill_values()')\n",
    "        ax[i,j].hist(fill_tensor_times[grid_type][c_type], histtype='step', bins=300, label='fill tensor')\n",
    "        ax[i,j].set_xlabel('time per tau, s')\n",
    "        ax[i,j].set_xscale('log')\n",
    "        ax[i,j].set_xlim((1e-5, 1e0))\n",
    "        ax[i,j].set_title(f'{c_type}: {grid_type} grid')\n",
    "        ax[i,j].legend()"
   ]
  },
  {
   "cell_type": "code",
   "execution_count": 108,
   "metadata": {},
   "outputs": [
    {
     "data": {
      "image/png": "[encoded data removed]",
      "text/plain": [
       "<Figure size 1440x720 with 6 Axes>"
      ]
     },
     "metadata": {
      "needs_background": "light"
     },
     "output_type": "display_data"
    }
   ],
   "source": [
    "f, ax = plt.subplots(len(grid_types), len(constituent_types), figsize=(20,10))\n",
    "for i, grid_type in enumerate(grid_types):\n",
    "    for j, c_type in enumerate(constituent_types):\n",
    "        ax[i,j].hist(get_mask_times[grid_type][c_type], histtype='step', bins=1000, label='get_grid_mask()')\n",
    "        ax[i,j].hist(get_fill_indices_times[grid_type][c_type], histtype='step', bins=1000, label='get_fill_indices()')\n",
    "        ax[i,j].set_xlabel('time per tau, s')\n",
    "        ax[i,j].set_xscale('log')\n",
    "        ax[i,j].set_xlim((1e-5, 1e-2))\n",
    "        ax[i,j].set_title(f'{c_type}: {grid_type} grid')\n",
    "        ax[i,j].legend()"
   ]
  },
  {
   "cell_type": "code",
   "execution_count": null,
   "metadata": {},
   "outputs": [],
   "source": []
  },
  {
   "cell_type": "markdown",
   "metadata": {},
   "source": [
    "### validating final tensor"
   ]
  },
  {
   "cell_type": "code",
   "execution_count": 92,
   "metadata": {},
   "outputs": [],
   "source": [
    "grid_type = 'inner'\n",
    "c_type = 'pfCand'\n",
    "tau_i = 10"
   ]
  },
  {
   "cell_type": "code",
   "execution_count": 93,
   "metadata": {},
   "outputs": [
    {
     "data": {
      "text/html": [
       "<div>\n",
       "<style scoped>\n",
       "    .dataframe tbody tr th:only-of-type {\n",
       "        vertical-align: middle;\n",
       "    }\n",
       "\n",
       "    .dataframe tbody tr th {\n",
       "        vertical-align: top;\n",
       "    }\n",
       "\n",
       "    .dataframe thead th {\n",
       "        text-align: right;\n",
       "    }\n",
       "</style>\n",
       "<table border=\"1\" class=\"dataframe\">\n",
       "  <thead>\n",
       "    <tr style=\"text-align: right;\">\n",
       "      <th></th>\n",
       "      <th>deta</th>\n",
       "      <th>dphi</th>\n",
       "    </tr>\n",
       "    <tr>\n",
       "      <th>entry</th>\n",
       "      <th></th>\n",
       "      <th></th>\n",
       "    </tr>\n",
       "  </thead>\n",
       "  <tbody>\n",
       "    <tr>\n",
       "      <th>0</th>\n",
       "      <td>-0.063398</td>\n",
       "      <td>0.010041</td>\n",
       "    </tr>\n",
       "    <tr>\n",
       "      <th>1</th>\n",
       "      <td>0.076316</td>\n",
       "      <td>-0.012617</td>\n",
       "    </tr>\n",
       "  </tbody>\n",
       "</table>\n",
       "</div>"
      ],
      "text/plain": [
       "           deta      dphi\n",
       "entry                    \n",
       "0     -0.063398  0.010041\n",
       "1      0.076316 -0.012617"
      ]
     },
     "execution_count": 93,
     "metadata": {},
     "output_type": "execute_result"
    }
   ],
   "source": [
    "grid_mask = taus[c_type, f'{grid_type}_grid_mask']\n",
    "grid_coord = ak.to_pandas(taus[c_type, ['deta', 'dphi']][grid_mask][tau_i])\n",
    "grid_coord"
   ]
  },
  {
   "cell_type": "code",
   "execution_count": 96,
   "metadata": {},
   "outputs": [],
   "source": [
    "feature_i = 4"
   ]
  },
  {
   "cell_type": "code",
   "execution_count": 97,
   "metadata": {},
   "outputs": [
    {
     "name": "stdout",
     "output_type": "stream",
     "text": [
      "2.0 6.0 58.46875\n",
      "9.0 4.0 46.53125\n"
     ]
    }
   ],
   "source": [
    "eta_indices = taus[c_type, f\"{grid_type}_grid_indices_eta\"][grid_mask][tau_i].tolist()\n",
    "phi_indices = taus[c_type, f\"{grid_type}_grid_indices_phi\"][grid_mask][tau_i].tolist()\n",
    "vals = taus[c_type, fill_branches[c_type][feature_i]][grid_mask][tau_i]\n",
    "for x,y,v in sorted(zip(eta_indices, phi_indices, vals)):\n",
    "    print(x,y,v)"
   ]
  },
  {
   "cell_type": "code",
   "execution_count": 98,
   "metadata": {},
   "outputs": [
    {
     "name": "stdout",
     "output_type": "stream",
     "text": [
      "2 6 58.46875\n",
      "9 4 46.53125\n"
     ]
    }
   ],
   "source": [
    "nonzero_idx_eta = np.argwhere(grid_tensors[grid_type][c_type][tau_i, :, :, feature_i])[:, 0]\n",
    "nonzero_idx_phi = np.argwhere(grid_tensors[grid_type][c_type][tau_i, :, :, feature_i])[:, 1]\n",
    "nonzero_vals = grid_tensors[grid_type][c_type][tau_i, nonzero_idx_eta, nonzero_idx_phi, feature_i]\n",
    "for x,y,v in sorted(zip(nonzero_idx_eta, nonzero_idx_phi, nonzero_vals)):\n",
    "    print(x,y,v)"
   ]
  },
  {
   "cell_type": "code",
   "execution_count": null,
   "metadata": {},
   "outputs": [],
   "source": []
  },
  {
   "cell_type": "markdown",
   "metadata": {},
   "source": [
    "### dev"
   ]
  },
  {
   "cell_type": "code",
   "execution_count": 166,
   "metadata": {},
   "outputs": [],
   "source": [
    "def transform_to_list(a):\n",
    "    return list(a)"
   ]
  },
  {
   "cell_type": "code",
   "execution_count": 167,
   "metadata": {},
   "outputs": [],
   "source": [
    "vtransform_to_list = np.vectorize(transform_to_list)"
   ]
  },
  {
   "cell_type": "code",
   "execution_count": 176,
   "metadata": {},
   "outputs": [
    {
     "name": "stdout",
     "output_type": "stream",
     "text": [
      "60.5 µs ± 330 ns per loop (mean ± std. dev. of 7 runs, 10000 loops each)\n"
     ]
    }
   ],
   "source": [
    "%%timeit\n",
    "np.apply_along_axis(lambda v: list(v), 0, vfill)"
   ]
  },
  {
   "cell_type": "code",
   "execution_count": 173,
   "metadata": {},
   "outputs": [
    {
     "name": "stdout",
     "output_type": "stream",
     "text": [
      "666 µs ± 2.15 µs per loop (mean ± std. dev. of 7 runs, 1000 loops each)\n"
     ]
    }
   ],
   "source": [
    "%%timeit\n",
    "[list(c) for c in vfill]"
   ]
  },
  {
   "cell_type": "code",
   "execution_count": null,
   "metadata": {},
   "outputs": [],
   "source": [
    "max_constituent = max(ak.num(taus[]))"
   ]
  },
  {
   "cell_type": "code",
   "execution_count": null,
   "metadata": {},
   "outputs": [],
   "source": [
    "ak.pad_none()"
   ]
  },
  {
   "cell_type": "code",
   "execution_count": 175,
   "metadata": {},
   "outputs": [
    {
     "ename": "ValueError",
     "evalue": "in ListOffsetArray64, cannot convert to RegularArray because subarray lengths are not regular\n\n(https://github.com/scikit-hep/awkward-1.0/blob/1.0.1/src/cpu-kernels/awkward_ListOffsetArray_toRegularArray.cpp#L22)",
     "output_type": "error",
     "traceback": [
      "\u001b[0;31m---------------------------------------------------------------------------\u001b[0m",
      "\u001b[0;31mValueError\u001b[0m                                Traceback (most recent call last)",
      "\u001b[0;32m<ipython-input-175-0090afdfe6c1>\u001b[0m in \u001b[0;36m<module>\u001b[0;34m\u001b[0m\n\u001b[0;32m----> 1\u001b[0;31m \u001b[0mak\u001b[0m\u001b[0;34m.\u001b[0m\u001b[0mto_numpy\u001b[0m\u001b[0;34m(\u001b[0m\u001b[0mtaus\u001b[0m\u001b[0;34m[\u001b[0m\u001b[0mc_type\u001b[0m\u001b[0;34m,\u001b[0m \u001b[0mfill_branches\u001b[0m\u001b[0;34m[\u001b[0m\u001b[0mc_type\u001b[0m\u001b[0;34m]\u001b[0m\u001b[0;34m]\u001b[0m\u001b[0;34m)\u001b[0m\u001b[0;34m\u001b[0m\u001b[0;34m\u001b[0m\u001b[0m\n\u001b[0m",
      "\u001b[0;32m/nfs/dust/cms/user/filatovo/miniconda3/envs/tau-dev/lib/python3.8/site-packages/awkward/operations/convert.py\u001b[0m in \u001b[0;36mto_numpy\u001b[0;34m(array, allow_missing)\u001b[0m\n\u001b[1;32m    184\u001b[0m \u001b[0;34m\u001b[0m\u001b[0m\n\u001b[1;32m    185\u001b[0m     \u001b[0;32melif\u001b[0m \u001b[0misinstance\u001b[0m\u001b[0;34m(\u001b[0m\u001b[0marray\u001b[0m\u001b[0;34m,\u001b[0m \u001b[0mak\u001b[0m\u001b[0;34m.\u001b[0m\u001b[0mhighlevel\u001b[0m\u001b[0;34m.\u001b[0m\u001b[0mArray\u001b[0m\u001b[0;34m)\u001b[0m\u001b[0;34m:\u001b[0m\u001b[0;34m\u001b[0m\u001b[0;34m\u001b[0m\u001b[0m\n\u001b[0;32m--> 186\u001b[0;31m         \u001b[0;32mreturn\u001b[0m \u001b[0mto_numpy\u001b[0m\u001b[0;34m(\u001b[0m\u001b[0marray\u001b[0m\u001b[0;34m.\u001b[0m\u001b[0mlayout\u001b[0m\u001b[0;34m,\u001b[0m \u001b[0mallow_missing\u001b[0m\u001b[0;34m=\u001b[0m\u001b[0mallow_missing\u001b[0m\u001b[0;34m)\u001b[0m\u001b[0;34m\u001b[0m\u001b[0;34m\u001b[0m\u001b[0m\n\u001b[0m\u001b[1;32m    187\u001b[0m \u001b[0;34m\u001b[0m\u001b[0m\n\u001b[1;32m    188\u001b[0m     \u001b[0;32melif\u001b[0m \u001b[0misinstance\u001b[0m\u001b[0;34m(\u001b[0m\u001b[0marray\u001b[0m\u001b[0;34m,\u001b[0m \u001b[0mak\u001b[0m\u001b[0;34m.\u001b[0m\u001b[0mhighlevel\u001b[0m\u001b[0;34m.\u001b[0m\u001b[0mRecord\u001b[0m\u001b[0;34m)\u001b[0m\u001b[0;34m:\u001b[0m\u001b[0;34m\u001b[0m\u001b[0;34m\u001b[0m\u001b[0m\n",
      "\u001b[0;32m/nfs/dust/cms/user/filatovo/miniconda3/envs/tau-dev/lib/python3.8/site-packages/awkward/operations/convert.py\u001b[0m in \u001b[0;36mto_numpy\u001b[0;34m(array, allow_missing)\u001b[0m\n\u001b[1;32m    306\u001b[0m \u001b[0;34m\u001b[0m\u001b[0m\n\u001b[1;32m    307\u001b[0m     \u001b[0;32melif\u001b[0m \u001b[0misinstance\u001b[0m\u001b[0;34m(\u001b[0m\u001b[0marray\u001b[0m\u001b[0;34m,\u001b[0m \u001b[0mak\u001b[0m\u001b[0;34m.\u001b[0m\u001b[0m_util\u001b[0m\u001b[0;34m.\u001b[0m\u001b[0mlisttypes\u001b[0m\u001b[0;34m)\u001b[0m\u001b[0;34m:\u001b[0m\u001b[0;34m\u001b[0m\u001b[0;34m\u001b[0m\u001b[0m\n\u001b[0;32m--> 308\u001b[0;31m         \u001b[0;32mreturn\u001b[0m \u001b[0mto_numpy\u001b[0m\u001b[0;34m(\u001b[0m\u001b[0marray\u001b[0m\u001b[0;34m.\u001b[0m\u001b[0mtoRegularArray\u001b[0m\u001b[0;34m(\u001b[0m\u001b[0;34m)\u001b[0m\u001b[0;34m,\u001b[0m \u001b[0mallow_missing\u001b[0m\u001b[0;34m=\u001b[0m\u001b[0mallow_missing\u001b[0m\u001b[0;34m)\u001b[0m\u001b[0;34m\u001b[0m\u001b[0;34m\u001b[0m\u001b[0m\n\u001b[0m\u001b[1;32m    309\u001b[0m \u001b[0;34m\u001b[0m\u001b[0m\n\u001b[1;32m    310\u001b[0m     \u001b[0;32melif\u001b[0m \u001b[0misinstance\u001b[0m\u001b[0;34m(\u001b[0m\u001b[0marray\u001b[0m\u001b[0;34m,\u001b[0m \u001b[0mak\u001b[0m\u001b[0;34m.\u001b[0m\u001b[0m_util\u001b[0m\u001b[0;34m.\u001b[0m\u001b[0mrecordtypes\u001b[0m\u001b[0;34m)\u001b[0m\u001b[0;34m:\u001b[0m\u001b[0;34m\u001b[0m\u001b[0;34m\u001b[0m\u001b[0m\n",
      "\u001b[0;31mValueError\u001b[0m: in ListOffsetArray64, cannot convert to RegularArray because subarray lengths are not regular\n\n(https://github.com/scikit-hep/awkward-1.0/blob/1.0.1/src/cpu-kernels/awkward_ListOffsetArray_toRegularArray.cpp#L22)"
     ]
    }
   ],
   "source": [
    "ak.to_numpy(taus[c_type, fill_branches[c_type]])"
   ]
  },
  {
   "cell_type": "code",
   "execution_count": null,
   "metadata": {},
   "outputs": [],
   "source": []
  }
 ],
 "metadata": {
  "kernelspec": {
   "display_name": "tau-dev",
   "language": "python",
   "name": "tau-dev"
  },
  "language_info": {
   "codemirror_mode": {
    "name": "ipython",
    "version": 3
   },
   "file_extension": ".py",
   "mimetype": "text/x-python",
   "name": "python",
   "nbconvert_exporter": "python",
   "pygments_lexer": "ipython3",
   "version": "3.8.5"
  }
 },
 "nbformat": 4,
 "nbformat_minor": 4
}
