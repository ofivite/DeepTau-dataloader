{
 "cells": [
  {
   "cell_type": "code",
   "execution_count": 1,
   "metadata": {},
   "outputs": [],
   "source": [
    "import uproot\n",
    "import awkward as ak\n",
    "import numpy as np\n",
    "import pandas as pd\n",
    "import numba as nb\n",
    "import matplotlib.pyplot as plt\n",
    "\n",
    "import tensorflow as tf\n",
    "\n",
    "import yaml\n",
    "import time\n",
    "import glob\n",
    "# from memory_profiler import profile"
   ]
  },
  {
   "cell_type": "code",
   "execution_count": 2,
   "metadata": {},
   "outputs": [],
   "source": [
    "%load_ext memory_profiler\n",
    "%load_ext line_profiler"
   ]
  },
  {
   "cell_type": "markdown",
   "metadata": {},
   "source": [
    "### download data"
   ]
  },
  {
   "cell_type": "code",
   "execution_count": null,
   "metadata": {},
   "outputs": [],
   "source": [
    "# flist = glob.glob('data/*_batch0.root')\n",
    "# #flist = glob.glob('/ceph/akhmet/balanced_batches/batch0/*.root')[0:3]\n",
    "\n",
    "# transformation_dict = yaml.load(open('./transformed_quantities.yml', 'r'), Loader=yaml.FullLoader)\n",
    "\n",
    "# n_pop_events = 1\n",
    "# tables = {}"
   ]
  },
  {
   "cell_type": "code",
   "execution_count": null,
   "metadata": {},
   "outputs": [],
   "source": [
    "# f = uproot.open('data/electron_absetabin0_ptbin0_batch0.root')\n",
    "# t = f['taus']\n",
    "# # t.show() # print tree content"
   ]
  },
  {
   "cell_type": "code",
   "execution_count": null,
   "metadata": {},
   "outputs": [],
   "source": [
    "# taus = t.arrays(library='ak')\n",
    "# tau_i = 7 # random tau index for illustrative purposes\n",
    "# taus"
   ]
  },
  {
   "cell_type": "code",
   "execution_count": null,
   "metadata": {},
   "outputs": [],
   "source": [
    "def get_data(path):\n",
    "    return uproot.concatenate(f'{path}:taus', library='ak')"
   ]
  },
  {
   "cell_type": "code",
   "execution_count": null,
   "metadata": {},
   "outputs": [],
   "source": [
    "taus = get_data('data/muon_*.root')"
   ]
  },
  {
   "cell_type": "code",
   "execution_count": 8,
   "metadata": {},
   "outputs": [],
   "source": [
    "tau_i = 7 # random tau index for illustrative purposes\n",
    "n_taus = len(taus)"
   ]
  },
  {
   "cell_type": "code",
   "execution_count": 9,
   "metadata": {},
   "outputs": [
    {
     "data": {
      "text/plain": [
       "(<Array [54, 47, 53, 63, 72, ... 68, 64, 64, 45] type='3075 * int64'>,\n",
       " <Array [1, 0, 0, 0, 0, 0, ... 0, 0, 0, 0, 0, 0] type='3075 * int64'>,\n",
       " <Array [1, 1, 1, 1, 1, 1, ... 1, 1, 1, 1, 1, 1] type='3075 * int64'>)"
      ]
     },
     "execution_count": 9,
     "metadata": {},
     "output_type": "execute_result"
    }
   ],
   "source": [
    "ak.num(taus.pfCand_pt), ak.num(taus.ele_pt), ak.num(taus.muon_pt)"
   ]
  },
  {
   "cell_type": "code",
   "execution_count": 10,
   "metadata": {},
   "outputs": [
    {
     "data": {
      "text/plain": [
       "385"
      ]
     },
     "execution_count": 10,
     "metadata": {},
     "output_type": "execute_result"
    }
   ],
   "source": [
    "len(taus.fields)"
   ]
  },
  {
   "cell_type": "markdown",
   "metadata": {},
   "source": [
    "### define the grid"
   ]
  },
  {
   "cell_type": "code",
   "execution_count": 9,
   "metadata": {},
   "outputs": [],
   "source": [
    "grid_types = ['inner', 'outer']\n",
    "grid_size, grid_left, grid_right = {}, {}, {}"
   ]
  },
  {
   "cell_type": "code",
   "execution_count": 10,
   "metadata": {},
   "outputs": [],
   "source": [
    "n_cells = {'inner': 11, 'outer': 21}\n",
    "cell_size = {'inner': 0.02, 'outer': 0.05}"
   ]
  },
  {
   "cell_type": "code",
   "execution_count": 11,
   "metadata": {},
   "outputs": [],
   "source": [
    "for grid_type in grid_types:\n",
    "    grid_size[grid_type] = cell_size[grid_type] * n_cells[grid_type]\n",
    "    grid_left[grid_type], grid_right[grid_type] = - grid_size[grid_type] / 2, grid_size[grid_type] / 2"
   ]
  },
  {
   "cell_type": "markdown",
   "metadata": {},
   "source": [
    "### derive constituents' features"
   ]
  },
  {
   "cell_type": "code",
   "execution_count": 12,
   "metadata": {},
   "outputs": [],
   "source": [
    "constituent_types = ['ele', 'muon', 'pfCand']"
   ]
  },
  {
   "cell_type": "code",
   "execution_count": 13,
   "metadata": {},
   "outputs": [],
   "source": [
    "# count of constituents for each tau\n",
    "for c_type in constituent_types: \n",
    "    taus[f'n_{c_type}'] = ak.num(taus[f'{c_type}_pt'])"
   ]
  },
  {
   "cell_type": "code",
   "execution_count": 14,
   "metadata": {},
   "outputs": [
    {
     "data": {
      "text/plain": [
       "(0, 1, 58)"
      ]
     },
     "execution_count": 14,
     "metadata": {},
     "output_type": "execute_result"
    }
   ],
   "source": [
    "taus[tau_i]['n_ele'],  taus[tau_i]['n_muon'], taus[tau_i]['n_pfCand'],"
   ]
  },
  {
   "cell_type": "code",
   "execution_count": 15,
   "metadata": {},
   "outputs": [],
   "source": [
    "# more features to be put here"
   ]
  },
  {
   "cell_type": "code",
   "execution_count": 16,
   "metadata": {},
   "outputs": [],
   "source": [
    "# %%timeit\n",
    "for c_type in constituent_types: \n",
    "    for dim in ['phi', 'eta']:\n",
    "        taus[f'{c_type}_d{dim}'] = taus[f'{c_type}_{dim}'] - taus[f'tau_{dim}']"
   ]
  },
  {
   "cell_type": "code",
   "execution_count": 17,
   "metadata": {},
   "outputs": [
    {
     "data": {
      "image/png": "[encoded data removed]",
      "text/plain": [
       "<Figure size 432x288 with 1 Axes>"
      ]
     },
     "metadata": {
      "needs_background": "light"
     },
     "output_type": "display_data"
    }
   ],
   "source": [
    "plt.hist(taus[tau_i].pfCand_deta)\n",
    "plt.show()"
   ]
  },
  {
   "cell_type": "markdown",
   "metadata": {},
   "source": [
    "### derive inner/outer grid masks"
   ]
  },
  {
   "cell_type": "code",
   "execution_count": 18,
   "metadata": {},
   "outputs": [],
   "source": [
    "# # %%timeit\n",
    "# for c_type in constituent_types:\n",
    "#     for grid_type in grid_types:\n",
    "#         grid_eta_mask = (taus[f'{c_type}_deta'] > grid_left[grid_type]) & (taus[f'{c_type}_deta'] < grid_right[grid_type])\n",
    "#         grid_phi_mask = (taus[f'{c_type}_dphi'] > grid_left[grid_type]) & (taus[f'{c_type}_dphi'] < grid_right[grid_type])\n",
    "#         taus[f'{grid_type}_grid_{c_type}_mask'] = grid_eta_mask * grid_phi_mask"
   ]
  },
  {
   "cell_type": "code",
   "execution_count": 19,
   "metadata": {},
   "outputs": [],
   "source": [
    "grid_mask_dict = {'inner': {}, 'outer': {}}"
   ]
  },
  {
   "cell_type": "code",
   "execution_count": 20,
   "metadata": {},
   "outputs": [],
   "source": [
    "# %%timeit\n",
    "for c_type in constituent_types:\n",
    "    for grid_type in grid_types:\n",
    "        grid_eta_mask = (taus[f'{c_type}_deta'] > grid_left[grid_type]) & (taus[f'{c_type}_deta'] < grid_right[grid_type])\n",
    "        grid_phi_mask = (taus[f'{c_type}_dphi'] > grid_left[grid_type]) & (taus[f'{c_type}_dphi'] < grid_right[grid_type])\n",
    "        grid_mask_dict[grid_type][c_type] = grid_eta_mask * grid_phi_mask\n",
    "    taus[f'inner_grid_{c_type}_mask'] = grid_mask_dict['inner'][c_type]\n",
    "    taus[f'outer_grid_{c_type}_mask'] = grid_mask_dict['outer'][c_type] * (~grid_mask_dict['inner'][c_type])"
   ]
  },
  {
   "cell_type": "code",
   "execution_count": 21,
   "metadata": {},
   "outputs": [
    {
     "name": "stdout",
     "output_type": "stream",
     "text": [
      "ele: total 0 constituents in the inner cone for tau with i=7\n",
      "ele: total 0 constituents in the outer cone for tau with i=7\n",
      "\n",
      "muon: total 1 constituents in the inner cone for tau with i=7\n",
      "muon: total 0 constituents in the outer cone for tau with i=7\n",
      "\n",
      "pfCand: total 3 constituents in the inner cone for tau with i=7\n",
      "pfCand: total 55 constituents in the outer cone for tau with i=7\n",
      "\n"
     ]
    }
   ],
   "source": [
    "for c_type in constituent_types:  \n",
    "    for grid_type in grid_types:\n",
    "        print(f'{c_type}: total {sum(taus[f\"{grid_type}_grid_{c_type}_mask\"][tau_i])} constituents in the {grid_type} cone for tau with i={tau_i}')\n",
    "    print()"
   ]
  },
  {
   "cell_type": "code",
   "execution_count": 22,
   "metadata": {},
   "outputs": [
    {
     "name": "stdout",
     "output_type": "stream",
     "text": [
      "***************\n",
      "\n",
      "ele: total count of constituents per tau in the inner cone\n",
      "[0, 0, 0, 0, 0, 0, 0, 0, 0, 0, 0, 0, 0, 0, ... 0, 0, 0, 0, 0, 0, 0, 0, 0, 0, 0, 0, 0]\n",
      "\n",
      "ele: total count of constituents per tau in the outer cone\n",
      "[1, 0, 0, 0, 0, 0, 0, 0, 0, 0, 0, 0, 0, 0, ... 0, 0, 0, 0, 0, 0, 0, 0, 0, 0, 0, 0, 0]\n",
      "\n",
      "***************\n",
      "\n",
      "muon: total count of constituents per tau in the inner cone\n",
      "[1, 1, 1, 1, 1, 1, 1, 1, 1, 1, 1, 1, 1, 1, ... 2, 1, 1, 1, 1, 1, 1, 1, 1, 1, 1, 1, 1]\n",
      "\n",
      "muon: total count of constituents per tau in the outer cone\n",
      "[0, 0, 0, 0, 0, 0, 0, 0, 0, 0, 0, 0, 0, 0, ... 0, 0, 0, 0, 0, 0, 0, 0, 0, 0, 0, 0, 0]\n",
      "\n",
      "***************\n",
      "\n",
      "pfCand: total count of constituents per tau in the inner cone\n",
      "[3, 3, 4, 4, 8, 2, 5, 3, 9, 4, 4, 6, 4, 4, ... 6, 6, 6, 3, 6, 8, 4, 6, 5, 6, 4, 7, 5]\n",
      "\n",
      "pfCand: total count of constituents per tau in the outer cone\n",
      "[51, 44, 49, 59, 64, 46, 55, 55, 53, 35, ... 64, 66, 59, 61, 51, 57, 62, 56, 52, 40]\n",
      "\n",
      "***************\n"
     ]
    }
   ],
   "source": [
    "print(15*'*')\n",
    "for c_type in constituent_types: \n",
    "    print()\n",
    "    for grid_type in grid_types:  \n",
    "        grid_mask = taus[f\"{grid_type}_grid_{c_type}_mask\"]\n",
    "        print(f'{c_type}: total count of constituents per tau in the {grid_type} cone\\n{ak.sum(grid_mask, axis=1)}')\n",
    "        print()\n",
    "    print(15*'*')"
   ]
  },
  {
   "cell_type": "markdown",
   "metadata": {},
   "source": [
    "### derive cell indices "
   ]
  },
  {
   "cell_type": "code",
   "execution_count": 23,
   "metadata": {},
   "outputs": [],
   "source": [
    "# %%timeit\n",
    "for c_type in constituent_types: \n",
    "    for grid_type in grid_types:\n",
    "        # get grid indices by affine transforming the grid to an array of grid indices np.arange(n_inner_cells) and then flooring to the nearest integer   \n",
    "        grid_eta_ids = np.floor((taus[f'{c_type}_deta'] - grid_left[grid_type]) / grid_size[grid_type] * n_cells[grid_type]) \n",
    "        grid_phi_ids = np.floor((taus[f'{c_type}_dphi'] - grid_left[grid_type]) / grid_size[grid_type] * n_cells[grid_type])\n",
    "\n",
    "#         # add for each tau two branches (one for inner and one for outer grid) which store for each constituent a tuple: \n",
    "#         # tuple: (index in constituent list, eta index on grid, phi index on grid)\n",
    "#         grid_ids = ak.zip([grid_eta_ids, grid_phi_ids])\n",
    "#         grid_ids = ak.zip([ak.local_index(grid_eta_ids, axis=1), grid_eta_ids, grid_phi_ids])\n",
    "\n",
    "#         # mask with None those consituents which don't belong to the corresponding grid\n",
    "#         grid_ids = ak.mask(grid_ids, taus[f'{grid_type}_grid_{c_type}_mask']) \n",
    "\n",
    "#         # additionally, can fill Nones with some values\n",
    "#         grid_ids = ak.fill_none(grid_ids, -1) \n",
    "\n",
    "        taus[f'{grid_type}_grid_{c_type}_indices_eta'] = grid_eta_ids\n",
    "        taus[f'{grid_type}_grid_{c_type}_indices_phi'] = grid_phi_ids\n",
    "#         taus[f'{grid_type}_grid_{c_type}_indices'] = grid_ids"
   ]
  },
  {
   "cell_type": "code",
   "execution_count": 24,
   "metadata": {},
   "outputs": [
    {
     "name": "stdout",
     "output_type": "stream",
     "text": [
      "***************\n",
      "\n",
      "ele: eta indices of constituents for tau with i=7 in the inner cone\n",
      "[]\n",
      "\n",
      "ele: eta indices of constituents for tau with i=7 in the outer cone\n",
      "[]\n",
      "***************\n",
      "\n",
      "muon: eta indices of constituents for tau with i=7 in the inner cone\n",
      "[5]\n",
      "\n",
      "muon: eta indices of constituents for tau with i=7 in the outer cone\n",
      "[]\n",
      "***************\n",
      "\n",
      "pfCand: eta indices of constituents for tau with i=7 in the inner cone\n",
      "[0, 5, 8]\n",
      "\n",
      "pfCand: eta indices of constituents for tau with i=7 in the outer cone\n",
      "[6, 12, 17, 16, 5, 4, 3, 12, 15, 9, 8, 1, ... 9, 17, 14, 20, 12, 10, 10, 10, 9, 8, 6]\n",
      "***************\n"
     ]
    }
   ],
   "source": [
    "print(15*'*')\n",
    "for c_type in constituent_types: \n",
    "    for grid_type in grid_types:      \n",
    "        grid_mask = taus[f\"{grid_type}_grid_{c_type}_mask\"]\n",
    "        print()\n",
    "        print(f'{c_type}: eta indices of constituents for tau with i={tau_i} in the {grid_type} cone\\n{taus[f\"{grid_type}_grid_{c_type}_indices_eta\"][grid_mask][tau_i]}')\n",
    "    print(15*'*')"
   ]
  },
  {
   "cell_type": "code",
   "execution_count": null,
   "metadata": {},
   "outputs": [],
   "source": []
  },
  {
   "cell_type": "markdown",
   "metadata": {},
   "source": [
    "### validating indices"
   ]
  },
  {
   "cell_type": "code",
   "execution_count": 25,
   "metadata": {},
   "outputs": [],
   "source": [
    "grid_type = 'outer'\n",
    "c_type = 'pfCand'\n",
    "tau_i = 100"
   ]
  },
  {
   "cell_type": "code",
   "execution_count": 41,
   "metadata": {},
   "outputs": [
    {
     "data": {
      "text/html": [
       "<div>\n",
       "<style scoped>\n",
       "    .dataframe tbody tr th:only-of-type {\n",
       "        vertical-align: middle;\n",
       "    }\n",
       "\n",
       "    .dataframe tbody tr th {\n",
       "        vertical-align: top;\n",
       "    }\n",
       "\n",
       "    .dataframe thead th {\n",
       "        text-align: right;\n",
       "    }\n",
       "</style>\n",
       "<table border=\"1\" class=\"dataframe\">\n",
       "  <thead>\n",
       "    <tr style=\"text-align: right;\">\n",
       "      <th></th>\n",
       "      <th>pfCand_deta</th>\n",
       "      <th>pfCand_dphi</th>\n",
       "    </tr>\n",
       "    <tr>\n",
       "      <th>entry</th>\n",
       "      <th></th>\n",
       "      <th></th>\n",
       "    </tr>\n",
       "  </thead>\n",
       "  <tbody>\n",
       "    <tr>\n",
       "      <th>0</th>\n",
       "      <td>-0.101767</td>\n",
       "      <td>-0.187030</td>\n",
       "    </tr>\n",
       "    <tr>\n",
       "      <th>1</th>\n",
       "      <td>0.171069</td>\n",
       "      <td>-0.400903</td>\n",
       "    </tr>\n",
       "    <tr>\n",
       "      <th>2</th>\n",
       "      <td>0.426692</td>\n",
       "      <td>0.027528</td>\n",
       "    </tr>\n",
       "    <tr>\n",
       "      <th>3</th>\n",
       "      <td>-0.039692</td>\n",
       "      <td>0.359960</td>\n",
       "    </tr>\n",
       "    <tr>\n",
       "      <th>4</th>\n",
       "      <td>0.023115</td>\n",
       "      <td>-0.220917</td>\n",
       "    </tr>\n",
       "    <tr>\n",
       "      <th>...</th>\n",
       "      <td>...</td>\n",
       "      <td>...</td>\n",
       "    </tr>\n",
       "    <tr>\n",
       "      <th>67</th>\n",
       "      <td>-0.048848</td>\n",
       "      <td>-0.163678</td>\n",
       "    </tr>\n",
       "    <tr>\n",
       "      <th>68</th>\n",
       "      <td>-0.057637</td>\n",
       "      <td>0.159658</td>\n",
       "    </tr>\n",
       "    <tr>\n",
       "      <th>69</th>\n",
       "      <td>-0.092428</td>\n",
       "      <td>0.310460</td>\n",
       "    </tr>\n",
       "    <tr>\n",
       "      <th>70</th>\n",
       "      <td>-0.196069</td>\n",
       "      <td>0.293059</td>\n",
       "    </tr>\n",
       "    <tr>\n",
       "      <th>71</th>\n",
       "      <td>-0.231043</td>\n",
       "      <td>-0.180475</td>\n",
       "    </tr>\n",
       "  </tbody>\n",
       "</table>\n",
       "<p>72 rows × 2 columns</p>\n",
       "</div>"
      ],
      "text/plain": [
       "       pfCand_deta  pfCand_dphi\n",
       "entry                          \n",
       "0        -0.101767    -0.187030\n",
       "1         0.171069    -0.400903\n",
       "2         0.426692     0.027528\n",
       "3        -0.039692     0.359960\n",
       "4         0.023115    -0.220917\n",
       "...            ...          ...\n",
       "67       -0.048848    -0.163678\n",
       "68       -0.057637     0.159658\n",
       "69       -0.092428     0.310460\n",
       "70       -0.196069     0.293059\n",
       "71       -0.231043    -0.180475\n",
       "\n",
       "[72 rows x 2 columns]"
      ]
     },
     "execution_count": 41,
     "metadata": {},
     "output_type": "execute_result"
    }
   ],
   "source": [
    "grid_mask = taus[f'{grid_type}_grid_{c_type}_mask']\n",
    "grid_coord = ak.to_pandas(taus[[f'{c_type}_deta', f'{c_type}_dphi', ]][grid_mask][tau_i])\n",
    "grid_coord"
   ]
  },
  {
   "cell_type": "code",
   "execution_count": 42,
   "metadata": {},
   "outputs": [
    {
     "name": "stdout",
     "output_type": "stream",
     "text": [
      "8.0 6.0\n",
      "13.0 2.0\n",
      "19.0 11.0\n",
      "9.0 17.0\n",
      "10.0 6.0\n",
      "15.0 18.0\n",
      "1.0 8.0\n",
      "2.0 5.0\n",
      "4.0 17.0\n",
      "4.0 15.0\n",
      "9.0 2.0\n",
      "16.0 6.0\n",
      "16.0 15.0\n",
      "9.0 15.0\n",
      "12.0 15.0\n",
      "13.0 7.0\n",
      "7.0 19.0\n",
      "13.0 15.0\n",
      "2.0 5.0\n",
      "7.0 6.0\n",
      "11.0 7.0\n",
      "9.0 5.0\n",
      "7.0 19.0\n",
      "17.0 7.0\n",
      "15.0 4.0\n",
      "14.0 12.0\n",
      "13.0 5.0\n",
      "9.0 20.0\n",
      "10.0 17.0\n",
      "5.0 3.0\n",
      "6.0 2.0\n",
      "10.0 6.0\n",
      "8.0 19.0\n",
      "17.0 14.0\n",
      "8.0 4.0\n",
      "15.0 12.0\n",
      "15.0 3.0\n",
      "18.0 9.0\n",
      "15.0 5.0\n",
      "16.0 8.0\n",
      "6.0 3.0\n",
      "9.0 13.0\n",
      "15.0 13.0\n",
      "15.0 17.0\n",
      "11.0 18.0\n",
      "10.0 17.0\n",
      "8.0 5.0\n",
      "19.0 10.0\n",
      "12.0 13.0\n",
      "16.0 12.0\n",
      "11.0 13.0\n",
      "7.0 16.0\n",
      "12.0 1.0\n",
      "10.0 6.0\n",
      "3.0 6.0\n",
      "12.0 19.0\n",
      "20.0 11.0\n",
      "20.0 10.0\n",
      "18.0 7.0\n",
      "14.0 12.0\n",
      "13.0 5.0\n",
      "13.0 15.0\n",
      "12.0 6.0\n",
      "12.0 13.0\n",
      "11.0 1.0\n",
      "10.0 14.0\n",
      "10.0 19.0\n",
      "9.0 7.0\n",
      "9.0 13.0\n",
      "8.0 16.0\n",
      "6.0 16.0\n",
      "5.0 6.0\n"
     ]
    }
   ],
   "source": [
    "eta_indices = taus[f\"{grid_type}_grid_{c_type}_indices_eta\"][grid_mask][tau_i].tolist()\n",
    "phi_indices = taus[f\"{grid_type}_grid_{c_type}_indices_phi\"][grid_mask][tau_i].tolist()\n",
    "for i,j in zip(eta_indices, phi_indices):\n",
    "    print(i,j)"
   ]
  },
  {
   "cell_type": "code",
   "execution_count": 43,
   "metadata": {},
   "outputs": [
    {
     "data": {
      "image/png": "[encoded data removed]",
      "text/plain": [
       "<Figure size 720x720 with 1 Axes>"
      ]
     },
     "metadata": {
      "needs_background": "light"
     },
     "output_type": "display_data"
    }
   ],
   "source": [
    "fig, ax = plt.subplots(1, figsize=(10, 10))\n",
    "\n",
    "if grid_type != 'inner':\n",
    "    ax.plot([grid_left['inner'], grid_right['inner']], [grid_right['inner'], grid_right['inner']], 'r')\n",
    "    ax.plot([grid_left['inner'], grid_left['inner']], [grid_left['inner'], grid_right['inner']], 'r')\n",
    "    ax.plot([grid_left['inner'], grid_right['inner']], [grid_left['inner'], grid_left['inner']], 'r')\n",
    "    ax.plot([grid_right['inner'], grid_right['inner']], [grid_left['inner'], grid_right['inner']], 'r')\n",
    "\n",
    "ax.scatter(x=grid_coord[f'{c_type}_deta'], y=grid_coord[f'{c_type}_dphi'])\n",
    "\n",
    "ax.set_xlim(grid_left[grid_type], grid_right[grid_type])\n",
    "ax.set_ylim(grid_left[grid_type], grid_right[grid_type])\n",
    "ax.set_xticks(np.arange(grid_left[grid_type], grid_right[grid_type], cell_size[grid_type]))\n",
    "ax.set_yticks(np.arange(grid_left[grid_type], grid_right[grid_type], cell_size[grid_type]))\n",
    "\n",
    "ax.set_xlabel('eta')\n",
    "ax.set_ylabel('phi')\n",
    "ax.set_title(f'{grid_type} grid')\n",
    "\n",
    "plt.grid(b=True, which='major', color='#666666', linestyle='-') \n",
    "\n",
    "plt.show()"
   ]
  },
  {
   "cell_type": "code",
   "execution_count": null,
   "metadata": {},
   "outputs": [],
   "source": []
  },
  {
   "cell_type": "markdown",
   "metadata": {},
   "source": [
    "### fill final tensor"
   ]
  },
  {
   "cell_type": "code",
   "execution_count": 29,
   "metadata": {},
   "outputs": [],
   "source": [
    "# @nb.jit()\n",
    "def get_grid_mask(i_tau, c_type, grid_type):\n",
    "    grid_mask = taus[i_tau][f'{grid_type}_grid_{c_type}_mask']\n",
    "    return grid_mask"
   ]
  },
  {
   "cell_type": "code",
   "execution_count": 44,
   "metadata": {},
   "outputs": [],
   "source": [
    "# @nb.jit()\n",
    "def get_fill_indices(i_tau, c_type, grid_type, grid_mask):\n",
    "    indices_eta = taus[i_tau][f'{grid_type}_grid_{c_type}_indices_eta'][grid_mask]\n",
    "    indices_phi = taus[i_tau][f'{grid_type}_grid_{c_type}_indices_phi'][grid_mask]\n",
    "    return indices_eta, indices_phi"
   ]
  },
  {
   "cell_type": "code",
   "execution_count": 45,
   "metadata": {},
   "outputs": [],
   "source": [
    "# @nb.jit()\n",
    "def get_fill_values(i_tau, c_type, grid_mask):\n",
    "    fill_values = taus[i_tau][fill_branches[c_type]][grid_mask]\n",
    "    return fill_values"
   ]
  },
  {
   "cell_type": "code",
   "execution_count": 46,
   "metadata": {},
   "outputs": [],
   "source": [
    "# branches which will be stored \n",
    "fill_branches = {'pfCand': ['pfCand_pt', 'pfCand_deta', 'pfCand_dphi', 'pfCand_mass',]}\n",
    "c_type = 'pfCand'"
   ]
  },
  {
   "cell_type": "code",
   "execution_count": 47,
   "metadata": {},
   "outputs": [],
   "source": [
    "# initialize tensors to be filled \n",
    "grid_tensors = {}\n",
    "for grid_type in grid_types:\n",
    "    grid_tensors[grid_type] = np.zeros((n_taus, n_cells[grid_type], n_cells[grid_type], len(fill_branches[c_type])))"
   ]
  },
  {
   "cell_type": "code",
   "execution_count": 48,
   "metadata": {},
   "outputs": [],
   "source": [
    "# dictionaries to store timing\n",
    "get_mask_times = {'inner': [], 'outer': []}\n",
    "get_fill_indices_times = {'inner': [], 'outer': []}\n",
    "get_fill_values_times = {'inner': [], 'outer': []}\n",
    "put_times = {'inner': [], 'outer': []}\n",
    "\n",
    "program_starts = time.time()\n",
    "for i_tau, tau in enumerate(taus):\n",
    "    for grid_type in grid_types:        \n",
    "        begin_iter = time.time()\n",
    "        # get mask\n",
    "#         grid_mask = taus[i_tau][f'{grid_type}_grid_{c_type}_mask']\n",
    "        grid_mask = get_grid_mask(i_tau, c_type, grid_type)\n",
    "        after_get_mask = time.time()\n",
    "        get_mask_times[grid_type].append(after_get_mask - begin_iter)\n",
    "   \n",
    "        # get indices\n",
    "#         indices_eta = taus[i_tau][f'{grid_type}_grid_{c_type}_indices_eta'][grid_mask]\n",
    "#         indices_phi = taus[i_tau][f'{grid_type}_grid_{c_type}_indices_phi'][grid_mask]\n",
    "        indices_eta, indices_phi = get_fill_indices(i_tau, c_type, grid_type, grid_mask)\n",
    "        indices_eta, indices_phi = ak.values_astype(indices_eta, 'int32'), ak.values_astype(indices_phi, 'int32')\n",
    "        after_get_fill_indices = time.time()\n",
    "        get_fill_indices_times[grid_type].append(after_get_fill_indices - after_get_mask)\n",
    "        \n",
    "        # get values\n",
    "        values_to_fill = get_fill_values(i_tau, c_type, grid_mask)\n",
    "#         values_to_fill = taus[i_tau][fill_branches[c_type]][grid_mask]\n",
    "        values_to_fill = ak.to_pandas(values_to_fill).values\n",
    "        after_get_fill_values = time.time()\n",
    "        get_fill_values_times[grid_type].append(after_get_fill_values - after_get_fill_indices)\n",
    "        \n",
    "        # put them in the tensor\n",
    "        grid_tensors[grid_type][i_tau, indices_eta, indices_phi, :] = values_to_fill\n",
    "        after_put = time.time()\n",
    "        put_times[grid_type].append(after_put - after_get_fill_values)       \n",
    "program_ends = time.time()"
   ]
  },
  {
   "cell_type": "code",
   "execution_count": 49,
   "metadata": {},
   "outputs": [
    {
     "name": "stdout",
     "output_type": "stream",
     "text": [
      "Processed 3075 taus in 33.11022615432739 seconds\n",
      "\n",
      "--- inner cell\n",
      "median get_grid_mask() time: 0.00011777877807617188\n",
      "median get_fill_indices() time: 0.0006060600280761719\n",
      "median get_fill_values() time: 0.004312992095947266\n",
      "median np.put() time: 0.00018906593322753906\n",
      "\n",
      "--- outer cell\n",
      "median get_grid_mask() time: 0.0001361370086669922\n",
      "median get_fill_indices() time: 0.0006084442138671875\n",
      "median get_fill_values() time: 0.004324674606323242\n",
      "median np.put() time: 0.00019598007202148438\n",
      "\n"
     ]
    }
   ],
   "source": [
    "print(f'Processed {n_taus} taus in {program_ends - program_starts} seconds\\n')\n",
    "for grid_type in grid_types:\n",
    "    print(f'--- {grid_type} cell')\n",
    "    print(f'median get_grid_mask() time: {np.median(get_mask_times[grid_type])}')\n",
    "    print(f'median get_fill_indices() time: {np.median(get_fill_indices_times[grid_type])}')\n",
    "    print(f'median get_fill_values() time: {np.median(get_fill_values_times[grid_type])}')\n",
    "    print(f'median np.put() time: {np.median(put_times[grid_type])}')\n",
    "    print()"
   ]
  },
  {
   "cell_type": "code",
   "execution_count": 50,
   "metadata": {},
   "outputs": [
    {
     "data": {
      "image/png": "[encoded data removed]",
      "text/plain": [
       "<Figure size 1080x432 with 2 Axes>"
      ]
     },
     "metadata": {
      "needs_background": "light"
     },
     "output_type": "display_data"
    }
   ],
   "source": [
    "f, ax = plt.subplots(1, 2, figsize=(15,6))\n",
    "for i, grid_type in enumerate(grid_types):\n",
    "    ax[i].hist(get_mask_times[grid_type], histtype='step', bins=100, label='get_grid_mask()')\n",
    "    ax[i].hist(get_fill_indices_times[grid_type], histtype='step', bins=100, label='get_fill_indices()')\n",
    "    ax[i].hist(get_fill_values_times[grid_type], histtype='step', bins=100, label='get_fill_values()')\n",
    "    ax[i].hist(put_times[grid_type], histtype='step', bins=100, label='fill tensor')\n",
    "    ax[i].set_xlabel('time per tau, s')\n",
    "    ax[i].set_xscale('log')\n",
    "    ax[i].set_xlim((1e-4, 1e-2))\n",
    "    ax[i].set_title(f'{grid_type} grid')\n",
    "    ax[i].legend()"
   ]
  },
  {
   "cell_type": "code",
   "execution_count": null,
   "metadata": {},
   "outputs": [],
   "source": []
  },
  {
   "cell_type": "markdown",
   "metadata": {},
   "source": [
    "### validating final tensor"
   ]
  },
  {
   "cell_type": "code",
   "execution_count": 51,
   "metadata": {},
   "outputs": [],
   "source": [
    "grid_type = 'outer'\n",
    "c_type = 'pfCand'\n",
    "tau_i = 100"
   ]
  },
  {
   "cell_type": "code",
   "execution_count": 52,
   "metadata": {},
   "outputs": [
    {
     "data": {
      "text/html": [
       "<div>\n",
       "<style scoped>\n",
       "    .dataframe tbody tr th:only-of-type {\n",
       "        vertical-align: middle;\n",
       "    }\n",
       "\n",
       "    .dataframe tbody tr th {\n",
       "        vertical-align: top;\n",
       "    }\n",
       "\n",
       "    .dataframe thead th {\n",
       "        text-align: right;\n",
       "    }\n",
       "</style>\n",
       "<table border=\"1\" class=\"dataframe\">\n",
       "  <thead>\n",
       "    <tr style=\"text-align: right;\">\n",
       "      <th></th>\n",
       "      <th>pfCand_deta</th>\n",
       "      <th>pfCand_dphi</th>\n",
       "    </tr>\n",
       "    <tr>\n",
       "      <th>entry</th>\n",
       "      <th></th>\n",
       "      <th></th>\n",
       "    </tr>\n",
       "  </thead>\n",
       "  <tbody>\n",
       "    <tr>\n",
       "      <th>0</th>\n",
       "      <td>-0.101767</td>\n",
       "      <td>-0.187030</td>\n",
       "    </tr>\n",
       "    <tr>\n",
       "      <th>1</th>\n",
       "      <td>0.171069</td>\n",
       "      <td>-0.400903</td>\n",
       "    </tr>\n",
       "    <tr>\n",
       "      <th>2</th>\n",
       "      <td>0.426692</td>\n",
       "      <td>0.027528</td>\n",
       "    </tr>\n",
       "    <tr>\n",
       "      <th>3</th>\n",
       "      <td>-0.039692</td>\n",
       "      <td>0.359960</td>\n",
       "    </tr>\n",
       "    <tr>\n",
       "      <th>4</th>\n",
       "      <td>0.023115</td>\n",
       "      <td>-0.220917</td>\n",
       "    </tr>\n",
       "    <tr>\n",
       "      <th>...</th>\n",
       "      <td>...</td>\n",
       "      <td>...</td>\n",
       "    </tr>\n",
       "    <tr>\n",
       "      <th>67</th>\n",
       "      <td>-0.048848</td>\n",
       "      <td>-0.163678</td>\n",
       "    </tr>\n",
       "    <tr>\n",
       "      <th>68</th>\n",
       "      <td>-0.057637</td>\n",
       "      <td>0.159658</td>\n",
       "    </tr>\n",
       "    <tr>\n",
       "      <th>69</th>\n",
       "      <td>-0.092428</td>\n",
       "      <td>0.310460</td>\n",
       "    </tr>\n",
       "    <tr>\n",
       "      <th>70</th>\n",
       "      <td>-0.196069</td>\n",
       "      <td>0.293059</td>\n",
       "    </tr>\n",
       "    <tr>\n",
       "      <th>71</th>\n",
       "      <td>-0.231043</td>\n",
       "      <td>-0.180475</td>\n",
       "    </tr>\n",
       "  </tbody>\n",
       "</table>\n",
       "<p>72 rows × 2 columns</p>\n",
       "</div>"
      ],
      "text/plain": [
       "       pfCand_deta  pfCand_dphi\n",
       "entry                          \n",
       "0        -0.101767    -0.187030\n",
       "1         0.171069    -0.400903\n",
       "2         0.426692     0.027528\n",
       "3        -0.039692     0.359960\n",
       "4         0.023115    -0.220917\n",
       "...            ...          ...\n",
       "67       -0.048848    -0.163678\n",
       "68       -0.057637     0.159658\n",
       "69       -0.092428     0.310460\n",
       "70       -0.196069     0.293059\n",
       "71       -0.231043    -0.180475\n",
       "\n",
       "[72 rows x 2 columns]"
      ]
     },
     "execution_count": 52,
     "metadata": {},
     "output_type": "execute_result"
    }
   ],
   "source": [
    "grid_mask = taus[f'{grid_type}_grid_{c_type}_mask']\n",
    "grid_coord = ak.to_pandas(taus[[f'{c_type}_deta', f'{c_type}_dphi', ]][grid_mask][tau_i])\n",
    "grid_coord"
   ]
  },
  {
   "cell_type": "code",
   "execution_count": 42,
   "metadata": {
    "collapsed": true,
    "jupyter": {
     "outputs_hidden": true
    }
   },
   "outputs": [
    {
     "name": "stdout",
     "output_type": "stream",
     "text": [
      "8.0 6.0\n",
      "13.0 2.0\n",
      "19.0 11.0\n",
      "9.0 17.0\n",
      "10.0 6.0\n",
      "15.0 18.0\n",
      "1.0 8.0\n",
      "2.0 5.0\n",
      "4.0 17.0\n",
      "4.0 15.0\n",
      "9.0 2.0\n",
      "16.0 6.0\n",
      "16.0 15.0\n",
      "9.0 15.0\n",
      "12.0 15.0\n",
      "13.0 7.0\n",
      "7.0 19.0\n",
      "13.0 15.0\n",
      "2.0 5.0\n",
      "7.0 6.0\n",
      "11.0 7.0\n",
      "9.0 5.0\n",
      "7.0 19.0\n",
      "17.0 7.0\n",
      "15.0 4.0\n",
      "14.0 12.0\n",
      "13.0 5.0\n",
      "9.0 20.0\n",
      "10.0 17.0\n",
      "5.0 3.0\n",
      "6.0 2.0\n",
      "10.0 6.0\n",
      "8.0 19.0\n",
      "17.0 14.0\n",
      "8.0 4.0\n",
      "15.0 12.0\n",
      "15.0 3.0\n",
      "18.0 9.0\n",
      "15.0 5.0\n",
      "16.0 8.0\n",
      "6.0 3.0\n",
      "9.0 13.0\n",
      "15.0 13.0\n",
      "15.0 17.0\n",
      "11.0 18.0\n",
      "10.0 17.0\n",
      "8.0 5.0\n",
      "19.0 10.0\n",
      "12.0 13.0\n",
      "16.0 12.0\n",
      "11.0 13.0\n",
      "7.0 16.0\n",
      "12.0 1.0\n",
      "10.0 6.0\n",
      "3.0 6.0\n",
      "12.0 19.0\n",
      "20.0 11.0\n",
      "20.0 10.0\n",
      "18.0 7.0\n",
      "14.0 12.0\n",
      "13.0 5.0\n",
      "13.0 15.0\n",
      "12.0 6.0\n",
      "12.0 13.0\n",
      "11.0 1.0\n",
      "10.0 14.0\n",
      "10.0 19.0\n",
      "9.0 7.0\n",
      "9.0 13.0\n",
      "8.0 16.0\n",
      "6.0 16.0\n",
      "5.0 6.0\n"
     ]
    }
   ],
   "source": [
    "eta_indices = taus[f\"{grid_type}_grid_{c_type}_indices_eta\"][grid_mask][tau_i].tolist()\n",
    "phi_indices = taus[f\"{grid_type}_grid_{c_type}_indices_phi\"][grid_mask][tau_i].tolist()\n",
    "for i,j in zip(eta_indices, phi_indices):\n",
    "    print(i,j)"
   ]
  },
  {
   "cell_type": "code",
   "execution_count": 43,
   "metadata": {},
   "outputs": [
    {
     "data": {
      "image/png": "[encoded data removed]",
      "text/plain": [
       "<Figure size 720x720 with 1 Axes>"
      ]
     },
     "metadata": {
      "needs_background": "light"
     },
     "output_type": "display_data"
    }
   ],
   "source": [
    "fig, ax = plt.subplots(1, figsize=(10, 10))\n",
    "\n",
    "if grid_type != 'inner':\n",
    "    ax.plot([grid_left['inner'], grid_right['inner']], [grid_right['inner'], grid_right['inner']], 'r')\n",
    "    ax.plot([grid_left['inner'], grid_left['inner']], [grid_left['inner'], grid_right['inner']], 'r')\n",
    "    ax.plot([grid_left['inner'], grid_right['inner']], [grid_left['inner'], grid_left['inner']], 'r')\n",
    "    ax.plot([grid_right['inner'], grid_right['inner']], [grid_left['inner'], grid_right['inner']], 'r')\n",
    "\n",
    "ax.scatter(x=grid_coord[f'{c_type}_deta'], y=grid_coord[f'{c_type}_dphi'])\n",
    "\n",
    "ax.set_xlim(grid_left[grid_type], grid_right[grid_type])\n",
    "ax.set_ylim(grid_left[grid_type], grid_right[grid_type])\n",
    "ax.set_xticks(np.arange(grid_left[grid_type], grid_right[grid_type], cell_size[grid_type]))\n",
    "ax.set_yticks(np.arange(grid_left[grid_type], grid_right[grid_type], cell_size[grid_type]))\n",
    "\n",
    "ax.set_xlabel('eta')\n",
    "ax.set_ylabel('phi')\n",
    "ax.set_title(f'{grid_type} grid')\n",
    "\n",
    "plt.grid(b=True, which='major', color='#666666', linestyle='-') \n",
    "\n",
    "plt.show()"
   ]
  },
  {
   "cell_type": "code",
   "execution_count": null,
   "metadata": {},
   "outputs": [],
   "source": []
  },
  {
   "cell_type": "code",
   "execution_count": null,
   "metadata": {},
   "outputs": [],
   "source": []
  },
  {
   "cell_type": "code",
   "execution_count": null,
   "metadata": {},
   "outputs": [],
   "source": []
  },
  {
   "cell_type": "code",
   "execution_count": null,
   "metadata": {},
   "outputs": [],
   "source": []
  },
  {
   "cell_type": "markdown",
   "metadata": {},
   "source": [
    "### previous version"
   ]
  },
  {
   "cell_type": "markdown",
   "metadata": {},
   "source": [
    "**Note:** currently, filling with indices works incorrectly. Input to np.put() should be different.\n",
    "\n",
    "* Ways out: try simple indexing for filling -> make 3 arrays [eta_idx], [phi_idx], [f_idx] and then  \n",
    "tensor[tau_idx, eta_idx, phi_idx, f_idx] = values  \n",
    "more in advanced indexing: https://numpy.org/doc/stable/reference/arrays.indexing.html\n",
    "\n",
    "* or make SparseTensor() and then convert it into dense one\n"
   ]
  },
  {
   "cell_type": "code",
   "execution_count": 25,
   "metadata": {},
   "outputs": [],
   "source": [
    "fill_branches = {'pfCand': ['pfCand_pt', 'pfCand_deta', 'pfCand_dphi', 'pfCand_mass',]}\n",
    "c_type = 'pfCand'"
   ]
  },
  {
   "cell_type": "code",
   "execution_count": 26,
   "metadata": {},
   "outputs": [],
   "source": [
    "grid_tensors = {}\n",
    "for grid_type in grid_types:\n",
    "    grid_tensors[grid_type] = np.zeros((n_taus, n_cells[grid_type], n_cells[grid_type], len(fill_branches[c_type])))"
   ]
  },
  {
   "cell_type": "code",
   "execution_count": 116,
   "metadata": {},
   "outputs": [],
   "source": [
    "# @nb.jit()\n",
    "def get_fill_indices(grid_type, i_tau, c_type): \n",
    "    grid_mask = taus[i_tau][f'{grid_type}_grid_{c_type}_mask']\n",
    "    i_eta, i_phi, i_feature = ak.broadcast_arrays(taus[i_tau][f'{grid_type}_grid_{c_type}_indices_eta'][grid_mask],\n",
    "                                                      taus[i_tau][f'{grid_type}_grid_{c_type}_indices_phi'][grid_mask],\n",
    "                                                      np.arange(len(fill_branches[c_type]), dtype=np.float32)[:, np.newaxis])\n",
    "    i_eta_phi_feature = ak.zip([i_eta, i_phi, i_feature])\n",
    "    indices_to_fill = ak.flatten(i_eta_phi_feature, axis=1)\n",
    "    indices_to_fill = ak.values_astype(indices_to_fill, 'int32')\n",
    "    return ak.to_list(indices_to_fill)"
   ]
  },
  {
   "cell_type": "code",
   "execution_count": 88,
   "metadata": {},
   "outputs": [],
   "source": [
    "# @nb.jit()\n",
    "def get_fill_values(grid_type, i_tau, c_type): \n",
    "    grid_mask = taus[i_tau][f'{grid_type}_grid_{c_type}_mask']\n",
    "    values_to_fill = ak.to_pandas(taus[i_tau][fill_branches[c_type]][grid_mask]).values\n",
    "    values_to_fill = values_to_fill.transpose().flatten()\n",
    "    return values_to_fill"
   ]
  },
  {
   "cell_type": "code",
   "execution_count": 90,
   "metadata": {},
   "outputs": [],
   "source": [
    "get_fill_indices_times = {'inner': [], 'outer': []}\n",
    "get_fill_values_times = {'inner': [], 'outer': []}\n",
    "put_times = {'inner': [], 'outer': []}\n",
    "\n",
    "program_starts = time.time()\n",
    "for i_tau, tau in enumerate(taus):\n",
    "    for grid_type in grid_types:        \n",
    "        begin_iter = time.time()\n",
    "        # get indices\n",
    "        indices_to_fill = get_fill_indices(grid_type, i_tau, c_type)\n",
    "        after_get_fill_indices = time.time()\n",
    "        get_fill_indices_times[grid_type].append(after_get_fill_indices - begin_iter)\n",
    "        \n",
    "        # get values\n",
    "        values_to_fill = get_fill_values(grid_type, i_tau, c_type)\n",
    "        after_get_fill_values = time.time()\n",
    "        get_fill_values_times[grid_type].append(after_get_fill_values - after_get_fill_indices)\n",
    "        \n",
    "        # put them in the tensor\n",
    "        np.put(grid_tensors[grid_type][i_tau], indices_to_fill, values_to_fill)\n",
    "        after_put = time.time()\n",
    "        put_times[grid_type].append(after_put - after_get_fill_values)       \n",
    "program_ends = time.time()"
   ]
  },
  {
   "cell_type": "code",
   "execution_count": 91,
   "metadata": {},
   "outputs": [
    {
     "name": "stdout",
     "output_type": "stream",
     "text": [
      "Processed 3075 taus in 72.73913288116455 seconds\n",
      "\n",
      "--- inner cell\n",
      "median get_fill_indices() time: 0.0031423568725585938\n",
      "median get_fill_values() time: 0.004656553268432617\n",
      "median np.put() time: 3.4809112548828125e-05\n",
      "\n",
      "--- outer cell\n",
      "median get_fill_indices() time: 0.0102081298828125\n",
      "median get_fill_values() time: 0.005046844482421875\n",
      "median np.put() time: 0.0002808570861816406\n",
      "\n"
     ]
    }
   ],
   "source": [
    "print(f'Processed {n_taus} taus in {program_ends - program_starts} seconds\\n')\n",
    "for grid_type in grid_types:\n",
    "    print(f'--- {grid_type} cell')\n",
    "    print(f'median get_fill_indices() time: {np.median(get_fill_indices_times[grid_type])}')\n",
    "    print(f'median get_fill_values() time: {np.median(get_fill_values_times[grid_type])}')\n",
    "    print(f'median np.put() time: {np.median(put_times[grid_type])}')\n",
    "    print()"
   ]
  },
  {
   "cell_type": "code",
   "execution_count": 152,
   "metadata": {},
   "outputs": [
    {
     "data": {
      "image/png": "[encoded data removed]",
      "text/plain": [
       "<Figure size 1080x432 with 2 Axes>"
      ]
     },
     "metadata": {
      "needs_background": "light"
     },
     "output_type": "display_data"
    }
   ],
   "source": [
    "f, ax = plt.subplots(1, 2, figsize=(15,6))\n",
    "for i, grid_type in enumerate(grid_types):\n",
    "    ax[i].hist(get_fill_indices_times[grid_type], histtype='step', bins=30, label='get_fill_indices()')\n",
    "    ax[i].hist(get_fill_values_times[grid_type], histtype='step', bins=30, label='get_fill_values()')\n",
    "    ax[i].hist(put_times[grid_type], histtype='step', bins=30, label='np.put()')\n",
    "    ax[i].set_xlabel('time per tau, s')\n",
    "    ax[i].set_xscale('log')\n",
    "    ax[i].set_title(f'{grid_type} grid')\n",
    "    ax[i].legend()\n",
    "#     ax[i].show()"
   ]
  },
  {
   "cell_type": "code",
   "execution_count": null,
   "metadata": {},
   "outputs": [],
   "source": []
  },
  {
   "cell_type": "markdown",
   "metadata": {},
   "source": [
    "### misc."
   ]
  },
  {
   "cell_type": "code",
   "execution_count": 117,
   "metadata": {},
   "outputs": [
    {
     "data": {
      "text/plain": [
       "[(0, 7, 0),\n",
       " (5, 5, 0),\n",
       " (8, 1, 0),\n",
       " (0, 7, 1),\n",
       " (5, 5, 1),\n",
       " (8, 1, 1),\n",
       " (0, 7, 2),\n",
       " (5, 5, 2),\n",
       " (8, 1, 2),\n",
       " (0, 7, 3),\n",
       " (5, 5, 3),\n",
       " (8, 1, 3)]"
      ]
     },
     "execution_count": 117,
     "metadata": {},
     "output_type": "execute_result"
    }
   ],
   "source": [
    "get_fill_indices('inner', 7, 'pfCand')"
   ]
  },
  {
   "cell_type": "code",
   "execution_count": 118,
   "metadata": {},
   "outputs": [
    {
     "data": {
      "text/plain": [
       "array([ 9.06738281e-01,  3.15781250e+01,  3.33593750e+00, -1.07780635e-01,\n",
       "        7.17937946e-05,  5.26246578e-02,  3.37264538e-02,  4.25577164e-05,\n",
       "       -7.33020902e-02,  1.39526367e-01,  1.05712891e-01, -0.00000000e+00],\n",
       "      dtype=float32)"
      ]
     },
     "execution_count": 118,
     "metadata": {},
     "output_type": "execute_result"
    }
   ],
   "source": [
    "get_fill_values('inner', 7, 'pfCand')"
   ]
  },
  {
   "cell_type": "code",
   "execution_count": 119,
   "metadata": {},
   "outputs": [
    {
     "data": {
      "text/html": [
       "<div>\n",
       "<style scoped>\n",
       "    .dataframe tbody tr th:only-of-type {\n",
       "        vertical-align: middle;\n",
       "    }\n",
       "\n",
       "    .dataframe tbody tr th {\n",
       "        vertical-align: top;\n",
       "    }\n",
       "\n",
       "    .dataframe thead th {\n",
       "        text-align: right;\n",
       "    }\n",
       "</style>\n",
       "<table border=\"1\" class=\"dataframe\">\n",
       "  <thead>\n",
       "    <tr style=\"text-align: right;\">\n",
       "      <th></th>\n",
       "      <th>pfCand_pt</th>\n",
       "      <th>pfCand_deta</th>\n",
       "      <th>pfCand_dphi</th>\n",
       "      <th>pfCand_mass</th>\n",
       "    </tr>\n",
       "    <tr>\n",
       "      <th>entry</th>\n",
       "      <th></th>\n",
       "      <th></th>\n",
       "      <th></th>\n",
       "      <th></th>\n",
       "    </tr>\n",
       "  </thead>\n",
       "  <tbody>\n",
       "    <tr>\n",
       "      <th>0</th>\n",
       "      <td>0.906738</td>\n",
       "      <td>-0.107781</td>\n",
       "      <td>0.033726</td>\n",
       "      <td>0.139526</td>\n",
       "    </tr>\n",
       "    <tr>\n",
       "      <th>1</th>\n",
       "      <td>31.578125</td>\n",
       "      <td>0.000072</td>\n",
       "      <td>0.000043</td>\n",
       "      <td>0.105713</td>\n",
       "    </tr>\n",
       "    <tr>\n",
       "      <th>2</th>\n",
       "      <td>3.335938</td>\n",
       "      <td>0.052625</td>\n",
       "      <td>-0.073302</td>\n",
       "      <td>-0.000000</td>\n",
       "    </tr>\n",
       "  </tbody>\n",
       "</table>\n",
       "</div>"
      ],
      "text/plain": [
       "       pfCand_pt  pfCand_deta  pfCand_dphi  pfCand_mass\n",
       "entry                                                  \n",
       "0       0.906738    -0.107781     0.033726     0.139526\n",
       "1      31.578125     0.000072     0.000043     0.105713\n",
       "2       3.335938     0.052625    -0.073302    -0.000000"
      ]
     },
     "execution_count": 119,
     "metadata": {},
     "output_type": "execute_result"
    }
   ],
   "source": [
    "grid_mask = taus[7][f'inner_grid_pfCand_mask']\n",
    "ak.to_pandas(taus[7][fill_branches['pfCand']][grid_mask])"
   ]
  },
  {
   "cell_type": "code",
   "execution_count": 121,
   "metadata": {},
   "outputs": [],
   "source": [
    "np.put(grid_tensors['inner'][7], get_fill_indices('inner', 7, 'pfCand'), get_fill_values('inner', 7, 'pfCand'))"
   ]
  },
  {
   "cell_type": "code",
   "execution_count": 122,
   "metadata": {},
   "outputs": [
    {
     "data": {
      "text/plain": [
       "(-0.10778063535690308, 0.105712890625, 3.3359375)"
      ]
     },
     "execution_count": 122,
     "metadata": {},
     "output_type": "execute_result"
    }
   ],
   "source": [
    "grid_tensors['inner'][7, 0, 0, 0], grid_tensors['inner'][7, 0, 0, 1], grid_tensors['inner'][7, 0, 0, 2]"
   ]
  },
  {
   "cell_type": "code",
   "execution_count": 127,
   "metadata": {},
   "outputs": [],
   "source": [
    "a = np.zeros((12, 12, 1))"
   ]
  },
  {
   "cell_type": "code",
   "execution_count": 135,
   "metadata": {},
   "outputs": [],
   "source": [
    "ind = [[0, 7, 0],\n",
    " [5, 5, 0],\n",
    " [8, 1, 0],\n",
    "]"
   ]
  },
  {
   "cell_type": "code",
   "execution_count": 136,
   "metadata": {},
   "outputs": [],
   "source": [
    "np.put(a, ind, [1,2,3])"
   ]
  },
  {
   "cell_type": "code",
   "execution_count": 137,
   "metadata": {},
   "outputs": [
    {
     "data": {
      "text/plain": [
       "array([[3., 2., 0., 0., 0., 2., 0., 2., 1., 0., 0., 0.],\n",
       "       [0., 0., 0., 0., 0., 0., 0., 0., 0., 0., 0., 0.],\n",
       "       [0., 0., 0., 0., 0., 0., 0., 0., 0., 0., 0., 0.],\n",
       "       [0., 0., 0., 0., 0., 0., 0., 0., 0., 0., 0., 0.],\n",
       "       [0., 0., 0., 0., 0., 0., 0., 0., 0., 0., 0., 0.],\n",
       "       [0., 0., 0., 0., 0., 0., 0., 0., 0., 0., 0., 0.],\n",
       "       [0., 0., 0., 0., 0., 0., 0., 0., 0., 0., 0., 0.],\n",
       "       [0., 0., 0., 0., 0., 0., 0., 0., 0., 0., 0., 0.],\n",
       "       [0., 0., 0., 0., 0., 0., 0., 0., 0., 0., 0., 0.],\n",
       "       [0., 0., 0., 0., 0., 0., 0., 0., 0., 0., 0., 0.],\n",
       "       [0., 0., 0., 0., 0., 0., 0., 0., 0., 0., 0., 0.],\n",
       "       [0., 0., 0., 0., 0., 0., 0., 0., 0., 0., 0., 0.]])"
      ]
     },
     "execution_count": 137,
     "metadata": {},
     "output_type": "execute_result"
    }
   ],
   "source": [
    "a[:, :, 0]"
   ]
  },
  {
   "cell_type": "code",
   "execution_count": 138,
   "metadata": {},
   "outputs": [
    {
     "data": {
      "text/plain": [
       "5"
      ]
     },
     "execution_count": 138,
     "metadata": {},
     "output_type": "execute_result"
    }
   ],
   "source": [
    "np.sum(a != 0)"
   ]
  },
  {
   "cell_type": "code",
   "execution_count": null,
   "metadata": {},
   "outputs": [],
   "source": []
  },
  {
   "cell_type": "code",
   "execution_count": 142,
   "metadata": {},
   "outputs": [
    {
     "ename": "InvalidArgumentError",
     "evalue": "indices[3] = [0,7,1] is out of order. Many sparse ops require sorted indices.\n    Use `tf.sparse.reorder` to create a correctly ordered copy.\n\n [Op:SparseToDense]",
     "output_type": "error",
     "traceback": [
      "\u001b[0;31m---------------------------------------------------------------------------\u001b[0m",
      "\u001b[0;31mInvalidArgumentError\u001b[0m                      Traceback (most recent call last)",
      "\u001b[0;32m<ipython-input-142-219451c3dcdc>\u001b[0m in \u001b[0;36m<module>\u001b[0;34m\u001b[0m\n\u001b[0;32m----> 1\u001b[0;31m \u001b[0mtf\u001b[0m\u001b[0;34m.\u001b[0m\u001b[0msparse\u001b[0m\u001b[0;34m.\u001b[0m\u001b[0mto_dense\u001b[0m\u001b[0;34m(\u001b[0m\u001b[0mtf\u001b[0m\u001b[0;34m.\u001b[0m\u001b[0mSparseTensor\u001b[0m\u001b[0;34m(\u001b[0m\u001b[0mget_fill_indices\u001b[0m\u001b[0;34m(\u001b[0m\u001b[0;34m'inner'\u001b[0m\u001b[0;34m,\u001b[0m \u001b[0;36m7\u001b[0m\u001b[0;34m,\u001b[0m \u001b[0;34m'pfCand'\u001b[0m\u001b[0;34m)\u001b[0m\u001b[0;34m,\u001b[0m \u001b[0mget_fill_values\u001b[0m\u001b[0;34m(\u001b[0m\u001b[0;34m'inner'\u001b[0m\u001b[0;34m,\u001b[0m \u001b[0;36m7\u001b[0m\u001b[0;34m,\u001b[0m \u001b[0;34m'pfCand'\u001b[0m\u001b[0;34m)\u001b[0m\u001b[0;34m,\u001b[0m \u001b[0;34m(\u001b[0m\u001b[0;36m12\u001b[0m\u001b[0;34m,\u001b[0m \u001b[0;36m12\u001b[0m\u001b[0;34m,\u001b[0m \u001b[0;36m4\u001b[0m\u001b[0;34m)\u001b[0m\u001b[0;34m)\u001b[0m\u001b[0;34m)\u001b[0m\u001b[0;34m\u001b[0m\u001b[0;34m\u001b[0m\u001b[0m\n\u001b[0m",
      "\u001b[0;32m/nfs/dust/cms/user/filatovo/miniconda3/envs/tau-dev/lib/python3.8/site-packages/tensorflow/python/ops/sparse_ops.py\u001b[0m in \u001b[0;36msparse_tensor_to_dense\u001b[0;34m(sp_input, default_value, validate_indices, name)\u001b[0m\n\u001b[1;32m   1641\u001b[0m     \u001b[0mdefault_value\u001b[0m \u001b[0;34m=\u001b[0m \u001b[0marray_ops\u001b[0m\u001b[0;34m.\u001b[0m\u001b[0mzeros\u001b[0m\u001b[0;34m(\u001b[0m\u001b[0;34m[\u001b[0m\u001b[0;34m]\u001b[0m\u001b[0;34m,\u001b[0m \u001b[0mdtype\u001b[0m\u001b[0;34m=\u001b[0m\u001b[0msp_input\u001b[0m\u001b[0;34m.\u001b[0m\u001b[0mdtype\u001b[0m\u001b[0;34m)\u001b[0m\u001b[0;34m\u001b[0m\u001b[0;34m\u001b[0m\u001b[0m\n\u001b[1;32m   1642\u001b[0m \u001b[0;34m\u001b[0m\u001b[0m\n\u001b[0;32m-> 1643\u001b[0;31m   return gen_sparse_ops.sparse_to_dense(\n\u001b[0m\u001b[1;32m   1644\u001b[0m       \u001b[0msp_input\u001b[0m\u001b[0;34m.\u001b[0m\u001b[0mindices\u001b[0m\u001b[0;34m,\u001b[0m\u001b[0;34m\u001b[0m\u001b[0;34m\u001b[0m\u001b[0m\n\u001b[1;32m   1645\u001b[0m       \u001b[0msp_input\u001b[0m\u001b[0;34m.\u001b[0m\u001b[0mdense_shape\u001b[0m\u001b[0;34m,\u001b[0m\u001b[0;34m\u001b[0m\u001b[0;34m\u001b[0m\u001b[0m\n",
      "\u001b[0;32m/nfs/dust/cms/user/filatovo/miniconda3/envs/tau-dev/lib/python3.8/site-packages/tensorflow/python/ops/gen_sparse_ops.py\u001b[0m in \u001b[0;36msparse_to_dense\u001b[0;34m(sparse_indices, output_shape, sparse_values, default_value, validate_indices, name)\u001b[0m\n\u001b[1;32m   3160\u001b[0m       \u001b[0;32mreturn\u001b[0m \u001b[0m_result\u001b[0m\u001b[0;34m\u001b[0m\u001b[0;34m\u001b[0m\u001b[0m\n\u001b[1;32m   3161\u001b[0m     \u001b[0;32mexcept\u001b[0m \u001b[0m_core\u001b[0m\u001b[0;34m.\u001b[0m\u001b[0m_NotOkStatusException\u001b[0m \u001b[0;32mas\u001b[0m \u001b[0me\u001b[0m\u001b[0;34m:\u001b[0m\u001b[0;34m\u001b[0m\u001b[0;34m\u001b[0m\u001b[0m\n\u001b[0;32m-> 3162\u001b[0;31m       \u001b[0m_ops\u001b[0m\u001b[0;34m.\u001b[0m\u001b[0mraise_from_not_ok_status\u001b[0m\u001b[0;34m(\u001b[0m\u001b[0me\u001b[0m\u001b[0;34m,\u001b[0m \u001b[0mname\u001b[0m\u001b[0;34m)\u001b[0m\u001b[0;34m\u001b[0m\u001b[0;34m\u001b[0m\u001b[0m\n\u001b[0m\u001b[1;32m   3163\u001b[0m     \u001b[0;32mexcept\u001b[0m \u001b[0m_core\u001b[0m\u001b[0;34m.\u001b[0m\u001b[0m_FallbackException\u001b[0m\u001b[0;34m:\u001b[0m\u001b[0;34m\u001b[0m\u001b[0;34m\u001b[0m\u001b[0m\n\u001b[1;32m   3164\u001b[0m       \u001b[0;32mpass\u001b[0m\u001b[0;34m\u001b[0m\u001b[0;34m\u001b[0m\u001b[0m\n",
      "\u001b[0;32m/nfs/dust/cms/user/filatovo/miniconda3/envs/tau-dev/lib/python3.8/site-packages/tensorflow/python/framework/ops.py\u001b[0m in \u001b[0;36mraise_from_not_ok_status\u001b[0;34m(e, name)\u001b[0m\n\u001b[1;32m   6860\u001b[0m   \u001b[0mmessage\u001b[0m \u001b[0;34m=\u001b[0m \u001b[0me\u001b[0m\u001b[0;34m.\u001b[0m\u001b[0mmessage\u001b[0m \u001b[0;34m+\u001b[0m \u001b[0;34m(\u001b[0m\u001b[0;34m\" name: \"\u001b[0m \u001b[0;34m+\u001b[0m \u001b[0mname\u001b[0m \u001b[0;32mif\u001b[0m \u001b[0mname\u001b[0m \u001b[0;32mis\u001b[0m \u001b[0;32mnot\u001b[0m \u001b[0;32mNone\u001b[0m \u001b[0;32melse\u001b[0m \u001b[0;34m\"\"\u001b[0m\u001b[0;34m)\u001b[0m\u001b[0;34m\u001b[0m\u001b[0;34m\u001b[0m\u001b[0m\n\u001b[1;32m   6861\u001b[0m   \u001b[0;31m# pylint: disable=protected-access\u001b[0m\u001b[0;34m\u001b[0m\u001b[0;34m\u001b[0m\u001b[0;34m\u001b[0m\u001b[0m\n\u001b[0;32m-> 6862\u001b[0;31m   \u001b[0msix\u001b[0m\u001b[0;34m.\u001b[0m\u001b[0mraise_from\u001b[0m\u001b[0;34m(\u001b[0m\u001b[0mcore\u001b[0m\u001b[0;34m.\u001b[0m\u001b[0m_status_to_exception\u001b[0m\u001b[0;34m(\u001b[0m\u001b[0me\u001b[0m\u001b[0;34m.\u001b[0m\u001b[0mcode\u001b[0m\u001b[0;34m,\u001b[0m \u001b[0mmessage\u001b[0m\u001b[0;34m)\u001b[0m\u001b[0;34m,\u001b[0m \u001b[0;32mNone\u001b[0m\u001b[0;34m)\u001b[0m\u001b[0;34m\u001b[0m\u001b[0;34m\u001b[0m\u001b[0m\n\u001b[0m\u001b[1;32m   6863\u001b[0m   \u001b[0;31m# pylint: enable=protected-access\u001b[0m\u001b[0;34m\u001b[0m\u001b[0;34m\u001b[0m\u001b[0;34m\u001b[0m\u001b[0m\n\u001b[1;32m   6864\u001b[0m \u001b[0;34m\u001b[0m\u001b[0m\n",
      "\u001b[0;32m/nfs/dust/cms/user/filatovo/miniconda3/envs/tau-dev/lib/python3.8/site-packages/six.py\u001b[0m in \u001b[0;36mraise_from\u001b[0;34m(value, from_value)\u001b[0m\n",
      "\u001b[0;31mInvalidArgumentError\u001b[0m: indices[3] = [0,7,1] is out of order. Many sparse ops require sorted indices.\n    Use `tf.sparse.reorder` to create a correctly ordered copy.\n\n [Op:SparseToDense]"
     ]
    }
   ],
   "source": [
    "tf.sparse.to_dense(tf.SparseTensor(get_fill_indices('inner', 7, 'pfCand'), get_fill_values('inner', 7, 'pfCand'), (12, 12, 4)))"
   ]
  },
  {
   "cell_type": "code",
   "execution_count": null,
   "metadata": {},
   "outputs": [],
   "source": []
  },
  {
   "cell_type": "code",
   "execution_count": null,
   "metadata": {},
   "outputs": [],
   "source": []
  },
  {
   "cell_type": "code",
   "execution_count": null,
   "metadata": {},
   "outputs": [],
   "source": []
  },
  {
   "cell_type": "code",
   "execution_count": null,
   "metadata": {},
   "outputs": [],
   "source": []
  },
  {
   "cell_type": "markdown",
   "metadata": {},
   "source": [
    "## [misc]"
   ]
  },
  {
   "cell_type": "markdown",
   "metadata": {},
   "source": [
    "### single fill"
   ]
  },
  {
   "cell_type": "code",
   "execution_count": 32,
   "metadata": {},
   "outputs": [
    {
     "data": {
      "text/plain": [
       "<Array [[0, 5, 8], [0, 5, ... 5, 8], [0, 5, 8]] type='4 * 3 * float32'>"
      ]
     },
     "execution_count": 32,
     "metadata": {},
     "output_type": "execute_result"
    }
   ],
   "source": [
    "eta_i, phi_i, feature_i = ak.broadcast_arrays(taus[tau_i]['inner_grid_pfCand_indices_eta'][inner_grid_mask[tau_i]],\n",
    "                            taus[tau_i]['inner_grid_pfCand_indices_phi'][inner_grid_mask[tau_i]],\n",
    "                            np.arange(len(pf_branches), dtype=np.float32)[:, np.newaxis])\n",
    "eta_i"
   ]
  },
  {
   "cell_type": "code",
   "execution_count": 35,
   "metadata": {},
   "outputs": [
    {
     "data": {
      "text/plain": [
       "<Array [[(0, 7, 0), (5, 5, ... ), (8, 1, 3)]] type='4 * 3 * (float32, float32, f...'>"
      ]
     },
     "execution_count": 35,
     "metadata": {},
     "output_type": "execute_result"
    }
   ],
   "source": [
    "eta_phi_feature_i = ak.zip([eta_i, phi_i, feature_i])"
   ]
  },
  {
   "cell_type": "code",
   "execution_count": 36,
   "metadata": {},
   "outputs": [
    {
     "data": {
      "text/plain": [
       "(<Array [(0, 7, 0), (5, 5, 0), (8, 1, 0)] type='3 * (float32, float32, float32)'>,\n",
       " <Array [(0, 7, 1), (5, 5, 1), (8, 1, 1)] type='3 * (float32, float32, float32)'>,\n",
       " <Array [(0, 7, 2), (5, 5, 2), (8, 1, 2)] type='3 * (float32, float32, float32)'>)"
      ]
     },
     "execution_count": 36,
     "metadata": {},
     "output_type": "execute_result"
    }
   ],
   "source": [
    "eta_phi_feature_i[0], eta_phi_feature_i[1], eta_phi_feature_i[2],"
   ]
  },
  {
   "cell_type": "code",
   "execution_count": 38,
   "metadata": {},
   "outputs": [],
   "source": [
    "indices_to_fill = ak.flatten(eta_phi_feature_i, axis=1)\n",
    "indices_to_fill = ak.values_astype(indices_to_fill, 'int32')\n",
    "indices_to_fill = ak.to_list(indices_to_fill)\n",
    "# indices_to_fill = ak.to_numpy(indices_to_fill)"
   ]
  },
  {
   "cell_type": "code",
   "execution_count": 117,
   "metadata": {},
   "outputs": [
    {
     "data": {
      "text/plain": [
       "(232,)"
      ]
     },
     "execution_count": 117,
     "metadata": {},
     "output_type": "execute_result"
    }
   ],
   "source": [
    "values_to_fill = ak.to_pandas(taus[tau_i][pf_branches]).values\n",
    "values_to_fill = values_to_fill.transpose().flatten()\n",
    "values_to_fill.shape"
   ]
  },
  {
   "cell_type": "code",
   "execution_count": null,
   "metadata": {},
   "outputs": [],
   "source": []
  },
  {
   "cell_type": "code",
   "execution_count": null,
   "metadata": {},
   "outputs": [],
   "source": []
  },
  {
   "cell_type": "code",
   "execution_count": null,
   "metadata": {},
   "outputs": [],
   "source": []
  },
  {
   "cell_type": "code",
   "execution_count": 26,
   "metadata": {},
   "outputs": [],
   "source": [
    "pf_branches = ['pfCand_pt', 'pfCand_deta', 'pfCand_dphi', ]"
   ]
  },
  {
   "cell_type": "code",
   "execution_count": 28,
   "metadata": {},
   "outputs": [
    {
     "data": {
      "text/plain": [
       "3075"
      ]
     },
     "execution_count": 28,
     "metadata": {},
     "output_type": "execute_result"
    }
   ],
   "source": [
    "tau_df = ak.to_pandas(taus[pf_branches + ['inner_grid_pfCand_indices', 'inner_grid_pfCand_mask']])\n",
    "n_taus = len(tau_df.index.levels[0])\n",
    "n_taus"
   ]
  },
  {
   "cell_type": "code",
   "execution_count": 29,
   "metadata": {},
   "outputs": [
    {
     "data": {
      "text/html": [
       "<div>\n",
       "<style scoped>\n",
       "    .dataframe tbody tr th:only-of-type {\n",
       "        vertical-align: middle;\n",
       "    }\n",
       "\n",
       "    .dataframe tbody tr th {\n",
       "        vertical-align: top;\n",
       "    }\n",
       "\n",
       "    .dataframe thead tr th {\n",
       "        text-align: left;\n",
       "    }\n",
       "\n",
       "    .dataframe thead tr:last-of-type th {\n",
       "        text-align: right;\n",
       "    }\n",
       "</style>\n",
       "<table border=\"1\" class=\"dataframe\">\n",
       "  <thead>\n",
       "    <tr>\n",
       "      <th></th>\n",
       "      <th></th>\n",
       "      <th>pfCand_pt</th>\n",
       "      <th>pfCand_deta</th>\n",
       "      <th>pfCand_dphi</th>\n",
       "      <th colspan=\"2\" halign=\"left\">inner_grid_pfCand_indices</th>\n",
       "      <th>inner_grid_pfCand_mask</th>\n",
       "    </tr>\n",
       "    <tr>\n",
       "      <th></th>\n",
       "      <th></th>\n",
       "      <th></th>\n",
       "      <th></th>\n",
       "      <th></th>\n",
       "      <th>0</th>\n",
       "      <th>1</th>\n",
       "      <th></th>\n",
       "    </tr>\n",
       "    <tr>\n",
       "      <th>entry</th>\n",
       "      <th>subentry</th>\n",
       "      <th></th>\n",
       "      <th></th>\n",
       "      <th></th>\n",
       "      <th></th>\n",
       "      <th></th>\n",
       "      <th></th>\n",
       "    </tr>\n",
       "  </thead>\n",
       "  <tbody>\n",
       "    <tr>\n",
       "      <th rowspan=\"5\" valign=\"top\">0</th>\n",
       "      <th>0</th>\n",
       "      <td>0.645508</td>\n",
       "      <td>-0.083589</td>\n",
       "      <td>0.347632</td>\n",
       "      <td>1.0</td>\n",
       "      <td>22.0</td>\n",
       "      <td>False</td>\n",
       "    </tr>\n",
       "    <tr>\n",
       "      <th>1</th>\n",
       "      <td>0.815918</td>\n",
       "      <td>-0.220189</td>\n",
       "      <td>-0.278948</td>\n",
       "      <td>-6.0</td>\n",
       "      <td>-9.0</td>\n",
       "      <td>False</td>\n",
       "    </tr>\n",
       "    <tr>\n",
       "      <th>2</th>\n",
       "      <td>0.566406</td>\n",
       "      <td>-0.029388</td>\n",
       "      <td>-0.143703</td>\n",
       "      <td>4.0</td>\n",
       "      <td>-2.0</td>\n",
       "      <td>False</td>\n",
       "    </tr>\n",
       "    <tr>\n",
       "      <th>3</th>\n",
       "      <td>0.729004</td>\n",
       "      <td>-0.256812</td>\n",
       "      <td>-0.088234</td>\n",
       "      <td>-8.0</td>\n",
       "      <td>1.0</td>\n",
       "      <td>False</td>\n",
       "    </tr>\n",
       "    <tr>\n",
       "      <th>4</th>\n",
       "      <td>0.873047</td>\n",
       "      <td>0.156836</td>\n",
       "      <td>0.265015</td>\n",
       "      <td>13.0</td>\n",
       "      <td>18.0</td>\n",
       "      <td>False</td>\n",
       "    </tr>\n",
       "    <tr>\n",
       "      <th>...</th>\n",
       "      <th>...</th>\n",
       "      <td>...</td>\n",
       "      <td>...</td>\n",
       "      <td>...</td>\n",
       "      <td>...</td>\n",
       "      <td>...</td>\n",
       "      <td>...</td>\n",
       "    </tr>\n",
       "    <tr>\n",
       "      <th rowspan=\"5\" valign=\"top\">3074</th>\n",
       "      <th>40</th>\n",
       "      <td>4.882812</td>\n",
       "      <td>-0.120702</td>\n",
       "      <td>0.079892</td>\n",
       "      <td>-1.0</td>\n",
       "      <td>9.0</td>\n",
       "      <td>False</td>\n",
       "    </tr>\n",
       "    <tr>\n",
       "      <th>41</th>\n",
       "      <td>0.625488</td>\n",
       "      <td>-0.201454</td>\n",
       "      <td>0.234198</td>\n",
       "      <td>-5.0</td>\n",
       "      <td>17.0</td>\n",
       "      <td>False</td>\n",
       "    </tr>\n",
       "    <tr>\n",
       "      <th>42</th>\n",
       "      <td>0.691406</td>\n",
       "      <td>-0.288065</td>\n",
       "      <td>-0.149407</td>\n",
       "      <td>-9.0</td>\n",
       "      <td>-2.0</td>\n",
       "      <td>False</td>\n",
       "    </tr>\n",
       "    <tr>\n",
       "      <th>43</th>\n",
       "      <td>0.451904</td>\n",
       "      <td>-0.322857</td>\n",
       "      <td>0.234294</td>\n",
       "      <td>-11.0</td>\n",
       "      <td>17.0</td>\n",
       "      <td>False</td>\n",
       "    </tr>\n",
       "    <tr>\n",
       "      <th>44</th>\n",
       "      <td>0.569824</td>\n",
       "      <td>-0.357465</td>\n",
       "      <td>0.337900</td>\n",
       "      <td>-13.0</td>\n",
       "      <td>22.0</td>\n",
       "      <td>False</td>\n",
       "    </tr>\n",
       "  </tbody>\n",
       "</table>\n",
       "<p>212954 rows × 6 columns</p>\n",
       "</div>"
      ],
      "text/plain": [
       "               pfCand_pt pfCand_deta pfCand_dphi inner_grid_pfCand_indices  \\\n",
       "                                                                         0   \n",
       "entry subentry                                                               \n",
       "0     0         0.645508   -0.083589    0.347632                       1.0   \n",
       "      1         0.815918   -0.220189   -0.278948                      -6.0   \n",
       "      2         0.566406   -0.029388   -0.143703                       4.0   \n",
       "      3         0.729004   -0.256812   -0.088234                      -8.0   \n",
       "      4         0.873047    0.156836    0.265015                      13.0   \n",
       "...                  ...         ...         ...                       ...   \n",
       "3074  40        4.882812   -0.120702    0.079892                      -1.0   \n",
       "      41        0.625488   -0.201454    0.234198                      -5.0   \n",
       "      42        0.691406   -0.288065   -0.149407                      -9.0   \n",
       "      43        0.451904   -0.322857    0.234294                     -11.0   \n",
       "      44        0.569824   -0.357465    0.337900                     -13.0   \n",
       "\n",
       "                     inner_grid_pfCand_mask  \n",
       "                   1                         \n",
       "entry subentry                               \n",
       "0     0         22.0                  False  \n",
       "      1         -9.0                  False  \n",
       "      2         -2.0                  False  \n",
       "      3          1.0                  False  \n",
       "      4         18.0                  False  \n",
       "...              ...                    ...  \n",
       "3074  40         9.0                  False  \n",
       "      41        17.0                  False  \n",
       "      42        -2.0                  False  \n",
       "      43        17.0                  False  \n",
       "      44        22.0                  False  \n",
       "\n",
       "[212954 rows x 6 columns]"
      ]
     },
     "execution_count": 29,
     "metadata": {},
     "output_type": "execute_result"
    }
   ],
   "source": [
    "tau_df"
   ]
  },
  {
   "cell_type": "code",
   "execution_count": 31,
   "metadata": {},
   "outputs": [
    {
     "data": {
      "text/html": [
       "<div>\n",
       "<style scoped>\n",
       "    .dataframe tbody tr th:only-of-type {\n",
       "        vertical-align: middle;\n",
       "    }\n",
       "\n",
       "    .dataframe tbody tr th {\n",
       "        vertical-align: top;\n",
       "    }\n",
       "\n",
       "    .dataframe thead th {\n",
       "        text-align: right;\n",
       "    }\n",
       "</style>\n",
       "<table border=\"1\" class=\"dataframe\">\n",
       "  <thead>\n",
       "    <tr style=\"text-align: right;\">\n",
       "      <th></th>\n",
       "      <th></th>\n",
       "      <th>0</th>\n",
       "      <th>1</th>\n",
       "    </tr>\n",
       "    <tr>\n",
       "      <th>entry</th>\n",
       "      <th>subentry</th>\n",
       "      <th></th>\n",
       "      <th></th>\n",
       "    </tr>\n",
       "  </thead>\n",
       "  <tbody>\n",
       "    <tr>\n",
       "      <th rowspan=\"3\" valign=\"top\">0</th>\n",
       "      <th>23</th>\n",
       "      <td>5.0</td>\n",
       "      <td>5.0</td>\n",
       "    </tr>\n",
       "    <tr>\n",
       "      <th>43</th>\n",
       "      <td>9.0</td>\n",
       "      <td>4.0</td>\n",
       "    </tr>\n",
       "    <tr>\n",
       "      <th>45</th>\n",
       "      <td>4.0</td>\n",
       "      <td>2.0</td>\n",
       "    </tr>\n",
       "    <tr>\n",
       "      <th rowspan=\"2\" valign=\"top\">1</th>\n",
       "      <th>2</th>\n",
       "      <td>3.0</td>\n",
       "      <td>0.0</td>\n",
       "    </tr>\n",
       "    <tr>\n",
       "      <th>20</th>\n",
       "      <td>5.0</td>\n",
       "      <td>5.0</td>\n",
       "    </tr>\n",
       "    <tr>\n",
       "      <th>...</th>\n",
       "      <th>...</th>\n",
       "      <td>...</td>\n",
       "      <td>...</td>\n",
       "    </tr>\n",
       "    <tr>\n",
       "      <th rowspan=\"5\" valign=\"top\">3074</th>\n",
       "      <th>0</th>\n",
       "      <td>3.0</td>\n",
       "      <td>0.0</td>\n",
       "    </tr>\n",
       "    <tr>\n",
       "      <th>11</th>\n",
       "      <td>5.0</td>\n",
       "      <td>5.0</td>\n",
       "    </tr>\n",
       "    <tr>\n",
       "      <th>13</th>\n",
       "      <td>8.0</td>\n",
       "      <td>0.0</td>\n",
       "    </tr>\n",
       "    <tr>\n",
       "      <th>14</th>\n",
       "      <td>0.0</td>\n",
       "      <td>9.0</td>\n",
       "    </tr>\n",
       "    <tr>\n",
       "      <th>31</th>\n",
       "      <td>9.0</td>\n",
       "      <td>2.0</td>\n",
       "    </tr>\n",
       "  </tbody>\n",
       "</table>\n",
       "<p>15853 rows × 2 columns</p>\n",
       "</div>"
      ],
      "text/plain": [
       "                  0    1\n",
       "entry subentry          \n",
       "0     23        5.0  5.0\n",
       "      43        9.0  4.0\n",
       "      45        4.0  2.0\n",
       "1     2         3.0  0.0\n",
       "      20        5.0  5.0\n",
       "...             ...  ...\n",
       "3074  0         3.0  0.0\n",
       "      11        5.0  5.0\n",
       "      13        8.0  0.0\n",
       "      14        0.0  9.0\n",
       "      31        9.0  2.0\n",
       "\n",
       "[15853 rows x 2 columns]"
      ]
     },
     "execution_count": 31,
     "metadata": {},
     "output_type": "execute_result"
    }
   ],
   "source": [
    "inner_cand_ids = tau_df.index[tau_df['inner_grid_pfCand_mask']]\n",
    "inner_grid_ids = tau_df.loc[inner_cand_ids]['inner_grid_pfCand_indices']\n",
    "inner_grid_ids"
   ]
  },
  {
   "cell_type": "code",
   "execution_count": 32,
   "metadata": {},
   "outputs": [
    {
     "data": {
      "text/html": [
       "<div>\n",
       "<style scoped>\n",
       "    .dataframe tbody tr th:only-of-type {\n",
       "        vertical-align: middle;\n",
       "    }\n",
       "\n",
       "    .dataframe tbody tr th {\n",
       "        vertical-align: top;\n",
       "    }\n",
       "\n",
       "    .dataframe thead tr th {\n",
       "        text-align: left;\n",
       "    }\n",
       "\n",
       "    .dataframe thead tr:last-of-type th {\n",
       "        text-align: right;\n",
       "    }\n",
       "</style>\n",
       "<table border=\"1\" class=\"dataframe\">\n",
       "  <thead>\n",
       "    <tr>\n",
       "      <th></th>\n",
       "      <th></th>\n",
       "      <th>pfCand_pt</th>\n",
       "      <th>pfCand_deta</th>\n",
       "      <th>pfCand_dphi</th>\n",
       "    </tr>\n",
       "    <tr>\n",
       "      <th></th>\n",
       "      <th></th>\n",
       "      <th></th>\n",
       "      <th></th>\n",
       "      <th></th>\n",
       "    </tr>\n",
       "    <tr>\n",
       "      <th>entry</th>\n",
       "      <th>subentry</th>\n",
       "      <th></th>\n",
       "      <th></th>\n",
       "      <th></th>\n",
       "    </tr>\n",
       "  </thead>\n",
       "  <tbody>\n",
       "    <tr>\n",
       "      <th rowspan=\"3\" valign=\"top\">0</th>\n",
       "      <th>23</th>\n",
       "      <td>34.437500</td>\n",
       "      <td>-0.000090</td>\n",
       "      <td>-0.000041</td>\n",
       "    </tr>\n",
       "    <tr>\n",
       "      <th>43</th>\n",
       "      <td>0.618164</td>\n",
       "      <td>0.083958</td>\n",
       "      <td>-0.015660</td>\n",
       "    </tr>\n",
       "    <tr>\n",
       "      <th>45</th>\n",
       "      <td>1.300781</td>\n",
       "      <td>-0.012175</td>\n",
       "      <td>-0.058351</td>\n",
       "    </tr>\n",
       "    <tr>\n",
       "      <th rowspan=\"2\" valign=\"top\">1</th>\n",
       "      <th>2</th>\n",
       "      <td>0.854980</td>\n",
       "      <td>-0.043634</td>\n",
       "      <td>-0.090969</td>\n",
       "    </tr>\n",
       "    <tr>\n",
       "      <th>20</th>\n",
       "      <td>30.109375</td>\n",
       "      <td>-0.000054</td>\n",
       "      <td>0.000041</td>\n",
       "    </tr>\n",
       "    <tr>\n",
       "      <th>...</th>\n",
       "      <th>...</th>\n",
       "      <td>...</td>\n",
       "      <td>...</td>\n",
       "      <td>...</td>\n",
       "    </tr>\n",
       "    <tr>\n",
       "      <th rowspan=\"5\" valign=\"top\">3074</th>\n",
       "      <th>0</th>\n",
       "      <td>0.759766</td>\n",
       "      <td>-0.046176</td>\n",
       "      <td>-0.102252</td>\n",
       "    </tr>\n",
       "    <tr>\n",
       "      <th>11</th>\n",
       "      <td>20.625000</td>\n",
       "      <td>-0.000032</td>\n",
       "      <td>0.000005</td>\n",
       "    </tr>\n",
       "    <tr>\n",
       "      <th>13</th>\n",
       "      <td>1.535156</td>\n",
       "      <td>0.061310</td>\n",
       "      <td>-0.092192</td>\n",
       "    </tr>\n",
       "    <tr>\n",
       "      <th>14</th>\n",
       "      <td>1.869141</td>\n",
       "      <td>-0.095616</td>\n",
       "      <td>0.071008</td>\n",
       "    </tr>\n",
       "    <tr>\n",
       "      <th>31</th>\n",
       "      <td>0.316406</td>\n",
       "      <td>0.080171</td>\n",
       "      <td>-0.063965</td>\n",
       "    </tr>\n",
       "  </tbody>\n",
       "</table>\n",
       "<p>15853 rows × 3 columns</p>\n",
       "</div>"
      ],
      "text/plain": [
       "                pfCand_pt pfCand_deta pfCand_dphi\n",
       "                                                 \n",
       "entry subentry                                   \n",
       "0     23        34.437500   -0.000090   -0.000041\n",
       "      43         0.618164    0.083958   -0.015660\n",
       "      45         1.300781   -0.012175   -0.058351\n",
       "1     2          0.854980   -0.043634   -0.090969\n",
       "      20        30.109375   -0.000054    0.000041\n",
       "...                   ...         ...         ...\n",
       "3074  0          0.759766   -0.046176   -0.102252\n",
       "      11        20.625000   -0.000032    0.000005\n",
       "      13         1.535156    0.061310   -0.092192\n",
       "      14         1.869141   -0.095616    0.071008\n",
       "      31         0.316406    0.080171   -0.063965\n",
       "\n",
       "[15853 rows x 3 columns]"
      ]
     },
     "execution_count": 32,
     "metadata": {},
     "output_type": "execute_result"
    }
   ],
   "source": [
    "inner_grid_fill = tau_df.loc[inner_cand_ids][pf_branches]\n",
    "inner_grid_fill"
   ]
  },
  {
   "cell_type": "code",
   "execution_count": 33,
   "metadata": {},
   "outputs": [
    {
     "data": {
      "text/plain": [
       "array([[ 3.4437500e+01, -8.9943409e-05, -4.0769577e-05],\n",
       "       [ 6.1816406e-01,  8.3958030e-02, -1.5660405e-02],\n",
       "       [ 1.3007812e+00, -1.2175262e-02, -5.8351040e-02]], dtype=float32)"
      ]
     },
     "execution_count": 33,
     "metadata": {},
     "output_type": "execute_result"
    }
   ],
   "source": [
    "inner_grid_fill.loc[0].values"
   ]
  },
  {
   "cell_type": "code",
   "execution_count": 34,
   "metadata": {},
   "outputs": [
    {
     "data": {
      "text/plain": [
       "array([[5., 5.],\n",
       "       [9., 4.],\n",
       "       [4., 2.]], dtype=float32)"
      ]
     },
     "execution_count": 34,
     "metadata": {},
     "output_type": "execute_result"
    }
   ],
   "source": [
    "inner_grid_ids.loc[0].values"
   ]
  },
  {
   "cell_type": "code",
   "execution_count": 35,
   "metadata": {},
   "outputs": [],
   "source": [
    "inner_grid_tensor = np.zeros((n_taus, n_inner_cells, n_inner_cells, len(pf_branches)))"
   ]
  },
  {
   "cell_type": "code",
   "execution_count": 64,
   "metadata": {},
   "outputs": [],
   "source": [
    "# fill it with values=inner_grid_fill at positions=inner_grid_ids"
   ]
  },
  {
   "cell_type": "code",
   "execution_count": null,
   "metadata": {},
   "outputs": [],
   "source": []
  },
  {
   "cell_type": "code",
   "execution_count": null,
   "metadata": {},
   "outputs": [],
   "source": []
  },
  {
   "cell_type": "code",
   "execution_count": null,
   "metadata": {},
   "outputs": [],
   "source": []
  },
  {
   "cell_type": "code",
   "execution_count": null,
   "metadata": {},
   "outputs": [],
   "source": []
  },
  {
   "cell_type": "code",
   "execution_count": null,
   "metadata": {},
   "outputs": [],
   "source": []
  },
  {
   "cell_type": "code",
   "execution_count": null,
   "metadata": {},
   "outputs": [],
   "source": []
  },
  {
   "cell_type": "markdown",
   "metadata": {},
   "source": [
    "### misc."
   ]
  },
  {
   "cell_type": "code",
   "execution_count": 37,
   "metadata": {
    "collapsed": true,
    "jupyter": {
     "outputs_hidden": true
    }
   },
   "outputs": [
    {
     "ename": "TypeError",
     "evalue": "no implementation found for 'numpy.meshgrid' on types that implement __array_function__: [<class 'awkward.highlevel.Array'>]",
     "output_type": "error",
     "traceback": [
      "\u001b[0;31m---------------------------------------------------------------------------\u001b[0m",
      "\u001b[0;31mTypeError\u001b[0m                                 Traceback (most recent call last)",
      "\u001b[0;32m<ipython-input-37-c4bbaadcf103>\u001b[0m in \u001b[0;36m<module>\u001b[0;34m\u001b[0m\n\u001b[0;32m----> 1\u001b[0;31m \u001b[0mnp\u001b[0m\u001b[0;34m.\u001b[0m\u001b[0mmeshgrid\u001b[0m\u001b[0;34m(\u001b[0m\u001b[0minner_grid_eta_ids\u001b[0m\u001b[0;34m[\u001b[0m\u001b[0;36m0\u001b[0m\u001b[0;34m]\u001b[0m\u001b[0;34m,\u001b[0m \u001b[0minner_grid_phi_ids\u001b[0m\u001b[0;34m[\u001b[0m\u001b[0;36m0\u001b[0m\u001b[0;34m]\u001b[0m\u001b[0;34m)\u001b[0m\u001b[0;34m\u001b[0m\u001b[0;34m\u001b[0m\u001b[0m\n\u001b[0m",
      "\u001b[0;32m<__array_function__ internals>\u001b[0m in \u001b[0;36mmeshgrid\u001b[0;34m(*args, **kwargs)\u001b[0m\n",
      "\u001b[0;31mTypeError\u001b[0m: no implementation found for 'numpy.meshgrid' on types that implement __array_function__: [<class 'awkward.highlevel.Array'>]"
     ]
    }
   ],
   "source": [
    "np.meshgrid(inner_grid_eta_ids[0], inner_grid_phi_ids[0])"
   ]
  },
  {
   "cell_type": "code",
   "execution_count": 26,
   "metadata": {},
   "outputs": [
    {
     "data": {
      "text/plain": [
       "<Array [... 0, 0, 10, 6, 2, 0, 0, 0, 0, 0]] type='1 * 56 * float64'>"
      ]
     },
     "execution_count": 26,
     "metadata": {},
     "output_type": "execute_result"
    }
   ],
   "source": [
    "inner_grid_eta_ids[0][np.newaxis, :]"
   ]
  },
  {
   "cell_type": "code",
   "execution_count": 31,
   "metadata": {},
   "outputs": [
    {
     "data": {
      "text/plain": [
       "[<Array [... 0, 0, 0, 0, 0, 0, 0, 8, 8, 8, 0]] type='1 * 56 * float64'>,\n",
       " <Array [... 0, 0, 10, 6, 2, 0, 0, 0, 0, 0]] type='1 * 56 * float64'>]"
      ]
     },
     "execution_count": 31,
     "metadata": {},
     "output_type": "execute_result"
    }
   ],
   "source": [
    "ak.broadcast_arrays(inner_grid_eta_ids[0], inner_grid_eta_ids[0][np.newaxis, :])"
   ]
  },
  {
   "cell_type": "code",
   "execution_count": 57,
   "metadata": {},
   "outputs": [
    {
     "data": {
      "text/plain": [
       "array([[0., 0., 0., ..., 0., 0., 0.],\n",
       "       [0., 0., 0., ..., 0., 0., 0.],\n",
       "       [0., 0., 0., ..., 0., 0., 0.],\n",
       "       ...,\n",
       "       [0., 0., 0., ..., 0., 0., 0.],\n",
       "       [0., 0., 0., ..., 0., 0., 0.],\n",
       "       [0., 0., 0., ..., 0., 0., 0.]])"
      ]
     },
     "execution_count": 57,
     "metadata": {},
     "output_type": "execute_result"
    }
   ],
   "source": [
    "np.outer(ak.to_numpy(inner_grid_eta_ids[0]), ak.to_numpy(inner_grid_phi_ids[0]))"
   ]
  },
  {
   "cell_type": "code",
   "execution_count": null,
   "metadata": {},
   "outputs": [],
   "source": []
  },
  {
   "cell_type": "markdown",
   "metadata": {},
   "source": [
    "### study default approach"
   ]
  },
  {
   "cell_type": "code",
   "execution_count": 3,
   "metadata": {},
   "outputs": [
    {
     "data": {
      "text/plain": [
       "['taus;1', 'inner_cells;1', 'outer_cells;1']"
      ]
     },
     "execution_count": 3,
     "metadata": {},
     "output_type": "execute_result"
    }
   ],
   "source": [
    "f = uproot.open('data/electron_absetabin1_ptbin11_batch0_out.root')\n",
    "f.keys()"
   ]
  },
  {
   "cell_type": "code",
   "execution_count": 4,
   "metadata": {},
   "outputs": [],
   "source": [
    "t = f['taus']\n",
    "t_inner_cells = f['inner_cells']\n",
    "t_outer_cells = f['outer_cells']"
   ]
  },
  {
   "cell_type": "code",
   "execution_count": 5,
   "metadata": {},
   "outputs": [
    {
     "name": "stdout",
     "output_type": "stream",
     "text": [
      "name                 | typename                 | interpretation                \n",
      "---------------------+--------------------------+-------------------------------\n",
      "run                  | uint32_t                 | AsDtype('>u4')\n",
      "lumi                 | uint32_t                 | AsDtype('>u4')\n",
      "evt                  | uint64_t                 | AsDtype('>u8')\n",
      "npv                  | float                    | AsDtype('>f4')\n",
      "rho                  | float                    | AsDtype('>f4')\n",
      "genEventWeight       | float                    | AsDtype('>f4')\n",
      "trainingWeight       | float                    | AsDtype('>f4')\n",
      "npu                  | float                    | AsDtype('>f4')\n",
      "pv_x                 | float                    | AsDtype('>f4')\n",
      "pv_y                 | float                    | AsDtype('>f4')\n",
      "pv_z                 | float                    | AsDtype('>f4')\n",
      "pv_chi2              | float                    | AsDtype('>f4')\n",
      "pv_ndof              | float                    | AsDtype('>f4')\n",
      "jet_index            | int32_t                  | AsDtype('>i4')\n",
      "jet_pt               | float                    | AsDtype('>f4')\n",
      "jet_eta              | float                    | AsDtype('>f4')\n",
      "jet_phi              | float                    | AsDtype('>f4')\n",
      "jet_mass             | float                    | AsDtype('>f4')\n",
      "jet_neutralHadron... | float                    | AsDtype('>f4')\n",
      "jet_neutralEmEner... | float                    | AsDtype('>f4')\n",
      "jet_nConstituents    | int32_t                  | AsDtype('>i4')\n",
      "jet_chargedMultip... | int32_t                  | AsDtype('>i4')\n",
      "jet_neutralMultip... | int32_t                  | AsDtype('>i4')\n",
      "jet_partonFlavour    | int32_t                  | AsDtype('>i4')\n",
      "jet_hadronFlavour    | int32_t                  | AsDtype('>i4')\n",
      "jet_has_gen_match    | int32_t                  | AsDtype('>i4')\n",
      "jet_gen_pt           | float                    | AsDtype('>f4')\n",
      "jet_gen_eta          | float                    | AsDtype('>f4')\n",
      "jet_gen_phi          | float                    | AsDtype('>f4')\n",
      "jet_gen_mass         | float                    | AsDtype('>f4')\n",
      "jet_gen_n_b          | int32_t                  | AsDtype('>i4')\n",
      "jet_gen_n_c          | int32_t                  | AsDtype('>i4')\n",
      "jetTauMatch          | int32_t                  | AsDtype('>i4')\n",
      "tau_index            | int32_t                  | AsDtype('>i4')\n",
      "tau_pt               | float                    | AsDtype('>f4')\n",
      "tau_eta              | float                    | AsDtype('>f4')\n",
      "tau_phi              | float                    | AsDtype('>f4')\n",
      "tau_mass             | float                    | AsDtype('>f4')\n",
      "tau_E_over_pt        | float                    | AsDtype('>f4')\n",
      "tau_charge           | float                    | AsDtype('>f4')\n",
      "gen_e                | int32_t                  | AsDtype('>i4')\n",
      "gen_mu               | int32_t                  | AsDtype('>i4')\n",
      "gen_tau              | int32_t                  | AsDtype('>i4')\n",
      "gen_jet              | int32_t                  | AsDtype('>i4')\n",
      "gen_emb              | int32_t                  | AsDtype('>i4')\n",
      "gen_data             | int32_t                  | AsDtype('>i4')\n",
      "lepton_gen_match     | int32_t                  | AsDtype('>i4')\n",
      "lepton_gen_charge    | int32_t                  | AsDtype('>i4')\n",
      "lepton_gen_pt        | float                    | AsDtype('>f4')\n",
      "lepton_gen_eta       | float                    | AsDtype('>f4')\n",
      "lepton_gen_phi       | float                    | AsDtype('>f4')\n",
      "lepton_gen_mass      | float                    | AsDtype('>f4')\n",
      "lepton_gen_vis_pt    | float                    | AsDtype('>f4')\n",
      "lepton_gen_vis_eta   | float                    | AsDtype('>f4')\n",
      "lepton_gen_vis_phi   | float                    | AsDtype('>f4')\n",
      "lepton_gen_vis_mass  | float                    | AsDtype('>f4')\n",
      "qcd_gen_match        | int32_t                  | AsDtype('>i4')\n",
      "qcd_gen_charge       | int32_t                  | AsDtype('>i4')\n",
      "qcd_gen_pt           | float                    | AsDtype('>f4')\n",
      "qcd_gen_eta          | float                    | AsDtype('>f4')\n",
      "qcd_gen_phi          | float                    | AsDtype('>f4')\n",
      "qcd_gen_mass         | float                    | AsDtype('>f4')\n",
      "tau_n_charged_prongs | float                    | AsDtype('>f4')\n",
      "tau_n_neutral_prongs | float                    | AsDtype('>f4')\n",
      "tau_decayMode        | int32_t                  | AsDtype('>i4')\n",
      "tau_decayModeFinding | int32_t                  | AsDtype('>i4')\n",
      "tau_decayModeFind... | int32_t                  | AsDtype('>i4')\n",
      "chargedIsoPtSum      | float                    | AsDtype('>f4')\n",
      "chargedIsoPtSumdR... | float                    | AsDtype('>f4')\n",
      "footprintCorrection  | float                    | AsDtype('>f4')\n",
      "neutralIsoPtSum      | float                    | AsDtype('>f4')\n",
      "neutralIsoPtSumWe... | float                    | AsDtype('>f4')\n",
      "neutralIsoPtSumWe... | float                    | AsDtype('>f4')\n",
      "neutralIsoPtSumdR... | float                    | AsDtype('>f4')\n",
      "photonPtSumOutsid... | float                    | AsDtype('>f4')\n",
      "puCorrPtSum          | float                    | AsDtype('>f4')\n",
      "byCombinedIsolati... | uint16_t                 | AsDtype('>u2')\n",
      "byCombinedIsolati... | float                    | AsDtype('>f4')\n",
      "byDeepTau2017v2p1VSe | uint16_t                 | AsDtype('>u2')\n",
      "byDeepTau2017v2p1... | float                    | AsDtype('>f4')\n",
      "byDeepTau2017v2p1... | uint16_t                 | AsDtype('>u2')\n",
      "byDeepTau2017v2p1... | float                    | AsDtype('>f4')\n",
      "byDeepTau2017v2p1... | uint16_t                 | AsDtype('>u2')\n",
      "byDeepTau2017v2p1... | float                    | AsDtype('>f4')\n",
      "byIsolationMVArun... | uint16_t                 | AsDtype('>u2')\n",
      "byIsolationMVArun... | float                    | AsDtype('>f4')\n",
      "byIsolationMVArun... | uint16_t                 | AsDtype('>u2')\n",
      "byIsolationMVArun... | float                    | AsDtype('>f4')\n",
      "byIsolationMVArun... | uint16_t                 | AsDtype('>u2')\n",
      "byIsolationMVArun... | float                    | AsDtype('>f4')\n",
      "byIsolationMVADBn... | uint16_t                 | AsDtype('>u2')\n",
      "byIsolationMVADBn... | float                    | AsDtype('>f4')\n",
      "tau_dxy_pca_x        | float                    | AsDtype('>f4')\n",
      "tau_dxy_pca_y        | float                    | AsDtype('>f4')\n",
      "tau_dxy_pca_z        | float                    | AsDtype('>f4')\n",
      "tau_dxy_valid        | float                    | AsDtype('>f4')\n",
      "tau_dxy              | float                    | AsDtype('>f4')\n",
      "tau_dxy_sig          | float                    | AsDtype('>f4')\n",
      "tau_ip3d_valid       | float                    | AsDtype('>f4')\n",
      "tau_ip3d             | float                    | AsDtype('>f4')\n",
      "tau_ip3d_sig         | float                    | AsDtype('>f4')\n",
      "tau_dz               | float                    | AsDtype('>f4')\n",
      "tau_dz_sig_valid     | float                    | AsDtype('>f4')\n",
      "tau_dz_sig           | float                    | AsDtype('>f4')\n",
      "tau_flightLength_x   | float                    | AsDtype('>f4')\n",
      "tau_flightLength_y   | float                    | AsDtype('>f4')\n",
      "tau_flightLength_z   | float                    | AsDtype('>f4')\n",
      "tau_flightLength_sig | float                    | AsDtype('>f4')\n",
      "tau_pt_weighted_d... | float                    | AsDtype('>f4')\n",
      "tau_pt_weighted_d... | float                    | AsDtype('>f4')\n",
      "tau_pt_weighted_d... | float                    | AsDtype('>f4')\n",
      "tau_pt_weighted_d... | float                    | AsDtype('>f4')\n",
      "tau_leadingTrackN... | float                    | AsDtype('>f4')\n",
      "tau_e_ratio_valid    | float                    | AsDtype('>f4')\n",
      "tau_e_ratio          | float                    | AsDtype('>f4')\n",
      "tau_gj_angle_diff... | float                    | AsDtype('>f4')\n",
      "tau_gj_angle_diff    | float                    | AsDtype('>f4')\n",
      "tau_n_photons        | float                    | AsDtype('>f4')\n",
      "tau_emFraction       | float                    | AsDtype('>f4')\n",
      "tau_inside_ecal_c... | float                    | AsDtype('>f4')\n",
      "leadChargedCand_e... | float                    | AsDtype('>f4')\n",
      "innerCells_begin     | int64_t                  | AsDtype('>i8')\n",
      "innerCells_end       | int64_t                  | AsDtype('>i8')\n",
      "outerCells_begin     | int64_t                  | AsDtype('>i8')\n",
      "outerCells_end       | int64_t                  | AsDtype('>i8')\n"
     ]
    }
   ],
   "source": [
    "t.show()"
   ]
  },
  {
   "cell_type": "code",
   "execution_count": 6,
   "metadata": {},
   "outputs": [
    {
     "name": "stdout",
     "output_type": "stream",
     "text": [
      "name                 | typename                 | interpretation                \n",
      "---------------------+--------------------------+-------------------------------\n",
      "eta_index            | int32_t                  | AsDtype('>i4')\n",
      "phi_index            | int32_t                  | AsDtype('>i4')\n",
      "tau_pt               | float                    | AsDtype('>f4')\n",
      "rho                  | float                    | AsDtype('>f4')\n",
      "pfCand_ele_n_total   | int32_t                  | AsDtype('>i4')\n",
      "pfCand_ele_valid     | float                    | AsDtype('>f4')\n",
      "pfCand_ele_rel_pt    | float                    | AsDtype('>f4')\n",
      "pfCand_ele_deta      | float                    | AsDtype('>f4')\n",
      "pfCand_ele_dphi      | float                    | AsDtype('>f4')\n",
      "pfCand_ele_tauSignal | float                    | AsDtype('>f4')\n",
      "pfCand_ele_tauIso    | float                    | AsDtype('>f4')\n",
      "pfCand_ele_pvAsso... | float                    | AsDtype('>f4')\n",
      "pfCand_ele_puppiW... | float                    | AsDtype('>f4')\n",
      "pfCand_ele_charge    | float                    | AsDtype('>f4')\n",
      "pfCand_ele_lostIn... | float                    | AsDtype('>f4')\n",
      "pfCand_ele_number... | float                    | AsDtype('>f4')\n",
      "pfCand_ele_vertex_dx | float                    | AsDtype('>f4')\n",
      "pfCand_ele_vertex_dy | float                    | AsDtype('>f4')\n",
      "pfCand_ele_vertex_dz | float                    | AsDtype('>f4')\n",
      "pfCand_ele_vertex... | float                    | AsDtype('>f4')\n",
      "pfCand_ele_vertex... | float                    | AsDtype('>f4')\n",
      "pfCand_ele_vertex... | float                    | AsDtype('>f4')\n",
      "pfCand_ele_hasTra... | float                    | AsDtype('>f4')\n",
      "pfCand_ele_dxy       | float                    | AsDtype('>f4')\n",
      "pfCand_ele_dxy_sig   | float                    | AsDtype('>f4')\n",
      "pfCand_ele_dz        | float                    | AsDtype('>f4')\n",
      "pfCand_ele_dz_sig    | float                    | AsDtype('>f4')\n",
      "pfCand_ele_track_... | float                    | AsDtype('>f4')\n",
      "pfCand_ele_track_... | float                    | AsDtype('>f4')\n",
      "pfCand_muon_n_total  | int32_t                  | AsDtype('>i4')\n",
      "pfCand_muon_valid    | float                    | AsDtype('>f4')\n",
      "pfCand_muon_rel_pt   | float                    | AsDtype('>f4')\n",
      "pfCand_muon_deta     | float                    | AsDtype('>f4')\n",
      "pfCand_muon_dphi     | float                    | AsDtype('>f4')\n",
      "pfCand_muon_tauSi... | float                    | AsDtype('>f4')\n",
      "pfCand_muon_tauIso   | float                    | AsDtype('>f4')\n",
      "pfCand_muon_pvAss... | float                    | AsDtype('>f4')\n",
      "pfCand_muon_fromPV   | float                    | AsDtype('>f4')\n",
      "pfCand_muon_puppi... | float                    | AsDtype('>f4')\n",
      "pfCand_muon_charge   | float                    | AsDtype('>f4')\n",
      "pfCand_muon_lostI... | float                    | AsDtype('>f4')\n",
      "pfCand_muon_numbe... | float                    | AsDtype('>f4')\n",
      "pfCand_muon_verte... | float                    | AsDtype('>f4')\n",
      "pfCand_muon_verte... | float                    | AsDtype('>f4')\n",
      "pfCand_muon_verte... | float                    | AsDtype('>f4')\n",
      "pfCand_muon_verte... | float                    | AsDtype('>f4')\n",
      "pfCand_muon_verte... | float                    | AsDtype('>f4')\n",
      "pfCand_muon_verte... | float                    | AsDtype('>f4')\n",
      "pfCand_muon_hasTr... | float                    | AsDtype('>f4')\n",
      "pfCand_muon_dxy      | float                    | AsDtype('>f4')\n",
      "pfCand_muon_dxy_sig  | float                    | AsDtype('>f4')\n",
      "pfCand_muon_dz       | float                    | AsDtype('>f4')\n",
      "pfCand_muon_dz_sig   | float                    | AsDtype('>f4')\n",
      "pfCand_muon_track... | float                    | AsDtype('>f4')\n",
      "pfCand_muon_track... | float                    | AsDtype('>f4')\n",
      "pfCand_chHad_n_total | int32_t                  | AsDtype('>i4')\n",
      "pfCand_chHad_valid   | float                    | AsDtype('>f4')\n",
      "pfCand_chHad_rel_pt  | float                    | AsDtype('>f4')\n",
      "pfCand_chHad_deta    | float                    | AsDtype('>f4')\n",
      "pfCand_chHad_dphi    | float                    | AsDtype('>f4')\n",
      "pfCand_chHad_tauS... | float                    | AsDtype('>f4')\n",
      "pfCand_chHad_lead... | float                    | AsDtype('>f4')\n",
      "pfCand_chHad_tauIso  | float                    | AsDtype('>f4')\n",
      "pfCand_chHad_pvAs... | float                    | AsDtype('>f4')\n",
      "pfCand_chHad_fromPV  | float                    | AsDtype('>f4')\n",
      "pfCand_chHad_pupp... | float                    | AsDtype('>f4')\n",
      "pfCand_chHad_pupp... | float                    | AsDtype('>f4')\n",
      "pfCand_chHad_charge  | float                    | AsDtype('>f4')\n",
      "pfCand_chHad_lost... | float                    | AsDtype('>f4')\n",
      "pfCand_chHad_numb... | float                    | AsDtype('>f4')\n",
      "pfCand_chHad_vert... | float                    | AsDtype('>f4')\n",
      "pfCand_chHad_vert... | float                    | AsDtype('>f4')\n",
      "pfCand_chHad_vert... | float                    | AsDtype('>f4')\n",
      "pfCand_chHad_vert... | float                    | AsDtype('>f4')\n",
      "pfCand_chHad_vert... | float                    | AsDtype('>f4')\n",
      "pfCand_chHad_vert... | float                    | AsDtype('>f4')\n",
      "pfCand_chHad_hasT... | float                    | AsDtype('>f4')\n",
      "pfCand_chHad_dxy     | float                    | AsDtype('>f4')\n",
      "pfCand_chHad_dxy_sig | float                    | AsDtype('>f4')\n",
      "pfCand_chHad_dz      | float                    | AsDtype('>f4')\n",
      "pfCand_chHad_dz_sig  | float                    | AsDtype('>f4')\n",
      "pfCand_chHad_trac... | float                    | AsDtype('>f4')\n",
      "pfCand_chHad_trac... | float                    | AsDtype('>f4')\n",
      "pfCand_chHad_hcal... | float                    | AsDtype('>f4')\n",
      "pfCand_chHad_rawC... | float                    | AsDtype('>f4')\n",
      "pfCand_nHad_n_total  | int32_t                  | AsDtype('>i4')\n",
      "pfCand_nHad_valid    | float                    | AsDtype('>f4')\n",
      "pfCand_nHad_rel_pt   | float                    | AsDtype('>f4')\n",
      "pfCand_nHad_deta     | float                    | AsDtype('>f4')\n",
      "pfCand_nHad_dphi     | float                    | AsDtype('>f4')\n",
      "pfCand_nHad_tauSi... | float                    | AsDtype('>f4')\n",
      "pfCand_nHad_tauIso   | float                    | AsDtype('>f4')\n",
      "pfCand_nHad_puppi... | float                    | AsDtype('>f4')\n",
      "pfCand_nHad_puppi... | float                    | AsDtype('>f4')\n",
      "pfCand_nHad_hcalF... | float                    | AsDtype('>f4')\n",
      "pfCand_gamma_n_total | int32_t                  | AsDtype('>i4')\n",
      "pfCand_gamma_valid   | float                    | AsDtype('>f4')\n",
      "pfCand_gamma_rel_pt  | float                    | AsDtype('>f4')\n",
      "pfCand_gamma_deta    | float                    | AsDtype('>f4')\n",
      "pfCand_gamma_dphi    | float                    | AsDtype('>f4')\n",
      "pfCand_gamma_tauS... | float                    | AsDtype('>f4')\n",
      "pfCand_gamma_tauIso  | float                    | AsDtype('>f4')\n",
      "pfCand_gamma_pvAs... | float                    | AsDtype('>f4')\n",
      "pfCand_gamma_fromPV  | float                    | AsDtype('>f4')\n",
      "pfCand_gamma_pupp... | float                    | AsDtype('>f4')\n",
      "pfCand_gamma_pupp... | float                    | AsDtype('>f4')\n",
      "pfCand_gamma_lost... | float                    | AsDtype('>f4')\n",
      "pfCand_gamma_numb... | float                    | AsDtype('>f4')\n",
      "pfCand_gamma_vert... | float                    | AsDtype('>f4')\n",
      "pfCand_gamma_vert... | float                    | AsDtype('>f4')\n",
      "pfCand_gamma_vert... | float                    | AsDtype('>f4')\n",
      "pfCand_gamma_vert... | float                    | AsDtype('>f4')\n",
      "pfCand_gamma_vert... | float                    | AsDtype('>f4')\n",
      "pfCand_gamma_vert... | float                    | AsDtype('>f4')\n",
      "pfCand_gamma_hasT... | float                    | AsDtype('>f4')\n",
      "pfCand_gamma_dxy     | float                    | AsDtype('>f4')\n",
      "pfCand_gamma_dxy_sig | float                    | AsDtype('>f4')\n",
      "pfCand_gamma_dz      | float                    | AsDtype('>f4')\n",
      "pfCand_gamma_dz_sig  | float                    | AsDtype('>f4')\n",
      "pfCand_gamma_trac... | float                    | AsDtype('>f4')\n",
      "pfCand_gamma_trac... | float                    | AsDtype('>f4')\n",
      "ele_n_total          | int32_t                  | AsDtype('>i4')\n",
      "ele_valid            | float                    | AsDtype('>f4')\n",
      "ele_rel_pt           | float                    | AsDtype('>f4')\n",
      "ele_deta             | float                    | AsDtype('>f4')\n",
      "ele_dphi             | float                    | AsDtype('>f4')\n",
      "ele_cc_valid         | float                    | AsDtype('>f4')\n",
      "ele_cc_ele_rel_en... | float                    | AsDtype('>f4')\n",
      "ele_cc_gamma_rel_... | float                    | AsDtype('>f4')\n",
      "ele_cc_n_gamma       | float                    | AsDtype('>f4')\n",
      "ele_rel_trackMome... | float                    | AsDtype('>f4')\n",
      "ele_rel_trackMome... | float                    | AsDtype('>f4')\n",
      "ele_rel_trackMome... | float                    | AsDtype('>f4')\n",
      "ele_rel_trackMome... | float                    | AsDtype('>f4')\n",
      "ele_rel_trackMome... | float                    | AsDtype('>f4')\n",
      "ele_rel_ecalEnergy   | float                    | AsDtype('>f4')\n",
      "ele_ecalEnergy_sig   | float                    | AsDtype('>f4')\n",
      "ele_eSuperCluster... | float                    | AsDtype('>f4')\n",
      "ele_eSeedClusterO... | float                    | AsDtype('>f4')\n",
      "ele_eSeedClusterO... | float                    | AsDtype('>f4')\n",
      "ele_eEleClusterOv... | float                    | AsDtype('>f4')\n",
      "ele_deltaEtaSuper... | float                    | AsDtype('>f4')\n",
      "ele_deltaEtaSeedC... | float                    | AsDtype('>f4')\n",
      "ele_deltaEtaEleCl... | float                    | AsDtype('>f4')\n",
      "ele_deltaPhiEleCl... | float                    | AsDtype('>f4')\n",
      "ele_deltaPhiSuper... | float                    | AsDtype('>f4')\n",
      "ele_deltaPhiSeedC... | float                    | AsDtype('>f4')\n",
      "ele_mvaInput_earl... | float                    | AsDtype('>f4')\n",
      "ele_mvaInput_late... | float                    | AsDtype('>f4')\n",
      "ele_mvaInput_sigm... | float                    | AsDtype('>f4')\n",
      "ele_mvaInput_hadE... | float                    | AsDtype('>f4')\n",
      "ele_mvaInput_delt... | float                    | AsDtype('>f4')\n",
      "ele_gsfTrack_norm... | float                    | AsDtype('>f4')\n",
      "ele_gsfTrack_numb... | float                    | AsDtype('>f4')\n",
      "ele_rel_gsfTrack_pt  | float                    | AsDtype('>f4')\n",
      "ele_gsfTrack_pt_sig  | float                    | AsDtype('>f4')\n",
      "ele_has_closestCt... | float                    | AsDtype('>f4')\n",
      "ele_closestCtfTra... | float                    | AsDtype('>f4')\n",
      "ele_closestCtfTra... | float                    | AsDtype('>f4')\n",
      "muon_n_total         | int32_t                  | AsDtype('>i4')\n",
      "muon_valid           | float                    | AsDtype('>f4')\n",
      "muon_rel_pt          | float                    | AsDtype('>f4')\n",
      "muon_deta            | float                    | AsDtype('>f4')\n",
      "muon_dphi            | float                    | AsDtype('>f4')\n",
      "muon_dxy             | float                    | AsDtype('>f4')\n",
      "muon_dxy_sig         | float                    | AsDtype('>f4')\n",
      "muon_normalizedCh... | float                    | AsDtype('>f4')\n",
      "muon_normalizedChi2  | float                    | AsDtype('>f4')\n",
      "muon_numberOfVali... | float                    | AsDtype('>f4')\n",
      "muon_segmentCompa... | float                    | AsDtype('>f4')\n",
      "muon_caloCompatib... | float                    | AsDtype('>f4')\n",
      "muon_pfEcalEnergy... | float                    | AsDtype('>f4')\n",
      "muon_rel_pfEcalEn... | float                    | AsDtype('>f4')\n",
      "muon_n_matches_DT_1  | float                    | AsDtype('>f4')\n",
      "muon_n_matches_DT_2  | float                    | AsDtype('>f4')\n",
      "muon_n_matches_DT_3  | float                    | AsDtype('>f4')\n",
      "muon_n_matches_DT_4  | float                    | AsDtype('>f4')\n",
      "muon_n_matches_CSC_1 | float                    | AsDtype('>f4')\n",
      "muon_n_matches_CSC_2 | float                    | AsDtype('>f4')\n",
      "muon_n_matches_CSC_3 | float                    | AsDtype('>f4')\n",
      "muon_n_matches_CSC_4 | float                    | AsDtype('>f4')\n",
      "muon_n_matches_RPC_1 | float                    | AsDtype('>f4')\n",
      "muon_n_matches_RPC_2 | float                    | AsDtype('>f4')\n",
      "muon_n_matches_RPC_3 | float                    | AsDtype('>f4')\n",
      "muon_n_matches_RPC_4 | float                    | AsDtype('>f4')\n",
      "muon_n_hits_DT_1     | float                    | AsDtype('>f4')\n",
      "muon_n_hits_DT_2     | float                    | AsDtype('>f4')\n",
      "muon_n_hits_DT_3     | float                    | AsDtype('>f4')\n",
      "muon_n_hits_DT_4     | float                    | AsDtype('>f4')\n",
      "muon_n_hits_CSC_1    | float                    | AsDtype('>f4')\n",
      "muon_n_hits_CSC_2    | float                    | AsDtype('>f4')\n",
      "muon_n_hits_CSC_3    | float                    | AsDtype('>f4')\n",
      "muon_n_hits_CSC_4    | float                    | AsDtype('>f4')\n",
      "muon_n_hits_RPC_1    | float                    | AsDtype('>f4')\n",
      "muon_n_hits_RPC_2    | float                    | AsDtype('>f4')\n",
      "muon_n_hits_RPC_3    | float                    | AsDtype('>f4')\n",
      "muon_n_hits_RPC_4    | float                    | AsDtype('>f4')\n"
     ]
    }
   ],
   "source": [
    "t_inner_cells.show()"
   ]
  },
  {
   "cell_type": "code",
   "execution_count": 12,
   "metadata": {},
   "outputs": [
    {
     "data": {
      "text/html": [
       "<div>\n",
       "<style scoped>\n",
       "    .dataframe tbody tr th:only-of-type {\n",
       "        vertical-align: middle;\n",
       "    }\n",
       "\n",
       "    .dataframe tbody tr th {\n",
       "        vertical-align: top;\n",
       "    }\n",
       "\n",
       "    .dataframe thead th {\n",
       "        text-align: right;\n",
       "    }\n",
       "</style>\n",
       "<table border=\"1\" class=\"dataframe\">\n",
       "  <thead>\n",
       "    <tr style=\"text-align: right;\">\n",
       "      <th></th>\n",
       "      <th>eta_index</th>\n",
       "      <th>phi_index</th>\n",
       "      <th>tau_pt</th>\n",
       "      <th>rho</th>\n",
       "      <th>pfCand_ele_n_total</th>\n",
       "      <th>pfCand_ele_valid</th>\n",
       "      <th>pfCand_ele_rel_pt</th>\n",
       "      <th>pfCand_ele_deta</th>\n",
       "      <th>pfCand_ele_dphi</th>\n",
       "      <th>pfCand_ele_tauSignal</th>\n",
       "      <th>...</th>\n",
       "      <th>muon_n_hits_DT_3</th>\n",
       "      <th>muon_n_hits_DT_4</th>\n",
       "      <th>muon_n_hits_CSC_1</th>\n",
       "      <th>muon_n_hits_CSC_2</th>\n",
       "      <th>muon_n_hits_CSC_3</th>\n",
       "      <th>muon_n_hits_CSC_4</th>\n",
       "      <th>muon_n_hits_RPC_1</th>\n",
       "      <th>muon_n_hits_RPC_2</th>\n",
       "      <th>muon_n_hits_RPC_3</th>\n",
       "      <th>muon_n_hits_RPC_4</th>\n",
       "    </tr>\n",
       "  </thead>\n",
       "  <tbody>\n",
       "    <tr>\n",
       "      <th>0</th>\n",
       "      <td>0</td>\n",
       "      <td>0</td>\n",
       "      <td>0.078513</td>\n",
       "      <td>5.0</td>\n",
       "      <td>1</td>\n",
       "      <td>1.0</td>\n",
       "      <td>0.038542</td>\n",
       "      <td>-0.000268</td>\n",
       "      <td>-0.000484</td>\n",
       "      <td>1.0</td>\n",
       "      <td>...</td>\n",
       "      <td>0.0</td>\n",
       "      <td>0.0</td>\n",
       "      <td>0.0</td>\n",
       "      <td>0.0</td>\n",
       "      <td>0.0</td>\n",
       "      <td>0.0</td>\n",
       "      <td>0.0</td>\n",
       "      <td>0.0</td>\n",
       "      <td>0.0</td>\n",
       "      <td>0.0</td>\n",
       "    </tr>\n",
       "    <tr>\n",
       "      <th>1</th>\n",
       "      <td>-2</td>\n",
       "      <td>0</td>\n",
       "      <td>0.078513</td>\n",
       "      <td>5.0</td>\n",
       "      <td>0</td>\n",
       "      <td>0.0</td>\n",
       "      <td>0.000000</td>\n",
       "      <td>0.000000</td>\n",
       "      <td>0.000000</td>\n",
       "      <td>0.0</td>\n",
       "      <td>...</td>\n",
       "      <td>0.0</td>\n",
       "      <td>0.0</td>\n",
       "      <td>0.0</td>\n",
       "      <td>0.0</td>\n",
       "      <td>0.0</td>\n",
       "      <td>0.0</td>\n",
       "      <td>0.0</td>\n",
       "      <td>0.0</td>\n",
       "      <td>0.0</td>\n",
       "      <td>0.0</td>\n",
       "    </tr>\n",
       "    <tr>\n",
       "      <th>2</th>\n",
       "      <td>0</td>\n",
       "      <td>0</td>\n",
       "      <td>0.072178</td>\n",
       "      <td>5.0</td>\n",
       "      <td>1</td>\n",
       "      <td>1.0</td>\n",
       "      <td>0.038952</td>\n",
       "      <td>-0.000005</td>\n",
       "      <td>0.000240</td>\n",
       "      <td>1.0</td>\n",
       "      <td>...</td>\n",
       "      <td>0.0</td>\n",
       "      <td>0.0</td>\n",
       "      <td>0.0</td>\n",
       "      <td>0.0</td>\n",
       "      <td>0.0</td>\n",
       "      <td>0.0</td>\n",
       "      <td>0.0</td>\n",
       "      <td>0.0</td>\n",
       "      <td>0.0</td>\n",
       "      <td>0.0</td>\n",
       "    </tr>\n",
       "    <tr>\n",
       "      <th>3</th>\n",
       "      <td>0</td>\n",
       "      <td>-2</td>\n",
       "      <td>0.072178</td>\n",
       "      <td>5.0</td>\n",
       "      <td>0</td>\n",
       "      <td>0.0</td>\n",
       "      <td>0.000000</td>\n",
       "      <td>0.000000</td>\n",
       "      <td>0.000000</td>\n",
       "      <td>0.0</td>\n",
       "      <td>...</td>\n",
       "      <td>0.0</td>\n",
       "      <td>0.0</td>\n",
       "      <td>0.0</td>\n",
       "      <td>0.0</td>\n",
       "      <td>0.0</td>\n",
       "      <td>0.0</td>\n",
       "      <td>0.0</td>\n",
       "      <td>0.0</td>\n",
       "      <td>0.0</td>\n",
       "      <td>0.0</td>\n",
       "    </tr>\n",
       "    <tr>\n",
       "      <th>4</th>\n",
       "      <td>0</td>\n",
       "      <td>0</td>\n",
       "      <td>0.073862</td>\n",
       "      <td>5.0</td>\n",
       "      <td>1</td>\n",
       "      <td>1.0</td>\n",
       "      <td>0.038443</td>\n",
       "      <td>0.000852</td>\n",
       "      <td>0.000037</td>\n",
       "      <td>1.0</td>\n",
       "      <td>...</td>\n",
       "      <td>0.0</td>\n",
       "      <td>0.0</td>\n",
       "      <td>0.0</td>\n",
       "      <td>0.0</td>\n",
       "      <td>0.0</td>\n",
       "      <td>0.0</td>\n",
       "      <td>0.0</td>\n",
       "      <td>0.0</td>\n",
       "      <td>0.0</td>\n",
       "      <td>0.0</td>\n",
       "    </tr>\n",
       "    <tr>\n",
       "      <th>...</th>\n",
       "      <td>...</td>\n",
       "      <td>...</td>\n",
       "      <td>...</td>\n",
       "      <td>...</td>\n",
       "      <td>...</td>\n",
       "      <td>...</td>\n",
       "      <td>...</td>\n",
       "      <td>...</td>\n",
       "      <td>...</td>\n",
       "      <td>...</td>\n",
       "      <td>...</td>\n",
       "      <td>...</td>\n",
       "      <td>...</td>\n",
       "      <td>...</td>\n",
       "      <td>...</td>\n",
       "      <td>...</td>\n",
       "      <td>...</td>\n",
       "      <td>...</td>\n",
       "      <td>...</td>\n",
       "      <td>...</td>\n",
       "      <td>...</td>\n",
       "    </tr>\n",
       "    <tr>\n",
       "      <th>1662</th>\n",
       "      <td>-2</td>\n",
       "      <td>1</td>\n",
       "      <td>0.071541</td>\n",
       "      <td>5.0</td>\n",
       "      <td>0</td>\n",
       "      <td>0.0</td>\n",
       "      <td>0.000000</td>\n",
       "      <td>0.000000</td>\n",
       "      <td>0.000000</td>\n",
       "      <td>0.0</td>\n",
       "      <td>...</td>\n",
       "      <td>0.0</td>\n",
       "      <td>0.0</td>\n",
       "      <td>0.0</td>\n",
       "      <td>0.0</td>\n",
       "      <td>0.0</td>\n",
       "      <td>0.0</td>\n",
       "      <td>0.0</td>\n",
       "      <td>0.0</td>\n",
       "      <td>0.0</td>\n",
       "      <td>0.0</td>\n",
       "    </tr>\n",
       "    <tr>\n",
       "      <th>1663</th>\n",
       "      <td>0</td>\n",
       "      <td>0</td>\n",
       "      <td>0.081446</td>\n",
       "      <td>5.0</td>\n",
       "      <td>1</td>\n",
       "      <td>1.0</td>\n",
       "      <td>0.038547</td>\n",
       "      <td>0.000567</td>\n",
       "      <td>0.000095</td>\n",
       "      <td>1.0</td>\n",
       "      <td>...</td>\n",
       "      <td>0.0</td>\n",
       "      <td>0.0</td>\n",
       "      <td>0.0</td>\n",
       "      <td>0.0</td>\n",
       "      <td>0.0</td>\n",
       "      <td>0.0</td>\n",
       "      <td>0.0</td>\n",
       "      <td>0.0</td>\n",
       "      <td>0.0</td>\n",
       "      <td>0.0</td>\n",
       "    </tr>\n",
       "    <tr>\n",
       "      <th>1664</th>\n",
       "      <td>-1</td>\n",
       "      <td>0</td>\n",
       "      <td>0.081446</td>\n",
       "      <td>5.0</td>\n",
       "      <td>0</td>\n",
       "      <td>0.0</td>\n",
       "      <td>0.000000</td>\n",
       "      <td>0.000000</td>\n",
       "      <td>0.000000</td>\n",
       "      <td>0.0</td>\n",
       "      <td>...</td>\n",
       "      <td>0.0</td>\n",
       "      <td>0.0</td>\n",
       "      <td>0.0</td>\n",
       "      <td>0.0</td>\n",
       "      <td>0.0</td>\n",
       "      <td>0.0</td>\n",
       "      <td>0.0</td>\n",
       "      <td>0.0</td>\n",
       "      <td>0.0</td>\n",
       "      <td>0.0</td>\n",
       "    </tr>\n",
       "    <tr>\n",
       "      <th>1665</th>\n",
       "      <td>0</td>\n",
       "      <td>-1</td>\n",
       "      <td>0.081446</td>\n",
       "      <td>5.0</td>\n",
       "      <td>0</td>\n",
       "      <td>0.0</td>\n",
       "      <td>0.000000</td>\n",
       "      <td>0.000000</td>\n",
       "      <td>0.000000</td>\n",
       "      <td>0.0</td>\n",
       "      <td>...</td>\n",
       "      <td>0.0</td>\n",
       "      <td>0.0</td>\n",
       "      <td>0.0</td>\n",
       "      <td>0.0</td>\n",
       "      <td>0.0</td>\n",
       "      <td>0.0</td>\n",
       "      <td>0.0</td>\n",
       "      <td>0.0</td>\n",
       "      <td>0.0</td>\n",
       "      <td>0.0</td>\n",
       "    </tr>\n",
       "    <tr>\n",
       "      <th>1666</th>\n",
       "      <td>-2</td>\n",
       "      <td>1</td>\n",
       "      <td>0.081446</td>\n",
       "      <td>5.0</td>\n",
       "      <td>0</td>\n",
       "      <td>0.0</td>\n",
       "      <td>0.000000</td>\n",
       "      <td>0.000000</td>\n",
       "      <td>0.000000</td>\n",
       "      <td>0.0</td>\n",
       "      <td>...</td>\n",
       "      <td>0.0</td>\n",
       "      <td>0.0</td>\n",
       "      <td>0.0</td>\n",
       "      <td>0.0</td>\n",
       "      <td>0.0</td>\n",
       "      <td>0.0</td>\n",
       "      <td>0.0</td>\n",
       "      <td>0.0</td>\n",
       "      <td>0.0</td>\n",
       "      <td>0.0</td>\n",
       "    </tr>\n",
       "  </tbody>\n",
       "</table>\n",
       "<p>1667 rows × 197 columns</p>\n",
       "</div>"
      ],
      "text/plain": [
       "      eta_index  phi_index    tau_pt  rho  pfCand_ele_n_total  \\\n",
       "0             0          0  0.078513  5.0                   1   \n",
       "1            -2          0  0.078513  5.0                   0   \n",
       "2             0          0  0.072178  5.0                   1   \n",
       "3             0         -2  0.072178  5.0                   0   \n",
       "4             0          0  0.073862  5.0                   1   \n",
       "...         ...        ...       ...  ...                 ...   \n",
       "1662         -2          1  0.071541  5.0                   0   \n",
       "1663          0          0  0.081446  5.0                   1   \n",
       "1664         -1          0  0.081446  5.0                   0   \n",
       "1665          0         -1  0.081446  5.0                   0   \n",
       "1666         -2          1  0.081446  5.0                   0   \n",
       "\n",
       "      pfCand_ele_valid  pfCand_ele_rel_pt  pfCand_ele_deta  pfCand_ele_dphi  \\\n",
       "0                  1.0           0.038542        -0.000268        -0.000484   \n",
       "1                  0.0           0.000000         0.000000         0.000000   \n",
       "2                  1.0           0.038952        -0.000005         0.000240   \n",
       "3                  0.0           0.000000         0.000000         0.000000   \n",
       "4                  1.0           0.038443         0.000852         0.000037   \n",
       "...                ...                ...              ...              ...   \n",
       "1662               0.0           0.000000         0.000000         0.000000   \n",
       "1663               1.0           0.038547         0.000567         0.000095   \n",
       "1664               0.0           0.000000         0.000000         0.000000   \n",
       "1665               0.0           0.000000         0.000000         0.000000   \n",
       "1666               0.0           0.000000         0.000000         0.000000   \n",
       "\n",
       "      pfCand_ele_tauSignal  ...  muon_n_hits_DT_3  muon_n_hits_DT_4  \\\n",
       "0                      1.0  ...               0.0               0.0   \n",
       "1                      0.0  ...               0.0               0.0   \n",
       "2                      1.0  ...               0.0               0.0   \n",
       "3                      0.0  ...               0.0               0.0   \n",
       "4                      1.0  ...               0.0               0.0   \n",
       "...                    ...  ...               ...               ...   \n",
       "1662                   0.0  ...               0.0               0.0   \n",
       "1663                   1.0  ...               0.0               0.0   \n",
       "1664                   0.0  ...               0.0               0.0   \n",
       "1665                   0.0  ...               0.0               0.0   \n",
       "1666                   0.0  ...               0.0               0.0   \n",
       "\n",
       "      muon_n_hits_CSC_1  muon_n_hits_CSC_2  muon_n_hits_CSC_3  \\\n",
       "0                   0.0                0.0                0.0   \n",
       "1                   0.0                0.0                0.0   \n",
       "2                   0.0                0.0                0.0   \n",
       "3                   0.0                0.0                0.0   \n",
       "4                   0.0                0.0                0.0   \n",
       "...                 ...                ...                ...   \n",
       "1662                0.0                0.0                0.0   \n",
       "1663                0.0                0.0                0.0   \n",
       "1664                0.0                0.0                0.0   \n",
       "1665                0.0                0.0                0.0   \n",
       "1666                0.0                0.0                0.0   \n",
       "\n",
       "      muon_n_hits_CSC_4  muon_n_hits_RPC_1  muon_n_hits_RPC_2  \\\n",
       "0                   0.0                0.0                0.0   \n",
       "1                   0.0                0.0                0.0   \n",
       "2                   0.0                0.0                0.0   \n",
       "3                   0.0                0.0                0.0   \n",
       "4                   0.0                0.0                0.0   \n",
       "...                 ...                ...                ...   \n",
       "1662                0.0                0.0                0.0   \n",
       "1663                0.0                0.0                0.0   \n",
       "1664                0.0                0.0                0.0   \n",
       "1665                0.0                0.0                0.0   \n",
       "1666                0.0                0.0                0.0   \n",
       "\n",
       "      muon_n_hits_RPC_3  muon_n_hits_RPC_4  \n",
       "0                   0.0                0.0  \n",
       "1                   0.0                0.0  \n",
       "2                   0.0                0.0  \n",
       "3                   0.0                0.0  \n",
       "4                   0.0                0.0  \n",
       "...                 ...                ...  \n",
       "1662                0.0                0.0  \n",
       "1663                0.0                0.0  \n",
       "1664                0.0                0.0  \n",
       "1665                0.0                0.0  \n",
       "1666                0.0                0.0  \n",
       "\n",
       "[1667 rows x 197 columns]"
      ]
     },
     "execution_count": 12,
     "metadata": {},
     "output_type": "execute_result"
    }
   ],
   "source": [
    "inner_cells = t_inner_cells.arrays(library='pd')\n",
    "inner_cells"
   ]
  },
  {
   "cell_type": "code",
   "execution_count": 14,
   "metadata": {},
   "outputs": [
    {
     "data": {
      "text/html": [
       "<div>\n",
       "<style scoped>\n",
       "    .dataframe tbody tr th:only-of-type {\n",
       "        vertical-align: middle;\n",
       "    }\n",
       "\n",
       "    .dataframe tbody tr th {\n",
       "        vertical-align: top;\n",
       "    }\n",
       "\n",
       "    .dataframe thead th {\n",
       "        text-align: right;\n",
       "    }\n",
       "</style>\n",
       "<table border=\"1\" class=\"dataframe\">\n",
       "  <thead>\n",
       "    <tr style=\"text-align: right;\">\n",
       "      <th></th>\n",
       "      <th>run</th>\n",
       "      <th>lumi</th>\n",
       "      <th>evt</th>\n",
       "      <th>npv</th>\n",
       "      <th>rho</th>\n",
       "      <th>genEventWeight</th>\n",
       "      <th>trainingWeight</th>\n",
       "      <th>npu</th>\n",
       "      <th>pv_x</th>\n",
       "      <th>pv_y</th>\n",
       "      <th>...</th>\n",
       "      <th>tau_gj_angle_diff_valid</th>\n",
       "      <th>tau_gj_angle_diff</th>\n",
       "      <th>tau_n_photons</th>\n",
       "      <th>tau_emFraction</th>\n",
       "      <th>tau_inside_ecal_crack</th>\n",
       "      <th>leadChargedCand_etaAtEcalEntrance_minus_tau_eta</th>\n",
       "      <th>innerCells_begin</th>\n",
       "      <th>innerCells_end</th>\n",
       "      <th>outerCells_begin</th>\n",
       "      <th>outerCells_end</th>\n",
       "    </tr>\n",
       "  </thead>\n",
       "  <tbody>\n",
       "    <tr>\n",
       "      <th>0</th>\n",
       "      <td>1</td>\n",
       "      <td>1165</td>\n",
       "      <td>181659</td>\n",
       "      <td>4.770097</td>\n",
       "      <td>5.000000</td>\n",
       "      <td>1.000000</td>\n",
       "      <td>0.0</td>\n",
       "      <td>140.0</td>\n",
       "      <td>5.0</td>\n",
       "      <td>-5.0</td>\n",
       "      <td>...</td>\n",
       "      <td>0.0</td>\n",
       "      <td>0.0</td>\n",
       "      <td>-0.496562</td>\n",
       "      <td>1.000000</td>\n",
       "      <td>0.0</td>\n",
       "      <td>0.594813</td>\n",
       "      <td>0</td>\n",
       "      <td>2</td>\n",
       "      <td>0</td>\n",
       "      <td>54</td>\n",
       "    </tr>\n",
       "    <tr>\n",
       "      <th>1</th>\n",
       "      <td>1</td>\n",
       "      <td>1221</td>\n",
       "      <td>190427</td>\n",
       "      <td>5.000000</td>\n",
       "      <td>5.000000</td>\n",
       "      <td>1.000000</td>\n",
       "      <td>0.0</td>\n",
       "      <td>140.0</td>\n",
       "      <td>5.0</td>\n",
       "      <td>-5.0</td>\n",
       "      <td>...</td>\n",
       "      <td>0.0</td>\n",
       "      <td>0.0</td>\n",
       "      <td>-0.241915</td>\n",
       "      <td>1.000000</td>\n",
       "      <td>0.0</td>\n",
       "      <td>-1.252759</td>\n",
       "      <td>2</td>\n",
       "      <td>4</td>\n",
       "      <td>54</td>\n",
       "      <td>124</td>\n",
       "    </tr>\n",
       "    <tr>\n",
       "      <th>2</th>\n",
       "      <td>1</td>\n",
       "      <td>1249</td>\n",
       "      <td>194829</td>\n",
       "      <td>4.469572</td>\n",
       "      <td>5.000000</td>\n",
       "      <td>1.000000</td>\n",
       "      <td>0.0</td>\n",
       "      <td>140.0</td>\n",
       "      <td>5.0</td>\n",
       "      <td>-5.0</td>\n",
       "      <td>...</td>\n",
       "      <td>0.0</td>\n",
       "      <td>0.0</td>\n",
       "      <td>-0.496562</td>\n",
       "      <td>1.000000</td>\n",
       "      <td>0.0</td>\n",
       "      <td>0.448020</td>\n",
       "      <td>4</td>\n",
       "      <td>5</td>\n",
       "      <td>124</td>\n",
       "      <td>188</td>\n",
       "    </tr>\n",
       "    <tr>\n",
       "      <th>3</th>\n",
       "      <td>1</td>\n",
       "      <td>1262</td>\n",
       "      <td>196782</td>\n",
       "      <td>5.000000</td>\n",
       "      <td>5.000000</td>\n",
       "      <td>1.000000</td>\n",
       "      <td>0.0</td>\n",
       "      <td>140.0</td>\n",
       "      <td>5.0</td>\n",
       "      <td>-5.0</td>\n",
       "      <td>...</td>\n",
       "      <td>0.0</td>\n",
       "      <td>0.0</td>\n",
       "      <td>0.267380</td>\n",
       "      <td>1.000000</td>\n",
       "      <td>0.0</td>\n",
       "      <td>-0.951892</td>\n",
       "      <td>5</td>\n",
       "      <td>8</td>\n",
       "      <td>188</td>\n",
       "      <td>259</td>\n",
       "    </tr>\n",
       "    <tr>\n",
       "      <th>4</th>\n",
       "      <td>1</td>\n",
       "      <td>1299</td>\n",
       "      <td>202498</td>\n",
       "      <td>5.000000</td>\n",
       "      <td>5.000000</td>\n",
       "      <td>1.000000</td>\n",
       "      <td>0.0</td>\n",
       "      <td>140.0</td>\n",
       "      <td>5.0</td>\n",
       "      <td>-5.0</td>\n",
       "      <td>...</td>\n",
       "      <td>0.0</td>\n",
       "      <td>0.0</td>\n",
       "      <td>0.522027</td>\n",
       "      <td>1.000000</td>\n",
       "      <td>0.0</td>\n",
       "      <td>0.164003</td>\n",
       "      <td>8</td>\n",
       "      <td>11</td>\n",
       "      <td>259</td>\n",
       "      <td>352</td>\n",
       "    </tr>\n",
       "    <tr>\n",
       "      <th>...</th>\n",
       "      <td>...</td>\n",
       "      <td>...</td>\n",
       "      <td>...</td>\n",
       "      <td>...</td>\n",
       "      <td>...</td>\n",
       "      <td>...</td>\n",
       "      <td>...</td>\n",
       "      <td>...</td>\n",
       "      <td>...</td>\n",
       "      <td>...</td>\n",
       "      <td>...</td>\n",
       "      <td>...</td>\n",
       "      <td>...</td>\n",
       "      <td>...</td>\n",
       "      <td>...</td>\n",
       "      <td>...</td>\n",
       "      <td>...</td>\n",
       "      <td>...</td>\n",
       "      <td>...</td>\n",
       "      <td>...</td>\n",
       "      <td>...</td>\n",
       "    </tr>\n",
       "    <tr>\n",
       "      <th>1020</th>\n",
       "      <td>1</td>\n",
       "      <td>5204</td>\n",
       "      <td>915814</td>\n",
       "      <td>4.018783</td>\n",
       "      <td>4.233082</td>\n",
       "      <td>86.268402</td>\n",
       "      <td>0.0</td>\n",
       "      <td>140.0</td>\n",
       "      <td>5.0</td>\n",
       "      <td>-5.0</td>\n",
       "      <td>...</td>\n",
       "      <td>0.0</td>\n",
       "      <td>0.0</td>\n",
       "      <td>-0.241915</td>\n",
       "      <td>0.984084</td>\n",
       "      <td>0.0</td>\n",
       "      <td>-1.014295</td>\n",
       "      <td>1654</td>\n",
       "      <td>1657</td>\n",
       "      <td>62959</td>\n",
       "      <td>63026</td>\n",
       "    </tr>\n",
       "    <tr>\n",
       "      <th>1021</th>\n",
       "      <td>1</td>\n",
       "      <td>5204</td>\n",
       "      <td>915837</td>\n",
       "      <td>5.000000</td>\n",
       "      <td>4.916489</td>\n",
       "      <td>86.268402</td>\n",
       "      <td>0.0</td>\n",
       "      <td>140.0</td>\n",
       "      <td>5.0</td>\n",
       "      <td>-5.0</td>\n",
       "      <td>...</td>\n",
       "      <td>0.0</td>\n",
       "      <td>0.0</td>\n",
       "      <td>-0.751210</td>\n",
       "      <td>1.000000</td>\n",
       "      <td>0.0</td>\n",
       "      <td>-0.744132</td>\n",
       "      <td>1657</td>\n",
       "      <td>1659</td>\n",
       "      <td>63026</td>\n",
       "      <td>63094</td>\n",
       "    </tr>\n",
       "    <tr>\n",
       "      <th>1022</th>\n",
       "      <td>1</td>\n",
       "      <td>5209</td>\n",
       "      <td>916722</td>\n",
       "      <td>3.943651</td>\n",
       "      <td>5.000000</td>\n",
       "      <td>86.268402</td>\n",
       "      <td>0.0</td>\n",
       "      <td>140.0</td>\n",
       "      <td>5.0</td>\n",
       "      <td>-5.0</td>\n",
       "      <td>...</td>\n",
       "      <td>0.0</td>\n",
       "      <td>0.0</td>\n",
       "      <td>0.012732</td>\n",
       "      <td>0.981167</td>\n",
       "      <td>0.0</td>\n",
       "      <td>-0.210171</td>\n",
       "      <td>1659</td>\n",
       "      <td>1660</td>\n",
       "      <td>63094</td>\n",
       "      <td>63148</td>\n",
       "    </tr>\n",
       "    <tr>\n",
       "      <th>1023</th>\n",
       "      <td>1</td>\n",
       "      <td>5211</td>\n",
       "      <td>917012</td>\n",
       "      <td>5.000000</td>\n",
       "      <td>5.000000</td>\n",
       "      <td>86.268402</td>\n",
       "      <td>0.0</td>\n",
       "      <td>140.0</td>\n",
       "      <td>5.0</td>\n",
       "      <td>-5.0</td>\n",
       "      <td>...</td>\n",
       "      <td>0.0</td>\n",
       "      <td>0.0</td>\n",
       "      <td>-0.751210</td>\n",
       "      <td>1.000000</td>\n",
       "      <td>0.0</td>\n",
       "      <td>-0.509617</td>\n",
       "      <td>1660</td>\n",
       "      <td>1663</td>\n",
       "      <td>63148</td>\n",
       "      <td>63228</td>\n",
       "    </tr>\n",
       "    <tr>\n",
       "      <th>1024</th>\n",
       "      <td>1</td>\n",
       "      <td>5213</td>\n",
       "      <td>917381</td>\n",
       "      <td>5.000000</td>\n",
       "      <td>5.000000</td>\n",
       "      <td>86.268402</td>\n",
       "      <td>0.0</td>\n",
       "      <td>140.0</td>\n",
       "      <td>5.0</td>\n",
       "      <td>-5.0</td>\n",
       "      <td>...</td>\n",
       "      <td>0.0</td>\n",
       "      <td>0.0</td>\n",
       "      <td>0.012732</td>\n",
       "      <td>1.000000</td>\n",
       "      <td>0.0</td>\n",
       "      <td>0.435115</td>\n",
       "      <td>1663</td>\n",
       "      <td>1667</td>\n",
       "      <td>63228</td>\n",
       "      <td>63295</td>\n",
       "    </tr>\n",
       "  </tbody>\n",
       "</table>\n",
       "<p>1025 rows × 125 columns</p>\n",
       "</div>"
      ],
      "text/plain": [
       "      run  lumi     evt       npv       rho  genEventWeight  trainingWeight  \\\n",
       "0       1  1165  181659  4.770097  5.000000        1.000000             0.0   \n",
       "1       1  1221  190427  5.000000  5.000000        1.000000             0.0   \n",
       "2       1  1249  194829  4.469572  5.000000        1.000000             0.0   \n",
       "3       1  1262  196782  5.000000  5.000000        1.000000             0.0   \n",
       "4       1  1299  202498  5.000000  5.000000        1.000000             0.0   \n",
       "...   ...   ...     ...       ...       ...             ...             ...   \n",
       "1020    1  5204  915814  4.018783  4.233082       86.268402             0.0   \n",
       "1021    1  5204  915837  5.000000  4.916489       86.268402             0.0   \n",
       "1022    1  5209  916722  3.943651  5.000000       86.268402             0.0   \n",
       "1023    1  5211  917012  5.000000  5.000000       86.268402             0.0   \n",
       "1024    1  5213  917381  5.000000  5.000000       86.268402             0.0   \n",
       "\n",
       "        npu  pv_x  pv_y  ...  tau_gj_angle_diff_valid  tau_gj_angle_diff  \\\n",
       "0     140.0   5.0  -5.0  ...                      0.0                0.0   \n",
       "1     140.0   5.0  -5.0  ...                      0.0                0.0   \n",
       "2     140.0   5.0  -5.0  ...                      0.0                0.0   \n",
       "3     140.0   5.0  -5.0  ...                      0.0                0.0   \n",
       "4     140.0   5.0  -5.0  ...                      0.0                0.0   \n",
       "...     ...   ...   ...  ...                      ...                ...   \n",
       "1020  140.0   5.0  -5.0  ...                      0.0                0.0   \n",
       "1021  140.0   5.0  -5.0  ...                      0.0                0.0   \n",
       "1022  140.0   5.0  -5.0  ...                      0.0                0.0   \n",
       "1023  140.0   5.0  -5.0  ...                      0.0                0.0   \n",
       "1024  140.0   5.0  -5.0  ...                      0.0                0.0   \n",
       "\n",
       "      tau_n_photons  tau_emFraction  tau_inside_ecal_crack  \\\n",
       "0         -0.496562        1.000000                    0.0   \n",
       "1         -0.241915        1.000000                    0.0   \n",
       "2         -0.496562        1.000000                    0.0   \n",
       "3          0.267380        1.000000                    0.0   \n",
       "4          0.522027        1.000000                    0.0   \n",
       "...             ...             ...                    ...   \n",
       "1020      -0.241915        0.984084                    0.0   \n",
       "1021      -0.751210        1.000000                    0.0   \n",
       "1022       0.012732        0.981167                    0.0   \n",
       "1023      -0.751210        1.000000                    0.0   \n",
       "1024       0.012732        1.000000                    0.0   \n",
       "\n",
       "      leadChargedCand_etaAtEcalEntrance_minus_tau_eta  innerCells_begin  \\\n",
       "0                                            0.594813                 0   \n",
       "1                                           -1.252759                 2   \n",
       "2                                            0.448020                 4   \n",
       "3                                           -0.951892                 5   \n",
       "4                                            0.164003                 8   \n",
       "...                                               ...               ...   \n",
       "1020                                        -1.014295              1654   \n",
       "1021                                        -0.744132              1657   \n",
       "1022                                        -0.210171              1659   \n",
       "1023                                        -0.509617              1660   \n",
       "1024                                         0.435115              1663   \n",
       "\n",
       "      innerCells_end  outerCells_begin  outerCells_end  \n",
       "0                  2                 0              54  \n",
       "1                  4                54             124  \n",
       "2                  5               124             188  \n",
       "3                  8               188             259  \n",
       "4                 11               259             352  \n",
       "...              ...               ...             ...  \n",
       "1020            1657             62959           63026  \n",
       "1021            1659             63026           63094  \n",
       "1022            1660             63094           63148  \n",
       "1023            1663             63148           63228  \n",
       "1024            1667             63228           63295  \n",
       "\n",
       "[1025 rows x 125 columns]"
      ]
     },
     "execution_count": 14,
     "metadata": {},
     "output_type": "execute_result"
    }
   ],
   "source": [
    "taus = t.arrays(library='pd')\n",
    "taus"
   ]
  },
  {
   "cell_type": "code",
   "execution_count": null,
   "metadata": {},
   "outputs": [],
   "source": []
  },
  {
   "cell_type": "code",
   "execution_count": 45,
   "metadata": {},
   "outputs": [
    {
     "data": {
      "text/plain": [
       "<Array [2, 4, 5, 8, ... 1659, 1660, 1663, 1667] type='1025 * int64'>"
      ]
     },
     "execution_count": 45,
     "metadata": {},
     "output_type": "execute_result"
    }
   ],
   "source": [
    "taus.innerCells_end"
   ]
  },
  {
   "cell_type": "code",
   "execution_count": 56,
   "metadata": {},
   "outputs": [],
   "source": [
    "df_taus = t.arrays(library='pd', entry_start=1, entry_stop=15)"
   ]
  },
  {
   "cell_type": "code",
   "execution_count": 57,
   "metadata": {},
   "outputs": [],
   "source": [
    "cells_begin = df_taus['innerCells_begin'].values[0]\n",
    "cells_end = df_taus['innerCells_end'].values[-1]"
   ]
  },
  {
   "cell_type": "code",
   "execution_count": 58,
   "metadata": {},
   "outputs": [
    {
     "data": {
      "text/plain": [
       "1      2\n",
       "2      4\n",
       "3      5\n",
       "4      8\n",
       "5     11\n",
       "6     13\n",
       "7     15\n",
       "8     18\n",
       "9     19\n",
       "10    22\n",
       "11    23\n",
       "12    24\n",
       "13    25\n",
       "14    26\n",
       "Name: innerCells_begin, dtype: int64"
      ]
     },
     "execution_count": 58,
     "metadata": {},
     "output_type": "execute_result"
    }
   ],
   "source": [
    "df_taus['innerCells_begin']"
   ]
  },
  {
   "cell_type": "code",
   "execution_count": 59,
   "metadata": {},
   "outputs": [
    {
     "data": {
      "text/plain": [
       "1      4\n",
       "2      5\n",
       "3      8\n",
       "4     11\n",
       "5     13\n",
       "6     15\n",
       "7     18\n",
       "8     19\n",
       "9     22\n",
       "10    23\n",
       "11    24\n",
       "12    25\n",
       "13    26\n",
       "14    27\n",
       "Name: innerCells_end, dtype: int64"
      ]
     },
     "execution_count": 59,
     "metadata": {},
     "output_type": "execute_result"
    }
   ],
   "source": [
    "df_taus['innerCells_end']"
   ]
  },
  {
   "cell_type": "code",
   "execution_count": null,
   "metadata": {},
   "outputs": [],
   "source": [
    "fill_grid_times = []\n",
    "broadcasting_times = []"
   ]
  }
 ],
 "metadata": {
  "kernelspec": {
   "display_name": "tau-dev",
   "language": "python",
   "name": "tau-dev"
  },
  "language_info": {
   "codemirror_mode": {
    "name": "ipython",
    "version": 3
   },
   "file_extension": ".py",
   "mimetype": "text/x-python",
   "name": "python",
   "nbconvert_exporter": "python",
   "pygments_lexer": "ipython3",
   "version": "3.8.5"
  }
 },
 "nbformat": 4,
 "nbformat_minor": 4
}
