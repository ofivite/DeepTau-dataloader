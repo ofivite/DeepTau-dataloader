{
 "cells": [
  {
   "cell_type": "code",
   "execution_count": 1,
   "metadata": {},
   "outputs": [],
   "source": [
    "import uproot\n",
    "import awkward as ak\n",
    "import numpy as np\n",
    "import pandas as pd\n",
    "import numba as nb\n",
    "import matplotlib.pyplot as plt\n",
    "\n",
    "import yaml\n",
    "import time\n",
    "import glob\n",
    "import gc\n",
    "# from memory_profiler import profile"
   ]
  },
  {
   "cell_type": "code",
   "execution_count": 2,
   "metadata": {},
   "outputs": [],
   "source": [
    "%load_ext memory_profiler\n",
    "%load_ext line_profiler\n",
    "%load_ext autoreload\n",
    "%autoreload 2"
   ]
  },
  {
   "cell_type": "markdown",
   "metadata": {},
   "source": [
    "### uploading data"
   ]
  },
  {
   "cell_type": "code",
   "execution_count": 3,
   "metadata": {},
   "outputs": [],
   "source": [
    "from transform_inputs import get_batch_yielder"
   ]
  },
  {
   "cell_type": "code",
   "execution_count": 4,
   "metadata": {},
   "outputs": [],
   "source": [
    "batch_size = 300\n",
    "batch_yielder = get_batch_yielder('data/ShuffleMergeSpectral_1.root', 'taus', batch_size)"
   ]
  },
  {
   "cell_type": "code",
   "execution_count": 5,
   "metadata": {},
   "outputs": [
    {
     "name": "stdout",
     "output_type": "stream",
     "text": [
      "348 ms ± 36.8 ms per loop (mean ± std. dev. of 7 runs, 1 loop each)\n"
     ]
    }
   ],
   "source": [
    "%%timeit\n",
    "for taus in batch_yielder:\n",
    "    break"
   ]
  },
  {
   "cell_type": "code",
   "execution_count": 6,
   "metadata": {},
   "outputs": [],
   "source": [
    "# getting one batch for tests\n",
    "for taus in batch_yielder:\n",
    "    break"
   ]
  },
  {
   "cell_type": "code",
   "execution_count": 7,
   "metadata": {},
   "outputs": [
    {
     "data": {
      "text/plain": [
       "<Array [{run: 1, lumi: 41, evt: 40496, ... ] type='300 * {\"run\": uint32, \"lumi\":...'>"
      ]
     },
     "execution_count": 7,
     "metadata": {},
     "output_type": "execute_result"
    }
   ],
   "source": [
    "taus"
   ]
  },
  {
   "cell_type": "code",
   "execution_count": 9,
   "metadata": {},
   "outputs": [],
   "source": [
    "tau_i = 7 # tau index for tests"
   ]
  },
  {
   "cell_type": "markdown",
   "metadata": {},
   "source": [
    "### define the grid"
   ]
  },
  {
   "cell_type": "code",
   "execution_count": 10,
   "metadata": {},
   "outputs": [],
   "source": [
    "grid_types = ['inner', 'outer']\n",
    "grid_dim = ['eta', 'phi']\n",
    "grid_size, grid_left, grid_right = {}, {}, {}"
   ]
  },
  {
   "cell_type": "code",
   "execution_count": 11,
   "metadata": {},
   "outputs": [],
   "source": [
    "n_cells = {'inner': 11, 'outer': 21}\n",
    "cell_size = {'inner': 0.02, 'outer': 0.05}"
   ]
  },
  {
   "cell_type": "code",
   "execution_count": 12,
   "metadata": {},
   "outputs": [],
   "source": [
    "for grid_type in grid_types:\n",
    "    grid_size[grid_type] = cell_size[grid_type] * n_cells[grid_type]\n",
    "    grid_left[grid_type], grid_right[grid_type] = - grid_size[grid_type] / 2, grid_size[grid_type] / 2"
   ]
  },
  {
   "cell_type": "markdown",
   "metadata": {},
   "source": [
    "### derive constituents' features"
   ]
  },
  {
   "cell_type": "code",
   "execution_count": 13,
   "metadata": {},
   "outputs": [],
   "source": [
    "from transform_inputs import add_vars_to_taus"
   ]
  },
  {
   "cell_type": "code",
   "execution_count": 14,
   "metadata": {},
   "outputs": [],
   "source": [
    "constituent_types = ['ele', 'muon', 'pfCand']"
   ]
  },
  {
   "cell_type": "code",
   "execution_count": 15,
   "metadata": {},
   "outputs": [],
   "source": [
    "# %%timeit\n",
    "for c_type in constituent_types: \n",
    "    add_vars_to_taus(taus, c_type)"
   ]
  },
  {
   "cell_type": "code",
   "execution_count": 16,
   "metadata": {},
   "outputs": [
    {
     "data": {
      "text/plain": [
       "(0, 0, 22)"
      ]
     },
     "execution_count": 16,
     "metadata": {},
     "output_type": "execute_result"
    }
   ],
   "source": [
    "taus[tau_i]['n_ele'],  taus[tau_i]['n_muon'], taus[tau_i]['n_pfCand'],"
   ]
  },
  {
   "cell_type": "code",
   "execution_count": 17,
   "metadata": {},
   "outputs": [
    {
     "data": {
      "image/png": "[encoded data removed]",
      "text/plain": [
       "<Figure size 432x288 with 1 Axes>"
      ]
     },
     "metadata": {
      "needs_background": "light"
     },
     "output_type": "display_data"
    }
   ],
   "source": [
    "plt.hist(taus[tau_i]['pfCand', 'deta'])\n",
    "plt.show()"
   ]
  },
  {
   "cell_type": "markdown",
   "metadata": {},
   "source": [
    "### derive inner/outer grid masks"
   ]
  },
  {
   "cell_type": "code",
   "execution_count": 18,
   "metadata": {},
   "outputs": [],
   "source": [
    "from transform_inputs import derive_grid_mask"
   ]
  },
  {
   "cell_type": "code",
   "execution_count": 19,
   "metadata": {},
   "outputs": [],
   "source": [
    "# grid masks placeholder\n",
    "grid_mask_dict = {key: {} for key in grid_types}"
   ]
  },
  {
   "cell_type": "code",
   "execution_count": 20,
   "metadata": {},
   "outputs": [],
   "source": [
    "# %%timeit\n",
    "for c_type in constituent_types:\n",
    "    for grid_type in grid_types:\n",
    "        grid_mask_dict[grid_type][c_type] = derive_grid_mask(taus, c_type, grid_type)\n",
    "    taus[c_type, 'inner_grid_mask'] = grid_mask_dict['inner'][c_type]\n",
    "    taus[c_type, 'outer_grid_mask'] = grid_mask_dict['outer'][c_type] * (~grid_mask_dict['inner'][c_type])"
   ]
  },
  {
   "cell_type": "code",
   "execution_count": 21,
   "metadata": {},
   "outputs": [
    {
     "name": "stdout",
     "output_type": "stream",
     "text": [
      "ele: total 0 constituents in the inner cone for tau with i=7\n",
      "ele: total 0 constituents in the outer cone for tau with i=7\n",
      "\n",
      "muon: total 0 constituents in the inner cone for tau with i=7\n",
      "muon: total 0 constituents in the outer cone for tau with i=7\n",
      "\n",
      "pfCand: total 2 constituents in the inner cone for tau with i=7\n",
      "pfCand: total 20 constituents in the outer cone for tau with i=7\n",
      "\n"
     ]
    }
   ],
   "source": [
    "for c_type in constituent_types:  \n",
    "    for grid_type in grid_types:\n",
    "        print(f'{c_type}: total {sum(taus[tau_i][c_type, f\"{grid_type}_grid_mask\"])} constituents in the {grid_type} cone for tau with i={tau_i}')\n",
    "    print()"
   ]
  },
  {
   "cell_type": "code",
   "execution_count": 22,
   "metadata": {},
   "outputs": [
    {
     "name": "stdout",
     "output_type": "stream",
     "text": [
      "***************\n",
      "\n",
      "ele: total count of constituents per tau in the inner cone\n",
      "[0, 0, 0, 0, 0, 0, 0, 0, 0, 0, 0, 0, 1, 0, ... 0, 1, 0, 0, 0, 0, 0, 0, 0, 1, 0, 0, 0]\n",
      "\n",
      "ele: total count of constituents per tau in the outer cone\n",
      "[0, 0, 0, 0, 0, 0, 0, 0, 0, 0, 0, 0, 0, 0, ... 0, 0, 0, 0, 0, 0, 0, 0, 0, 0, 0, 0, 0]\n",
      "\n",
      "***************\n",
      "\n",
      "muon: total count of constituents per tau in the inner cone\n",
      "[0, 1, 1, 1, 1, 1, 1, 0, 0, 1, 1, 0, 0, 1, ... 1, 1, 0, 1, 1, 0, 0, 1, 1, 0, 1, 1, 1]\n",
      "\n",
      "muon: total count of constituents per tau in the outer cone\n",
      "[0, 0, 0, 0, 0, 0, 0, 0, 0, 1, 0, 0, 0, 0, ... 0, 0, 0, 0, 0, 0, 0, 0, 0, 0, 0, 0, 2]\n",
      "\n",
      "***************\n",
      "\n",
      "pfCand: total count of constituents per tau in the inner cone\n",
      "[12, 3, 4, 2, 1, 1, 1, 2, 4, 1, 2, 5, 4, ... 4, 9, 10, 3, 5, 3, 8, 13, 4, 3, 2, 2, 2]\n",
      "\n",
      "pfCand: total count of constituents per tau in the outer cone\n",
      "[23, 9, 15, 41, 47, 15, 33, 20, 34, 26, 23, ... 5, 30, 25, 23, 31, 21, 34, 2, 16, 27]\n",
      "\n",
      "***************\n"
     ]
    }
   ],
   "source": [
    "print(15*'*')\n",
    "for c_type in constituent_types: \n",
    "    print()\n",
    "    for grid_type in grid_types:  \n",
    "        grid_mask = taus[c_type, f\"{grid_type}_grid_mask\"]\n",
    "        print(f'{c_type}: total count of constituents per tau in the {grid_type} cone\\n{ak.sum(grid_mask, axis=1)}')\n",
    "        print()\n",
    "    print(15*'*')"
   ]
  },
  {
   "cell_type": "markdown",
   "metadata": {},
   "source": [
    "### derive cell indices "
   ]
  },
  {
   "cell_type": "code",
   "execution_count": 23,
   "metadata": {},
   "outputs": [],
   "source": [
    "from transform_inputs import derive_cell_indices"
   ]
  },
  {
   "cell_type": "code",
   "execution_count": 24,
   "metadata": {},
   "outputs": [],
   "source": [
    "# %%timeit\n",
    "for c_type in constituent_types: \n",
    "    for grid_type in grid_types:\n",
    "        for dim in grid_dim:\n",
    "            taus[c_type, f'{grid_type}_grid_indices_{dim}'] = derive_cell_indices(taus, c_type, grid_type, dim)"
   ]
  },
  {
   "cell_type": "code",
   "execution_count": 25,
   "metadata": {},
   "outputs": [
    {
     "name": "stdout",
     "output_type": "stream",
     "text": [
      "***************\n",
      "\n",
      "ele: eta indices of constituents for tau with i=7 in the inner cone\n",
      "[]\n",
      "\n",
      "ele: eta indices of constituents for tau with i=7 in the outer cone\n",
      "[]\n",
      "***************\n",
      "\n",
      "muon: eta indices of constituents for tau with i=7 in the inner cone\n",
      "[]\n",
      "\n",
      "muon: eta indices of constituents for tau with i=7 in the outer cone\n",
      "[]\n",
      "***************\n",
      "\n",
      "pfCand: eta indices of constituents for tau with i=7 in the inner cone\n",
      "[5, 0]\n",
      "\n",
      "pfCand: eta indices of constituents for tau with i=7 in the outer cone\n",
      "[11, 18, 7, 9, 8, 18, 7, 13, 15, 14, 17, 9, 8, 5, 15, 11, 9, 6, 5, 5]\n",
      "***************\n"
     ]
    }
   ],
   "source": [
    "print(15*'*')\n",
    "for c_type in constituent_types: \n",
    "    for grid_type in grid_types:      \n",
    "        grid_mask = taus[c_type, f\"{grid_type}_grid_mask\"]\n",
    "        print()\n",
    "        print(f'{c_type}: eta indices of constituents for tau with i={tau_i} in the {grid_type} cone\\n{taus[c_type, f\"{grid_type}_grid_indices_eta\"][grid_mask][tau_i]}')\n",
    "    print(15*'*')"
   ]
  },
  {
   "cell_type": "code",
   "execution_count": null,
   "metadata": {},
   "outputs": [],
   "source": []
  },
  {
   "cell_type": "markdown",
   "metadata": {},
   "source": [
    "### validating indices"
   ]
  },
  {
   "cell_type": "code",
   "execution_count": 26,
   "metadata": {},
   "outputs": [],
   "source": [
    "grid_type = 'outer'\n",
    "c_type = 'pfCand'\n",
    "tau_i = 10"
   ]
  },
  {
   "cell_type": "code",
   "execution_count": 27,
   "metadata": {},
   "outputs": [
    {
     "data": {
      "text/html": [
       "<div>\n",
       "<style scoped>\n",
       "    .dataframe tbody tr th:only-of-type {\n",
       "        vertical-align: middle;\n",
       "    }\n",
       "\n",
       "    .dataframe tbody tr th {\n",
       "        vertical-align: top;\n",
       "    }\n",
       "\n",
       "    .dataframe thead th {\n",
       "        text-align: right;\n",
       "    }\n",
       "</style>\n",
       "<table border=\"1\" class=\"dataframe\">\n",
       "  <thead>\n",
       "    <tr style=\"text-align: right;\">\n",
       "      <th></th>\n",
       "      <th>deta</th>\n",
       "      <th>dphi</th>\n",
       "    </tr>\n",
       "    <tr>\n",
       "      <th>entry</th>\n",
       "      <th></th>\n",
       "      <th></th>\n",
       "    </tr>\n",
       "  </thead>\n",
       "  <tbody>\n",
       "    <tr>\n",
       "      <th>0</th>\n",
       "      <td>-0.233650</td>\n",
       "      <td>0.022859</td>\n",
       "    </tr>\n",
       "    <tr>\n",
       "      <th>1</th>\n",
       "      <td>-0.247566</td>\n",
       "      <td>0.144137</td>\n",
       "    </tr>\n",
       "    <tr>\n",
       "      <th>2</th>\n",
       "      <td>-0.232917</td>\n",
       "      <td>0.062595</td>\n",
       "    </tr>\n",
       "    <tr>\n",
       "      <th>3</th>\n",
       "      <td>-0.452467</td>\n",
       "      <td>0.123240</td>\n",
       "    </tr>\n",
       "    <tr>\n",
       "      <th>4</th>\n",
       "      <td>0.445875</td>\n",
       "      <td>0.053508</td>\n",
       "    </tr>\n",
       "    <tr>\n",
       "      <th>5</th>\n",
       "      <td>0.449904</td>\n",
       "      <td>0.191613</td>\n",
       "    </tr>\n",
       "    <tr>\n",
       "      <th>6</th>\n",
       "      <td>0.156194</td>\n",
       "      <td>0.397963</td>\n",
       "    </tr>\n",
       "    <tr>\n",
       "      <th>7</th>\n",
       "      <td>0.249580</td>\n",
       "      <td>-0.087999</td>\n",
       "    </tr>\n",
       "    <tr>\n",
       "      <th>8</th>\n",
       "      <td>-0.314951</td>\n",
       "      <td>0.302551</td>\n",
       "    </tr>\n",
       "    <tr>\n",
       "      <th>9</th>\n",
       "      <td>0.339854</td>\n",
       "      <td>0.183400</td>\n",
       "    </tr>\n",
       "    <tr>\n",
       "      <th>10</th>\n",
       "      <td>0.010254</td>\n",
       "      <td>-0.356069</td>\n",
       "    </tr>\n",
       "    <tr>\n",
       "      <th>11</th>\n",
       "      <td>-0.012085</td>\n",
       "      <td>-0.229009</td>\n",
       "    </tr>\n",
       "    <tr>\n",
       "      <th>12</th>\n",
       "      <td>-0.095950</td>\n",
       "      <td>0.380875</td>\n",
       "    </tr>\n",
       "    <tr>\n",
       "      <th>13</th>\n",
       "      <td>-0.276864</td>\n",
       "      <td>-0.384970</td>\n",
       "    </tr>\n",
       "    <tr>\n",
       "      <th>14</th>\n",
       "      <td>0.035524</td>\n",
       "      <td>-0.496404</td>\n",
       "    </tr>\n",
       "    <tr>\n",
       "      <th>15</th>\n",
       "      <td>-0.130192</td>\n",
       "      <td>-0.143367</td>\n",
       "    </tr>\n",
       "    <tr>\n",
       "      <th>16</th>\n",
       "      <td>0.215888</td>\n",
       "      <td>0.185556</td>\n",
       "    </tr>\n",
       "    <tr>\n",
       "      <th>17</th>\n",
       "      <td>0.268990</td>\n",
       "      <td>0.115633</td>\n",
       "    </tr>\n",
       "    <tr>\n",
       "      <th>18</th>\n",
       "      <td>0.174688</td>\n",
       "      <td>0.219735</td>\n",
       "    </tr>\n",
       "    <tr>\n",
       "      <th>19</th>\n",
       "      <td>0.042482</td>\n",
       "      <td>-0.164461</td>\n",
       "    </tr>\n",
       "    <tr>\n",
       "      <th>20</th>\n",
       "      <td>-0.212409</td>\n",
       "      <td>-0.255083</td>\n",
       "    </tr>\n",
       "    <tr>\n",
       "      <th>21</th>\n",
       "      <td>-0.298837</td>\n",
       "      <td>0.266313</td>\n",
       "    </tr>\n",
       "    <tr>\n",
       "      <th>22</th>\n",
       "      <td>-0.367504</td>\n",
       "      <td>-0.099999</td>\n",
       "    </tr>\n",
       "  </tbody>\n",
       "</table>\n",
       "</div>"
      ],
      "text/plain": [
       "           deta      dphi\n",
       "entry                    \n",
       "0     -0.233650  0.022859\n",
       "1     -0.247566  0.144137\n",
       "2     -0.232917  0.062595\n",
       "3     -0.452467  0.123240\n",
       "4      0.445875  0.053508\n",
       "5      0.449904  0.191613\n",
       "6      0.156194  0.397963\n",
       "7      0.249580 -0.087999\n",
       "8     -0.314951  0.302551\n",
       "9      0.339854  0.183400\n",
       "10     0.010254 -0.356069\n",
       "11    -0.012085 -0.229009\n",
       "12    -0.095950  0.380875\n",
       "13    -0.276864 -0.384970\n",
       "14     0.035524 -0.496404\n",
       "15    -0.130192 -0.143367\n",
       "16     0.215888  0.185556\n",
       "17     0.268990  0.115633\n",
       "18     0.174688  0.219735\n",
       "19     0.042482 -0.164461\n",
       "20    -0.212409 -0.255083\n",
       "21    -0.298837  0.266313\n",
       "22    -0.367504 -0.099999"
      ]
     },
     "execution_count": 27,
     "metadata": {},
     "output_type": "execute_result"
    }
   ],
   "source": [
    "grid_mask = taus[c_type, f'{grid_type}_grid_mask']\n",
    "grid_coord = ak.to_pandas(taus[c_type, ['deta', 'dphi',]][grid_mask][tau_i])\n",
    "grid_coord"
   ]
  },
  {
   "cell_type": "code",
   "execution_count": 28,
   "metadata": {},
   "outputs": [
    {
     "name": "stdout",
     "output_type": "stream",
     "text": [
      "5.0 10.0\n",
      "5.0 13.0\n",
      "5.0 11.0\n",
      "1.0 12.0\n",
      "19.0 11.0\n",
      "19.0 14.0\n",
      "13.0 18.0\n",
      "15.0 8.0\n",
      "4.0 16.0\n",
      "17.0 14.0\n",
      "10.0 3.0\n",
      "10.0 5.0\n",
      "8.0 18.0\n",
      "4.0 2.0\n",
      "11.0 0.0\n",
      "7.0 7.0\n",
      "14.0 14.0\n",
      "15.0 12.0\n",
      "13.0 14.0\n",
      "11.0 7.0\n",
      "6.0 5.0\n",
      "4.0 15.0\n",
      "3.0 8.0\n"
     ]
    }
   ],
   "source": [
    "eta_indices = taus[c_type, f\"{grid_type}_grid_indices_eta\"][grid_mask][tau_i].tolist()\n",
    "phi_indices = taus[c_type, f\"{grid_type}_grid_indices_phi\"][grid_mask][tau_i].tolist()\n",
    "for i,j in zip(eta_indices, phi_indices):\n",
    "    print(i,j)"
   ]
  },
  {
   "cell_type": "code",
   "execution_count": 29,
   "metadata": {},
   "outputs": [
    {
     "data": {
      "image/png": "[encoded data removed]",
      "text/plain": [
       "<Figure size 720x720 with 1 Axes>"
      ]
     },
     "metadata": {
      "needs_background": "light"
     },
     "output_type": "display_data"
    }
   ],
   "source": [
    "fig, ax = plt.subplots(1, figsize=(10, 10))\n",
    "\n",
    "if grid_type != 'inner':\n",
    "    ax.plot([grid_left['inner'], grid_right['inner']], [grid_right['inner'], grid_right['inner']], 'r')\n",
    "    ax.plot([grid_left['inner'], grid_left['inner']], [grid_left['inner'], grid_right['inner']], 'r')\n",
    "    ax.plot([grid_left['inner'], grid_right['inner']], [grid_left['inner'], grid_left['inner']], 'r')\n",
    "    ax.plot([grid_right['inner'], grid_right['inner']], [grid_left['inner'], grid_right['inner']], 'r')\n",
    "\n",
    "ax.scatter(x=grid_coord['deta'], y=grid_coord['dphi'])\n",
    "\n",
    "ax.set_xlim(grid_left[grid_type], grid_right[grid_type])\n",
    "ax.set_ylim(grid_left[grid_type], grid_right[grid_type])\n",
    "ax.set_xticks(np.arange(grid_left[grid_type], grid_right[grid_type], cell_size[grid_type]))\n",
    "ax.set_yticks(np.arange(grid_left[grid_type], grid_right[grid_type], cell_size[grid_type]))\n",
    "\n",
    "ax.set_xlabel('eta')\n",
    "ax.set_ylabel('phi')\n",
    "ax.set_title(f'{grid_type} grid')\n",
    "\n",
    "plt.grid(b=True, which='major', color='#666666', linestyle='-') \n",
    "\n",
    "plt.show()"
   ]
  },
  {
   "cell_type": "code",
   "execution_count": null,
   "metadata": {},
   "outputs": [],
   "source": []
  },
  {
   "cell_type": "markdown",
   "metadata": {},
   "source": [
    "### fill final tensor"
   ]
  },
  {
   "cell_type": "code",
   "execution_count": 30,
   "metadata": {},
   "outputs": [],
   "source": [
    "from transform_inputs import get_grid_mask, get_fill_indices, get_fill_values"
   ]
  },
  {
   "cell_type": "code",
   "execution_count": 31,
   "metadata": {},
   "outputs": [],
   "source": [
    "fill_branches = {'ele': taus['ele'].fields[:37], # here just pick first 37\n",
    "                 'muon': taus['muon'].fields[:37],\n",
    "                 'pfCand': taus['pfCand'].fields[:37]                \n",
    "                 } # branches to be stored"
   ]
  },
  {
   "cell_type": "code",
   "execution_count": 32,
   "metadata": {},
   "outputs": [],
   "source": [
    "# initialize tensors to be filled \n",
    "grid_tensors = {key: {} for key in grid_types}\n",
    "for c_type in constituent_types:\n",
    "    for grid_type in grid_types:\n",
    "        grid_tensors[grid_type][c_type] = np.zeros((batch_size, n_cells[grid_type], n_cells[grid_type], len(fill_branches[c_type])))"
   ]
  },
  {
   "cell_type": "code",
   "execution_count": 33,
   "metadata": {},
   "outputs": [],
   "source": [
    "# dictionaries to store timing\n",
    "get_mask_times = {key: {c_key: [] for c_key in constituent_types} for key in grid_types}\n",
    "get_fill_indices_times = {key: {c_key: [] for c_key in constituent_types} for key in grid_types}\n",
    "get_fill_values_times = {key: {c_key: [] for c_key in constituent_types} for key in grid_types}\n",
    "fill_tensor_times = {key: {c_key: [] for c_key in constituent_types} for key in grid_types}"
   ]
  },
  {
   "cell_type": "code",
   "execution_count": 34,
   "metadata": {},
   "outputs": [
    {
     "name": "stdout",
     "output_type": "stream",
     "text": [
      "- 0th tau\n",
      "- 100th tau\n",
      "- 200th tau\n",
      "- 0th tau\n",
      "- 100th tau\n",
      "- 200th tau\n",
      "- 0th tau\n",
      "- 100th tau\n",
      "- 200th tau\n",
      "- 0th tau\n",
      "- 100th tau\n",
      "- 200th tau\n",
      "- 0th tau\n",
      "- 100th tau\n",
      "- 200th tau\n",
      "- 0th tau\n",
      "- 100th tau\n",
      "- 200th tau\n"
     ]
    }
   ],
   "source": [
    "program_starts = time.time()\n",
    "for c_type in constituent_types:\n",
    "    # looping over grids\n",
    "    for grid_type in grid_types:\n",
    "        begin_iter = time.time()\n",
    "        \n",
    "        # fetch grid_mask\n",
    "        grid_mask = get_grid_mask(taus, c_type, grid_type)\n",
    "        after_get_mask = time.time()\n",
    "        get_mask_times[grid_type][c_type].append(after_get_mask - begin_iter)\n",
    "        \n",
    "        # fetch grid indices to be filled\n",
    "        indices_eta, indices_phi = get_fill_indices(taus, c_type, grid_type, grid_mask)\n",
    "        after_get_fill_indices = time.time()\n",
    "        get_fill_indices_times[grid_type][c_type].append(after_get_fill_indices - after_get_mask)\n",
    "            \n",
    "        # loop over taus in the batch\n",
    "        for i_tau, tau in enumerate(taus):\n",
    "            if i_tau%100 == 0:\n",
    "                print(f'- {i_tau}th tau')\n",
    "            if ak.sum(grid_mask[i_tau]) == 0:\n",
    "                continue\n",
    "            before_get_fill_values = time.time()\n",
    "            \n",
    "            # fetch indices\n",
    "            i_eta, i_phi = indices_eta[i_tau], indices_phi[i_tau]\n",
    "            \n",
    "            # fetch values to be filled\n",
    "            values_to_fill = get_fill_values(tau, c_type, fill_branches[c_type], grid_mask[i_tau])\n",
    "            after_get_fill_values = time.time()\n",
    "            get_fill_values_times[grid_type][c_type].append(after_get_fill_values - before_get_fill_values)\n",
    "            \n",
    "            # put them in the tensor\n",
    "            grid_tensors[grid_type][c_type][i_tau, i_eta, i_phi, :] = values_to_fill\n",
    "            after_put = time.time()\n",
    "            fill_tensor_times[grid_type][c_type].append(after_put - after_get_fill_values)       \n",
    "program_ends = time.time()"
   ]
  },
  {
   "cell_type": "code",
   "execution_count": 35,
   "metadata": {},
   "outputs": [],
   "source": [
    "# # release memory\n",
    "#     for grid_type in grid_types:\n",
    "#         del grid_tensors[grid_type]\n",
    "# gc.collect()"
   ]
  },
  {
   "cell_type": "code",
   "execution_count": 36,
   "metadata": {},
   "outputs": [
    {
     "name": "stdout",
     "output_type": "stream",
     "text": [
      "Processed 300 taus in 1.3787345886230469 seconds\n",
      "\n",
      "=== ele\n",
      "\n",
      "------- inner cell\n",
      "median get_grid_mask() time: 0.00016498565673828125\n",
      "median get_fill_indices() time: 0.0007960796356201172\n",
      "median get_fill_values() time: 0.0015897750854492188\n",
      "median fill tensor time: 0.0002789497375488281\n",
      "\n",
      "------- outer cell\n",
      "median get_grid_mask() time: 6.580352783203125e-05\n",
      "median get_fill_indices() time: 0.0006067752838134766\n",
      "median get_fill_values() time: 0.0011246204376220703\n",
      "median fill tensor time: 0.00020897388458251953\n",
      "\n",
      "\n",
      "=== muon\n",
      "\n",
      "------- inner cell\n",
      "median get_grid_mask() time: 4.00543212890625e-05\n",
      "median get_fill_indices() time: 0.000461578369140625\n",
      "median get_fill_values() time: 0.001029372215270996\n",
      "median fill tensor time: 0.00018310546875\n",
      "\n",
      "------- outer cell\n",
      "median get_grid_mask() time: 4.315376281738281e-05\n",
      "median get_fill_indices() time: 0.00045800209045410156\n",
      "median get_fill_values() time: 0.0010364055633544922\n",
      "median fill tensor time: 0.00019168853759765625\n",
      "\n",
      "\n",
      "=== pfCand\n",
      "\n",
      "------- inner cell\n",
      "median get_grid_mask() time: 4.315376281738281e-05\n",
      "median get_fill_indices() time: 0.0005755424499511719\n",
      "median get_fill_values() time: 0.001050114631652832\n",
      "median fill tensor time: 0.0002065896987915039\n",
      "\n",
      "------- outer cell\n",
      "median get_grid_mask() time: 4.792213439941406e-05\n",
      "median get_fill_indices() time: 0.0008022785186767578\n",
      "median get_fill_values() time: 0.0010762214660644531\n",
      "median fill tensor time: 0.00028705596923828125\n",
      "\n",
      "\n"
     ]
    }
   ],
   "source": [
    "print(f'Processed {batch_size} taus in {program_ends - program_starts} seconds\\n')\n",
    "for c_type in constituent_types:\n",
    "    print(f'=== {c_type}\\n')\n",
    "    for grid_type in grid_types:\n",
    "        print(f'------- {grid_type} cell')\n",
    "        print(f'median get_grid_mask() time: {np.median(get_mask_times[grid_type][c_type])}')\n",
    "        print(f'median get_fill_indices() time: {np.median(get_fill_indices_times[grid_type][c_type])}')\n",
    "        print(f'median get_fill_values() time: {np.median(get_fill_values_times[grid_type][c_type])}')\n",
    "        print(f'median fill tensor time: {np.median(fill_tensor_times[grid_type][c_type])}')\n",
    "        print()\n",
    "    print()"
   ]
  },
  {
   "cell_type": "code",
   "execution_count": 37,
   "metadata": {},
   "outputs": [
    {
     "data": {
      "image/png": "[encoded data removed]",
      "text/plain": [
       "<Figure size 1440x720 with 6 Axes>"
      ]
     },
     "metadata": {
      "needs_background": "light"
     },
     "output_type": "display_data"
    }
   ],
   "source": [
    "f, ax = plt.subplots(len(grid_types), len(constituent_types), figsize=(20,10))\n",
    "for i, grid_type in enumerate(grid_types):\n",
    "    for j, c_type in enumerate(constituent_types):\n",
    "        ax[i,j].hist(get_fill_values_times[grid_type][c_type], histtype='step', bins=100, label='get_fill_values()')\n",
    "        ax[i,j].hist(fill_tensor_times[grid_type][c_type], histtype='step', bins=100, label='fill tensor')\n",
    "        ax[i,j].set_xlabel('time per tau, s')\n",
    "        ax[i,j].set_xscale('log')\n",
    "        ax[i,j].set_xlim((1e-5, 1e0))\n",
    "        ax[i,j].set_title(f'{c_type}: {grid_type} grid')\n",
    "        ax[i,j].legend()"
   ]
  },
  {
   "cell_type": "code",
   "execution_count": 38,
   "metadata": {},
   "outputs": [
    {
     "data": {
      "image/png": "[encoded data removed]",
      "text/plain": [
       "<Figure size 1440x720 with 6 Axes>"
      ]
     },
     "metadata": {
      "needs_background": "light"
     },
     "output_type": "display_data"
    }
   ],
   "source": [
    "f, ax = plt.subplots(len(grid_types), len(constituent_types), figsize=(20,10))\n",
    "for i, grid_type in enumerate(grid_types):\n",
    "    for j, c_type in enumerate(constituent_types):\n",
    "        ax[i,j].hist(get_mask_times[grid_type][c_type], histtype='step', bins=1000, label='get_grid_mask()')\n",
    "        ax[i,j].hist(get_fill_indices_times[grid_type][c_type], histtype='step', bins=1000, label='get_fill_indices()')\n",
    "        ax[i,j].set_xlabel('time per tau, s')\n",
    "        ax[i,j].set_xscale('log')\n",
    "        ax[i,j].set_xlim((1e-5, 1e-2))\n",
    "        ax[i,j].set_title(f'{c_type}: {grid_type} grid')\n",
    "        ax[i,j].legend()"
   ]
  },
  {
   "cell_type": "code",
   "execution_count": null,
   "metadata": {},
   "outputs": [],
   "source": []
  },
  {
   "cell_type": "markdown",
   "metadata": {},
   "source": [
    "### validating final tensor"
   ]
  },
  {
   "cell_type": "code",
   "execution_count": 39,
   "metadata": {},
   "outputs": [],
   "source": [
    "grid_type = 'inner'\n",
    "c_type = 'pfCand'\n",
    "tau_i = 10"
   ]
  },
  {
   "cell_type": "code",
   "execution_count": 40,
   "metadata": {},
   "outputs": [
    {
     "data": {
      "text/html": [
       "<div>\n",
       "<style scoped>\n",
       "    .dataframe tbody tr th:only-of-type {\n",
       "        vertical-align: middle;\n",
       "    }\n",
       "\n",
       "    .dataframe tbody tr th {\n",
       "        vertical-align: top;\n",
       "    }\n",
       "\n",
       "    .dataframe thead th {\n",
       "        text-align: right;\n",
       "    }\n",
       "</style>\n",
       "<table border=\"1\" class=\"dataframe\">\n",
       "  <thead>\n",
       "    <tr style=\"text-align: right;\">\n",
       "      <th></th>\n",
       "      <th>deta</th>\n",
       "      <th>dphi</th>\n",
       "    </tr>\n",
       "    <tr>\n",
       "      <th>entry</th>\n",
       "      <th></th>\n",
       "      <th></th>\n",
       "    </tr>\n",
       "  </thead>\n",
       "  <tbody>\n",
       "    <tr>\n",
       "      <th>0</th>\n",
       "      <td>-0.100162</td>\n",
       "      <td>-0.018256</td>\n",
       "    </tr>\n",
       "    <tr>\n",
       "      <th>1</th>\n",
       "      <td>0.000000</td>\n",
       "      <td>0.000000</td>\n",
       "    </tr>\n",
       "  </tbody>\n",
       "</table>\n",
       "</div>"
      ],
      "text/plain": [
       "           deta      dphi\n",
       "entry                    \n",
       "0     -0.100162 -0.018256\n",
       "1      0.000000  0.000000"
      ]
     },
     "execution_count": 40,
     "metadata": {},
     "output_type": "execute_result"
    }
   ],
   "source": [
    "grid_mask = taus[c_type, f'{grid_type}_grid_mask']\n",
    "grid_coord = ak.to_pandas(taus[c_type, ['deta', 'dphi']][grid_mask][tau_i])\n",
    "grid_coord"
   ]
  },
  {
   "cell_type": "code",
   "execution_count": 59,
   "metadata": {},
   "outputs": [],
   "source": [
    "feature_i = 29"
   ]
  },
  {
   "cell_type": "code",
   "execution_count": 60,
   "metadata": {},
   "outputs": [
    {
     "name": "stdout",
     "output_type": "stream",
     "text": [
      "0.0 4.0 8.0\n",
      "5.0 5.0 15.0\n"
     ]
    }
   ],
   "source": [
    "eta_indices = taus[c_type, f\"{grid_type}_grid_indices_eta\"][grid_mask][tau_i].tolist()\n",
    "phi_indices = taus[c_type, f\"{grid_type}_grid_indices_phi\"][grid_mask][tau_i].tolist()\n",
    "vals = taus[c_type, fill_branches[c_type][feature_i]][grid_mask][tau_i]\n",
    "for x,y,v in sorted(zip(eta_indices, phi_indices, vals)):\n",
    "    print(x,y,v)"
   ]
  },
  {
   "cell_type": "code",
   "execution_count": 61,
   "metadata": {},
   "outputs": [
    {
     "name": "stdout",
     "output_type": "stream",
     "text": [
      "0 4 8.0\n",
      "5 5 15.0\n"
     ]
    }
   ],
   "source": [
    "nonzero_idx_eta = np.argwhere(grid_tensors[grid_type][c_type][tau_i, :, :, feature_i])[:, 0]\n",
    "nonzero_idx_phi = np.argwhere(grid_tensors[grid_type][c_type][tau_i, :, :, feature_i])[:, 1]\n",
    "nonzero_vals = grid_tensors[grid_type][c_type][tau_i, nonzero_idx_eta, nonzero_idx_phi, feature_i]\n",
    "for x,y,v in sorted(zip(nonzero_idx_eta, nonzero_idx_phi, nonzero_vals)):\n",
    "    print(x,y,v)"
   ]
  },
  {
   "cell_type": "code",
   "execution_count": null,
   "metadata": {},
   "outputs": [],
   "source": []
  },
  {
   "cell_type": "markdown",
   "metadata": {},
   "source": [
    "### [dev] better way to convert to numpy"
   ]
  },
  {
   "cell_type": "code",
   "execution_count": 144,
   "metadata": {},
   "outputs": [],
   "source": [
    "grid_type = 'outer'\n",
    "c_type = 'pfCand'\n",
    "tau_i = 20\n",
    "branches = taus[c_type].fields[:50]"
   ]
  },
  {
   "cell_type": "code",
   "execution_count": 145,
   "metadata": {},
   "outputs": [],
   "source": [
    "grid_mask = taus[c_type, f'{grid_type}_grid_mask']"
   ]
  },
  {
   "cell_type": "code",
   "execution_count": 146,
   "metadata": {},
   "outputs": [],
   "source": [
    "tout = np.zeros((batch_size, n_cells[grid_type], n_cells[grid_type], len(branches)))"
   ]
  },
  {
   "cell_type": "code",
   "execution_count": 147,
   "metadata": {},
   "outputs": [],
   "source": [
    "# vfill = (taus[c_type, branches][grid_mask][tau_i])\n",
    "vfill = ak.to_numpy(taus[c_type, branches][grid_mask][tau_i]).tolist()\n",
    "# vfill = ak.to_list(taus[c_type, branches][grid_mask][tau_i])\n",
    "\n",
    "# vfill = vfill.astype(tuple)\n",
    "# vfill = [list(v) for v in vfill]"
   ]
  },
  {
   "cell_type": "code",
   "execution_count": 148,
   "metadata": {},
   "outputs": [
    {
     "name": "stdout",
     "output_type": "stream",
     "text": [
      "1.24 ms ± 8.8 µs per loop (mean ± std. dev. of 7 runs, 1000 loops each)\n"
     ]
    }
   ],
   "source": [
    "%%timeit\n",
    "ak.to_numpy(taus[c_type, branches][grid_mask][tau_i]).tolist()"
   ]
  },
  {
   "cell_type": "code",
   "execution_count": 149,
   "metadata": {},
   "outputs": [
    {
     "name": "stdout",
     "output_type": "stream",
     "text": [
      "1.88 ms ± 15.1 µs per loop (mean ± std. dev. of 7 runs, 1000 loops each)\n"
     ]
    }
   ],
   "source": [
    "%%timeit\n",
    "get_fill_values(taus[tau_i], c_type, branches, grid_mask[tau_i])"
   ]
  },
  {
   "cell_type": "code",
   "execution_count": 143,
   "metadata": {},
   "outputs": [
    {
     "ename": "ValueError",
     "evalue": "shape mismatch: value array of shape (21,42) could not be broadcast to indexing result of shape (2,42)",
     "output_type": "error",
     "traceback": [
      "\u001b[0;31m---------------------------------------------------------------------------\u001b[0m",
      "\u001b[0;31mValueError\u001b[0m                                Traceback (most recent call last)",
      "\u001b[0;32m<ipython-input-143-ed902ebd8a03>\u001b[0m in \u001b[0;36m<module>\u001b[0;34m\u001b[0m\n\u001b[0;32m----> 1\u001b[0;31m \u001b[0mtout\u001b[0m\u001b[0;34m[\u001b[0m\u001b[0mtau_i\u001b[0m\u001b[0;34m,\u001b[0m \u001b[0;34m[\u001b[0m\u001b[0;36m1\u001b[0m\u001b[0;34m,\u001b[0m\u001b[0;36m2\u001b[0m\u001b[0;34m]\u001b[0m\u001b[0;34m,\u001b[0m \u001b[0;34m[\u001b[0m\u001b[0;36m1\u001b[0m\u001b[0;34m,\u001b[0m\u001b[0;36m2\u001b[0m\u001b[0;34m]\u001b[0m\u001b[0;34m,\u001b[0m \u001b[0;34m:\u001b[0m\u001b[0;34m]\u001b[0m \u001b[0;34m=\u001b[0m \u001b[0mvfill\u001b[0m\u001b[0;34m\u001b[0m\u001b[0;34m\u001b[0m\u001b[0m\n\u001b[0m",
      "\u001b[0;31mValueError\u001b[0m: shape mismatch: value array of shape (21,42) could not be broadcast to indexing result of shape (2,42)"
     ]
    }
   ],
   "source": [
    "tout[tau_i, [1,2], [1,2], :] = vfill"
   ]
  },
  {
   "cell_type": "code",
   "execution_count": 114,
   "metadata": {},
   "outputs": [
    {
     "data": {
      "text/plain": [
       "list"
      ]
     },
     "execution_count": 114,
     "metadata": {},
     "output_type": "execute_result"
    }
   ],
   "source": [
    "vfill.tolist()"
   ]
  },
  {
   "cell_type": "code",
   "execution_count": null,
   "metadata": {},
   "outputs": [],
   "source": []
  },
  {
   "cell_type": "code",
   "execution_count": 166,
   "metadata": {},
   "outputs": [],
   "source": [
    "def transform_to_list(a):\n",
    "    return list(a)"
   ]
  },
  {
   "cell_type": "code",
   "execution_count": 167,
   "metadata": {},
   "outputs": [],
   "source": [
    "vtransform_to_list = np.vectorize(transform_to_list)"
   ]
  },
  {
   "cell_type": "code",
   "execution_count": 176,
   "metadata": {},
   "outputs": [
    {
     "name": "stdout",
     "output_type": "stream",
     "text": [
      "60.5 µs ± 330 ns per loop (mean ± std. dev. of 7 runs, 10000 loops each)\n"
     ]
    }
   ],
   "source": [
    "%%timeit\n",
    "np.apply_along_axis(lambda v: list(v), 0, vfill)"
   ]
  },
  {
   "cell_type": "code",
   "execution_count": 173,
   "metadata": {},
   "outputs": [
    {
     "name": "stdout",
     "output_type": "stream",
     "text": [
      "666 µs ± 2.15 µs per loop (mean ± std. dev. of 7 runs, 1000 loops each)\n"
     ]
    }
   ],
   "source": [
    "%%timeit\n",
    "[list(c) for c in vfill]"
   ]
  },
  {
   "cell_type": "code",
   "execution_count": null,
   "metadata": {},
   "outputs": [],
   "source": [
    "max_constituent = max(ak.num(taus[]))"
   ]
  },
  {
   "cell_type": "code",
   "execution_count": null,
   "metadata": {},
   "outputs": [],
   "source": [
    "ak.pad_none()"
   ]
  },
  {
   "cell_type": "code",
   "execution_count": 175,
   "metadata": {},
   "outputs": [
    {
     "ename": "ValueError",
     "evalue": "in ListOffsetArray64, cannot convert to RegularArray because subarray lengths are not regular\n\n(https://github.com/scikit-hep/awkward-1.0/blob/1.0.1/src/cpu-kernels/awkward_ListOffsetArray_toRegularArray.cpp#L22)",
     "output_type": "error",
     "traceback": [
      "\u001b[0;31m---------------------------------------------------------------------------\u001b[0m",
      "\u001b[0;31mValueError\u001b[0m                                Traceback (most recent call last)",
      "\u001b[0;32m<ipython-input-175-0090afdfe6c1>\u001b[0m in \u001b[0;36m<module>\u001b[0;34m\u001b[0m\n\u001b[0;32m----> 1\u001b[0;31m \u001b[0mak\u001b[0m\u001b[0;34m.\u001b[0m\u001b[0mto_numpy\u001b[0m\u001b[0;34m(\u001b[0m\u001b[0mtaus\u001b[0m\u001b[0;34m[\u001b[0m\u001b[0mc_type\u001b[0m\u001b[0;34m,\u001b[0m \u001b[0mfill_branches\u001b[0m\u001b[0;34m[\u001b[0m\u001b[0mc_type\u001b[0m\u001b[0;34m]\u001b[0m\u001b[0;34m]\u001b[0m\u001b[0;34m)\u001b[0m\u001b[0;34m\u001b[0m\u001b[0;34m\u001b[0m\u001b[0m\n\u001b[0m",
      "\u001b[0;32m/nfs/dust/cms/user/filatovo/miniconda3/envs/tau-dev/lib/python3.8/site-packages/awkward/operations/convert.py\u001b[0m in \u001b[0;36mto_numpy\u001b[0;34m(array, allow_missing)\u001b[0m\n\u001b[1;32m    184\u001b[0m \u001b[0;34m\u001b[0m\u001b[0m\n\u001b[1;32m    185\u001b[0m     \u001b[0;32melif\u001b[0m \u001b[0misinstance\u001b[0m\u001b[0;34m(\u001b[0m\u001b[0marray\u001b[0m\u001b[0;34m,\u001b[0m \u001b[0mak\u001b[0m\u001b[0;34m.\u001b[0m\u001b[0mhighlevel\u001b[0m\u001b[0;34m.\u001b[0m\u001b[0mArray\u001b[0m\u001b[0;34m)\u001b[0m\u001b[0;34m:\u001b[0m\u001b[0;34m\u001b[0m\u001b[0;34m\u001b[0m\u001b[0m\n\u001b[0;32m--> 186\u001b[0;31m         \u001b[0;32mreturn\u001b[0m \u001b[0mto_numpy\u001b[0m\u001b[0;34m(\u001b[0m\u001b[0marray\u001b[0m\u001b[0;34m.\u001b[0m\u001b[0mlayout\u001b[0m\u001b[0;34m,\u001b[0m \u001b[0mallow_missing\u001b[0m\u001b[0;34m=\u001b[0m\u001b[0mallow_missing\u001b[0m\u001b[0;34m)\u001b[0m\u001b[0;34m\u001b[0m\u001b[0;34m\u001b[0m\u001b[0m\n\u001b[0m\u001b[1;32m    187\u001b[0m \u001b[0;34m\u001b[0m\u001b[0m\n\u001b[1;32m    188\u001b[0m     \u001b[0;32melif\u001b[0m \u001b[0misinstance\u001b[0m\u001b[0;34m(\u001b[0m\u001b[0marray\u001b[0m\u001b[0;34m,\u001b[0m \u001b[0mak\u001b[0m\u001b[0;34m.\u001b[0m\u001b[0mhighlevel\u001b[0m\u001b[0;34m.\u001b[0m\u001b[0mRecord\u001b[0m\u001b[0;34m)\u001b[0m\u001b[0;34m:\u001b[0m\u001b[0;34m\u001b[0m\u001b[0;34m\u001b[0m\u001b[0m\n",
      "\u001b[0;32m/nfs/dust/cms/user/filatovo/miniconda3/envs/tau-dev/lib/python3.8/site-packages/awkward/operations/convert.py\u001b[0m in \u001b[0;36mto_numpy\u001b[0;34m(array, allow_missing)\u001b[0m\n\u001b[1;32m    306\u001b[0m \u001b[0;34m\u001b[0m\u001b[0m\n\u001b[1;32m    307\u001b[0m     \u001b[0;32melif\u001b[0m \u001b[0misinstance\u001b[0m\u001b[0;34m(\u001b[0m\u001b[0marray\u001b[0m\u001b[0;34m,\u001b[0m \u001b[0mak\u001b[0m\u001b[0;34m.\u001b[0m\u001b[0m_util\u001b[0m\u001b[0;34m.\u001b[0m\u001b[0mlisttypes\u001b[0m\u001b[0;34m)\u001b[0m\u001b[0;34m:\u001b[0m\u001b[0;34m\u001b[0m\u001b[0;34m\u001b[0m\u001b[0m\n\u001b[0;32m--> 308\u001b[0;31m         \u001b[0;32mreturn\u001b[0m \u001b[0mto_numpy\u001b[0m\u001b[0;34m(\u001b[0m\u001b[0marray\u001b[0m\u001b[0;34m.\u001b[0m\u001b[0mtoRegularArray\u001b[0m\u001b[0;34m(\u001b[0m\u001b[0;34m)\u001b[0m\u001b[0;34m,\u001b[0m \u001b[0mallow_missing\u001b[0m\u001b[0;34m=\u001b[0m\u001b[0mallow_missing\u001b[0m\u001b[0;34m)\u001b[0m\u001b[0;34m\u001b[0m\u001b[0;34m\u001b[0m\u001b[0m\n\u001b[0m\u001b[1;32m    309\u001b[0m \u001b[0;34m\u001b[0m\u001b[0m\n\u001b[1;32m    310\u001b[0m     \u001b[0;32melif\u001b[0m \u001b[0misinstance\u001b[0m\u001b[0;34m(\u001b[0m\u001b[0marray\u001b[0m\u001b[0;34m,\u001b[0m \u001b[0mak\u001b[0m\u001b[0;34m.\u001b[0m\u001b[0m_util\u001b[0m\u001b[0;34m.\u001b[0m\u001b[0mrecordtypes\u001b[0m\u001b[0;34m)\u001b[0m\u001b[0;34m:\u001b[0m\u001b[0;34m\u001b[0m\u001b[0;34m\u001b[0m\u001b[0m\n",
      "\u001b[0;31mValueError\u001b[0m: in ListOffsetArray64, cannot convert to RegularArray because subarray lengths are not regular\n\n(https://github.com/scikit-hep/awkward-1.0/blob/1.0.1/src/cpu-kernels/awkward_ListOffsetArray_toRegularArray.cpp#L22)"
     ]
    }
   ],
   "source": [
    "ak.to_numpy(taus[c_type, fill_branches[c_type]])"
   ]
  },
  {
   "cell_type": "code",
   "execution_count": null,
   "metadata": {},
   "outputs": [],
   "source": []
  },
  {
   "cell_type": "code",
   "execution_count": null,
   "metadata": {},
   "outputs": [],
   "source": []
  },
  {
   "cell_type": "markdown",
   "metadata": {},
   "source": [
    "### [dev] vectorize over tau"
   ]
  },
  {
   "cell_type": "markdown",
   "metadata": {},
   "source": [
    "* pad values to fill onto the whole grid (that is, remove jaggedness)\n",
    "    * append indices which are not \"for filling\"\n",
    "    * append corresponding arrays of zeros to `values_to_fill`"
   ]
  },
  {
   "cell_type": "code",
   "execution_count": 109,
   "metadata": {},
   "outputs": [],
   "source": [
    "grid_type = 'inner'\n",
    "c_type = 'pfCand'\n",
    "tau_i = 10"
   ]
  },
  {
   "cell_type": "code",
   "execution_count": 110,
   "metadata": {},
   "outputs": [],
   "source": [
    "tout = np.zeros((batch_size, n_cells[grid_type], n_cells[grid_type], len(fill_branches[c_type])))"
   ]
  },
  {
   "cell_type": "code",
   "execution_count": 113,
   "metadata": {},
   "outputs": [
    {
     "data": {
      "text/plain": [
       "23"
      ]
     },
     "execution_count": 113,
     "metadata": {},
     "output_type": "execute_result"
    }
   ],
   "source": [
    "len(values_to_fill)"
   ]
  },
  {
   "cell_type": "code",
   "execution_count": null,
   "metadata": {},
   "outputs": [],
   "source": []
  },
  {
   "cell_type": "markdown",
   "metadata": {},
   "source": [
    "### [dev] numba"
   ]
  },
  {
   "cell_type": "code",
   "execution_count": null,
   "metadata": {},
   "outputs": [],
   "source": [
    "# play around numba here"
   ]
  },
  {
   "cell_type": "markdown",
   "metadata": {},
   "source": [
    "### some ideas"
   ]
  },
  {
   "cell_type": "markdown",
   "metadata": {},
   "source": [
    "-> can also try on GPU since awkward supports it, might be faster "
   ]
  },
  {
   "cell_type": "code",
   "execution_count": null,
   "metadata": {},
   "outputs": [],
   "source": []
  }
 ],
 "metadata": {
  "kernelspec": {
   "display_name": "tau-dev",
   "language": "python",
   "name": "tau-dev"
  },
  "language_info": {
   "codemirror_mode": {
    "name": "ipython",
    "version": 3
   },
   "file_extension": ".py",
   "mimetype": "text/x-python",
   "name": "python",
   "nbconvert_exporter": "python",
   "pygments_lexer": "ipython3",
   "version": "3.8.5"
  }
 },
 "nbformat": 4,
 "nbformat_minor": 4
}
